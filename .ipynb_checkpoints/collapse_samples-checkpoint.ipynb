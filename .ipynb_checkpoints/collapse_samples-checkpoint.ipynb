{
 "metadata": {
  "name": "",
  "signature": "sha256:18dad711c9389da6fd363e2c2b881ade15f80b181ec595747119a00c60ff17d5"
 },
 "nbformat": 3,
 "nbformat_minor": 0,
 "worksheets": [
  {
   "cells": [
    {
     "cell_type": "markdown",
     "metadata": {},
     "source": [
      "This notebook contains some experiments to collapse replicate samples for analysis with QIIME. Ideas for this are being discussed in [QIIME's #1678](https://github.com/biocore/qiime/issues/1678). \n",
      "\n",
      "This involves two steps: \n",
      "    1. collapsing sample metadata, and\n",
      "    2. collapsing samples in a BIOM table. \n",
      "\n",
      "I'm approaching this by first using the sample metadata (in a pandas DataFrame) to determine which sample ids belong to a replicate group, and then using those to collapse the BIOM table."
     ]
    },
    {
     "cell_type": "markdown",
     "metadata": {},
     "source": [
      "First we'll collapse samples in the mapping file with pandas."
     ]
    },
    {
     "cell_type": "code",
     "collapsed": false,
     "input": [
      "import pandas as pd\n",
      "import numpy as np"
     ],
     "language": "python",
     "metadata": {},
     "outputs": [],
     "prompt_number": 1
    },
    {
     "cell_type": "code",
     "collapsed": false,
     "input": [
      "sample_md = pd.read_csv('tiny-test/map', sep='\\t')"
     ],
     "language": "python",
     "metadata": {},
     "outputs": [],
     "prompt_number": 2
    },
    {
     "cell_type": "code",
     "collapsed": false,
     "input": [
      "sample_md"
     ],
     "language": "python",
     "metadata": {},
     "outputs": [
      {
       "html": [
        "<div style=\"max-height:1000px;max-width:1500px;overflow:auto;\">\n",
        "<table border=\"1\" class=\"dataframe\">\n",
        "  <thead>\n",
        "    <tr style=\"text-align: right;\">\n",
        "      <th></th>\n",
        "      <th>#SampleID</th>\n",
        "      <th>BarcodeSequence</th>\n",
        "      <th>LinkerPrimerSequence</th>\n",
        "      <th>SampleType</th>\n",
        "      <th>year</th>\n",
        "      <th>month</th>\n",
        "      <th>day</th>\n",
        "      <th>subject</th>\n",
        "      <th>replicate</th>\n",
        "      <th>days_since_epoch</th>\n",
        "      <th>Description</th>\n",
        "    </tr>\n",
        "  </thead>\n",
        "  <tbody>\n",
        "    <tr>\n",
        "      <th>0 </th>\n",
        "      <td>       f1</td>\n",
        "      <td> ACACTGTTCATG</td>\n",
        "      <td> GTGCCAGCMGCCGCGGTAA</td>\n",
        "      <td>  feces</td>\n",
        "      <td> 2008</td>\n",
        "      <td> 10</td>\n",
        "      <td> 22</td>\n",
        "      <td> 1</td>\n",
        "      <td> 1</td>\n",
        "      <td> 14174</td>\n",
        "      <td>                                            fecal1</td>\n",
        "    </tr>\n",
        "    <tr>\n",
        "      <th>1 </th>\n",
        "      <td>       f2</td>\n",
        "      <td> ACCAGACGATGC</td>\n",
        "      <td> GTGCCAGCMGCCGCGGTAA</td>\n",
        "      <td>  feces</td>\n",
        "      <td> 2008</td>\n",
        "      <td> 10</td>\n",
        "      <td> 23</td>\n",
        "      <td> 1</td>\n",
        "      <td> 1</td>\n",
        "      <td> 14175</td>\n",
        "      <td>                                            fecal2</td>\n",
        "    </tr>\n",
        "    <tr>\n",
        "      <th>2 </th>\n",
        "      <td>       f3</td>\n",
        "      <td> ACCAGACGATGC</td>\n",
        "      <td> GTGCCAGCMGCCGCGGTAA</td>\n",
        "      <td>  feces</td>\n",
        "      <td> 2008</td>\n",
        "      <td> 10</td>\n",
        "      <td> 23</td>\n",
        "      <td> 2</td>\n",
        "      <td> 1</td>\n",
        "      <td> 14175</td>\n",
        "      <td>                     identical sequences to fecal2</td>\n",
        "    </tr>\n",
        "    <tr>\n",
        "      <th>3 </th>\n",
        "      <td>       f4</td>\n",
        "      <td> ACCAGACGATGC</td>\n",
        "      <td> GTGCCAGCMGCCGCGGTAA</td>\n",
        "      <td>  feces</td>\n",
        "      <td> 2008</td>\n",
        "      <td> 10</td>\n",
        "      <td> 23</td>\n",
        "      <td> 2</td>\n",
        "      <td> 1</td>\n",
        "      <td> 14175</td>\n",
        "      <td> all sequences identical, map to GG 295053 at 9...</td>\n",
        "    </tr>\n",
        "    <tr>\n",
        "      <th>4 </th>\n",
        "      <td>       f5</td>\n",
        "      <td> ACCAGACGATGC</td>\n",
        "      <td> GTGCCAGCMGCCGCGGTAA</td>\n",
        "      <td>  feces</td>\n",
        "      <td> 2008</td>\n",
        "      <td> 10</td>\n",
        "      <td> 23</td>\n",
        "      <td> 1</td>\n",
        "      <td> 2</td>\n",
        "      <td> 14175</td>\n",
        "      <td> derived from f3 with some changes to sequences...</td>\n",
        "    </tr>\n",
        "    <tr>\n",
        "      <th>5 </th>\n",
        "      <td>       f6</td>\n",
        "      <td> ACCAGACGATGC</td>\n",
        "      <td> GTGCCAGCMGCCGCGGTAA</td>\n",
        "      <td>  feces</td>\n",
        "      <td> 2008</td>\n",
        "      <td> 10</td>\n",
        "      <td> 23</td>\n",
        "      <td> 1</td>\n",
        "      <td> 2</td>\n",
        "      <td> 14175</td>\n",
        "      <td> derived from f4 with some changes to sequences...</td>\n",
        "    </tr>\n",
        "    <tr>\n",
        "      <th>6 </th>\n",
        "      <td>       p1</td>\n",
        "      <td> AACGCACGCTAG</td>\n",
        "      <td> GTGCCAGCMGCCGCGGTAA</td>\n",
        "      <td> L_palm</td>\n",
        "      <td> 2008</td>\n",
        "      <td> 10</td>\n",
        "      <td> 21</td>\n",
        "      <td> 1</td>\n",
        "      <td> 2</td>\n",
        "      <td> 14173</td>\n",
        "      <td>   palm1, contains one randomly generated sequence</td>\n",
        "    </tr>\n",
        "    <tr>\n",
        "      <th>7 </th>\n",
        "      <td>       p2</td>\n",
        "      <td> ACACTGTTCATG</td>\n",
        "      <td> GTGCCAGCMGCCGCGGTAA</td>\n",
        "      <td> L_palm</td>\n",
        "      <td> 2008</td>\n",
        "      <td> 10</td>\n",
        "      <td> 22</td>\n",
        "      <td> 2</td>\n",
        "      <td> 2</td>\n",
        "      <td> 14174</td>\n",
        "      <td>                                             palm2</td>\n",
        "    </tr>\n",
        "    <tr>\n",
        "      <th>8 </th>\n",
        "      <td>       t1</td>\n",
        "      <td> AGTGAGAGAAGC</td>\n",
        "      <td> GTGCCAGCMGCCGCGGTAA</td>\n",
        "      <td> Tongue</td>\n",
        "      <td> 2008</td>\n",
        "      <td> 10</td>\n",
        "      <td> 21</td>\n",
        "      <td> 2</td>\n",
        "      <td> 2</td>\n",
        "      <td> 14173</td>\n",
        "      <td> tongue1, contains one randomly generated sequence</td>\n",
        "    </tr>\n",
        "    <tr>\n",
        "      <th>9 </th>\n",
        "      <td>       t2</td>\n",
        "      <td> ATACTATTGCGC</td>\n",
        "      <td> GTGCCAGCMGCCGCGGTAA</td>\n",
        "      <td> Tongue</td>\n",
        "      <td> 2008</td>\n",
        "      <td> 10</td>\n",
        "      <td> 22</td>\n",
        "      <td> 2</td>\n",
        "      <td> 2</td>\n",
        "      <td> 14174</td>\n",
        "      <td>                                           tongue2</td>\n",
        "    </tr>\n",
        "    <tr>\n",
        "      <th>10</th>\n",
        "      <td> not16S.1</td>\n",
        "      <td> ATACTATTGCGC</td>\n",
        "      <td> GTGCCAGCMGCCGCGGTAA</td>\n",
        "      <td>  Other</td>\n",
        "      <td> 2008</td>\n",
        "      <td> 10</td>\n",
        "      <td> 22</td>\n",
        "      <td> 1</td>\n",
        "      <td> 3</td>\n",
        "      <td> 14174</td>\n",
        "      <td> randomly generated sequence plus some variants...</td>\n",
        "    </tr>\n",
        "  </tbody>\n",
        "</table>\n",
        "</div>"
       ],
       "metadata": {},
       "output_type": "pyout",
       "prompt_number": 3,
       "text": [
        "   #SampleID BarcodeSequence LinkerPrimerSequence SampleType  year  month  \\\n",
        "0         f1    ACACTGTTCATG  GTGCCAGCMGCCGCGGTAA      feces  2008     10   \n",
        "1         f2    ACCAGACGATGC  GTGCCAGCMGCCGCGGTAA      feces  2008     10   \n",
        "2         f3    ACCAGACGATGC  GTGCCAGCMGCCGCGGTAA      feces  2008     10   \n",
        "3         f4    ACCAGACGATGC  GTGCCAGCMGCCGCGGTAA      feces  2008     10   \n",
        "4         f5    ACCAGACGATGC  GTGCCAGCMGCCGCGGTAA      feces  2008     10   \n",
        "5         f6    ACCAGACGATGC  GTGCCAGCMGCCGCGGTAA      feces  2008     10   \n",
        "6         p1    AACGCACGCTAG  GTGCCAGCMGCCGCGGTAA     L_palm  2008     10   \n",
        "7         p2    ACACTGTTCATG  GTGCCAGCMGCCGCGGTAA     L_palm  2008     10   \n",
        "8         t1    AGTGAGAGAAGC  GTGCCAGCMGCCGCGGTAA     Tongue  2008     10   \n",
        "9         t2    ATACTATTGCGC  GTGCCAGCMGCCGCGGTAA     Tongue  2008     10   \n",
        "10  not16S.1    ATACTATTGCGC  GTGCCAGCMGCCGCGGTAA      Other  2008     10   \n",
        "\n",
        "    day  subject  replicate  days_since_epoch  \\\n",
        "0    22        1          1             14174   \n",
        "1    23        1          1             14175   \n",
        "2    23        2          1             14175   \n",
        "3    23        2          1             14175   \n",
        "4    23        1          2             14175   \n",
        "5    23        1          2             14175   \n",
        "6    21        1          2             14173   \n",
        "7    22        2          2             14174   \n",
        "8    21        2          2             14173   \n",
        "9    22        2          2             14174   \n",
        "10   22        1          3             14174   \n",
        "\n",
        "                                          Description  \n",
        "0                                              fecal1  \n",
        "1                                              fecal2  \n",
        "2                       identical sequences to fecal2  \n",
        "3   all sequences identical, map to GG 295053 at 9...  \n",
        "4   derived from f3 with some changes to sequences...  \n",
        "5   derived from f4 with some changes to sequences...  \n",
        "6     palm1, contains one randomly generated sequence  \n",
        "7                                               palm2  \n",
        "8   tongue1, contains one randomly generated sequence  \n",
        "9                                             tongue2  \n",
        "10  randomly generated sequence plus some variants...  "
       ]
      }
     ],
     "prompt_number": 3
    },
    {
     "cell_type": "markdown",
     "metadata": {},
     "source": [
      "First we'll [group the sample ids](http://pandas.pydata.org/pandas-docs/stable/groupby.html#splitting-an-object-into-groups)."
     ]
    },
    {
     "cell_type": "code",
     "collapsed": false,
     "input": [
      "grouped = sample_md.groupby(['subject', 'replicate'])"
     ],
     "language": "python",
     "metadata": {},
     "outputs": [],
     "prompt_number": 4
    },
    {
     "cell_type": "markdown",
     "metadata": {},
     "source": [
      "Next we'll [aggregate](http://pandas.pydata.org/pandas-docs/stable/groupby.html#aggregation). You can specify a function per metadata category that you want to aggregate. Here we want to retain the grouping of input sample ids, so I'm doing that by tuplizing the collection of sample ids in each group while aggregating."
     ]
    },
    {
     "cell_type": "code",
     "collapsed": false,
     "input": [
      "collapsed_md = grouped.agg({'days_since_epoch':'mean', 'SampleType':'first', '#SampleID':lambda x: tuple(x)})\n",
      "collapsed_md"
     ],
     "language": "python",
     "metadata": {},
     "outputs": [
      {
       "html": [
        "<div style=\"max-height:1000px;max-width:1500px;overflow:auto;\">\n",
        "<table border=\"1\" class=\"dataframe\">\n",
        "  <thead>\n",
        "    <tr style=\"text-align: right;\">\n",
        "      <th></th>\n",
        "      <th></th>\n",
        "      <th>days_since_epoch</th>\n",
        "      <th>#SampleID</th>\n",
        "      <th>SampleType</th>\n",
        "    </tr>\n",
        "    <tr>\n",
        "      <th>subject</th>\n",
        "      <th>replicate</th>\n",
        "      <th></th>\n",
        "      <th></th>\n",
        "      <th></th>\n",
        "    </tr>\n",
        "  </thead>\n",
        "  <tbody>\n",
        "    <tr>\n",
        "      <th rowspan=\"3\" valign=\"top\">1</th>\n",
        "      <th>1</th>\n",
        "      <td> 14174.500000</td>\n",
        "      <td>     (f1, f2)</td>\n",
        "      <td>  feces</td>\n",
        "    </tr>\n",
        "    <tr>\n",
        "      <th>2</th>\n",
        "      <td> 14174.333333</td>\n",
        "      <td> (f5, f6, p1)</td>\n",
        "      <td>  feces</td>\n",
        "    </tr>\n",
        "    <tr>\n",
        "      <th>3</th>\n",
        "      <td> 14174.000000</td>\n",
        "      <td>  (not16S.1,)</td>\n",
        "      <td>  Other</td>\n",
        "    </tr>\n",
        "    <tr>\n",
        "      <th rowspan=\"2\" valign=\"top\">2</th>\n",
        "      <th>1</th>\n",
        "      <td> 14175.000000</td>\n",
        "      <td>     (f3, f4)</td>\n",
        "      <td>  feces</td>\n",
        "    </tr>\n",
        "    <tr>\n",
        "      <th>2</th>\n",
        "      <td> 14173.666667</td>\n",
        "      <td> (p2, t1, t2)</td>\n",
        "      <td> L_palm</td>\n",
        "    </tr>\n",
        "  </tbody>\n",
        "</table>\n",
        "</div>"
       ],
       "metadata": {},
       "output_type": "pyout",
       "prompt_number": 8,
       "text": [
        "                   days_since_epoch     #SampleID SampleType\n",
        "subject replicate                                           \n",
        "1       1              14174.500000      (f1, f2)      feces\n",
        "        2              14174.333333  (f5, f6, p1)      feces\n",
        "        3              14174.000000   (not16S.1,)      Other\n",
        "2       1              14175.000000      (f3, f4)      feces\n",
        "        2              14173.666667  (p2, t1, t2)     L_palm"
       ]
      }
     ],
     "prompt_number": 8
    },
    {
     "cell_type": "code",
     "collapsed": false,
     "input": [
      "for e in collapsed_md.index:\n",
      "    print e, set(collapsed_md['#SampleID'][e])"
     ],
     "language": "python",
     "metadata": {},
     "outputs": [
      {
       "output_type": "stream",
       "stream": "stdout",
       "text": [
        "(1, 1) set(['f1', 'f2'])\n",
        "(1, 2) set(['p1', 'f5', 'f6'])\n",
        "(1, 3) set(['not16S.1'])\n",
        "(2, 1) set(['f3', 'f4'])\n",
        "(2, 2) set(['p2', 't2', 't1'])\n"
       ]
      }
     ],
     "prompt_number": 16
    },
    {
     "cell_type": "code",
     "collapsed": false,
     "input": [
      "collapsed_md = collapsed_md.reset_index()\n",
      "collapsed_md"
     ],
     "language": "python",
     "metadata": {},
     "outputs": [
      {
       "html": [
        "<div style=\"max-height:1000px;max-width:1500px;overflow:auto;\">\n",
        "<table border=\"1\" class=\"dataframe\">\n",
        "  <thead>\n",
        "    <tr style=\"text-align: right;\">\n",
        "      <th></th>\n",
        "      <th>subject</th>\n",
        "      <th>replicate</th>\n",
        "      <th>days_since_epoch</th>\n",
        "      <th>#SampleID</th>\n",
        "      <th>SampleType</th>\n",
        "    </tr>\n",
        "  </thead>\n",
        "  <tbody>\n",
        "    <tr>\n",
        "      <th>0</th>\n",
        "      <td> 1</td>\n",
        "      <td> 1</td>\n",
        "      <td> 14174.500000</td>\n",
        "      <td>     (f1, f2)</td>\n",
        "      <td>  feces</td>\n",
        "    </tr>\n",
        "    <tr>\n",
        "      <th>1</th>\n",
        "      <td> 1</td>\n",
        "      <td> 2</td>\n",
        "      <td> 14174.333333</td>\n",
        "      <td> (f5, f6, p1)</td>\n",
        "      <td>  feces</td>\n",
        "    </tr>\n",
        "    <tr>\n",
        "      <th>2</th>\n",
        "      <td> 1</td>\n",
        "      <td> 3</td>\n",
        "      <td> 14174.000000</td>\n",
        "      <td>  (not16S.1,)</td>\n",
        "      <td>  Other</td>\n",
        "    </tr>\n",
        "    <tr>\n",
        "      <th>3</th>\n",
        "      <td> 2</td>\n",
        "      <td> 1</td>\n",
        "      <td> 14175.000000</td>\n",
        "      <td>     (f3, f4)</td>\n",
        "      <td>  feces</td>\n",
        "    </tr>\n",
        "    <tr>\n",
        "      <th>4</th>\n",
        "      <td> 2</td>\n",
        "      <td> 2</td>\n",
        "      <td> 14173.666667</td>\n",
        "      <td> (p2, t1, t2)</td>\n",
        "      <td> L_palm</td>\n",
        "    </tr>\n",
        "  </tbody>\n",
        "</table>\n",
        "</div>"
       ],
       "metadata": {},
       "output_type": "pyout",
       "prompt_number": 66,
       "text": [
        "   subject  replicate  days_since_epoch     #SampleID SampleType\n",
        "0        1          1      14174.500000      (f1, f2)      feces\n",
        "1        1          2      14174.333333  (f5, f6, p1)      feces\n",
        "2        1          3      14174.000000   (not16S.1,)      Other\n",
        "3        2          1      14175.000000      (f3, f4)      feces\n",
        "4        2          2      14173.666667  (p2, t1, t2)     L_palm"
       ]
      }
     ],
     "prompt_number": 66
    },
    {
     "cell_type": "code",
     "collapsed": false,
     "input": [
      "sample_id_groups = collapsed_md[('#SampleID', 'replicate')]\n",
      "print sample_id_groups"
     ],
     "language": "python",
     "metadata": {},
     "outputs": [
      {
       "ename": "KeyError",
       "evalue": "('#SampleID', 'replicate')",
       "output_type": "pyerr",
       "traceback": [
        "\u001b[0;31m---------------------------------------------------------------------------\u001b[0m\n\u001b[0;31mKeyError\u001b[0m                                  Traceback (most recent call last)",
        "\u001b[0;32m<ipython-input-7-77ebb6300ecd>\u001b[0m in \u001b[0;36m<module>\u001b[0;34m()\u001b[0m\n\u001b[0;32m----> 1\u001b[0;31m \u001b[0msample_id_groups\u001b[0m \u001b[0;34m=\u001b[0m \u001b[0mcollapsed_md\u001b[0m\u001b[0;34m[\u001b[0m\u001b[0;34m(\u001b[0m\u001b[0;34m'#SampleID'\u001b[0m\u001b[0;34m,\u001b[0m \u001b[0;34m'replicate'\u001b[0m\u001b[0;34m)\u001b[0m\u001b[0;34m]\u001b[0m\u001b[0;34m\u001b[0m\u001b[0m\n\u001b[0m\u001b[1;32m      2\u001b[0m \u001b[0;32mprint\u001b[0m \u001b[0msample_id_groups\u001b[0m\u001b[0;34m\u001b[0m\u001b[0m\n",
        "\u001b[0;32m/Users/caporaso/.virtualenvs/qiime/lib/python2.7/site-packages/pandas/core/frame.pyc\u001b[0m in \u001b[0;36m__getitem__\u001b[0;34m(self, key)\u001b[0m\n\u001b[1;32m   1676\u001b[0m             \u001b[0;32mreturn\u001b[0m \u001b[0mself\u001b[0m\u001b[0;34m.\u001b[0m\u001b[0m_getitem_multilevel\u001b[0m\u001b[0;34m(\u001b[0m\u001b[0mkey\u001b[0m\u001b[0;34m)\u001b[0m\u001b[0;34m\u001b[0m\u001b[0m\n\u001b[1;32m   1677\u001b[0m         \u001b[0;32melse\u001b[0m\u001b[0;34m:\u001b[0m\u001b[0;34m\u001b[0m\u001b[0m\n\u001b[0;32m-> 1678\u001b[0;31m             \u001b[0;32mreturn\u001b[0m \u001b[0mself\u001b[0m\u001b[0;34m.\u001b[0m\u001b[0m_getitem_column\u001b[0m\u001b[0;34m(\u001b[0m\u001b[0mkey\u001b[0m\u001b[0;34m)\u001b[0m\u001b[0;34m\u001b[0m\u001b[0m\n\u001b[0m\u001b[1;32m   1679\u001b[0m \u001b[0;34m\u001b[0m\u001b[0m\n\u001b[1;32m   1680\u001b[0m     \u001b[0;32mdef\u001b[0m \u001b[0m_getitem_column\u001b[0m\u001b[0;34m(\u001b[0m\u001b[0mself\u001b[0m\u001b[0;34m,\u001b[0m \u001b[0mkey\u001b[0m\u001b[0;34m)\u001b[0m\u001b[0;34m:\u001b[0m\u001b[0;34m\u001b[0m\u001b[0m\n",
        "\u001b[0;32m/Users/caporaso/.virtualenvs/qiime/lib/python2.7/site-packages/pandas/core/frame.pyc\u001b[0m in \u001b[0;36m_getitem_column\u001b[0;34m(self, key)\u001b[0m\n\u001b[1;32m   1683\u001b[0m         \u001b[0;31m# get column\u001b[0m\u001b[0;34m\u001b[0m\u001b[0;34m\u001b[0m\u001b[0m\n\u001b[1;32m   1684\u001b[0m         \u001b[0;32mif\u001b[0m \u001b[0mself\u001b[0m\u001b[0;34m.\u001b[0m\u001b[0mcolumns\u001b[0m\u001b[0;34m.\u001b[0m\u001b[0mis_unique\u001b[0m\u001b[0;34m:\u001b[0m\u001b[0;34m\u001b[0m\u001b[0m\n\u001b[0;32m-> 1685\u001b[0;31m             \u001b[0;32mreturn\u001b[0m \u001b[0mself\u001b[0m\u001b[0;34m.\u001b[0m\u001b[0m_get_item_cache\u001b[0m\u001b[0;34m(\u001b[0m\u001b[0mkey\u001b[0m\u001b[0;34m)\u001b[0m\u001b[0;34m\u001b[0m\u001b[0m\n\u001b[0m\u001b[1;32m   1686\u001b[0m \u001b[0;34m\u001b[0m\u001b[0m\n\u001b[1;32m   1687\u001b[0m         \u001b[0;31m# duplicate columns & possible reduce dimensionaility\u001b[0m\u001b[0;34m\u001b[0m\u001b[0;34m\u001b[0m\u001b[0m\n",
        "\u001b[0;32m/Users/caporaso/.virtualenvs/qiime/lib/python2.7/site-packages/pandas/core/generic.pyc\u001b[0m in \u001b[0;36m_get_item_cache\u001b[0;34m(self, item)\u001b[0m\n\u001b[1;32m   1050\u001b[0m         \u001b[0mres\u001b[0m \u001b[0;34m=\u001b[0m \u001b[0mcache\u001b[0m\u001b[0;34m.\u001b[0m\u001b[0mget\u001b[0m\u001b[0;34m(\u001b[0m\u001b[0mitem\u001b[0m\u001b[0;34m)\u001b[0m\u001b[0;34m\u001b[0m\u001b[0m\n\u001b[1;32m   1051\u001b[0m         \u001b[0;32mif\u001b[0m \u001b[0mres\u001b[0m \u001b[0;32mis\u001b[0m \u001b[0mNone\u001b[0m\u001b[0;34m:\u001b[0m\u001b[0;34m\u001b[0m\u001b[0m\n\u001b[0;32m-> 1052\u001b[0;31m             \u001b[0mvalues\u001b[0m \u001b[0;34m=\u001b[0m \u001b[0mself\u001b[0m\u001b[0;34m.\u001b[0m\u001b[0m_data\u001b[0m\u001b[0;34m.\u001b[0m\u001b[0mget\u001b[0m\u001b[0;34m(\u001b[0m\u001b[0mitem\u001b[0m\u001b[0;34m)\u001b[0m\u001b[0;34m\u001b[0m\u001b[0m\n\u001b[0m\u001b[1;32m   1053\u001b[0m             \u001b[0mres\u001b[0m \u001b[0;34m=\u001b[0m \u001b[0mself\u001b[0m\u001b[0;34m.\u001b[0m\u001b[0m_box_item_values\u001b[0m\u001b[0;34m(\u001b[0m\u001b[0mitem\u001b[0m\u001b[0;34m,\u001b[0m \u001b[0mvalues\u001b[0m\u001b[0;34m)\u001b[0m\u001b[0;34m\u001b[0m\u001b[0m\n\u001b[1;32m   1054\u001b[0m             \u001b[0mcache\u001b[0m\u001b[0;34m[\u001b[0m\u001b[0mitem\u001b[0m\u001b[0;34m]\u001b[0m \u001b[0;34m=\u001b[0m \u001b[0mres\u001b[0m\u001b[0;34m\u001b[0m\u001b[0m\n",
        "\u001b[0;32m/Users/caporaso/.virtualenvs/qiime/lib/python2.7/site-packages/pandas/core/internals.pyc\u001b[0m in \u001b[0;36mget\u001b[0;34m(self, item, fastpath)\u001b[0m\n\u001b[1;32m   2563\u001b[0m \u001b[0;34m\u001b[0m\u001b[0m\n\u001b[1;32m   2564\u001b[0m             \u001b[0;32mif\u001b[0m \u001b[0;32mnot\u001b[0m \u001b[0misnull\u001b[0m\u001b[0;34m(\u001b[0m\u001b[0mitem\u001b[0m\u001b[0;34m)\u001b[0m\u001b[0;34m:\u001b[0m\u001b[0;34m\u001b[0m\u001b[0m\n\u001b[0;32m-> 2565\u001b[0;31m                 \u001b[0mloc\u001b[0m \u001b[0;34m=\u001b[0m \u001b[0mself\u001b[0m\u001b[0;34m.\u001b[0m\u001b[0mitems\u001b[0m\u001b[0;34m.\u001b[0m\u001b[0mget_loc\u001b[0m\u001b[0;34m(\u001b[0m\u001b[0mitem\u001b[0m\u001b[0;34m)\u001b[0m\u001b[0;34m\u001b[0m\u001b[0m\n\u001b[0m\u001b[1;32m   2566\u001b[0m             \u001b[0;32melse\u001b[0m\u001b[0;34m:\u001b[0m\u001b[0;34m\u001b[0m\u001b[0m\n\u001b[1;32m   2567\u001b[0m                 \u001b[0mindexer\u001b[0m \u001b[0;34m=\u001b[0m \u001b[0mnp\u001b[0m\u001b[0;34m.\u001b[0m\u001b[0marange\u001b[0m\u001b[0;34m(\u001b[0m\u001b[0mlen\u001b[0m\u001b[0;34m(\u001b[0m\u001b[0mself\u001b[0m\u001b[0;34m.\u001b[0m\u001b[0mitems\u001b[0m\u001b[0;34m)\u001b[0m\u001b[0;34m)\u001b[0m\u001b[0;34m[\u001b[0m\u001b[0misnull\u001b[0m\u001b[0;34m(\u001b[0m\u001b[0mself\u001b[0m\u001b[0;34m.\u001b[0m\u001b[0mitems\u001b[0m\u001b[0;34m)\u001b[0m\u001b[0;34m]\u001b[0m\u001b[0;34m\u001b[0m\u001b[0m\n",
        "\u001b[0;32m/Users/caporaso/.virtualenvs/qiime/lib/python2.7/site-packages/pandas/core/index.pyc\u001b[0m in \u001b[0;36mget_loc\u001b[0;34m(self, key)\u001b[0m\n\u001b[1;32m   1179\u001b[0m         \u001b[0mloc\u001b[0m \u001b[0;34m:\u001b[0m \u001b[0mint\u001b[0m \u001b[0;32mif\u001b[0m \u001b[0munique\u001b[0m \u001b[0mindex\u001b[0m\u001b[0;34m,\u001b[0m \u001b[0mpossibly\u001b[0m \u001b[0mslice\u001b[0m \u001b[0;32mor\u001b[0m \u001b[0mmask\u001b[0m \u001b[0;32mif\u001b[0m \u001b[0;32mnot\u001b[0m\u001b[0;34m\u001b[0m\u001b[0m\n\u001b[1;32m   1180\u001b[0m         \"\"\"\n\u001b[0;32m-> 1181\u001b[0;31m         \u001b[0;32mreturn\u001b[0m \u001b[0mself\u001b[0m\u001b[0;34m.\u001b[0m\u001b[0m_engine\u001b[0m\u001b[0;34m.\u001b[0m\u001b[0mget_loc\u001b[0m\u001b[0;34m(\u001b[0m\u001b[0m_values_from_object\u001b[0m\u001b[0;34m(\u001b[0m\u001b[0mkey\u001b[0m\u001b[0;34m)\u001b[0m\u001b[0;34m)\u001b[0m\u001b[0;34m\u001b[0m\u001b[0m\n\u001b[0m\u001b[1;32m   1182\u001b[0m \u001b[0;34m\u001b[0m\u001b[0m\n\u001b[1;32m   1183\u001b[0m     \u001b[0;32mdef\u001b[0m \u001b[0mget_value\u001b[0m\u001b[0;34m(\u001b[0m\u001b[0mself\u001b[0m\u001b[0;34m,\u001b[0m \u001b[0mseries\u001b[0m\u001b[0;34m,\u001b[0m \u001b[0mkey\u001b[0m\u001b[0;34m)\u001b[0m\u001b[0;34m:\u001b[0m\u001b[0;34m\u001b[0m\u001b[0m\n",
        "\u001b[0;32m/Users/caporaso/.virtualenvs/qiime/lib/python2.7/site-packages/pandas/index.so\u001b[0m in \u001b[0;36mpandas.index.IndexEngine.get_loc (pandas/index.c:3656)\u001b[0;34m()\u001b[0m\n",
        "\u001b[0;32m/Users/caporaso/.virtualenvs/qiime/lib/python2.7/site-packages/pandas/index.so\u001b[0m in \u001b[0;36mpandas.index.IndexEngine.get_loc (pandas/index.c:3534)\u001b[0;34m()\u001b[0m\n",
        "\u001b[0;32m/Users/caporaso/.virtualenvs/qiime/lib/python2.7/site-packages/pandas/hashtable.so\u001b[0m in \u001b[0;36mpandas.hashtable.PyObjectHashTable.get_item (pandas/hashtable.c:11911)\u001b[0;34m()\u001b[0m\n",
        "\u001b[0;32m/Users/caporaso/.virtualenvs/qiime/lib/python2.7/site-packages/pandas/hashtable.so\u001b[0m in \u001b[0;36mpandas.hashtable.PyObjectHashTable.get_item (pandas/hashtable.c:11864)\u001b[0;34m()\u001b[0m\n",
        "\u001b[0;31mKeyError\u001b[0m: ('#SampleID', 'replicate')"
       ]
      }
     ],
     "prompt_number": 7
    },
    {
     "cell_type": "code",
     "collapsed": false,
     "input": [
      "set(sample_id_groups)"
     ],
     "language": "python",
     "metadata": {},
     "outputs": [
      {
       "metadata": {},
       "output_type": "pyout",
       "prompt_number": 71,
       "text": [
        "{('f1', 'f2'),\n",
        " ('f3', 'f4'),\n",
        " ('f5', 'f6', 'p1'),\n",
        " ('not16S.1',),\n",
        " ('p2', 't1', 't2')}"
       ]
      }
     ],
     "prompt_number": 71
    },
    {
     "cell_type": "code",
     "collapsed": false,
     "input": [
      "sid_to_group_id = {}\n",
      "for group_id, sample_ids in sample_id_groups.iteritems():\n",
      "    for sample_id in sample_ids:\n",
      "        sid_to_group_id[sample_id] = group_id\n",
      "print sid_to_group_id"
     ],
     "language": "python",
     "metadata": {},
     "outputs": [
      {
       "output_type": "stream",
       "stream": "stdout",
       "text": [
        "{'p2': 4, 'f1': 0, 'f2': 0, 'p1': 1, 'f4': 3, 'f5': 1, 'f6': 1, 't2': 4, 'not16S.1': 2, 't1': 4, 'f3': 3}\n"
       ]
      }
     ],
     "prompt_number": 8
    },
    {
     "cell_type": "markdown",
     "metadata": {},
     "source": [
      "Now we're ready to collapse replicate groups in our BIOM file."
     ]
    },
    {
     "cell_type": "code",
     "collapsed": false,
     "input": [
      "from biom import load_table"
     ],
     "language": "python",
     "metadata": {},
     "outputs": [],
     "prompt_number": 9
    },
    {
     "cell_type": "code",
     "collapsed": false,
     "input": [
      "t = load_table('tiny-test/biom')"
     ],
     "language": "python",
     "metadata": {},
     "outputs": [],
     "prompt_number": 10
    },
    {
     "cell_type": "code",
     "collapsed": false,
     "input": [
      "print t"
     ],
     "language": "python",
     "metadata": {},
     "outputs": [
      {
       "output_type": "stream",
       "stream": "stdout",
       "text": [
        " # Constructed from biom file\n",
        "#OTU ID\tf2\tf1\tf3\tf4\tp2\tp1\tt1\tnot16S.1\tt2\n",
        "295053\t20.0\t18.0\t18.0\t22.0\t4.0\t0.0\t0.0\t0.0\t0.0\n",
        "42684\t0.0\t0.0\t0.0\t0.0\t1.0\t0.0\t0.0\t0.0\t0.0\n",
        "None11\t1.0\t0.0\t0.0\t0.0\t1.0\t1.0\t0.0\t0.0\t0.0\n",
        "None10\t0.0\t0.0\t0.0\t0.0\t0.0\t0.0\t1.0\t0.0\t0.0\n",
        "None7\t0.0\t0.0\t0.0\t0.0\t1.0\t0.0\t0.0\t0.0\t0.0\n",
        "None6\t0.0\t0.0\t0.0\t0.0\t0.0\t0.0\t0.0\t20.0\t0.0\n",
        "None5\t0.0\t0.0\t0.0\t0.0\t1.0\t0.0\t0.0\t0.0\t0.0\n",
        "None4\t0.0\t0.0\t0.0\t0.0\t1.0\t1.0\t0.0\t0.0\t0.0\n",
        "None3\t0.0\t0.0\t0.0\t0.0\t1.0\t0.0\t2.0\t0.0\t3.0\n",
        "None2\t0.0\t0.0\t0.0\t0.0\t0.0\t0.0\t0.0\t2.0\t0.0\n",
        "None1\t0.0\t0.0\t0.0\t0.0\t0.0\t1.0\t0.0\t0.0\t0.0\n",
        "879972\t0.0\t0.0\t0.0\t0.0\t9.0\t20.0\t1.0\t0.0\t4.0\n",
        "None9\t0.0\t0.0\t0.0\t0.0\t3.0\t0.0\t19.0\t0.0\t15.0\n",
        "None8\t1.0\t4.0\t4.0\t0.0\t0.0\t0.0\t0.0\t0.0\t0.0\n"
       ]
      }
     ],
     "prompt_number": 33
    },
    {
     "cell_type": "code",
     "collapsed": false,
     "input": [
      "def partition_f(id_, md):\n",
      "    return sid_to_group_id[id_]\n",
      "print t.collapse(partition_f, norm=False)"
     ],
     "language": "python",
     "metadata": {},
     "outputs": [
      {
       "output_type": "stream",
       "stream": "stdout",
       "text": [
        "# Constructed from biom file\n",
        "#OTU ID\t0\t1\t2\t3\t4\n",
        "295053\t38.0\t0.0\t0.0\t40.0\t4.0\n",
        "42684\t0.0\t0.0\t0.0\t0.0\t1.0\n",
        "None11\t1.0\t1.0\t0.0\t0.0\t1.0\n",
        "None10\t0.0\t0.0\t0.0\t0.0\t1.0\n",
        "None7\t0.0\t0.0\t0.0\t0.0\t1.0\n",
        "None6\t0.0\t0.0\t20.0\t0.0\t0.0\n",
        "None5\t0.0\t0.0\t0.0\t0.0\t1.0\n",
        "None4\t0.0\t1.0\t0.0\t0.0\t1.0\n",
        "None3\t0.0\t0.0\t0.0\t0.0\t6.0\n",
        "None2\t0.0\t0.0\t2.0\t0.0\t0.0\n",
        "None1\t0.0\t1.0\t0.0\t0.0\t0.0\n",
        "879972\t0.0\t20.0\t0.0\t0.0\t14.0\n",
        "None9\t0.0\t0.0\t0.0\t0.0\t37.0\n",
        "None8\t5.0\t0.0\t0.0\t4.0\t0.0\n"
       ]
      }
     ],
     "prompt_number": 34
    },
    {
     "cell_type": "markdown",
     "metadata": {},
     "source": [
      "By default, observation counts are summed when collapsing samples. Some other common options are illustrated here."
     ]
    },
    {
     "cell_type": "heading",
     "level": 2,
     "metadata": {},
     "source": [
      "Collapse to the first sample in each group"
     ]
    },
    {
     "cell_type": "code",
     "collapsed": false,
     "input": [
      "from biom.exception import UnknownAxisError\n",
      "def collapse_to_first(t, axis):\n",
      "    return np.asarray([e[0] for e in t.iter_data(axis=axis, dense=True)])\n",
      "\n",
      "print t.collapse(partition_f, collapse_f=collapse_to_first, norm=False, axis='sample')"
     ],
     "language": "python",
     "metadata": {},
     "outputs": [
      {
       "output_type": "stream",
       "stream": "stdout",
       "text": [
        "# Constructed from biom file\n",
        "#OTU ID\t0\t1\t2\t3\t4\n",
        "295053\t20.0\t0.0\t0.0\t18.0\t4.0\n",
        "42684\t0.0\t0.0\t0.0\t0.0\t1.0\n",
        "None11\t1.0\t1.0\t0.0\t0.0\t1.0\n",
        "None10\t0.0\t0.0\t0.0\t0.0\t0.0\n",
        "None7\t0.0\t0.0\t0.0\t0.0\t1.0\n",
        "None6\t0.0\t0.0\t20.0\t0.0\t0.0\n",
        "None5\t0.0\t0.0\t0.0\t0.0\t1.0\n",
        "None4\t0.0\t1.0\t0.0\t0.0\t1.0\n",
        "None3\t0.0\t0.0\t0.0\t0.0\t1.0\n",
        "None2\t0.0\t0.0\t2.0\t0.0\t0.0\n",
        "None1\t0.0\t1.0\t0.0\t0.0\t0.0\n",
        "879972\t0.0\t20.0\t0.0\t0.0\t9.0\n",
        "None9\t0.0\t0.0\t0.0\t0.0\t3.0\n",
        "None8\t1.0\t0.0\t0.0\t4.0\t0.0\n"
       ]
      }
     ],
     "prompt_number": 49
    },
    {
     "cell_type": "heading",
     "level": 2,
     "metadata": {},
     "source": [
      "Collapse to the median value for each observation"
     ]
    },
    {
     "cell_type": "code",
     "collapsed": false,
     "input": [
      "def collapse_to_median(t, axis):\n",
      "    return np.asarray([np.median(e) for e in t.iter_data(axis=axis, dense=True)])\n",
      "\n",
      "print t.collapse(partition_f, collapse_f=collapse_to_median, norm=False, axis='sample')"
     ],
     "language": "python",
     "metadata": {},
     "outputs": [
      {
       "output_type": "stream",
       "stream": "stdout",
       "text": [
        "# Constructed from biom file\n",
        "#OTU ID\t0\t1\t2\t3\t4\n",
        "295053\t19.0\t0.0\t0.0\t20.0\t0.0\n",
        "42684\t0.0\t0.0\t0.0\t0.0\t0.0\n",
        "None11\t0.5\t1.0\t0.0\t0.0\t0.0\n",
        "None10\t0.0\t0.0\t0.0\t0.0\t0.0\n",
        "None7\t0.0\t0.0\t0.0\t0.0\t0.0\n",
        "None6\t0.0\t0.0\t20.0\t0.0\t0.0\n",
        "None5\t0.0\t0.0\t0.0\t0.0\t0.0\n",
        "None4\t0.0\t1.0\t0.0\t0.0\t0.0\n",
        "None3\t0.0\t0.0\t0.0\t0.0\t2.0\n",
        "None2\t0.0\t0.0\t2.0\t0.0\t0.0\n",
        "None1\t0.0\t1.0\t0.0\t0.0\t0.0\n",
        "879972\t0.0\t20.0\t0.0\t0.0\t4.0\n",
        "None9\t0.0\t0.0\t0.0\t0.0\t15.0\n",
        "None8\t2.5\t0.0\t0.0\t2.0\t0.0\n"
       ]
      }
     ],
     "prompt_number": 50
    },
    {
     "cell_type": "heading",
     "level": 2,
     "metadata": {},
     "source": [
      "Collapse to a randomly selected sample"
     ]
    },
    {
     "cell_type": "code",
     "collapsed": false,
     "input": [
      "from biom.exception import UnknownAxisError\n",
      "\n",
      "def collapse_to_rand(t, axis):\n",
      "    # this is a little clunky - waiting for an answer here\n",
      "    # http://stackoverflow.com/q/26050412/3424666\n",
      "    if axis == 'sample':\n",
      "        length = t.shape[0]\n",
      "    elif axis == 'observation':\n",
      "        length = t.shape[1]\n",
      "    else:\n",
      "        raise UnknownAxisError(axis)\n",
      "    n = np.random.randint(length)\n",
      "    return np.asarray([e[n] for e in t.iter_data(axis=axis, dense=True)])\n",
      "\n",
      "print t.collapse(partition_f, collapse_f=collapse_to_rand, norm=False, axis='sample')"
     ],
     "language": "python",
     "metadata": {},
     "outputs": [
      {
       "output_type": "stream",
       "stream": "stdout",
       "text": [
        "# Constructed from biom file\n",
        "#OTU ID\t0\t1\t2\t3\t4\n",
        "295053\t18.0\t0.0\t0.0\t22.0\t0.0\n",
        "42684\t0.0\t0.0\t0.0\t0.0\t0.0\n",
        "None11\t0.0\t1.0\t0.0\t0.0\t0.0\n",
        "None10\t0.0\t0.0\t0.0\t0.0\t1.0\n",
        "None7\t0.0\t0.0\t0.0\t0.0\t0.0\n",
        "None6\t0.0\t0.0\t20.0\t0.0\t0.0\n",
        "None5\t0.0\t0.0\t0.0\t0.0\t0.0\n",
        "None4\t0.0\t1.0\t0.0\t0.0\t0.0\n",
        "None3\t0.0\t0.0\t0.0\t0.0\t2.0\n",
        "None2\t0.0\t0.0\t2.0\t0.0\t0.0\n",
        "None1\t0.0\t1.0\t0.0\t0.0\t0.0\n",
        "879972\t0.0\t20.0\t0.0\t0.0\t1.0\n",
        "None9\t0.0\t0.0\t0.0\t0.0\t19.0\n",
        "None8\t4.0\t0.0\t0.0\t0.0\t0.0\n"
       ]
      }
     ],
     "prompt_number": 60
    },
    {
     "cell_type": "code",
     "collapsed": false,
     "input": [
      "print t.collapse(partition_f, collapse_f=collapse_to_rand, norm=False, axis='sample')"
     ],
     "language": "python",
     "metadata": {},
     "outputs": [
      {
       "output_type": "stream",
       "stream": "stdout",
       "text": [
        "# Constructed from biom file\n",
        "#OTU ID\t0\t1\t2\t3\t4\n",
        "295053\t18.0\t0.0\t0.0\t18.0\t0.0\n",
        "42684\t0.0\t0.0\t0.0\t0.0\t0.0\n",
        "None11\t0.0\t1.0\t0.0\t0.0\t0.0\n",
        "None10\t0.0\t0.0\t0.0\t0.0\t1.0\n",
        "None7\t0.0\t0.0\t0.0\t0.0\t0.0\n",
        "None6\t0.0\t0.0\t20.0\t0.0\t0.0\n",
        "None5\t0.0\t0.0\t0.0\t0.0\t0.0\n",
        "None4\t0.0\t1.0\t0.0\t0.0\t0.0\n",
        "None3\t0.0\t0.0\t0.0\t0.0\t2.0\n",
        "None2\t0.0\t0.0\t2.0\t0.0\t0.0\n",
        "None1\t0.0\t1.0\t0.0\t0.0\t0.0\n",
        "879972\t0.0\t20.0\t0.0\t0.0\t1.0\n",
        "None9\t0.0\t0.0\t0.0\t0.0\t19.0\n",
        "None8\t4.0\t0.0\t0.0\t4.0\t0.0\n"
       ]
      }
     ],
     "prompt_number": 55
    },
    {
     "cell_type": "heading",
     "level": 2,
     "metadata": {},
     "source": [
      "Sum counts"
     ]
    },
    {
     "cell_type": "code",
     "collapsed": false,
     "input": [
      "print t.collapse(partition_f, norm=False, axis='sample')"
     ],
     "language": "python",
     "metadata": {},
     "outputs": [
      {
       "output_type": "stream",
       "stream": "stdout",
       "text": [
        "# Constructed from biom file\n",
        "#OTU ID\t0\t1\t2\t3\t4\n",
        "295053\t38.0\t0.0\t0.0\t40.0\t4.0\n",
        "42684\t0.0\t0.0\t0.0\t0.0\t1.0\n",
        "None11\t1.0\t1.0\t0.0\t0.0\t1.0\n",
        "None10\t0.0\t0.0\t0.0\t0.0\t1.0\n",
        "None7\t0.0\t0.0\t0.0\t0.0\t1.0\n",
        "None6\t0.0\t0.0\t20.0\t0.0\t0.0\n",
        "None5\t0.0\t0.0\t0.0\t0.0\t1.0\n",
        "None4\t0.0\t1.0\t0.0\t0.0\t1.0\n",
        "None3\t0.0\t0.0\t0.0\t0.0\t6.0\n",
        "None2\t0.0\t0.0\t2.0\t0.0\t0.0\n",
        "None1\t0.0\t1.0\t0.0\t0.0\t0.0\n",
        "879972\t0.0\t20.0\t0.0\t0.0\t14.0\n",
        "None9\t0.0\t0.0\t0.0\t0.0\t37.0\n",
        "None8\t5.0\t0.0\t0.0\t4.0\t0.0\n"
       ]
      }
     ],
     "prompt_number": 56
    },
    {
     "cell_type": "heading",
     "level": 2,
     "metadata": {},
     "source": [
      "Average counts"
     ]
    },
    {
     "cell_type": "code",
     "collapsed": false,
     "input": [
      "print t.collapse(partition_f, norm=True, axis='sample')"
     ],
     "language": "python",
     "metadata": {},
     "outputs": [
      {
       "output_type": "stream",
       "stream": "stdout",
       "text": [
        "# Constructed from biom file\n",
        "#OTU ID\t0\t1\t2\t3\t4\n",
        "295053\t19.0\t0.0\t0.0\t20.0\t1.33333333333\n",
        "42684\t0.0\t0.0\t0.0\t0.0\t0.333333333333\n",
        "None11\t0.5\t1.0\t0.0\t0.0\t0.333333333333\n",
        "None10\t0.0\t0.0\t0.0\t0.0\t0.333333333333\n",
        "None7\t0.0\t0.0\t0.0\t0.0\t0.333333333333\n",
        "None6\t0.0\t0.0\t20.0\t0.0\t0.0\n",
        "None5\t0.0\t0.0\t0.0\t0.0\t0.333333333333\n",
        "None4\t0.0\t1.0\t0.0\t0.0\t0.333333333333\n",
        "None3\t0.0\t0.0\t0.0\t0.0\t2.0\n",
        "None2\t0.0\t0.0\t2.0\t0.0\t0.0\n",
        "None1\t0.0\t1.0\t0.0\t0.0\t0.0\n",
        "879972\t0.0\t20.0\t0.0\t0.0\t4.66666666667\n",
        "None9\t0.0\t0.0\t0.0\t0.0\t12.3333333333\n",
        "None8\t2.5\t0.0\t0.0\t2.0\t0.0\n"
       ]
      }
     ],
     "prompt_number": 57
    },
    {
     "cell_type": "code",
     "collapsed": false,
     "input": [],
     "language": "python",
     "metadata": {},
     "outputs": []
    }
   ],
   "metadata": {}
  }
 ]
}