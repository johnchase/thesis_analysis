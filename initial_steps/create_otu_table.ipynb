{
 "metadata": {
  "name": "",
  "signature": "sha256:11131c882913ebdaaa5927d9e882d1cd15d35f9d091aeb8650213d46803bfb4d"
 },
 "nbformat": 3,
 "nbformat_minor": 0,
 "worksheets": [
  {
   "cells": [
    {
     "cell_type": "markdown",
     "metadata": {},
     "source": [
      "split libraries\n",
      "============"
     ]
    },
    {
     "cell_type": "markdown",
     "metadata": {},
     "source": [
      "srun split_libraries_fastq.py -i /scratch/jc33/run_1_fastqs/period_1_fastqs/Undetermined_S0_L001_R1_001.fastq,/scratch/jc33/run_2_fastqs/Undetermined_S0_L001_R1_001.fastq -m /scratch/jc33/office_map_barcode_data_only_corrected2.txt,/scratch/jc33/second_run_corrected_map.txt -o split_lib_out --barcode_type 12 -b /scratch/jc33/run_1_fastqs/period_1_fastqs/Undetermined_S0_L001_I1_001.fastq,/scratch/jc33/run_2_fastqs/Undetermined_S0_L001_I1_001.fastq --rev_comp_mapping_barcodes"
     ]
    },
    {
     "cell_type": "markdown",
     "metadata": {},
     "source": [
      "md5 sums\n",
      "--------\n",
      "Input file paths run 1\n",
      "-----------------\n",
      "\n",
      "Mapping filepath: /scratch/jc33/office_map_barcode_data_only_corrected2.txt (md5: d124e9012a2146ddbf89bd4622c780dd)\n",
      "\n",
      "Sequence read filepath: /scratch/jc33/run_1_fastqs/period_1_fastqs/Undetermined_S0_L001_R1_001.fastq (md5: 74d717196aebf8a225a3188a5cb7e6c3)\n",
      "\n",
      "Barcode read filepath: /scratch/jc33/run_1_fastqs/period_1_fastqs/Undetermined_S0_L001_I1_001.fastq (md5: d51b12f7a9f5fac37c700cc8794ac2d1)  \n",
      "\n",
      "\n",
      "  \n",
      "  \n",
      "Input file paths run 2\n",
      "----------------\n",
      "\n",
      "Mapping filepath: /scratch/jc33/second_run_corrected_map.txt (md5: e9051d1bcdb112642cd8be9639e4f768)  \n",
      "\n",
      "Sequence read filepath: /scratch/jc33/run_2_fastqs/Undetermined_S0_L001_R1_001.fastq (md5: b5b367dbf9bf0485ef56264c15c207bb) \n",
      "\n",
      "Barcode read filepath: /scratch/jc33/run_2_fastqs/Undetermined_S0_L001_I1_001.fastq (md5: 769ebd74fedb7e66bc1b66670132e07e)"
     ]
    },
    {
     "cell_type": "markdown",
     "metadata": {},
     "source": [
      "Pick open reference otus\n",
      "========================"
     ]
    },
    {
     "cell_type": "code",
     "collapsed": false,
     "input": [
      "!pick_open_reference_otus.py -i /home/johnchase/projects/office-succession/data_rerun_100314/split_lib_out/seqs.fna -o /home/johnchase/projects/office-succession/data_rerun_100314/pick_otus_out -r /data/gg_13_8_otus/rep_set/97_otus.fasta -p /home/johnchase/projects/office-succession/data_rerun_100314/params.txt -a -O 30"
     ],
     "language": "python",
     "metadata": {},
     "outputs": []
    },
    {
     "cell_type": "markdown",
     "metadata": {},
     "source": [
      "seqs file: 62bf691bb9ec71e560d1c67f7249e31f  \n",
      "\n"
     ]
    }
   ],
   "metadata": {}
  }
 ]
}