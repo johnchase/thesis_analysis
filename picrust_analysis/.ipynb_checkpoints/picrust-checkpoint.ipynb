{
 "metadata": {
  "name": "",
  "signature": "sha256:f306a2dc52cc0a1f927df47eb7acf934cbc25c31bc41169c797009e9cd3d4674"
 },
 "nbformat": 3,
 "nbformat_minor": 0,
 "worksheets": [
  {
   "cells": [
    {
     "cell_type": "markdown",
     "metadata": {},
     "source": [
      "pick closed ref otus\n",
      "------------------"
     ]
    },
    {
     "cell_type": "code",
     "collapsed": false,
     "input": [
      "#!/bin/bash\n",
      "#\n",
      "#BATCH --job-name=pick_c\n",
      "#SBATCH --ntasks=1\n",
      "#SBATCH --mem-per-cpu=32000\n",
      "#SBATCH --partition=long\n",
      "#SBATCH --output=/scratch/jc33/pick_closed_otus.txt\n",
      "#SBATCH --error=errors_pick_closed_otus.txt\n",
      "#SBATCH --workdir=/scratch/jc33\n",
      "\n",
      "!module load qiime\n",
      "\n",
      "!srun pick_closed_reference_otus.py -i /scratch/jc33/split_lib_out/seqs.fna -o /scratch/jc33/pick_closed_otus_out -r /packages/qiime/qiime-1.8.0/gg_otus-13_8-release/rep_set/97_otus.fasta -p /scratch/jc33/params.txt -a -O 100"
     ],
     "language": "python",
     "metadata": {},
     "outputs": [
      {
       "output_type": "stream",
       "stream": "stdout",
       "text": [
        "/bin/sh: module: command not found\r\n"
       ]
      },
      {
       "output_type": "stream",
       "stream": "stdout",
       "text": [
        "/bin/sh: srun: command not found\r\n"
       ]
      }
     ],
     "prompt_number": 2
    },
    {
     "cell_type": "code",
     "collapsed": false,
     "input": [
      "from os.path import join\n",
      "files = '/Users/jc33/google_drive/thesis/analysis/files'\n",
      "picrust_files = join(files, 'picrust_analysis')\n",
      "closed_otu_table = join(files, 'initial_steps/pick_closed_otus_out/otu_table.biom')\n",
      "normalized_table = join(picrust_files, 'normal_table.biom')\n",
      "metagenome_predictions = join(picrust_files, 'metagenome_predictions.biom')\n",
      "predicted_metagenomesL3 = join(picrust_files, 'predicted_metagenomes.L3.biom')"
     ],
     "language": "python",
     "metadata": {},
     "outputs": [],
     "prompt_number": 1
    },
    {
     "cell_type": "code",
     "collapsed": false,
     "input": [
      "!normalize_by_copy_number.py -i $closed_otu_table -o $normalized_table"
     ],
     "language": "python",
     "metadata": {},
     "outputs": [],
     "prompt_number": 20
    },
    {
     "cell_type": "code",
     "collapsed": false,
     "input": [
      "!predict_metagenomes.py -i $normalized_table -o $metagenome_predictions"
     ],
     "language": "python",
     "metadata": {},
     "outputs": [],
     "prompt_number": 21
    },
    {
     "cell_type": "code",
     "collapsed": false,
     "input": [
      "!categorize_by_function.py -i $metagenome_predictions -c KEGG_Pathways -l 3 -o $predicted_metagenomesL3"
     ],
     "language": "python",
     "metadata": {},
     "outputs": [],
     "prompt_number": 22
    },
    {
     "cell_type": "code",
     "collapsed": false,
     "input": [
      "params = join(picrust_files, 'params.txt')\n",
      "plots_at_level3 = join(picrust_files, 'plots_at_level3')"
     ],
     "language": "python",
     "metadata": {},
     "outputs": [],
     "prompt_number": 2
    },
    {
     "cell_type": "code",
     "collapsed": false,
     "input": [
      "!summarize_taxa_through_plots.py -i $predicted_metagenomesL3 -p $params -o plots_at_level3"
     ],
     "language": "python",
     "metadata": {},
     "outputs": [
      {
       "output_type": "stream",
       "stream": "stdout",
       "text": [
        "Traceback (most recent call last):\r\n",
        "  File \"/Users/jc33/Library/Python/2.7/bin/summarize_taxa_through_plots.py\", line 4, in <module>\r\n",
        "    import pkg_resources\r\n",
        "  File \"build/bdist.macosx-10.8-intel/egg/pkg_resources.py\", line 2962, in <module>\r\n",
        "    \r\n",
        "  File \"build/bdist.macosx-10.8-intel/egg/pkg_resources.py\", line 595, in resolve\r\n",
        "    map(working_set.add, distributions)  # add plugins+libs to sys.path\r\n",
        "pkg_resources.DistributionNotFound: scikit-bio==0.1.1\r\n"
       ]
      }
     ],
     "prompt_number": 3
    },
    {
     "cell_type": "code",
     "collapsed": false,
     "input": [],
     "language": "python",
     "metadata": {},
     "outputs": []
    }
   ],
   "metadata": {}
  }
 ]
}