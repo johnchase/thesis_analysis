{
 "metadata": {
  "name": "",
  "signature": "sha256:fc07cb24893efb8fa17748ef4944cfc0e70bd4d493055cc820af7a98d0aaa1c2"
 },
 "nbformat": 3,
 "nbformat_minor": 0,
 "worksheets": [
  {
   "cells": [
    {
     "cell_type": "markdown",
     "metadata": {},
     "source": [
      "get initial taxa summary plots\n",
      "============================="
     ]
    },
    {
     "cell_type": "code",
     "collapsed": false,
     "input": [
      "import pandas as pd\n",
      "from os.path import join\n",
      "from IPython.display import FileLink, FileLinks"
     ],
     "language": "python",
     "metadata": {},
     "outputs": [],
     "prompt_number": 2
    },
    {
     "cell_type": "code",
     "collapsed": false,
     "input": [
      "map_f = '/Users/jc33/google_drive/thesis/analysis/files/initial_steps/mapping_files/periods1-2-3_all_data_barcodes_map141108.txt'\n",
      "map_df = pd.read_csv(map_f, sep='\\t', index_col=0)"
     ],
     "language": "python",
     "metadata": {},
     "outputs": [],
     "prompt_number": 3
    },
    {
     "cell_type": "code",
     "collapsed": false,
     "input": [
      "taxa_dir = '/Users/jc33/google_drive/thesis/analysis/files/taxa_summary'"
     ],
     "language": "python",
     "metadata": {},
     "outputs": [],
     "prompt_number": 4
    },
    {
     "cell_type": "code",
     "collapsed": false,
     "input": [
      "event_1_2_map_df = map_df[(map_df['Event'] == 1) | (map_df['Event'] == 2) | (map_df['Event'] > 57)]\n",
      "event_1_2_map = join(taxa_dir, 'event_1_59.txt')\n",
      "event_1_2_map_df.to_csv(event_1_2_map, sep='\\t')"
     ],
     "language": "python",
     "metadata": {},
     "outputs": [],
     "prompt_number": 62
    },
    {
     "cell_type": "code",
     "collapsed": false,
     "input": [
      "event_1_2_map_df['City'].unique()"
     ],
     "language": "python",
     "metadata": {},
     "outputs": [
      {
       "metadata": {},
       "output_type": "pyout",
       "prompt_number": 67,
       "text": [
        "array(['flagstaff', 'toronto', 'san_diego'], dtype=object)"
       ]
      }
     ],
     "prompt_number": 67
    },
    {
     "cell_type": "code",
     "collapsed": false,
     "input": [
      "otu_table = '/Users/jc33/google_drive/thesis/analysis/files/initial_steps/otu_table_mc2_w_tax_no_pynast_failures.biom'\n",
      "filtered_table = join(taxa_dir, 'event_1_59.biom')\n",
      "!filter_samples_from_otu_table.py -i $otu_table -o $filtered_table --sample_id_fp $event_1_2_map"
     ],
     "language": "python",
     "metadata": {},
     "outputs": [],
     "prompt_number": 76
    },
    {
     "cell_type": "code",
     "collapsed": false,
     "input": [
      "biom_summ = join(taxa_dir, 'biom_sum.txt')\n",
      "!biom summarize-table -i $otu_table -o $biom_summ"
     ],
     "language": "python",
     "metadata": {},
     "outputs": [],
     "prompt_number": 69
    },
    {
     "cell_type": "code",
     "collapsed": false,
     "input": [
      "!cat $biom_summ"
     ],
     "language": "python",
     "metadata": {},
     "outputs": []
    },
    {
     "cell_type": "code",
     "collapsed": false,
     "input": [
      "filtered_table_800 = join(taxa_dir, 'filtered_800.biom')\n",
      "!filter_samples_from_otu_table.py -i $filtered_table -o $filtered_table_800 -n 400"
     ],
     "language": "python",
     "metadata": {},
     "outputs": [],
     "prompt_number": 77
    },
    {
     "cell_type": "code",
     "collapsed": false,
     "input": [
      "params = open('params.txt', 'w')\n",
      "params.write('plot_taxa_summary:chart_type bar,area,pie')\n",
      "!cat params.txt"
     ],
     "language": "python",
     "metadata": {},
     "outputs": [
      {
       "output_type": "stream",
       "stream": "stdout",
       "text": [
        "plot_taxa_summary:chart_type bar,area,pie"
       ]
      }
     ],
     "prompt_number": 78
    },
    {
     "cell_type": "code",
     "collapsed": false,
     "input": [
      "l2_table = join(taxa_dir, 'L2_filtered_800')\n",
      "!summarize_taxa.py -i $filtered_table_800 -o $l2_table -L2"
     ],
     "language": "python",
     "metadata": {},
     "outputs": [],
     "prompt_number": 101
    },
    {
     "cell_type": "code",
     "collapsed": false,
     "input": [
      "!ls $l2_table"
     ],
     "language": "python",
     "metadata": {},
     "outputs": [
      {
       "output_type": "stream",
       "stream": "stdout",
       "text": [
        "ls: /Users/jc33/google_drive/thesis/analysis/files/taxa_summary/L2_filtered_800: No such file or directory\r\n"
       ]
      }
     ],
     "prompt_number": 100
    },
    {
     "cell_type": "code",
     "collapsed": false,
     "input": [
      "output = join(taxa_dir, 'event_1')\n",
      "!summarize_taxa_through_plots.py -i $filtered_table_800 -o $output -m $event_1_2_map -c Period  --sort -f -p params.txt"
     ],
     "language": "python",
     "metadata": {},
     "outputs": [],
     "prompt_number": 92
    },
    {
     "cell_type": "code",
     "collapsed": false,
     "input": [
      "group = join(l2_table, 'filtered_800_L2.biom')\n",
      "group_out = join(taxa_dir, 'group_out.txt')"
     ],
     "language": "python",
     "metadata": {},
     "outputs": [],
     "prompt_number": 105
    },
    {
     "cell_type": "code",
     "collapsed": false,
     "input": [
      "!group_significance.py -i $group -c Period -m $event_1_2_map -o $group_out"
     ],
     "language": "python",
     "metadata": {},
     "outputs": [
      {
       "output_type": "stream",
       "stream": "stdout",
       "text": [
        "No metadata in biom table.\r\n"
       ]
      }
     ],
     "prompt_number": 106
    },
    {
     "cell_type": "code",
     "collapsed": false,
     "input": [],
     "language": "python",
     "metadata": {},
     "outputs": []
    },
    {
     "cell_type": "code",
     "collapsed": false,
     "input": [],
     "language": "python",
     "metadata": {},
     "outputs": []
    },
    {
     "cell_type": "markdown",
     "metadata": {},
     "source": [
      "Time Series for Flagstaff\n",
      "--------------"
     ]
    },
    {
     "cell_type": "code",
     "collapsed": false,
     "input": [
      "taxa_dir = '/Users/jc33/google_drive/thesis/analysis/files/taxa_summary'"
     ],
     "language": "python",
     "metadata": {},
     "outputs": []
    },
    {
     "cell_type": "code",
     "collapsed": false,
     "input": [
      "#filter mapping file and write it out to file\n",
      "flagstaff_map = map_df[map_df['City'] == 'flagstaff']"
     ],
     "language": "python",
     "metadata": {},
     "outputs": [],
     "prompt_number": 5
    },
    {
     "cell_type": "code",
     "collapsed": false,
     "input": [
      "flag_map = join(taxa_dir, 'flagstaff_map')\n",
      "flagstaff_map.to_csv(flag_map, sep='\\t')"
     ],
     "language": "python",
     "metadata": {},
     "outputs": [],
     "prompt_number": 7
    },
    {
     "cell_type": "code",
     "collapsed": false,
     "input": [
      "#filter the otu table\n",
      "otu_table = '/Users/jc33/google_drive/thesis/analysis/files/initial_steps/otu_table_mc2_w_tax_no_pynast_failures.biom'\n",
      "filtered_table = join(taxa_dir, 'flagstaff.biom')"
     ],
     "language": "python",
     "metadata": {},
     "outputs": [],
     "prompt_number": 11
    },
    {
     "cell_type": "code",
     "collapsed": false,
     "input": [
      "!filter_samples_from_otu_table.py -i $otu_table -o $filtered_table --sample_id_fp $flagstaff_map"
     ],
     "language": "python",
     "metadata": {},
     "outputs": []
    }
   ],
   "metadata": {}
  }
 ]
}