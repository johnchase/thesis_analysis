{
 "metadata": {
  "name": "",
  "signature": "sha256:e465ec67b8e08aeae233112a3a37906b2bbab89eeaba8322d0c28434e67e5a63"
 },
 "nbformat": 3,
 "nbformat_minor": 0,
 "worksheets": [
  {
   "cells": [
    {
     "cell_type": "code",
     "collapsed": false,
     "input": [
      "from skbio import DistanceMatrix\n",
      "import numpy as np\n",
      "import pandas as pd\n",
      "from skbio.stats.distance import ANOSIM, PERMANOVA\n",
      "from os.path import join"
     ],
     "language": "python",
     "metadata": {},
     "outputs": [],
     "prompt_number": 22
    },
    {
     "cell_type": "code",
     "collapsed": false,
     "input": [
      "files = '/Users/jc33/google_drive/thesis/analysis/files'\n",
      "biom_table = join(files, 'initial_steps/otu_table_mc2_w_tax_no_pynast_failures.biom')\n",
      "biom_table_800 = join(files,'row_2_3_comps/otu_table_mc800_w_tax_no_pynast_failures.biom')\n",
      "mapping_file = join(files, 'initial_steps/mapping_files/periods1-2-3_all_data_barcodes_map.txt')"
     ],
     "language": "python",
     "metadata": {},
     "outputs": [],
     "prompt_number": 23
    },
    {
     "cell_type": "code",
     "collapsed": false,
     "input": [
      "map_df = pd.read_csv(mapping_file, sep='\\t', index_col=0)\n",
      "map_df = map_df.drop(['blankswab5', 'blankswab1', 'blankswab2', 'blankswab3' , 'blankswab4'])\n"
     ],
     "language": "python",
     "metadata": {},
     "outputs": [],
     "prompt_number": 24
    },
    {
     "cell_type": "code",
     "collapsed": false,
     "input": [
      "dm_fp = '/Users/jc33/google_drive/thesis/analysis/files/initial_steps/filtered_bd_out'\n",
      "weighted_dm_fp = join(dm_fp, 'weighted_unifrac_otu_table_mc800_w_tax_no_pynast_failures.txt')\n",
      "weighted_dm = DistanceMatrix.read(weighted_dm_fp, delimiter='\\t')\n",
      "unweighted_dm_fp = join(dm_fp, 'unweighted_unifrac_otu_table_mc800_w_tax_no_pynast_failures.txt')\n",
      "unweighted_dm = DistanceMatrix.read(unweighted_dm_fp, delimiter='\\t')"
     ],
     "language": "python",
     "metadata": {},
     "outputs": [],
     "prompt_number": 25
    },
    {
     "cell_type": "code",
     "collapsed": false,
     "input": [
      "def union_maps(df, dm):\n",
      "    map_ids = df.index\n",
      "    dm_ids = dm.ids\n",
      "    filter_ids = set(map_ids) & set(dm_ids)\n",
      "    dm = dm.filter(filter_ids)\n",
      "    df = df.loc[filter_ids]\n",
      "    return df, dm"
     ],
     "language": "python",
     "metadata": {},
     "outputs": [],
     "prompt_number": 26
    },
    {
     "cell_type": "code",
     "collapsed": false,
     "input": [
      "map_df, weighted_dm = union_maps(map_df, weighted_dm)\n"
     ],
     "language": "python",
     "metadata": {},
     "outputs": [],
     "prompt_number": 27
    },
    {
     "cell_type": "code",
     "collapsed": false,
     "input": [
      "map_df['City'].value_counts()"
     ],
     "language": "python",
     "metadata": {},
     "outputs": [
      {
       "metadata": {},
       "output_type": "pyout",
       "prompt_number": 28,
       "text": [
        "flagstaff    483\n",
        "san_diego    408\n",
        "toronto      369\n",
        "dtype: int64"
       ]
      }
     ],
     "prompt_number": 28
    },
    {
     "cell_type": "markdown",
     "metadata": {},
     "source": [
      "Office Stats\n",
      "============"
     ]
    },
    {
     "cell_type": "code",
     "collapsed": false,
     "input": [
      "flag_map = map_df[map_df['City'] == 'san_diego']\n",
      "flag_map, weighted_dm = union_maps(flag_map, weighted_dm)\n",
      "anosim = ANOSIM(weighted_dm, flag_map, column='OfficeNumber')\n",
      "results = anosim(999)\n",
      "print results"
     ],
     "language": "python",
     "metadata": {},
     "outputs": [
      {
       "output_type": "stream",
       "stream": "stdout",
       "text": [
        "Method name  Sample size  Number of groups      R statistic  p-value  Number of permutations\n",
        "     ANOSIM          408                 3  0.0169158500788    0.003                     999\n",
        "\n"
       ]
      }
     ],
     "prompt_number": 29
    },
    {
     "cell_type": "code",
     "collapsed": false,
     "input": [],
     "language": "python",
     "metadata": {},
     "outputs": []
    },
    {
     "cell_type": "markdown",
     "metadata": {},
     "source": [
      "flagstaff toronto stats\n",
      "============="
     ]
    },
    {
     "cell_type": "code",
     "collapsed": false,
     "input": [
      "flag_toronto = map_df[map_df['City'] != 'san_diego']\n",
      "flag_toronto, flag_toronto_weighted_dm = union_maps(flag_toronto, weighted_dm)\n",
      "anosim = ANOSIM(flag_toronto_weighted_dm, flag_toronto, column='City')\n",
      "results = anosim(999)\n",
      "print results"
     ],
     "language": "python",
     "metadata": {},
     "outputs": [
      {
       "output_type": "stream",
       "stream": "stdout",
       "text": [
        "Method name  Sample size  Number of groups      R statistic  p-value  Number of permutations\n",
        "     ANOSIM          852                 2  0.0205728914173    0.001                     999\n",
        "\n"
       ]
      }
     ],
     "prompt_number": 24
    },
    {
     "cell_type": "code",
     "collapsed": false,
     "input": [
      "flag_toronto, unflag_toronto_weighted_dm = union_maps(flag_toronto, unweighted_dm)\n",
      "anosim = ANOSIM(unflag_toronto_weighted_dm, flag_toronto, column='City')\n",
      "results = anosim(999)\n",
      "print results"
     ],
     "language": "python",
     "metadata": {},
     "outputs": [
      {
       "output_type": "stream",
       "stream": "stdout",
       "text": [
        "Method name  Sample size  Number of groups      R statistic  p-value  Number of permutations\n",
        "     ANOSIM          852                 2  0.0448486077108    0.001                     999\n",
        "\n"
       ]
      }
     ],
     "prompt_number": 26
    },
    {
     "cell_type": "code",
     "collapsed": false,
     "input": [
      "permanova = PERMANOVA(flag_toronto_weighted_dm, flag_toronto, column='City')\n",
      "results = permanova(999)\n",
      "print results"
     ],
     "language": "python",
     "metadata": {},
     "outputs": [
      {
       "output_type": "stream",
       "stream": "stdout",
       "text": [
        "Method name  Sample size  Number of groups  pseudo-F statistic  p-value  Number of permutations\n",
        "  PERMANOVA          852                 2       15.4331532865    0.001                     999\n",
        "\n"
       ]
      }
     ],
     "prompt_number": 27
    },
    {
     "cell_type": "code",
     "collapsed": false,
     "input": [
      "permanova = PERMANOVA(unflag_toronto_weighted_dm, flag_toronto, column='City')\n",
      "results = permanova(999)\n",
      "print results"
     ],
     "language": "python",
     "metadata": {},
     "outputs": [
      {
       "output_type": "stream",
       "stream": "stdout",
       "text": [
        "Method name  Sample size  Number of groups  pseudo-F statistic  p-value  Number of permutations\n",
        "  PERMANOVA          852                 2       8.38669410376    0.001                     999\n",
        "\n"
       ]
      }
     ],
     "prompt_number": 28
    },
    {
     "cell_type": "markdown",
     "metadata": {},
     "source": [
      "San Diego Toronto Stats\n",
      "================="
     ]
    },
    {
     "cell_type": "code",
     "collapsed": false,
     "input": [
      "san_diego_toronto = map_df[map_df['City'] != 'flagstaff']\n",
      "san_diego_toronto, san_diego_toronto_weighted_dm = union_maps(san_diego_toronto, weighted_dm)\n",
      "anosim = ANOSIM(san_diego_toronto_weighted_dm, san_diego_toronto, column='City')\n",
      "results = anosim(999)\n",
      "print results"
     ],
     "language": "python",
     "metadata": {},
     "outputs": [
      {
       "output_type": "stream",
       "stream": "stdout",
       "text": [
        "Method name  Sample size  Number of groups      R statistic  p-value  Number of permutations\n",
        "     ANOSIM          777                 2  0.0109967213792    0.003                     999\n",
        "\n"
       ]
      }
     ],
     "prompt_number": 29
    },
    {
     "cell_type": "code",
     "collapsed": false,
     "input": [
      "permanova = PERMANOVA(san_diego_toronto_weighted_dm, san_diego_toronto, column='Material')\n",
      "results = permanova(999)\n",
      "print results"
     ],
     "language": "python",
     "metadata": {},
     "outputs": [
      {
       "output_type": "stream",
       "stream": "stdout",
       "text": [
        "Method name  Sample size  Number of groups  pseudo-F statistic  p-value  Number of permutations\n",
        "  PERMANOVA          777                 3       2.47417770387    0.006                     999\n",
        "\n"
       ]
      }
     ],
     "prompt_number": 30
    },
    {
     "cell_type": "code",
     "collapsed": false,
     "input": [
      "san_diego_toronto, unsan_diego_toronto_weighted_dm = union_maps(san_diego_toronto, unweighted_dm)\n",
      "anosim = ANOSIM(unsan_diego_toronto_weighted_dm, san_diego_toronto, column='City')\n",
      "results = anosim(999)\n",
      "print results"
     ],
     "language": "python",
     "metadata": {},
     "outputs": [
      {
       "output_type": "stream",
       "stream": "stdout",
       "text": [
        "Method name  Sample size  Number of groups      R statistic  p-value  Number of permutations\n",
        "     ANOSIM          777                 2  0.0191893703953    0.001                     999\n",
        "\n"
       ]
      }
     ],
     "prompt_number": 31
    },
    {
     "cell_type": "code",
     "collapsed": false,
     "input": [
      "permanova = PERMANOVA(unsan_diego_toronto_weighted_dm, san_diego_toronto, column='Material')\n",
      "results = permanova(999)\n",
      "print results"
     ],
     "language": "python",
     "metadata": {},
     "outputs": [
      {
       "output_type": "stream",
       "stream": "stdout",
       "text": [
        "Method name  Sample size  Number of groups  pseudo-F statistic  p-value  Number of permutations\n",
        "  PERMANOVA          777                 3       1.60402309131    0.005                     999\n",
        "\n"
       ]
      }
     ],
     "prompt_number": 32
    },
    {
     "cell_type": "markdown",
     "metadata": {},
     "source": [
      "Flagstaff San Diego stats\n",
      "====================="
     ]
    },
    {
     "cell_type": "code",
     "collapsed": false,
     "input": [
      "flag_san_diego = map_df[map_df['City'] != 'toronto']\n",
      "flag_san_diego, flag_san_diego_weighted_dm = union_maps(flag_san_diego, weighted_dm)\n",
      "anosim = ANOSIM(flag_san_diego_weighted_dm, flag_san_diego, column='City')\n",
      "results = anosim(999)\n",
      "print results\n"
     ],
     "language": "python",
     "metadata": {},
     "outputs": [
      {
       "output_type": "stream",
       "stream": "stdout",
       "text": [
        "Method name  Sample size  Number of groups     R statistic  p-value  Number of permutations\n",
        "     ANOSIM          891                 2  0.036845563663    0.001                     999\n",
        "\n"
       ]
      }
     ],
     "prompt_number": 33
    },
    {
     "cell_type": "code",
     "collapsed": false,
     "input": [
      "permanova = PERMANOVA(flag_san_diego_weighted_dm, flag_san_diego, column='City')\n",
      "results = permanova(999)\n",
      "print results"
     ],
     "language": "python",
     "metadata": {},
     "outputs": [
      {
       "output_type": "stream",
       "stream": "stdout",
       "text": [
        "Method name  Sample size  Number of groups  pseudo-F statistic  p-value  Number of permutations\n",
        "  PERMANOVA          891                 2        17.688831868    0.001                     999\n",
        "\n"
       ]
      }
     ],
     "prompt_number": 34
    },
    {
     "cell_type": "code",
     "collapsed": false,
     "input": [
      "flag_san_diego, unflag_san_diego_weighted_dm = union_maps(flag_san_diego, unweighted_dm)\n",
      "anosim = ANOSIM(unflag_san_diego_weighted_dm, flag_san_diego, column='City')\n",
      "results = anosim(999)\n",
      "print results"
     ],
     "language": "python",
     "metadata": {},
     "outputs": [
      {
       "output_type": "stream",
       "stream": "stdout",
       "text": [
        "Method name  Sample size  Number of groups      R statistic  p-value  Number of permutations\n",
        "     ANOSIM          891                 2  0.0455588248596    0.001                     999\n",
        "\n"
       ]
      }
     ],
     "prompt_number": 35
    },
    {
     "cell_type": "code",
     "collapsed": false,
     "input": [
      "permanova = PERMANOVA(unflag_san_diego_weighted_dm, flag_san_diego, column='City')\n",
      "results = permanova(999)\n",
      "print results"
     ],
     "language": "python",
     "metadata": {},
     "outputs": [
      {
       "output_type": "stream",
       "stream": "stdout",
       "text": [
        "Method name  Sample size  Number of groups  pseudo-F statistic  p-value  Number of permutations\n",
        "  PERMANOVA          891                 2        9.8514303725    0.001                     999\n",
        "\n"
       ]
      }
     ],
     "prompt_number": 47
    },
    {
     "cell_type": "markdown",
     "metadata": {},
     "source": [
      "Plate Location Stats\n",
      "==================\n"
     ]
    },
    {
     "cell_type": "code",
     "collapsed": false,
     "input": [
      "floor_ceiling = map_df[map_df['PlateLocation'] != 'wall']\n",
      "floor_ceiling, floor_ceiling_weighted_dm = union_maps(floor_ceiling, weighted_dm)\n",
      "anosim = ANOSIM(floor_ceiling_weighted_dm, floor_ceiling, column='PlateLocation')\n",
      "results = anosim(999)\n",
      "print results\n"
     ],
     "language": "python",
     "metadata": {},
     "outputs": [
      {
       "output_type": "stream",
       "stream": "stdout",
       "text": [
        "Method name  Sample size  Number of groups    R statistic  p-value  Number of permutations\n",
        "     ANOSIM          833                 2  0.16350971587    0.001                     999\n",
        "\n"
       ]
      }
     ],
     "prompt_number": 48
    },
    {
     "cell_type": "code",
     "collapsed": false,
     "input": [
      "permanova = PERMANOVA(floor_ceiling_weighted_dm, floor_ceiling, column='PlateLocation')\n",
      "results = permanova(999)\n",
      "print results"
     ],
     "language": "python",
     "metadata": {},
     "outputs": [
      {
       "output_type": "stream",
       "stream": "stdout",
       "text": [
        "Method name  Sample size  Number of groups  pseudo-F statistic  p-value  Number of permutations\n",
        "  PERMANOVA          833                 2       56.3097079027    0.001                     999\n",
        "\n"
       ]
      }
     ],
     "prompt_number": 49
    },
    {
     "cell_type": "code",
     "collapsed": false,
     "input": [
      "floor_ceiling = map_df[map_df['PlateLocation'] != 'wall']\n",
      "floor_ceiling, floor_ceiling_weighted_dm = union_maps(floor_ceiling, unweighted_dm)\n",
      "anosim = ANOSIM(floor_ceiling_weighted_dm, floor_ceiling, column='PlateLocation')\n",
      "results = anosim(999)\n",
      "print results\n"
     ],
     "language": "python",
     "metadata": {},
     "outputs": [
      {
       "output_type": "stream",
       "stream": "stdout",
       "text": [
        "Method name  Sample size  Number of groups    R statistic  p-value  Number of permutations\n",
        "     ANOSIM          833                 2  0.16316438412    0.001                     999\n",
        "\n"
       ]
      }
     ],
     "prompt_number": 50
    },
    {
     "cell_type": "code",
     "collapsed": false,
     "input": [
      "permanova = PERMANOVA(floor_ceiling_weighted_dm, floor_ceiling, column='PlateLocation')\n",
      "results = permanova(999)\n",
      "print results"
     ],
     "language": "python",
     "metadata": {},
     "outputs": [
      {
       "output_type": "stream",
       "stream": "stdout",
       "text": [
        "Method name  Sample size  Number of groups  pseudo-F statistic  p-value  Number of permutations\n",
        "  PERMANOVA          833                 2       19.1617840911    0.001                     999\n",
        "\n"
       ]
      }
     ],
     "prompt_number": 51
    },
    {
     "cell_type": "code",
     "collapsed": false,
     "input": [
      "mapping_file = join(files, 'initial_steps/mapping_files/periods1-2-3_all_data_barcodes_map.txt')"
     ],
     "language": "python",
     "metadata": {},
     "outputs": [],
     "prompt_number": 23
    },
    {
     "cell_type": "code",
     "collapsed": false,
     "input": [
      "mapping_df = pd.read_csv(mapping_file, sep='\\t', index_col=0)"
     ],
     "language": "python",
     "metadata": {},
     "outputs": [],
     "prompt_number": 24
    },
    {
     "cell_type": "code",
     "collapsed": false,
     "input": [
      "dm_fp = '/Users/jc33/google_drive/thesis/analysis/files/initial_steps/filtered_bd_out'\n",
      "weighted_dm_fp = join(dm_fp, 'weighted_unifrac_otu_table_mc800_w_tax_no_pynast_failures.txt')\n",
      "weighted_dm = DistanceMatrix.read(weighted_dm_fp, delimiter='\\t')\n",
      "unweighted_dm_fp = join(dm_fp, 'unweighted_unifrac_otu_table_mc800_w_tax_no_pynast_failures.txt')\n",
      "unweighted_dm = DistanceMatrix.read(unweighted_dm_fp, delimiter='\\t')"
     ],
     "language": "python",
     "metadata": {},
     "outputs": [],
     "prompt_number": 25
    },
    {
     "cell_type": "code",
     "collapsed": false,
     "input": [
      "filtered_mapping_df = mapping_df.drop(['blankswab5', 'blankswab1', 'blankswab2', 'blankswab3' , 'blankswab4'])\n",
      "filtered_mapping_df.columns"
     ],
     "language": "python",
     "metadata": {},
     "outputs": [
      {
       "metadata": {},
       "output_type": "pyout",
       "prompt_number": 26,
       "text": [
        "Index([u'BarcodeSequence', u'LinkerPrimerSequence', u'DateOfCollection', u'TimeOfCollection', u'WeekDay', u'Notes', u'Cooler', u'Description', u'City', u'PlateLocation', u'Material', u'OfficeNumber', u'Row', u'Event', u'OfficeNumberPlateLocation', u'CityOfficeNumber', u'CityOfficeNumberLocation', u'Period', u'DaysSinceEpoch', u'Season'], dtype='object')"
       ]
      }
     ],
     "prompt_number": 26
    },
    {
     "cell_type": "code",
     "collapsed": false,
     "input": [
      "event_1_2_map_df = map_df[(map_df['Event'] == 1) | (map_df['Event'] == 2) | (map_df['Event'] > 57)]\n",
      "event_1_2_map_df = event_1_2_map_df.drop(['F2W.3.Dr.059.a', 'F2W.3.Dr.059.b'])"
     ],
     "language": "python",
     "metadata": {},
     "outputs": [],
     "prompt_number": 38
    },
    {
     "cell_type": "code",
     "collapsed": false,
     "input": [
      "weighted_event_1_2_map_df, event_1_2_map_dm = union_maps(event_1_2_map_df, weighted_dm)\n",
      "anosim = ANOSIM(event_1_2_map_dm, weighted_event_1_2_map_df, column='Period')\n",
      "results = anosim(999)\n",
      "print results"
     ],
     "language": "python",
     "metadata": {},
     "outputs": [
      {
       "output_type": "stream",
       "stream": "stdout",
       "text": [
        "Method name  Sample size  Number of groups     R statistic  p-value  Number of permutations\n",
        "     ANOSIM          213                 2  0.747285803234    0.001                     999\n",
        "\n"
       ]
      }
     ],
     "prompt_number": 41
    },
    {
     "cell_type": "code",
     "collapsed": false,
     "input": [
      "permanova = PERMANOVA(event_1_2_map_dm, weighted_event_1_2_map_df, column='Period')\n",
      "results = permanova(999)\n",
      "print results"
     ],
     "language": "python",
     "metadata": {},
     "outputs": [
      {
       "output_type": "stream",
       "stream": "stdout",
       "text": [
        "Method name  Sample size  Number of groups  pseudo-F statistic  p-value  Number of permutations\n",
        "  PERMANOVA          213                 2       93.3890514981    0.001                     999\n",
        "\n"
       ]
      }
     ],
     "prompt_number": 42
    },
    {
     "cell_type": "code",
     "collapsed": false,
     "input": [
      "unwieghted_event_1_2_map_df, unevent_1_2_map_dm = union_maps(event_1_2_map_df, unweighted_dm)\n",
      "anosim = ANOSIM(unevent_1_2_map_dm, unwieghted_event_1_2_map_df, column='Period')\n",
      "results = anosim(999)\n",
      "print results"
     ],
     "language": "python",
     "metadata": {},
     "outputs": [
      {
       "output_type": "stream",
       "stream": "stdout",
       "text": [
        "Method name  Sample size  Number of groups     R statistic  p-value  Number of permutations\n",
        "     ANOSIM          213                 2  0.511930980554    0.001                     999\n",
        "\n"
       ]
      }
     ],
     "prompt_number": 43
    },
    {
     "cell_type": "code",
     "collapsed": false,
     "input": [
      "permanova = PERMANOVA(unevent_1_2_map_dm, unwieghted_event_1_2_map_df, column='Period')\n",
      "results = permanova(999)\n",
      "print results"
     ],
     "language": "python",
     "metadata": {},
     "outputs": [
      {
       "output_type": "stream",
       "stream": "stdout",
       "text": [
        "Method name  Sample size  Number of groups  pseudo-F statistic  p-value  Number of permutations\n",
        "  PERMANOVA          213                 2       20.4049627577    0.001                     999\n",
        "\n"
       ]
      }
     ],
     "prompt_number": 44
    },
    {
     "cell_type": "code",
     "collapsed": false,
     "input": [],
     "language": "python",
     "metadata": {},
     "outputs": []
    }
   ],
   "metadata": {}
  }
 ]
}