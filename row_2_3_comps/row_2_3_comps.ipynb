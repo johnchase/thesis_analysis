{
 "metadata": {
  "name": "",
  "signature": "sha256:bfaaf6e2bc5c2caf8883c272f3852b0ae29033df7646822a6051df7f1f055edb"
 },
 "nbformat": 3,
 "nbformat_minor": 0,
 "worksheets": [
  {
   "cells": [
    {
     "cell_type": "code",
     "collapsed": false,
     "input": [
      "from __future__ import division\n",
      "\n",
      "import pandas as pd\n",
      "from biom import load_table\n",
      "import numpy as np\n",
      "from scipy.stats import ttest_ind, spearmanr, pearsonr\n",
      "from skbio import DistanceMatrix\n",
      "from os.path import join"
     ],
     "language": "python",
     "metadata": {},
     "outputs": [],
     "prompt_number": 1
    },
    {
     "cell_type": "code",
     "collapsed": false,
     "input": [
      "files = '/Users/jc33/google_drive/thesis/analysis/files'\n",
      "biom_table = join(files, 'initial_steps/otu_table_mc2_w_tax_no_pynast_failures.biom')\n",
      "biom_table_800 = join(files,'row_2_3_comps/otu_table_mc800_w_tax_no_pynast_failures.biom')\n",
      "mapping_file = join(files, 'initial_steps/mapping_files/periods1-2-3_all_data_barcodes_map.txt')"
     ],
     "language": "python",
     "metadata": {},
     "outputs": [],
     "prompt_number": 2
    },
    {
     "cell_type": "markdown",
     "metadata": {},
     "source": [
      "Steps to take \n",
      "-------------\n",
      "1. get the list of sample ids from the whole mapping file.\n",
      "2. get a list of all of the row 2 ids from mapping file.\n",
      "\n",
      "3. filter the otu table to 800\n",
      "4. Get the ids from the otu table\n",
      "\n",
      "5. loop through the row 2 ids, if that id is in the list of otu table for both row 2 and 3 keep both rows in a new list. Otherwise discard both\n",
      "\n",
      "6. compute correlation for pairs of ids\n",
      "\n",
      "7. compute correlation \n",
      "\n",
      "\n",
      "\n",
      "\n",
      "6. create distance full distance matrix \n",
      "\n",
      "7. filter distance matrix to only include paired samples\n"
     ]
    },
    {
     "cell_type": "markdown",
     "metadata": {},
     "source": [
      "Begin Function Definitions\n",
      "=========================="
     ]
    },
    {
     "cell_type": "code",
     "collapsed": false,
     "input": [
      "#Define a function that will return paired ids based on some criteria\n",
      "#loop through the ids, if that id is in the list of otu table for both pairs keep both rows in a new list. \n",
      "#Otherwise discard both\n",
      "\n",
      "def get_paired_ids(sample_ids, pair_index, pair1_val, pair2_val):\n",
      "    '''Pair value will be the value from the IDs to ignore. The ids returned will be identical\n",
      "    except for that character'''\n",
      "    first_pairs = [i for i in sample_ids if i[pair_index] == pair1_val]\n",
      "    if len(first_pairs) != len(set(first_pairs)):\n",
      "        print \"Warning duplicate single ids found, check id list!\" \n",
      "    paired_ids = []\n",
      "    for first_pair in first_pairs:\n",
      "        second_pair = (first_pair[:pair_index] + pair2_val + first_pair[(pair_index + 1):])\n",
      "        pairs = []\n",
      "        if first_pair in sample_ids and  second_pair in sample_ids:\n",
      "            pairs.append(first_pair)\n",
      "            pairs.append(second_pair)\n",
      "            paired_ids.append(pairs)\n",
      "        else: \n",
      "            pass\n",
      "    return paired_ids"
     ],
     "language": "python",
     "metadata": {},
     "outputs": [],
     "prompt_number": 3
    },
    {
     "cell_type": "code",
     "collapsed": false,
     "input": [
      "#define a function that takes an otu table and paired ids and returns the rho values for each\n",
      "def spearman_dist(otu_table, ids):\n",
      "    rhos = []\n",
      "    for i in ids:\n",
      "        rho, p_val = spearmanr(otu_table.data(i[0], axis='sample'), otu_table.data(i[1], axis='sample'))\n",
      "        rhos.append(rho)\n",
      "    return rhos"
     ],
     "language": "python",
     "metadata": {},
     "outputs": [],
     "prompt_number": 4
    },
    {
     "cell_type": "code",
     "collapsed": false,
     "input": [
      "def get_paired_differences(dm, sample_id_pairs_1, sample_id_pairs_2):\n",
      "    distances_1 = [dm.filter(i)[0][1] for i in sample_id_pairs_1]\n",
      "    distances_2 = [dm.filter(i)[0][1] for i in sample_id_pairs_2]\n",
      "    test_stat, p_value = ttest_ind(distances_1, distances_2)\n",
      "    return round((test_stat/2), 4), round((p_value/2), 4) "
     ],
     "language": "python",
     "metadata": {},
     "outputs": [],
     "prompt_number": 5
    },
    {
     "cell_type": "code",
     "collapsed": false,
     "input": [
      "#Function to shuffle the sample ids\n",
      "def get_shuffled_ids(sample_ids):\n",
      "    ids1, ids2 = zip(*sample_ids)\n",
      "    ids1 = list(ids1)\n",
      "    ids2 = list(ids2)\n",
      "    np.random.shuffle(ids1)\n",
      "    np.random.shuffle(ids2)\n",
      "    shuffled_ids = [i for i in zip(ids1, ids2)]\n",
      "    return shuffled_ids"
     ],
     "language": "python",
     "metadata": {},
     "outputs": [],
     "prompt_number": 6
    },
    {
     "cell_type": "code",
     "collapsed": false,
     "input": [
      "def get_distance_table(dm, sample_ids):\n",
      "    sample_keys = sample_ids.keys()\n",
      "    distances_df = pd.DataFrame(index=sample_keys, columns=sample_keys)\n",
      "    for i in sample_keys:\n",
      "        for j in sample_keys:\n",
      "            difference = get_paired_differences(dm, sample_ids[i], sample_ids[j])\n",
      "            distances_df[i][j] = difference\n",
      "    return distances_df"
     ],
     "language": "python",
     "metadata": {},
     "outputs": [],
     "prompt_number": 7
    },
    {
     "cell_type": "code",
     "collapsed": false,
     "input": [
      "def get_correlation_table(otu_table, sample_ids):\n",
      "    id_pairs = sample_ids.keys()\n",
      "    rho_values = [spearman_dist(otu_table, i) for i in sample_ids.values()]\n",
      "    dictionary = dict(zip(id_pairs, rho_values))\n",
      "    distances_df = pd.DataFrame(index=id_pairs, columns=id_pairs)\n",
      "    for i in id_pairs:\n",
      "        for j in id_pairs:\n",
      "            difference = ttest_ind(dictionary[i], dictionary[j])\n",
      "            distances_df[i][j] = difference\n",
      "\n",
      "    return distances_df"
     ],
     "language": "python",
     "metadata": {},
     "outputs": [],
     "prompt_number": 8
    },
    {
     "cell_type": "markdown",
     "metadata": {},
     "source": [
      "End Function Definitions\n",
      "======================="
     ]
    },
    {
     "cell_type": "code",
     "collapsed": false,
     "input": [
      "#Filter the full table to not include any samples with less than 800 samples. \n",
      "!filter_samples_from_otu_table.py -i $biom_table -n 800 -o $biom_table_800 "
     ],
     "language": "python",
     "metadata": {},
     "outputs": [],
     "prompt_number": 34
    },
    {
     "cell_type": "code",
     "collapsed": false,
     "input": [
      "!biom summarize-table -i $biom_table_800"
     ],
     "language": "python",
     "metadata": {},
     "outputs": []
    },
    {
     "cell_type": "code",
     "collapsed": false,
     "input": [
      "#weighted unifrac plots\n",
      "!make_distance_boxplots.py -m $mapping_file -d $weighted_dm_fp -o '/Users/jc33/google_drive/thesis/analysis/files/row_23_dist_plots' -f Row --suppress_individual_within --suppress_individual_between -n 999"
     ],
     "language": "python",
     "metadata": {},
     "outputs": []
    },
    {
     "cell_type": "code",
     "collapsed": false,
     "input": [
      "!make_distance_boxplots.py -m $mapping_file -d $weighted_dm_fp -o '/Users/jc33/google_drive/thesis/analysis/files/row_23_dist_plots' -f Surface --suppress_individual_within --suppress_individual_between -n 999"
     ],
     "language": "python",
     "metadata": {},
     "outputs": []
    },
    {
     "cell_type": "code",
     "collapsed": false,
     "input": [
      "#Get the ids from the otu table\n",
      "otu_table_800 = load_table(biom_table_800)\n",
      "sample_ids_from_table = otu_table_800.ids()"
     ],
     "language": "python",
     "metadata": {},
     "outputs": [],
     "prompt_number": 9
    },
    {
     "cell_type": "code",
     "collapsed": false,
     "input": [
      "all_id_pairs = {}"
     ],
     "language": "python",
     "metadata": {},
     "outputs": [],
     "prompt_number": 10
    },
    {
     "cell_type": "code",
     "collapsed": false,
     "input": [
      "#get row 2 and 3 paired_ids\n",
      "row23_ids = get_paired_ids(sample_ids_from_table, 4, '2', '3')\n",
      "all_id_pairs['row23_ids'] = row23_ids\n"
     ],
     "language": "python",
     "metadata": {},
     "outputs": [],
     "prompt_number": 11
    },
    {
     "cell_type": "code",
     "collapsed": false,
     "input": [
      "# get floor and ceiling pairs\n",
      "fc_ids = get_paired_ids(sample_ids_from_table, 2, 'F', 'C')\n",
      "all_id_pairs['fc_ids'] = fc_ids"
     ],
     "language": "python",
     "metadata": {},
     "outputs": [],
     "prompt_number": 12
    },
    {
     "cell_type": "code",
     "collapsed": false,
     "input": [
      "#get floor wall pairs\n",
      "fw_ids = get_paired_ids(sample_ids_from_table, 2, 'F', 'W')\n",
      "all_id_pairs['fw_ids'] = fw_ids\n"
     ],
     "language": "python",
     "metadata": {},
     "outputs": [],
     "prompt_number": 13
    },
    {
     "cell_type": "code",
     "collapsed": false,
     "input": [
      "#get wall ceiling pairs\n",
      "wc_ids = get_paired_ids(sample_ids_from_table, 2, 'W', 'C')\n",
      "all_id_pairs['wc_ids'] = wc_ids\n"
     ],
     "language": "python",
     "metadata": {},
     "outputs": [],
     "prompt_number": 14
    },
    {
     "cell_type": "code",
     "collapsed": false,
     "input": [
      "# First collapse the otu table by Level\n",
      "L3_biom_out = join(files, 'L3_tables')\n",
      "!summarize_taxa.py -i $biom_table_800 -o $L3_biom_out -L 3\n"
     ],
     "language": "python",
     "metadata": {},
     "outputs": [],
     "prompt_number": 24
    },
    {
     "cell_type": "code",
     "collapsed": false,
     "input": [
      "shuffled_row_2_3_pairs1 = get_shuffled_ids(row23_ids)\n",
      "shuffled_row_2_3_pairs2 = get_shuffled_ids(row23_ids)\n",
      "all_id_pairs['shuffled_row_2_3_pairs1'] = shuffled_row_2_3_pairs1\n",
      "all_id_pairs['shuffled_row_2_3_pairs2'] = shuffled_row_2_3_pairs2"
     ],
     "language": "python",
     "metadata": {},
     "outputs": [],
     "prompt_number": 25
    },
    {
     "cell_type": "code",
     "collapsed": false,
     "input": [
      "\n",
      "otu_table_L3 = load_table('/Users/jc33/google_drive/thesis/analysis/files/L3_tables/otu_table_mc800_w_tax_no_pynast_failures_L3.biom')"
     ],
     "language": "python",
     "metadata": {},
     "outputs": [],
     "prompt_number": 27
    },
    {
     "cell_type": "markdown",
     "metadata": {},
     "source": [
      "Same as above with L4\n",
      "-------------------"
     ]
    },
    {
     "cell_type": "code",
     "collapsed": false,
     "input": [
      "# First collapse the otu table by Level\n",
      "L4_biom_table = join(files, 'L4_tables')\n",
      "!summarize_taxa.py -i $biom_table_800 -o $L4_biom_table -L 4"
     ],
     "language": "python",
     "metadata": {},
     "outputs": [],
     "prompt_number": 28
    },
    {
     "cell_type": "code",
     "collapsed": false,
     "input": [
      "otu_table_L4 = load_table('/Users/jc33/google_drive/thesis/analysis/files/L4_tables/otu_table_mc800_w_tax_no_pynast_failures_L4.biom')"
     ],
     "language": "python",
     "metadata": {},
     "outputs": [],
     "prompt_number": 29
    },
    {
     "cell_type": "code",
     "collapsed": false,
     "input": [
      "#create distance full distance matrix\n",
      "!beta_diversity.py -i '../otu_table_mc2_w_tax_no_pynast_failures_mc800.biom' -t '../rep_set.tre' -o './'"
     ],
     "language": "python",
     "metadata": {},
     "outputs": []
    },
    {
     "cell_type": "code",
     "collapsed": false,
     "input": [
      "# Load the distance matrices\n",
      "weighted_dm_fp = '/Users/jc33/google_drive/thesis/analysis/files/output/beta_diversity/weighted_unifrac_otu_table_mc2_w_tax_no_pynast_failures_mc800.txt'\n",
      "weighted_dm = DistanceMatrix.from_file(weighted_dm_fp, delimiter='\\t')\n",
      "unweighted_dm_fp = '/Users/jc33/google_drive/thesis/analysis/files/output/beta_diversity/unweighted_unifrac_otu_table_mc2_w_tax_no_pynast_failures_mc800.txt'\n",
      "unweighted_dm = DistanceMatrix.from_file(unweighted_dm_fp, delimiter='\\t')"
     ],
     "language": "python",
     "metadata": {},
     "outputs": []
    },
    {
     "cell_type": "markdown",
     "metadata": {},
     "source": [
      "Create data frame of various values so I can have a table of comparisons. Create one for correlations and one for distances\n",
      "-------------------------------------"
     ]
    },
    {
     "cell_type": "code",
     "collapsed": false,
     "input": [
      "weighted_table = get_distance_table(weighted_dm, all_id_pairs)\n",
      "weighted_table.to_csv('weighted_dist_table.csv')"
     ],
     "language": "python",
     "metadata": {},
     "outputs": [
      {
       "ename": "NameError",
       "evalue": "name 'weighted_dm' is not defined",
       "output_type": "pyerr",
       "traceback": [
        "\u001b[0;31m---------------------------------------------------------------------------\u001b[0m\n\u001b[0;31mNameError\u001b[0m                                 Traceback (most recent call last)",
        "\u001b[0;32m<ipython-input-17-40e89db43aa7>\u001b[0m in \u001b[0;36m<module>\u001b[0;34m()\u001b[0m\n\u001b[0;32m----> 1\u001b[0;31m \u001b[0mweighted_table\u001b[0m \u001b[0;34m=\u001b[0m \u001b[0mget_distance_table\u001b[0m\u001b[0;34m(\u001b[0m\u001b[0mweighted_dm\u001b[0m\u001b[0;34m,\u001b[0m \u001b[0mall_id_pairs\u001b[0m\u001b[0;34m)\u001b[0m\u001b[0;34m\u001b[0m\u001b[0m\n\u001b[0m\u001b[1;32m      2\u001b[0m \u001b[0mweighted_table\u001b[0m\u001b[0;34m.\u001b[0m\u001b[0mto_csv\u001b[0m\u001b[0;34m(\u001b[0m\u001b[0;34m'weighted_dist_table.csv'\u001b[0m\u001b[0;34m)\u001b[0m\u001b[0;34m\u001b[0m\u001b[0m\n",
        "\u001b[0;31mNameError\u001b[0m: name 'weighted_dm' is not defined"
       ]
      }
     ],
     "prompt_number": 17
    },
    {
     "cell_type": "code",
     "collapsed": false,
     "input": [
      "get_distance_table(unweighted_dm, all_id_pairs)"
     ],
     "language": "python",
     "metadata": {},
     "outputs": [
      {
       "ename": "NameError",
       "evalue": "name 'unweighted_dm' is not defined",
       "output_type": "pyerr",
       "traceback": [
        "\u001b[0;31m---------------------------------------------------------------------------\u001b[0m\n\u001b[0;31mNameError\u001b[0m                                 Traceback (most recent call last)",
        "\u001b[0;32m<ipython-input-18-47bc9f50cbe4>\u001b[0m in \u001b[0;36m<module>\u001b[0;34m()\u001b[0m\n\u001b[0;32m----> 1\u001b[0;31m \u001b[0mget_distance_table\u001b[0m\u001b[0;34m(\u001b[0m\u001b[0munweighted_dm\u001b[0m\u001b[0;34m,\u001b[0m \u001b[0mall_id_pairs\u001b[0m\u001b[0;34m)\u001b[0m\u001b[0;34m\u001b[0m\u001b[0m\n\u001b[0m",
        "\u001b[0;31mNameError\u001b[0m: name 'unweighted_dm' is not defined"
       ]
      }
     ],
     "prompt_number": 18
    },
    {
     "cell_type": "code",
     "collapsed": false,
     "input": [
      "get_correlation_table(otu_table_L3, all_id_pairs)"
     ],
     "language": "python",
     "metadata": {},
     "outputs": [
      {
       "html": [
        "<div style=\"max-height:1000px;max-width:1500px;overflow:auto;\">\n",
        "<table border=\"1\" class=\"dataframe\">\n",
        "  <thead>\n",
        "    <tr style=\"text-align: right;\">\n",
        "      <th></th>\n",
        "      <th>row23_ids</th>\n",
        "      <th>fc_ids</th>\n",
        "      <th>fw_ids</th>\n",
        "      <th>wc_ids</th>\n",
        "      <th>shuffled_row_2_3_pairs2</th>\n",
        "      <th>shuffled_row_2_3_pairs1</th>\n",
        "    </tr>\n",
        "  </thead>\n",
        "  <tbody>\n",
        "    <tr>\n",
        "      <th>row23_ids</th>\n",
        "      <td>                         (0.0, 1.0)</td>\n",
        "      <td> (-8.19270765854, 1.38120643971e-15)</td>\n",
        "      <td> (-5.31476205298, 1.47243110149e-07)</td>\n",
        "      <td> (-2.96241209278, 0.00316491659111)</td>\n",
        "      <td>  (-8.0486485509, 4.97870410062e-15)</td>\n",
        "      <td> (-9.08809248336, 1.70037718266e-18)</td>\n",
        "    </tr>\n",
        "    <tr>\n",
        "      <th>fc_ids</th>\n",
        "      <td> (8.19270765854, 1.38120643971e-15)</td>\n",
        "      <td>                          (0.0, 1.0)</td>\n",
        "      <td>   (3.17575324968, 0.00155776511238)</td>\n",
        "      <td> (5.56910449229, 3.61227126391e-08)</td>\n",
        "      <td>   (-0.837910682825, 0.402392215719)</td>\n",
        "      <td>   (-1.69581626355, 0.0904047523793)</td>\n",
        "    </tr>\n",
        "    <tr>\n",
        "      <th>fw_ids</th>\n",
        "      <td> (5.31476205298, 1.47243110149e-07)</td>\n",
        "      <td>  (-3.17575324968, 0.00155776511238)</td>\n",
        "      <td>                          (0.0, 1.0)</td>\n",
        "      <td>    (2.46580295311, 0.013900790576)</td>\n",
        "      <td> (-3.66270670217, 0.000270008851467)</td>\n",
        "      <td> (-4.61622035334, 4.71577983424e-06)</td>\n",
        "    </tr>\n",
        "    <tr>\n",
        "      <th>wc_ids</th>\n",
        "      <td>  (2.96241209278, 0.00316491659111)</td>\n",
        "      <td> (-5.56910449229, 3.61227126391e-08)</td>\n",
        "      <td>    (-2.46580295311, 0.013900790576)</td>\n",
        "      <td>                         (0.0, 1.0)</td>\n",
        "      <td>   (-5.77082947775, 1.226209033e-08)</td>\n",
        "      <td> (-6.76619644031, 2.97507610195e-11)</td>\n",
        "    </tr>\n",
        "    <tr>\n",
        "      <th>shuffled_row_2_3_pairs2</th>\n",
        "      <td>  (8.0486485509, 4.97870410062e-15)</td>\n",
        "      <td>    (0.837910682825, 0.402392215719)</td>\n",
        "      <td>  (3.66270670217, 0.000270008851467)</td>\n",
        "      <td>   (5.77082947775, 1.226209033e-08)</td>\n",
        "      <td>                          (0.0, 1.0)</td>\n",
        "      <td>   (-0.737638663494, 0.461040828196)</td>\n",
        "    </tr>\n",
        "    <tr>\n",
        "      <th>shuffled_row_2_3_pairs1</th>\n",
        "      <td> (9.08809248336, 1.70037718266e-18)</td>\n",
        "      <td>    (1.69581626355, 0.0904047523793)</td>\n",
        "      <td>  (4.61622035334, 4.71577983424e-06)</td>\n",
        "      <td> (6.76619644031, 2.97507610195e-11)</td>\n",
        "      <td>    (0.737638663494, 0.461040828196)</td>\n",
        "      <td>                          (0.0, 1.0)</td>\n",
        "    </tr>\n",
        "  </tbody>\n",
        "</table>\n",
        "</div>"
       ],
       "metadata": {},
       "output_type": "pyout",
       "prompt_number": 30,
       "text": [
        "                                                  row23_ids  \\\n",
        "row23_ids                                        (0.0, 1.0)   \n",
        "fc_ids                   (8.19270765854, 1.38120643971e-15)   \n",
        "fw_ids                   (5.31476205298, 1.47243110149e-07)   \n",
        "wc_ids                    (2.96241209278, 0.00316491659111)   \n",
        "shuffled_row_2_3_pairs2   (8.0486485509, 4.97870410062e-15)   \n",
        "shuffled_row_2_3_pairs1  (9.08809248336, 1.70037718266e-18)   \n",
        "\n",
        "                                                      fc_ids  \\\n",
        "row23_ids                (-8.19270765854, 1.38120643971e-15)   \n",
        "fc_ids                                            (0.0, 1.0)   \n",
        "fw_ids                    (-3.17575324968, 0.00155776511238)   \n",
        "wc_ids                   (-5.56910449229, 3.61227126391e-08)   \n",
        "shuffled_row_2_3_pairs2     (0.837910682825, 0.402392215719)   \n",
        "shuffled_row_2_3_pairs1     (1.69581626355, 0.0904047523793)   \n",
        "\n",
        "                                                      fw_ids  \\\n",
        "row23_ids                (-5.31476205298, 1.47243110149e-07)   \n",
        "fc_ids                     (3.17575324968, 0.00155776511238)   \n",
        "fw_ids                                            (0.0, 1.0)   \n",
        "wc_ids                      (-2.46580295311, 0.013900790576)   \n",
        "shuffled_row_2_3_pairs2   (3.66270670217, 0.000270008851467)   \n",
        "shuffled_row_2_3_pairs1   (4.61622035334, 4.71577983424e-06)   \n",
        "\n",
        "                                                     wc_ids  \\\n",
        "row23_ids                (-2.96241209278, 0.00316491659111)   \n",
        "fc_ids                   (5.56910449229, 3.61227126391e-08)   \n",
        "fw_ids                      (2.46580295311, 0.013900790576)   \n",
        "wc_ids                                           (0.0, 1.0)   \n",
        "shuffled_row_2_3_pairs2    (5.77082947775, 1.226209033e-08)   \n",
        "shuffled_row_2_3_pairs1  (6.76619644031, 2.97507610195e-11)   \n",
        "\n",
        "                                     shuffled_row_2_3_pairs2  \\\n",
        "row23_ids                 (-8.0486485509, 4.97870410062e-15)   \n",
        "fc_ids                     (-0.837910682825, 0.402392215719)   \n",
        "fw_ids                   (-3.66270670217, 0.000270008851467)   \n",
        "wc_ids                     (-5.77082947775, 1.226209033e-08)   \n",
        "shuffled_row_2_3_pairs2                           (0.0, 1.0)   \n",
        "shuffled_row_2_3_pairs1     (0.737638663494, 0.461040828196)   \n",
        "\n",
        "                                     shuffled_row_2_3_pairs1  \n",
        "row23_ids                (-9.08809248336, 1.70037718266e-18)  \n",
        "fc_ids                     (-1.69581626355, 0.0904047523793)  \n",
        "fw_ids                   (-4.61622035334, 4.71577983424e-06)  \n",
        "wc_ids                   (-6.76619644031, 2.97507610195e-11)  \n",
        "shuffled_row_2_3_pairs2    (-0.737638663494, 0.461040828196)  \n",
        "shuffled_row_2_3_pairs1                           (0.0, 1.0)  "
       ]
      }
     ],
     "prompt_number": 30
    },
    {
     "cell_type": "code",
     "collapsed": false,
     "input": [
      "get_correlation_table(otu_table_L4, all_id_pairs)"
     ],
     "language": "python",
     "metadata": {},
     "outputs": [
      {
       "html": [
        "<div style=\"max-height:1000px;max-width:1500px;overflow:auto;\">\n",
        "<table border=\"1\" class=\"dataframe\">\n",
        "  <thead>\n",
        "    <tr style=\"text-align: right;\">\n",
        "      <th></th>\n",
        "      <th>row23_ids</th>\n",
        "      <th>fc_ids</th>\n",
        "      <th>fw_ids</th>\n",
        "      <th>wc_ids</th>\n",
        "      <th>shuffled_row_2_3_pairs2</th>\n",
        "      <th>shuffled_row_2_3_pairs1</th>\n",
        "    </tr>\n",
        "  </thead>\n",
        "  <tbody>\n",
        "    <tr>\n",
        "      <th>row23_ids</th>\n",
        "      <td>                         (0.0, 1.0)</td>\n",
        "      <td> (-8.89664347129, 5.80106412897e-18)</td>\n",
        "      <td> (-6.17315351985, 1.18271620587e-09)</td>\n",
        "      <td> (-3.53132720775, 0.00044299842618)</td>\n",
        "      <td> (-9.63584562574, 1.91309142495e-20)</td>\n",
        "      <td> (-10.7175978919, 1.60565853398e-24)</td>\n",
        "    </tr>\n",
        "    <tr>\n",
        "      <th>fc_ids</th>\n",
        "      <td> (8.89664347129, 5.80106412897e-18)</td>\n",
        "      <td>                          (0.0, 1.0)</td>\n",
        "      <td>    (3.07352452105, 0.0021947617194)</td>\n",
        "      <td> (5.67818989468, 1.97204486279e-08)</td>\n",
        "      <td>   (-2.11013267169, 0.0352326051521)</td>\n",
        "      <td>  (-3.07965361621, 0.00216077191132)</td>\n",
        "    </tr>\n",
        "    <tr>\n",
        "      <th>fw_ids</th>\n",
        "      <td> (6.17315351985, 1.18271620587e-09)</td>\n",
        "      <td>   (-3.07352452105, 0.0021947617194)</td>\n",
        "      <td>                          (0.0, 1.0)</td>\n",
        "      <td>   (2.72026389927, 0.0066790505282)</td>\n",
        "      <td>  (-4.7941372441, 2.02950099567e-06)</td>\n",
        "      <td> (-5.83862843398, 8.33657687488e-09)</td>\n",
        "    </tr>\n",
        "    <tr>\n",
        "      <th>wc_ids</th>\n",
        "      <td>  (3.53132720775, 0.00044299842618)</td>\n",
        "      <td> (-5.67818989468, 1.97204486279e-08)</td>\n",
        "      <td>   (-2.72026389927, 0.0066790505282)</td>\n",
        "      <td>                         (0.0, 1.0)</td>\n",
        "      <td> (-6.99562083816, 6.63633763394e-12)</td>\n",
        "      <td>  (-8.05395424793, 3.8879791888e-15)</td>\n",
        "    </tr>\n",
        "    <tr>\n",
        "      <th>shuffled_row_2_3_pairs2</th>\n",
        "      <td> (9.63584562574, 1.91309142495e-20)</td>\n",
        "      <td>    (2.11013267169, 0.0352326051521)</td>\n",
        "      <td>   (4.7941372441, 2.02950099567e-06)</td>\n",
        "      <td> (6.99562083816, 6.63633763394e-12)</td>\n",
        "      <td>                          (0.0, 1.0)</td>\n",
        "      <td>    (-0.794068253664, 0.42748966925)</td>\n",
        "    </tr>\n",
        "    <tr>\n",
        "      <th>shuffled_row_2_3_pairs1</th>\n",
        "      <td> (10.7175978919, 1.60565853398e-24)</td>\n",
        "      <td>   (3.07965361621, 0.00216077191132)</td>\n",
        "      <td>  (5.83862843398, 8.33657687488e-09)</td>\n",
        "      <td>  (8.05395424793, 3.8879791888e-15)</td>\n",
        "      <td>     (0.794068253664, 0.42748966925)</td>\n",
        "      <td>                          (0.0, 1.0)</td>\n",
        "    </tr>\n",
        "  </tbody>\n",
        "</table>\n",
        "</div>"
       ],
       "metadata": {},
       "output_type": "pyout",
       "prompt_number": 31,
       "text": [
        "                                                  row23_ids  \\\n",
        "row23_ids                                        (0.0, 1.0)   \n",
        "fc_ids                   (8.89664347129, 5.80106412897e-18)   \n",
        "fw_ids                   (6.17315351985, 1.18271620587e-09)   \n",
        "wc_ids                    (3.53132720775, 0.00044299842618)   \n",
        "shuffled_row_2_3_pairs2  (9.63584562574, 1.91309142495e-20)   \n",
        "shuffled_row_2_3_pairs1  (10.7175978919, 1.60565853398e-24)   \n",
        "\n",
        "                                                      fc_ids  \\\n",
        "row23_ids                (-8.89664347129, 5.80106412897e-18)   \n",
        "fc_ids                                            (0.0, 1.0)   \n",
        "fw_ids                     (-3.07352452105, 0.0021947617194)   \n",
        "wc_ids                   (-5.67818989468, 1.97204486279e-08)   \n",
        "shuffled_row_2_3_pairs2     (2.11013267169, 0.0352326051521)   \n",
        "shuffled_row_2_3_pairs1    (3.07965361621, 0.00216077191132)   \n",
        "\n",
        "                                                      fw_ids  \\\n",
        "row23_ids                (-6.17315351985, 1.18271620587e-09)   \n",
        "fc_ids                      (3.07352452105, 0.0021947617194)   \n",
        "fw_ids                                            (0.0, 1.0)   \n",
        "wc_ids                     (-2.72026389927, 0.0066790505282)   \n",
        "shuffled_row_2_3_pairs2    (4.7941372441, 2.02950099567e-06)   \n",
        "shuffled_row_2_3_pairs1   (5.83862843398, 8.33657687488e-09)   \n",
        "\n",
        "                                                     wc_ids  \\\n",
        "row23_ids                (-3.53132720775, 0.00044299842618)   \n",
        "fc_ids                   (5.67818989468, 1.97204486279e-08)   \n",
        "fw_ids                     (2.72026389927, 0.0066790505282)   \n",
        "wc_ids                                           (0.0, 1.0)   \n",
        "shuffled_row_2_3_pairs2  (6.99562083816, 6.63633763394e-12)   \n",
        "shuffled_row_2_3_pairs1   (8.05395424793, 3.8879791888e-15)   \n",
        "\n",
        "                                     shuffled_row_2_3_pairs2  \\\n",
        "row23_ids                (-9.63584562574, 1.91309142495e-20)   \n",
        "fc_ids                     (-2.11013267169, 0.0352326051521)   \n",
        "fw_ids                    (-4.7941372441, 2.02950099567e-06)   \n",
        "wc_ids                   (-6.99562083816, 6.63633763394e-12)   \n",
        "shuffled_row_2_3_pairs2                           (0.0, 1.0)   \n",
        "shuffled_row_2_3_pairs1      (0.794068253664, 0.42748966925)   \n",
        "\n",
        "                                     shuffled_row_2_3_pairs1  \n",
        "row23_ids                (-10.7175978919, 1.60565853398e-24)  \n",
        "fc_ids                    (-3.07965361621, 0.00216077191132)  \n",
        "fw_ids                   (-5.83862843398, 8.33657687488e-09)  \n",
        "wc_ids                    (-8.05395424793, 3.8879791888e-15)  \n",
        "shuffled_row_2_3_pairs2     (-0.794068253664, 0.42748966925)  \n",
        "shuffled_row_2_3_pairs1                           (0.0, 1.0)  "
       ]
      }
     ],
     "prompt_number": 31
    },
    {
     "cell_type": "code",
     "collapsed": false,
     "input": [
      "filtered_table = '../row_2_3_comps/output/row_23_filtered_800_table.biom'\n",
      "!filter_samples_from_otu_table.py -i $biom_table_800 -o $filtered_table -s \"Row:*,!None;Row:*,!na\" -m $mapping_file"
     ],
     "language": "python",
     "metadata": {},
     "outputs": []
    },
    {
     "cell_type": "code",
     "collapsed": false,
     "input": [
      "#get a list of all ids where the timepoint is greater than 10\n",
      "filtered_ids = [i for i in sample_ids_from_table if i.startswith('blank') != True]\n",
      "for i in filtered_ids:\n",
      "    try:\n",
      "        int(i.split('.')[3]) <= 10\n",
      "    except:\n",
      "        print i \n",
      "# new_filtered_ids = [i for i in filtered_ids if int(i.split('.')[3]) <= 10]"
     ],
     "language": "python",
     "metadata": {},
     "outputs": []
    },
    {
     "cell_type": "code",
     "collapsed": false,
     "input": [
      "map_df = pd.read_csv(mapping_file, sep='\\t', index_col='#SampleID')\n",
      "map_df.index.values"
     ],
     "language": "python",
     "metadata": {},
     "outputs": []
    },
    {
     "cell_type": "code",
     "collapsed": false,
     "input": [
      "sam_ids = map_df.index.values\n",
      "for i in sam_ids:\n",
      "    try:\n",
      "        int(i.split('.')[3]) <= 10\n",
      "    except:\n",
      "        print i"
     ],
     "language": "python",
     "metadata": {},
     "outputs": []
    },
    {
     "cell_type": "code",
     "collapsed": false,
     "input": [
      "!summarize_taxa_through_plots.py -i $filtered_table -c Row -o '../row_2_3_comps/output/tax_summs' -m $mapping_file -f"
     ],
     "language": "python",
     "metadata": {},
     "outputs": []
    },
    {
     "cell_type": "code",
     "collapsed": false,
     "input": [
      "int('F1F.3.Ca.020'.split('.')[3])"
     ],
     "language": "python",
     "metadata": {},
     "outputs": []
    },
    {
     "cell_type": "code",
     "collapsed": false,
     "input": [],
     "language": "python",
     "metadata": {},
     "outputs": []
    },
    {
     "cell_type": "code",
     "collapsed": false,
     "input": [
      "x = np.random.normal(7.5, 1, 1000)\n",
      "y = np.random.normal(8, 1, 1000)\n",
      "ttest_ind(x, y)"
     ],
     "language": "python",
     "metadata": {},
     "outputs": [
      {
       "metadata": {},
       "output_type": "pyout",
       "prompt_number": 153,
       "text": [
        "(-12.10376131797539, 1.3532310640666173e-32)"
       ]
      }
     ],
     "prompt_number": 153
    },
    {
     "cell_type": "markdown",
     "metadata": {},
     "source": [
      "Add this stuff to a github repo"
     ]
    },
    {
     "cell_type": "code",
     "collapsed": false,
     "input": [
      "tup = (1, 2)\n",
      "tup = list(tup)\n",
      "tup"
     ],
     "language": "python",
     "metadata": {},
     "outputs": [
      {
       "metadata": {},
       "output_type": "pyout",
       "prompt_number": 88,
       "text": [
        "[1, 2]"
       ]
      }
     ],
     "prompt_number": 88
    },
    {
     "cell_type": "code",
     "collapsed": false,
     "input": [],
     "language": "python",
     "metadata": {},
     "outputs": []
    }
   ],
   "metadata": {}
  }
 ]
}