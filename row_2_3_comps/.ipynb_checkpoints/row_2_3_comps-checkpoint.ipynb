{
 "metadata": {
  "name": "",
  "signature": "sha256:2e423c63e731ef0fd16daafd520d1405431a445db8358376cdbd0ece7c80d8c3"
 },
 "nbformat": 3,
 "nbformat_minor": 0,
 "worksheets": [
  {
   "cells": [
    {
     "cell_type": "code",
     "collapsed": false,
     "input": [
      "from __future__ import division\n",
      "\n",
      "import pandas as pd\n",
      "from biom import load_table\n",
      "import numpy as np\n",
      "from scipy.stats import ttest_ind, spearmanr, pearsonr\n",
      "from skbio import DistanceMatrix"
     ],
     "language": "python",
     "metadata": {},
     "outputs": [],
     "prompt_number": 7
    },
    {
     "cell_type": "code",
     "collapsed": false,
     "input": [
      "biom_table = '/Users/jc33/google_drive/thesis/thesis/analyses/otu_table_mc2_w_tax_no_pynast_failures.biom'\n",
      "biom_table_800 = '/Users/jc33/google_drive/thesis/thesis/analyses/otu_table_mc2_w_tax_no_pynast_failures_mc800.biom'\n",
      "mapping_file = '/Users/jc33/google_drive/thesis/thesis/analyses/thesis_analyses/master_period_1-2-3_map_5182014.txt'"
     ],
     "language": "python",
     "metadata": {},
     "outputs": [],
     "prompt_number": 8
    },
    {
     "cell_type": "markdown",
     "metadata": {},
     "source": [
      "Steps to take \n",
      "-------------\n",
      "1. get the list of sample ids from the whole mapping file.\n",
      "2. get a list of all of the row 2 ids from mapping file.\n",
      "\n",
      "3. filter the otu table to 800\n",
      "4. Get the ids from the otu table\n",
      "\n",
      "5. loop through the row 2 ids, if that id is in the list of otu table for both row 2 and 3 keep both rows in a new list. Otherwise discard both\n",
      "\n",
      "6. compute correlation for pairs of ids\n",
      "\n",
      "7. compute correlation \n",
      "\n",
      "\n",
      "\n",
      "\n",
      "6. create distance full distance matrix \n",
      "\n",
      "7. filter distance matrix to only include paired samples\n"
     ]
    },
    {
     "cell_type": "markdown",
     "metadata": {},
     "source": [
      "Begin Function Definitions\n",
      "=========================="
     ]
    },
    {
     "cell_type": "code",
     "collapsed": false,
     "input": [
      "#Define a function that will return paired ids based on some criteria\n",
      "#loop through the ids, if that id is in the list of otu table for both pairs keep both rows in a new list. \n",
      "#Otherwise discard both\n",
      "\n",
      "def get_paired_ids(sample_ids, pair_index, pair1_val, pair2_val):\n",
      "    '''Pair value will be the value from the IDs to ignore. The ids returned will be identical\n",
      "    except for that character'''\n",
      "    first_pairs = [i for i in sample_ids if i[pair_index] == pair1_val]\n",
      "    if len(first_pairs) != len(set(first_pairs)):\n",
      "        print \"Warning duplicate single ids found, check id list!\" \n",
      "    paired_ids = []\n",
      "    for first_pair in first_pairs:\n",
      "        second_pair = (first_pair[:pair_index] + pair2_val + first_pair[(pair_index + 1):])\n",
      "        pairs = []\n",
      "        if first_pair in sample_ids and  second_pair in sample_ids:\n",
      "            pairs.append(first_pair)\n",
      "            pairs.append(second_pair)\n",
      "            paired_ids.append(pairs)\n",
      "        else: \n",
      "            pass\n",
      "    return paired_ids"
     ],
     "language": "python",
     "metadata": {},
     "outputs": [],
     "prompt_number": 1
    },
    {
     "cell_type": "code",
     "collapsed": false,
     "input": [
      "#define a function that takes an otu table and paired ids and returns the rho values for each\n",
      "def spearman_dist(otu_table, ids):\n",
      "    r_vals = []\n",
      "    for i in ids:\n",
      "        rho, p_val = spearmanr(otu_table.data(i[0], axis='sample'), otu_table.data(i[1], axis='sample'))\n",
      "        r_vals.append(rho)\n",
      "    return r_vals"
     ],
     "language": "python",
     "metadata": {},
     "outputs": [],
     "prompt_number": 2
    },
    {
     "cell_type": "code",
     "collapsed": false,
     "input": [
      "def get_paired_differences(dm, sample_id_pairs_1, sample_id_pairs_2):\n",
      "    distances_1 = [dm.filter(i)[0][1] for i in sample_id_pairs_1]\n",
      "    distances_2 = [dm.filter(i)[0][1] for i in sample_id_pairs_2]\n",
      "    test_stat, p_value = ttest_ind(distances_1, distances_2)\n",
      "    return test_stat/2, p_value/2 "
     ],
     "language": "python",
     "metadata": {},
     "outputs": [],
     "prompt_number": 3
    },
    {
     "cell_type": "code",
     "collapsed": false,
     "input": [
      "#Function to shuffle the sample ids\n",
      "def get_shuffled_ids(sample_ids):\n",
      "    ids1, ids2 = zip(*sample_ids)\n",
      "    ids1 = list(ids1)\n",
      "    ids2 = list(ids2)\n",
      "    np.random.shuffle(ids1)\n",
      "    np.random.shuffle(ids2)\n",
      "    shuffled_ids = [i for i in zip(ids1, ids2)]\n",
      "    return shuffled_ids"
     ],
     "language": "python",
     "metadata": {},
     "outputs": [],
     "prompt_number": 4
    },
    {
     "cell_type": "code",
     "collapsed": false,
     "input": [
      "def get_distance_table(dm, all_ids, all_ids_values):\n",
      "    dictionary = dict(zip(all_ids, all_ids_values))\n",
      "    distances_df = pd.DataFrame(index=all_ids, columns=all_ids)\n",
      "    for i in keys:\n",
      "        for j in keys:\n",
      "            difference = get_paired_differences(dm, dictionary[i], dictionary[j])\n",
      "            distances_df[i][j] = difference\n",
      "\n",
      "    return distances_df"
     ],
     "language": "python",
     "metadata": {},
     "outputs": [],
     "prompt_number": 5
    },
    {
     "cell_type": "markdown",
     "metadata": {},
     "source": [
      "End Function Definitions\n",
      "======================="
     ]
    },
    {
     "cell_type": "code",
     "collapsed": false,
     "input": [
      "#Filter the full table to not include any samples with less than 800 samples. \n",
      "!filter_samples_from_otu_table.py -i $biom_table -n 800 -o $biom_table_800 "
     ],
     "language": "python",
     "metadata": {},
     "outputs": [
      {
       "output_type": "stream",
       "stream": "stdout",
       "text": [
        "^C\r\n"
       ]
      }
     ],
     "prompt_number": 81
    },
    {
     "cell_type": "code",
     "collapsed": false,
     "input": [
      "#Get the ids from the otu table\n",
      "otu_table_800 = load_table(biom_table_800)\n",
      "sample_ids_from_table = otu_table_800.ids()"
     ],
     "language": "python",
     "metadata": {},
     "outputs": [],
     "prompt_number": 9
    },
    {
     "cell_type": "code",
     "collapsed": false,
     "input": [
      "all_id_pairs = {}"
     ],
     "language": "python",
     "metadata": {},
     "outputs": [],
     "prompt_number": 10
    },
    {
     "cell_type": "code",
     "collapsed": false,
     "input": [
      "#get row 2 and 3 paired_ids\n",
      "row23_ids = get_paired_ids(sample_ids_from_table, 4, '2', '3')\n",
      "all_id_pairs['row23_ids'] = [row23_ids]"
     ],
     "language": "python",
     "metadata": {},
     "outputs": [],
     "prompt_number": 11
    },
    {
     "cell_type": "code",
     "collapsed": false,
     "input": [
      "# get floor and ceiling pairs\n",
      "fc_ids = get_paired_ids(sample_ids_from_table, 2, 'F', 'C')\n",
      "all_id_pairs['fc_ids'] = fc_ids"
     ],
     "language": "python",
     "metadata": {},
     "outputs": [],
     "prompt_number": 12
    },
    {
     "cell_type": "code",
     "collapsed": false,
     "input": [
      "#get floor wall pairs\n",
      "fw_ids = get_paired_ids(sample_ids_from_table, 2, 'F', 'W')\n",
      "all_id_pairs['fw_ids'] = fw_ids"
     ],
     "language": "python",
     "metadata": {},
     "outputs": [],
     "prompt_number": 13
    },
    {
     "cell_type": "code",
     "collapsed": false,
     "input": [
      "#get wall ceiling pairs\n",
      "wc_ids = get_paired_ids(sample_ids_from_table, 2, 'W', 'C')\n",
      "all_id_pairs['wc_ids'] = wc_ids"
     ],
     "language": "python",
     "metadata": {},
     "outputs": [],
     "prompt_number": 18
    },
    {
     "cell_type": "code",
     "collapsed": false,
     "input": [
      "# First collapse the otu table by Level\n",
      "L3_biom_table = \"../level_3_table\"\n",
      "!summarize_taxa.py -i $biom_table_800 -o $L3_biom_table -L 3\n"
     ],
     "language": "python",
     "metadata": {},
     "outputs": []
    },
    {
     "cell_type": "code",
     "collapsed": false,
     "input": [
      "shuffled_row_2_3_pairs1 = get_shuffled_ids(row23_ids)\n",
      "shuffled_row_2_3_pairs2 = get_shuffled_ids(row23_ids)\n",
      "all_id_pairs['shuffled_row_2_3_pairs1'] = shuffled_row_2_3_pairs1\n",
      "all_id_pairs['shuffled_row_2_3_pairs2'] = shuffled_row_2_3_pairs2"
     ],
     "language": "python",
     "metadata": {},
     "outputs": []
    },
    {
     "cell_type": "code",
     "collapsed": false,
     "input": [
      "otu_table_L3 = load_table('../level_3_table/otu_table_mc2_w_tax_no_pynast_failures_mc800_L3.biom')"
     ],
     "language": "python",
     "metadata": {},
     "outputs": []
    },
    {
     "cell_type": "markdown",
     "metadata": {},
     "source": [
      "Same as above with L4\n",
      "-------------------"
     ]
    },
    {
     "cell_type": "code",
     "collapsed": false,
     "input": [
      "# First collapse the otu table by Level\n",
      "L4_biom_table = \"../level_4_table\"\n",
      "!summarize_taxa.py -i $biom_table_800 -o $L4_biom_table -L 4"
     ],
     "language": "python",
     "metadata": {},
     "outputs": []
    },
    {
     "cell_type": "code",
     "collapsed": false,
     "input": [
      "otu_table_L4 = load_table('../level_4_table/otu_table_mc2_w_tax_no_pynast_failures_mc800_L4.biom')"
     ],
     "language": "python",
     "metadata": {},
     "outputs": []
    },
    {
     "cell_type": "code",
     "collapsed": false,
     "input": [
      "#create distance full distance matrix\n",
      "!beta_diversity.py -i '../otu_table_mc2_w_tax_no_pynast_failures_mc800.biom' -t '../rep_set.tre' -o './'"
     ],
     "language": "python",
     "metadata": {},
     "outputs": []
    },
    {
     "cell_type": "code",
     "collapsed": false,
     "input": [
      "# Load the distance matrices\n",
      "weighted_dm_fp = '../row_2_3_comps/weighted_unifrac_otu_table_mc2_w_tax_no_pynast_failures_mc800.txt'\n",
      "weighted_dm = DistanceMatrix.from_file(weighted_dm_fp, delimiter='\\t')\n",
      "unweighted_dm_fp = '../row_2_3_comps/unweighted_unifrac_otu_table_mc2_w_tax_no_pynast_failures_mc800.txt'\n",
      "unweighted_dm = DistanceMatrix.from_file(unweighted_dm_fp, delimiter='\\t')"
     ],
     "language": "python",
     "metadata": {},
     "outputs": []
    },
    {
     "cell_type": "markdown",
     "metadata": {},
     "source": [
      "Create data frame of various values so I can have a table of comparisons. Create one for correlations and one for distances\n",
      "-------------------------------------"
     ]
    },
    {
     "cell_type": "code",
     "collapsed": false,
     "input": [
      "values = [cf_ids, wf_ids, wc_ids, row23_ids, shuffled_row23_ids1, shuffled_row23_ids2]\n",
      "keys = ['cf_ids', 'wf_ids', 'wc_ids', 'row23_ids', 'shuffled_row23_ids1', 'shuffled_row23_ids2']"
     ],
     "language": "python",
     "metadata": {},
     "outputs": []
    },
    {
     "cell_type": "code",
     "collapsed": false,
     "input": [
      "get_distance_table(weighted_dm, keys, values)"
     ],
     "language": "python",
     "metadata": {},
     "outputs": []
    },
    {
     "cell_type": "code",
     "collapsed": false,
     "input": [
      "get_distance_table(unweighted_dm, keys, values)"
     ],
     "language": "python",
     "metadata": {},
     "outputs": []
    },
    {
     "cell_type": "code",
     "collapsed": false,
     "input": [
      "def get_correlation_table(otu_table, all_ids, all_id_values):\n",
      "    rho_values = [spearman_dist(otu_table, i) for i in all_id_values]\n",
      "    dictionary = dict(zip(all_ids, rho_values))\n",
      "    distances_df = pd.DataFrame(index=all_ids, columns=all_ids)\n",
      "    for i in all_ids:\n",
      "        for j in all_ids:\n",
      "            difference = ttest_ind(dictionary[i], dictionary[j])\n",
      "            distances_df[i][j] = difference\n",
      "\n",
      "    return distances_df"
     ],
     "language": "python",
     "metadata": {},
     "outputs": []
    },
    {
     "cell_type": "code",
     "collapsed": false,
     "input": [
      "get_correlation_table(otu_table_L3, keys, values)"
     ],
     "language": "python",
     "metadata": {},
     "outputs": []
    },
    {
     "cell_type": "code",
     "collapsed": false,
     "input": [
      "get_correlation_table(otu_table_L4, keys, values)"
     ],
     "language": "python",
     "metadata": {},
     "outputs": []
    },
    {
     "cell_type": "code",
     "collapsed": false,
     "input": [],
     "language": "python",
     "metadata": {},
     "outputs": [],
     "prompt_number": 162
    },
    {
     "cell_type": "code",
     "collapsed": false,
     "input": [],
     "language": "python",
     "metadata": {},
     "outputs": []
    },
    {
     "cell_type": "code",
     "collapsed": false,
     "input": [],
     "language": "python",
     "metadata": {},
     "outputs": []
    },
    {
     "cell_type": "code",
     "collapsed": false,
     "input": [
      "ids_to_filter = open('ids_to_filter', 'w')\n",
      "for i in row23_ids:\n",
      "    ids_to_filter.write(i[0])\n",
      "    ids_to_filter.write('\\n')\n",
      "    ids_to_filter.write(i[1])\n",
      "    ids_to_filter.write('\\n')\n",
      "ids_to_filter.close()"
     ],
     "language": "python",
     "metadata": {},
     "outputs": [],
     "prompt_number": 152
    },
    {
     "cell_type": "code",
     "collapsed": false,
     "input": [
      "x = np.random.normal(7.5, 1, 1000)\n",
      "y = np.random.normal(8, 1, 1000)\n",
      "ttest_ind(x, y)"
     ],
     "language": "python",
     "metadata": {},
     "outputs": [
      {
       "metadata": {},
       "output_type": "pyout",
       "prompt_number": 153,
       "text": [
        "(-12.10376131797539, 1.3532310640666173e-32)"
       ]
      }
     ],
     "prompt_number": 153
    },
    {
     "cell_type": "markdown",
     "metadata": {},
     "source": [
      "Add this stuff to a github repo"
     ]
    },
    {
     "cell_type": "code",
     "collapsed": false,
     "input": [
      "tup = (1, 2)\n",
      "tup = list(tup)\n",
      "tup"
     ],
     "language": "python",
     "metadata": {},
     "outputs": [
      {
       "metadata": {},
       "output_type": "pyout",
       "prompt_number": 88,
       "text": [
        "[1, 2]"
       ]
      }
     ],
     "prompt_number": 88
    },
    {
     "cell_type": "code",
     "collapsed": false,
     "input": [],
     "language": "python",
     "metadata": {},
     "outputs": []
    }
   ],
   "metadata": {}
  }
 ]
}