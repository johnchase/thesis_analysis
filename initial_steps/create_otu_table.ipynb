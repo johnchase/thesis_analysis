{
 "metadata": {
  "name": "",
  "signature": "sha256:253fd43d232f278705b6d67e500013b9bff23187c14ef271aa6c644f5af5952e"
 },
 "nbformat": 3,
 "nbformat_minor": 0,
 "worksheets": [
  {
   "cells": [
    {
     "cell_type": "markdown",
     "metadata": {},
     "source": [
      "split libraries\n",
      "============"
     ]
    },
    {
     "cell_type": "markdown",
     "metadata": {},
     "source": [
      "srun split_libraries_fastq.py -i /scratch/jc33/run_1_fastqs/period_1_fastqs/Undetermined_S0_L001_R1_001.fastq,/scratch/jc33/run_2_fastqs/Undetermined_S0_L001_R1_001.fastq -m /scratch/jc33/office_map_barcode_data_only_corrected2.txt,/scratch/jc33/second_run_corrected_map.txt -o split_lib_out --barcode_type 12 -b /scratch/jc33/run_1_fastqs/period_1_fastqs/Undetermined_S0_L001_I1_001.fastq,/scratch/jc33/run_2_fastqs/Undetermined_S0_L001_I1_001.fastq --rev_comp_mapping_barcodes"
     ]
    },
    {
     "cell_type": "markdown",
     "metadata": {},
     "source": [
      "md5 sums\n",
      "--------\n",
      "Input file paths run 1\n",
      "-----------------\n",
      "\n",
      "Mapping filepath: /scratch/jc33/office_map_barcode_data_only_corrected2.txt (md5: d124e9012a2146ddbf89bd4622c780dd)\n",
      "\n",
      "Sequence read filepath: /scratch/jc33/run_1_fastqs/period_1_fastqs/Undetermined_S0_L001_R1_001.fastq (md5: 74d717196aebf8a225a3188a5cb7e6c3)\n",
      "\n",
      "Barcode read filepath: /scratch/jc33/run_1_fastqs/period_1_fastqs/Undetermined_S0_L001_I1_001.fastq (md5: d51b12f7a9f5fac37c700cc8794ac2d1)  \n",
      "\n",
      "\n",
      "  \n",
      "  \n",
      "Input file paths  \n",
      "----------------\n",
      "\n",
      "Mapping filepath: /scratch/jc33/second_run_corrected_map.txt (md5: e9051d1bcdb112642cd8be9639e4f768)  \n",
      "\n",
      "Sequence read filepath: /scratch/jc33/run_2_fastqs/Undetermined_S0_L001_R1_001.fastq (md5: b5b367dbf9bf0485ef56264c15c207bb) \n",
      "\n",
      "Barcode read filepath: /scratch/jc33/run_2_fastqs/Undetermined_S0_L001_I1_001.fastq (md5: 769ebd74fedb7e66bc1b66670132e07e)"
     ]
    },
    {
     "cell_type": "markdown",
     "metadata": {},
     "source": []
    },
    {
     "cell_type": "code",
     "collapsed": false,
     "input": [],
     "language": "python",
     "metadata": {},
     "outputs": []
    }
   ],
   "metadata": {}
  }
 ]
}