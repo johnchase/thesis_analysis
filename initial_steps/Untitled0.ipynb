{
 "metadata": {
  "name": "",
  "signature": "sha256:9663b2c061eb4668af3a121b13aadbecfb893f035983c9059eabb8006ac1e8fb"
 },
 "nbformat": 3,
 "nbformat_minor": 0,
 "worksheets": [
  {
   "cells": [
    {
     "cell_type": "code",
     "collapsed": false,
     "input": [
      "srun split_libraries_fastq.py -i /scratch/jc33/run_1_fastqs/period_1_fastqs/Undetermined_S0_L001_R1_001.fastq -m /scratch/jc33/office_map_barcode_data_only_corrected2.txt -o split_lib_out --barcode_type 12 -b /scratch/jc33/run_1_fastqs/period_1_fastqs/Undetermined_S0_L001_I1_001.fastq --rev_comp_mapping_barcodes"
     ],
     "language": "python",
     "metadata": {},
     "outputs": []
    }
   ],
   "metadata": {}
  }
 ]
}