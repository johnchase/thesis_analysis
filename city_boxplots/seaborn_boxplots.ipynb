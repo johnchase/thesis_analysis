{
 "metadata": {
  "name": "",
  "signature": "sha256:de2c0912b26afdf0bf9f1912acd41455b60de3cad10c3e2fda4e0a46f4a31db7"
 },
 "nbformat": 3,
 "nbformat_minor": 0,
 "worksheets": [
  {
   "cells": [
    {
     "cell_type": "code",
     "collapsed": false,
     "input": [
      "import pandas as pd\n",
      "import numpy as np\n",
      "import matplotlib.pyplot as plt\n",
      "from skbio import DistanceMatrix\n",
      "import seaborn as sns"
     ],
     "language": "python",
     "metadata": {},
     "outputs": [
      {
       "output_type": "stream",
       "stream": "stderr",
       "text": [
        "/Users/jc33/.virtualenvs/pandas/lib/python2.7/site-packages/matplotlib/__init__.py:1155: UserWarning:  This call to matplotlib.use() has no effect\n",
        "because the backend has already been chosen;\n",
        "matplotlib.use() must be called *before* pylab, matplotlib.pyplot,\n",
        "or matplotlib.backends is imported for the first time.\n",
        "\n",
        "  warnings.warn(_use_error_msg)\n"
       ]
      }
     ],
     "prompt_number": 1
    },
    {
     "cell_type": "code",
     "collapsed": false,
     "input": [
      "#Load the mapping file\n",
      "mapping_file = '/Users/jc33/google_drive/thesis/analysis/files/initial_steps/mapping_files/periods1-2-3_all_data_barcodes_map141108.txt'\n",
      "map_df = pd.read_csv(mapping_file, sep='\\t', index_col=0)"
     ],
     "language": "python",
     "metadata": {},
     "outputs": [],
     "prompt_number": 2
    },
    {
     "cell_type": "code",
     "collapsed": false,
     "input": [
      "map_df['PlateLocationSeason'] = map_df['PlateLocation'] + '_' + map_df['Season']"
     ],
     "language": "python",
     "metadata": {},
     "outputs": [],
     "prompt_number": 3
    },
    {
     "cell_type": "code",
     "collapsed": false,
     "input": [
      "weighted_dm_fp = '/Users/jc33/google_drive/thesis/analysis/files/initial_steps/core_div_out/bdiv_even5000/weighted_unifrac_dm.txt'\n",
      "unweighted_dm_fp = '/Users/jc33/google_drive/thesis/analysis/files/initial_steps/core_div_out/bdiv_even5000/unweighted_unifrac_dm.txt'\n",
      "\n",
      "# weighted_dm = DistanceMatrix.read(weighted_dm_fp, delimiter='\\t')\n",
      "dm = DistanceMatrix.read(unweighted_dm_fp)"
     ],
     "language": "python",
     "metadata": {},
     "outputs": [],
     "prompt_number": 4
    },
    {
     "cell_type": "code",
     "collapsed": false,
     "input": [
      "dm_ids = dm.ids\n",
      "map_ids = map_df.index\n",
      "master_ids = map_ids.intersection(dm_ids)\n",
      "dm = dm.filter(master_ids)\n",
      "df = map_df.ix[master_ids]\n",
      "dm_df = pd.DataFrame(dm.data, index=dm.ids, columns=dm.ids)\n"
     ],
     "language": "python",
     "metadata": {},
     "outputs": [],
     "prompt_number": 5
    },
    {
     "cell_type": "code",
     "collapsed": false,
     "input": [
      "#stack the series and filter out the duplicates \n",
      "dm_series = dm_df.stack()\n",
      "seen =  set()\n",
      "for id_pair in dm_series.index.tolist():\n",
      "    if id_pair[::-1] in seen:\n",
      "        continue\n",
      "    seen.add(id_pair)\n",
      "\n",
      "    \n",
      "seen = list(seen)\n",
      "seen.sort()\n",
      "seen\n",
      "dm_series = dm_series[seen]\n"
     ],
     "language": "python",
     "metadata": {},
     "outputs": [],
     "prompt_number": 6
    },
    {
     "cell_type": "code",
     "collapsed": false,
     "input": [
      "stack_df = pd.DataFrame(dm_series)\n",
      "stack_df.columns = ['dist']\n",
      "re_stack_df = stack_df.reset_index()"
     ],
     "language": "python",
     "metadata": {},
     "outputs": [],
     "prompt_number": 7
    },
    {
     "cell_type": "code",
     "collapsed": false,
     "input": [
      "def add_combined_cols(map_df, stack_dm, headers):\n",
      "    re_stack_df = stack_dm.reset_index()\n",
      "    paired_ids = zip(re_stack_df['level_1'], re_stack_df['level_0'])\n",
      "    for header in headers:\n",
      "        print header\n",
      "        within_header = 'Within%s' % header\n",
      "        col_data = []\n",
      "        within_data = []\n",
      "        for paired_id in paired_ids:\n",
      "            try:\n",
      "                if map_df[header][paired_id[0]] == map_df[header][paired_id[1]]:\n",
      "                    col_data.append(map_df[header][paired_id[0]])\n",
      "                    within_data.append('within')\n",
      "                else:\n",
      "                    col_data.append('between')\n",
      "                    within_data.append('between')\n",
      "            except:\n",
      "                col_data.append(np.nan)\n",
      "                within_data.append(np.nan)\n",
      "        stack_dm[header] = col_data\n",
      "        stack_dm[within_header] = within_data\n",
      "    return stack_df"
     ],
     "language": "python",
     "metadata": {},
     "outputs": [],
     "prompt_number": 8
    },
    {
     "cell_type": "code",
     "collapsed": false,
     "input": [
      "headers = ['City', 'PlateLocation', 'Season', 'PlateLocationSeason', 'Row']\n",
      "new_stack_df = add_combined_cols(map_df, stack_df, headers)"
     ],
     "language": "python",
     "metadata": {},
     "outputs": [
      {
       "output_type": "stream",
       "stream": "stdout",
       "text": [
        "City\n",
        "PlateLocation"
       ]
      },
      {
       "output_type": "stream",
       "stream": "stdout",
       "text": [
        "\n",
        "Season"
       ]
      },
      {
       "output_type": "stream",
       "stream": "stdout",
       "text": [
        "\n",
        "PlateLocationSeason"
       ]
      },
      {
       "output_type": "stream",
       "stream": "stdout",
       "text": [
        "\n",
        "Row"
       ]
      },
      {
       "output_type": "stream",
       "stream": "stdout",
       "text": [
        "\n"
       ]
      }
     ],
     "prompt_number": 9
    },
    {
     "cell_type": "code",
     "collapsed": false,
     "input": [
      "new_stack_df = new_stack_df[new_stack_df['dist'] != 0]\n"
     ],
     "language": "python",
     "metadata": {},
     "outputs": [],
     "prompt_number": 10
    },
    {
     "cell_type": "code",
     "collapsed": false,
     "input": [
      "fig = sns.boxplot(new_stack_df.dist, new_stack_df.WithinRow)\n",
      "fig.set_ylabel('Distance')\n",
      "fig.set_xlabel('')\n",
      "plt.savefig('unweighted_row_plots', dpi=300)"
     ],
     "language": "python",
     "metadata": {},
     "outputs": [
      {
       "metadata": {},
       "output_type": "display_data",
       "png": "[encoded data removed]",
       "text": [
        "<matplotlib.figure.Figure at 0x110469510>"
       ]
      }
     ],
     "prompt_number": 11
    },
    {
     "cell_type": "code",
     "collapsed": false,
     "input": [],
     "language": "python",
     "metadata": {},
     "outputs": []
    }
   ],
   "metadata": {}
  }
 ]
}