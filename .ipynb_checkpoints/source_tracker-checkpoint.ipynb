{
 "metadata": {
  "name": "",
  "signature": "sha256:74c853b8a2208a9c7d4beb38ab3e214ed1861f7fd7c4232cf1ee51383c17b11e"
 },
 "nbformat": 3,
 "nbformat_minor": 0,
 "worksheets": [
  {
   "cells": [
    {
     "cell_type": "code",
     "collapsed": false,
     "input": [
      "%pylab inline\n",
      "import pandas as pd\n"
     ],
     "language": "python",
     "metadata": {},
     "outputs": [
      {
       "output_type": "stream",
       "stream": "stdout",
       "text": [
        "Populating the interactive namespace from numpy and matplotlib\n"
       ]
      }
     ],
     "prompt_number": 4
    },
    {
     "cell_type": "code",
     "collapsed": false,
     "input": [
      "%load_ext rmagic"
     ],
     "language": "python",
     "metadata": {},
     "outputs": [],
     "prompt_number": 5
    },
    {
     "cell_type": "code",
     "collapsed": false,
     "input": [
      "!R --slave --vanilla --args -h < $SOURCETRACKER_PATH/sourcetracker_for_qiime.r"
     ],
     "language": "python",
     "metadata": {},
     "outputs": [
      {
       "output_type": "stream",
       "stream": "stdout",
       "text": [
        "\r\n",
        "-i otu table: QIIME-formatted OTU table (first line is a comment line starting with '#', second line starts with '#OTU ID' followed by sample names). You must supply either this or the taxon table via '-t'.\r\n",
        "-t taxon table: output from QIIME script summarize_taxa.py. You must supply either this or the otu table via '-i'.\r\n",
        "-m mapfile: mapping file with an 'Env' column giving the source environments, and a 'SourceSink' column giving 'source' for source samples and 'sink' for sink samples.\r\n",
        "-n number of restarts of Gibbs sampling (default 10)\r\n",
        "-b number of burn-in iterations for Gibbs sampling (default 100)\r\n",
        "-r rarefaction depth, 0 for none (default 1000)\r\n",
        "--train_rarefaction training data rarefaction depth, 0 for none (default 1000)\r\n",
        "-f sampleid_file, file containing list of samples to predict. Useful for parallel processing (default None).\r\n",
        "-o outdir: output directory; default is '.'\r\n",
        "-s predict source samples using leave-one-out predictions (default: FALSE)\r\n",
        "--alpha1 alpha1: Dirichlet hyperparameter for taxa/genes in known environments (default: 1e-3)\r\n",
        "--alpha2 alpha2: Dirichlet hyperparameter for taxa/genes in unknown environments (default: 1e-1)\r\n",
        "--beta beta: Dirichlet hyperparameter for mixture of environments (default: 1e-2)\r\n",
        "-R results file from previous run. If given, no predictions are made, only plotting and output files)\r\n",
        "--tune_alphas: tune_ntrials Tune alpha values using cross-validation on the training set with this many trials (suggest at least 25); (default: 0, no tuning)\r\n",
        "--color_ix: comma-separated list of color indices for alphabetical source environments\r\n",
        "--eval_fit: fit_ntrials Evaluate quality of fit to the data using simulations. Ignored if less than or equal to --tune_alpha ntrials (default: 0)\r\n",
        "-v: verbose output (default FALSE)\r\n",
        "\r\n"
       ]
      }
     ],
     "prompt_number": 4
    },
    {
     "cell_type": "code",
     "collapsed": false,
     "input": [
      "# !filter_otus_from_otu_table.py -i /Users/jc33/google_drive/thesis/analysis/files/initial_steps/otu_table_mc2_w_tax_no_pynast_failures.biom -o /Users/jc33/google_drive/thesis/analysis/files/initial_steps/otu_table_mc2_w_tax_no_pynast_failures_filtered_1.biom -s 13"
     ],
     "language": "python",
     "metadata": {},
     "outputs": [],
     "prompt_number": 5
    },
    {
     "cell_type": "code",
     "collapsed": false,
     "input": [
      "# !biom convert -i /Users/jc33/google_drive/thesis/analysis/files/initial_steps/otu_table_mc2_w_tax_no_pynast_failures_filtered_1.biom -o /Users/jc33/google_drive/thesis/analysis/files/initial_steps/otu_table_mc2_w_tax_no_pynast_failures_filtered_1.txt -b"
     ],
     "language": "python",
     "metadata": {},
     "outputs": [],
     "prompt_number": 6
    },
    {
     "cell_type": "code",
     "collapsed": false,
     "input": [
      "map_df = pd.read_csv('/Users/jc33/google_drive/thesis/analysis/files/initial_steps/mapping_files/periods1-2-3_all_data_barcodes_map141108.txt', sep='\\t', index_col=0)"
     ],
     "language": "python",
     "metadata": {},
     "outputs": [],
     "prompt_number": 41
    },
    {
     "cell_type": "code",
     "collapsed": false,
     "input": [
      "map_df = map_df.drop(['blankswab5', 'blankswab1', 'blankswab2', 'blankswab3' , 'blankswab4'])\n",
      "map_df.columns"
     ],
     "language": "python",
     "metadata": {},
     "outputs": [
      {
       "metadata": {},
       "output_type": "pyout",
       "prompt_number": 42,
       "text": [
        "Index([u'BarcodeSequence', u'LinkerPrimerSequence', u'DateOfCollection', u'TimeOfCollection', u'WeekDay', u'Notes', u'Cooler', u'Description', u'City', u'PlateLocation', u'Material', u'OfficeNumber', u'Row', u'Event', u'OfficeNumberPlateLocation', u'CityOfficeNumber', u'CityOfficeNumberLocation', u'DaysSinceEpoch', u'Period', u'Season'], dtype='object')"
       ]
      }
     ],
     "prompt_number": 42
    },
    {
     "cell_type": "code",
     "collapsed": false,
     "input": [
      "map_df = map_df[map_df['DaysSinceEpoch'] != 'no_data']\n"
     ],
     "language": "python",
     "metadata": {},
     "outputs": [],
     "prompt_number": 44
    },
    {
     "cell_type": "code",
     "collapsed": false,
     "input": [
      "map_df[(map_df['City'] == 'toronto') & (map_df['Event'] == 1)]"
     ],
     "language": "python",
     "metadata": {},
     "outputs": [
      {
       "html": [
        "<div style=\"max-height:1000px;max-width:1500px;overflow:auto;\">\n",
        "<table border=\"1\" class=\"dataframe\">\n",
        "  <thead>\n",
        "    <tr style=\"text-align: right;\">\n",
        "      <th></th>\n",
        "      <th>BarcodeSequence</th>\n",
        "      <th>LinkerPrimerSequence</th>\n",
        "      <th>DateOfCollection</th>\n",
        "      <th>TimeOfCollection</th>\n",
        "      <th>WeekDay</th>\n",
        "      <th>Notes</th>\n",
        "      <th>Cooler</th>\n",
        "      <th>Description</th>\n",
        "      <th>City</th>\n",
        "      <th>PlateLocation</th>\n",
        "      <th>Material</th>\n",
        "      <th>OfficeNumber</th>\n",
        "      <th>Row</th>\n",
        "      <th>Event</th>\n",
        "      <th>OfficeNumberPlateLocation</th>\n",
        "      <th>CityOfficeNumber</th>\n",
        "      <th>CityOfficeNumberLocation</th>\n",
        "      <th>DaysSinceEpoch</th>\n",
        "      <th>Period</th>\n",
        "      <th>Season</th>\n",
        "    </tr>\n",
        "    <tr>\n",
        "      <th>#SampleID</th>\n",
        "      <th></th>\n",
        "      <th></th>\n",
        "      <th></th>\n",
        "      <th></th>\n",
        "      <th></th>\n",
        "      <th></th>\n",
        "      <th></th>\n",
        "      <th></th>\n",
        "      <th></th>\n",
        "      <th></th>\n",
        "      <th></th>\n",
        "      <th></th>\n",
        "      <th></th>\n",
        "      <th></th>\n",
        "      <th></th>\n",
        "      <th></th>\n",
        "      <th></th>\n",
        "      <th></th>\n",
        "      <th></th>\n",
        "      <th></th>\n",
        "    </tr>\n",
        "  </thead>\n",
        "  <tbody>\n",
        "  </tbody>\n",
        "</table>\n",
        "</div>"
       ],
       "metadata": {},
       "output_type": "pyout",
       "prompt_number": 45,
       "text": [
        "Empty DataFrame\n",
        "Columns: [BarcodeSequence, LinkerPrimerSequence, DateOfCollection, TimeOfCollection, WeekDay, Notes, Cooler, Description, City, PlateLocation, Material, OfficeNumber, Row, Event, OfficeNumberPlateLocation, CityOfficeNumber, CityOfficeNumberLocation, DaysSinceEpoch, Period, Season]\n",
        "Index: []"
       ]
      }
     ],
     "prompt_number": 45
    },
    {
     "cell_type": "code",
     "collapsed": false,
     "input": [],
     "language": "python",
     "metadata": {},
     "outputs": []
    }
   ],
   "metadata": {}
  }
 ]
}