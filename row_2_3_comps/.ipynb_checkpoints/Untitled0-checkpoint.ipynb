{
 "metadata": {
  "name": "",
  "signature": "sha256:849bca655c8ef1e5967024def7622bab75a895f91585d88004b5689823c308f4"
 },
 "nbformat": 3,
 "nbformat_minor": 0,
 "worksheets": [
  {
   "cells": [
    {
     "cell_type": "code",
     "collapsed": false,
     "input": [
      "from __future__ import division\n",
      "\n",
      "import pandas as pd\n",
      "from biom import load_table\n",
      "import numpy as np\n",
      "from scipy.stats import ttest_ind, spearmanr, pearsonr"
     ],
     "language": "python",
     "metadata": {},
     "outputs": [],
     "prompt_number": 56
    },
    {
     "cell_type": "code",
     "collapsed": false,
     "input": [
      "biom_table = '/Users/jc33/google_drive/thesis/thesis/analyses/otu_table_mc2_w_tax_no_pynast_failures.biom'\n",
      "biom_table_800 = '../otu_table_mc2_w_tax_no_pynast_failures_mc800.biom'\n",
      "mapping_file = '/Users/jc33/google_drive/thesis/thesis/analyses/master_period_1-2-3_map_5182014.txt'"
     ],
     "language": "python",
     "metadata": {},
     "outputs": [],
     "prompt_number": 58
    },
    {
     "cell_type": "markdown",
     "metadata": {},
     "source": [
      "Steps to take \n",
      "-------------\n",
      "1. get the list of sample ids from the whole mapping file.\n",
      "2. get a list of all of the row 2 ids from mapping file.\n",
      "\n",
      "3. filter the otu table to 800\n",
      "4. Get the ids from the otu table\n",
      "\n",
      "5. loop through the row 2 ids, if that id is in the list of otu table for both row 2 and 3 keep both rows in a new list. Otherwise discard both\n",
      "\n",
      "6. compute correlation for pairs of ids\n",
      "\n",
      "7. compute correlation \n",
      "\n",
      "\n",
      "\n",
      "\n",
      "6. create distance full distance matrix \n",
      "\n",
      "7. filter distance matrix to only include paired samples\n"
     ]
    },
    {
     "cell_type": "code",
     "collapsed": false,
     "input": [
      "#get the list of sample ids from the whole mapping file.\n",
      "map_df = pd.read_csv(mapping_file, sep='\\t', index_col='#SampleID')\n",
      "samp_ids = map_df.index.values\n"
     ],
     "language": "python",
     "metadata": {},
     "outputs": [],
     "prompt_number": 4
    },
    {
     "cell_type": "code",
     "collapsed": false,
     "input": [
      "#get a list of all of the row 2 ids from mapping file.\n",
      "row_2_ids = [i for i in samp_ids if i[4] == '2']"
     ],
     "language": "python",
     "metadata": {},
     "outputs": [],
     "prompt_number": 5
    },
    {
     "cell_type": "code",
     "collapsed": false,
     "input": [
      "#Filter the full table to not include any samples with less than 800 samples. \n",
      "!filter_samples_from_otu_table.py -i $biom_table -n 800 -o $biom_table_800 "
     ],
     "language": "python",
     "metadata": {},
     "outputs": []
    },
    {
     "cell_type": "code",
     "collapsed": false,
     "input": [
      "#Get the ids from the otu table\n",
      "\n",
      "otu_table = load_table(biom_table_800)\n",
      "sample_ids_from_table = otu_table.ids()"
     ],
     "language": "python",
     "metadata": {},
     "outputs": [],
     "prompt_number": 11
    },
    {
     "cell_type": "code",
     "collapsed": false,
     "input": [
      "#loop through the row 2 ids, if that id is in the list of otu table for both row 2 and 3 keep both rows in a new list. Otherwise discard both\n",
      "ids_to_keep = []\n",
      "for i in row_2_ids:\n",
      "    row_3 = (i[:4] + '3' + i[5:])\n",
      "    paired_ids = []\n",
      "    if i in sample_ids_from_table and  row_3 in sample_ids_from_table:\n",
      "        paired_ids.append(i)\n",
      "        paired_ids.append(row_3)\n",
      "        ids_to_keep.append(paired_ids)\n",
      "    else: \n",
      "        pass\n",
      "    \n",
      "print(len(ids_to_keep))\n",
      "print ids_to_keep[0]"
     ],
     "language": "python",
     "metadata": {},
     "outputs": [
      {
       "output_type": "stream",
       "stream": "stdout",
       "text": [
        "281\n",
        "['S1C.2.Ce.003', 'S1C.3.Ce.003']\n"
       ]
      }
     ],
     "prompt_number": 7
    },
    {
     "cell_type": "code",
     "collapsed": false,
     "input": [
      "#create distance full distance matrix\n",
      "!beta_diversity.py -i '../otu_table_mc2_w_tax_no_pynast_failures_mc800.biom' -t '../rep_set.tre' -o './'"
     ],
     "language": "python",
     "metadata": {},
     "outputs": [],
     "prompt_number": 99
    },
    {
     "cell_type": "code",
     "collapsed": false,
     "input": [
      "ids_to_filter = open('ids_to_filter', 'w')\n",
      "for i in ids_to_keep:\n",
      "    ids_to_filter.write(i[0])\n",
      "    ids_to_filter.write('\\n')\n",
      "    ids_to_filter.write(i[1])\n",
      "    ids_to_filter.write('\\n')\n",
      "ids_to_filter.close()"
     ],
     "language": "python",
     "metadata": {},
     "outputs": [],
     "prompt_number": 15
    },
    {
     "cell_type": "code",
     "collapsed": false,
     "input": [
      "row_2_3_rhos = []\n",
      "for i in ids_to_keep:\n",
      "    row_2 = otu_table.data(i[0], axis='sample')\n",
      "    row_3 = otu_table.data(i[1], axis='sample')\n",
      "    rho, p_val = spearmanr(row_2, row_3)\n",
      "    row_2_3_rhos.append(rho)\n",
      "    \n"
     ],
     "language": "python",
     "metadata": {},
     "outputs": [],
     "prompt_number": 25
    },
    {
     "cell_type": "markdown",
     "metadata": {},
     "source": [
      "now I need to get paired data for these same samples, but with floor and ceiling paired\n",
      "------------------------------\n"
     ]
    },
    {
     "cell_type": "code",
     "collapsed": false,
     "input": [
      "#get all the ceiling ids from map\n",
      "ceiling_ids = []\n",
      "for i in samp_ids:\n",
      "    if i[2] == 'C':\n",
      "        ceiling_ids.append(i)\n",
      "\n",
      "#if both the floor and celing ids are in the biom table keep them \n",
      "loc_ids_to_keep = []\n",
      "for i in ceiling_ids:\n",
      "    floor = (i[:2] + 'F' + i[3:])\n",
      "    paired_ids = []\n",
      "    if i in sample_ids_from_table and floor in sample_ids_from_table:\n",
      "        paired_ids.append(i)\n",
      "        paired_ids.append(floor)\n",
      "        loc_ids_to_keep.append(paired_ids)\n",
      "    else: \n",
      "        pass"
     ],
     "language": "python",
     "metadata": {},
     "outputs": [],
     "prompt_number": 24
    },
    {
     "cell_type": "code",
     "collapsed": false,
     "input": [
      "#calculate spearman for these\n",
      "def spearman_dist(otu_table, ids):\n",
      "    r_vals = []\n",
      "    for i in ids:\n",
      "        rho, p_val = spearmanr(otu_table.data(i[0], axis='sample'), otu_table.data(i[1], axis='sample'))\n",
      "        r_values.append(rho, p_val)\n",
      "    return r_vals"
     ],
     "language": "python",
     "metadata": {},
     "outputs": []
    },
    {
     "cell_type": "markdown",
     "metadata": {},
     "source": [
      "Next we get paired wall floor data\n",
      "-------------------------"
     ]
    },
    {
     "cell_type": "code",
     "collapsed": false,
     "input": [
      "#if both the floor and celing ids are in the biom table keep them \n",
      "wall_ceiling_ids_to_keep = []\n",
      "for i in ceiling_ids:\n",
      "    wall = (i[:2] + 'W' + i[3:])\n",
      "    paired_ids = []\n",
      "    if i in sample_ids_from_table and wall in sample_ids_from_table:\n",
      "        paired_ids.append(i)\n",
      "        paired_ids.append(wall)\n",
      "        wall_ceiling_ids_to_keep.append(paired_ids)\n",
      "    else: \n",
      "        pass\n",
      "\n",
      "#calculate spearman for these\n",
      "wall_ceiling_rhos = []\n",
      "for i in wall_ceiling_ids_to_keep:\n",
      "    ceiling = otu_table.data(i[0], axis='sample')\n",
      "    wall = otu_table.data(i[1], axis='sample')\n",
      "    rho, p_val = spearmanr(ceiling, wall)\n",
      "    wall_ceiling_rhos.append(rho)\n",
      "\n",
      "    "
     ],
     "language": "python",
     "metadata": {},
     "outputs": [],
     "prompt_number": 23
    },
    {
     "cell_type": "code",
     "collapsed": false,
     "input": [
      "#get all the ceiling ids from map\n",
      "wall_ids = []\n",
      "for i in samp_ids:\n",
      "    if i[2] == 'W':\n",
      "        wall_ids.append(i)\n",
      "\n",
      "#if both the floor and celing ids are in the biom table keep them \n",
      "wall_floor_ids_to_keep = []\n",
      "for i in wall_ids:\n",
      "    floor = (i[:2] + 'F' + i[3:])\n",
      "    paired_ids = []\n",
      "    if i in sample_ids_from_table and floor in sample_ids_from_table:\n",
      "        paired_ids.append(i)\n",
      "        paired_ids.append(floor)\n",
      "        wall_floor_ids_to_keep.append(paired_ids)\n",
      "    else: \n",
      "        pass\n",
      "\n",
      "#calculate spearman for these\n",
      "wall_floor_rhos = []\n",
      "for i in wall_floor_ids_to_keep:\n",
      "    wall = otu_table.data(i[0], axis='sample')\n",
      "    floor = otu_table.data(i[1], axis='sample')\n",
      "    rho, p_val = spearmanr(floor, wall)\n",
      "    wall_floor_rhos.append(rho)\n",
      "\n"
     ],
     "language": "python",
     "metadata": {},
     "outputs": [],
     "prompt_number": 47
    },
    {
     "cell_type": "markdown",
     "metadata": {},
     "source": [
      "Finally compare the correlations\n",
      "-----------"
     ]
    },
    {
     "cell_type": "code",
     "collapsed": false,
     "input": [
      "# T-test for these\n",
      "fc23_test_stat, fc23_p_value = ttest_ind(floor_ceiling_rhos, row_2_3_rhos)\n",
      "wc23_test_stat, wc23_p_value = ttest_ind(wall_ceiling_rhos, row_2_3_rhos)\n",
      "wf23_test_stat, wf23_p_value = ttest_ind(wall_floor_rhos, row_2_3_rhos)\n",
      "wcfc_test_stat, wcfc_p_value = ttest_ind(floor_ceiling_rhos, wall_ceiling_rhos)\n",
      "wffc_test_stat, wffc_p_value = ttest_ind(floor_ceiling_rhos, wall_floor_rhos)\n",
      "\n",
      "# We *think* (need to confirm) that negative t means that the distribution passed in first\n",
      "# has a lower mean r than the one passed in second.\n",
      "print np.mean(floor_ceiling_rhos), np.mean(row_2_3_rhos)\n",
      "print \"Floor and ceiling compared to rows 2 and 3 p-value: %f, %f\" % (fc23_test_stat, fc23_p_value)\n",
      "print \"Wall and ceiling compared to rows 2 and 3 p-value: %f, %f\" % (wc23_test_stat, wc23_p_value)\n",
      "print \"Wall and floor compared to rows 2 and 3 p-value: %f, %f\" % (wf23_test_stat, wf23_p_value)\n",
      "\n",
      "print \"Floor and ceiling compared to wall and ceiling p-value: %f, %f\" % (wcfc_test_stat, wcfc_p_value)\n",
      "print \"Floor and ceiling compared to wall and floor p-value: %f, %f\" % (wffc_test_stat, wffc_p_value)\n"
     ],
     "language": "python",
     "metadata": {},
     "outputs": [
      {
       "output_type": "stream",
       "stream": "stdout",
       "text": [
        "0.159438904186 0.18066114665\n",
        "Floor and ceiling compared to rows 2 and 3 p-value: -4.762870, 0.000002\n",
        "Wall and ceiling compared to rows 2 and 3 p-value: 3.388461, 0.000746\n",
        "Wall and floor compared to rows 2 and 3 p-value: -2.433933, 0.015208\n",
        "Floor and ceiling compared to wall and ceiling p-value: -8.494737, 0.000000\n",
        "Floor and ceiling compared to wall and floor p-value: -2.335595, 0.019786\n"
       ]
      }
     ],
     "prompt_number": 55
    },
    {
     "cell_type": "markdown",
     "metadata": {},
     "source": [
      "Further Steps\n",
      "----------\n",
      "collapse otu table at higher levels i.e. genus, fammily etc...\n",
      "\n",
      "Pull out the distances from the distance matrix to see if the same pairings are different or not.\n",
      "\n",
      "Look into data dryad for storing some of the larger files. biom table, mapping file, tree. \n",
      "\n",
      " "
     ]
    },
    {
     "cell_type": "code",
     "collapsed": false,
     "input": [
      "# First collapse the otu table by Level\n",
      "l3_biom_table = \"../level_3_table\"\n",
      "\n",
      "!summarize_taxa.py -i $biom_table_800 -o $l3_biom_table -L 3"
     ],
     "language": "python",
     "metadata": {},
     "outputs": []
    },
    {
     "cell_type": "code",
     "collapsed": false,
     "input": [],
     "language": "python",
     "metadata": {},
     "outputs": []
    }
   ],
   "metadata": {}
  }
 ]
}