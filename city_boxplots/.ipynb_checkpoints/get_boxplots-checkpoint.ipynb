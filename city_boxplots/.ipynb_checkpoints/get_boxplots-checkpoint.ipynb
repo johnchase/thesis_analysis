{
 "metadata": {
  "name": "",
  "signature": "sha256:5eb2032e68c648f4477712d2ed94154d8764d2c4ea80a8c20abc67ecd8650fa3"
 },
 "nbformat": 3,
 "nbformat_minor": 0,
 "worksheets": [
  {
   "cells": [
    {
     "cell_type": "code",
     "collapsed": false,
     "input": [
      "import pandas as pd\n",
      "import numpy as np\n",
      "import matplotlib.pyplot as plt\n",
      "import statsmodels.api as sm\n",
      "from os.path import join\n",
      "from skbio import DistanceMatrix\n",
      "import seaborn as sns"
     ],
     "language": "python",
     "metadata": {},
     "outputs": [],
     "prompt_number": 88
    },
    {
     "cell_type": "code",
     "collapsed": false,
     "input": [
      "#Load the mapping file\n",
      "map_df = pd.read_csv('/Users/jc33/google_drive/thesis/analysis/files/initial_steps/mapping_files/periods1-2-3_all_data_barcodes_map141108.txt', sep='\\t', index_col=0)"
     ],
     "language": "python",
     "metadata": {},
     "outputs": [],
     "prompt_number": 89
    },
    {
     "cell_type": "code",
     "collapsed": false,
     "input": [
      "map_df['PlateLocationSeason'] = map_df['PlateLocation'] + '_' + map_df['Season']"
     ],
     "language": "python",
     "metadata": {},
     "outputs": [],
     "prompt_number": 90
    },
    {
     "cell_type": "code",
     "collapsed": false,
     "input": [
      "weighted_dm_fp = '/Users/jc33/google_drive/thesis/analysis/files/initial_steps/core_div_out/bdiv_even5000/weighted_unifrac_dm.txt'\n",
      "# weighted_dm = DistanceMatrix.read(weighted_dm_fp, delimiter='\\t')\n",
      "dm = DistanceMatrix.read(weighted_dm_fp)"
     ],
     "language": "python",
     "metadata": {},
     "outputs": [],
     "prompt_number": 91
    },
    {
     "cell_type": "code",
     "collapsed": false,
     "input": [
      "dm_ids = dm.ids\n",
      "map_ids = map_df.index\n",
      "master_ids = map_ids.intersection(dm_ids)\n",
      "dm = dm.filter(master_ids)\n",
      "df = map_df.ix[master_ids]\n",
      "dm_df = pd.DataFrame(dm.data, index=dm.ids, columns=dm.ids)\n"
     ],
     "language": "python",
     "metadata": {},
     "outputs": [],
     "prompt_number": 92
    },
    {
     "cell_type": "code",
     "collapsed": false,
     "input": [
      "#stack the series and filter out the duplicates \n",
      "dm_series = dm_df.stack()\n",
      "seen =  set()\n",
      "for id_pair in dm_series.index.tolist():\n",
      "    if id_pair[::-1] in seen:\n",
      "        continue\n",
      "    seen.add(id_pair)\n",
      "\n",
      "    \n",
      "seen = list(seen)\n",
      "seen.sort()\n",
      "seen\n",
      "dm_series = dm_series[seen]\n"
     ],
     "language": "python",
     "metadata": {},
     "outputs": [],
     "prompt_number": 93
    },
    {
     "cell_type": "code",
     "collapsed": false,
     "input": [
      "stack_df = pd.DataFrame(dm_series)\n",
      "stack_df.columns = ['dist']\n",
      "re_stack_df = stack_df.reset_index()"
     ],
     "language": "python",
     "metadata": {},
     "outputs": [],
     "prompt_number": 94
    },
    {
     "cell_type": "code",
     "collapsed": false,
     "input": [
      "def add_combined_cols(map_df, stack_dm, headers):\n",
      "    re_stack_df = stack_dm.reset_index()\n",
      "    paired_ids = zip(re_stack_df['level_1'], re_stack_df['level_0'])\n",
      "    for header in headers:\n",
      "        print header\n",
      "        within_header = 'Within%s' % header\n",
      "        col_data = []\n",
      "        within_data = []\n",
      "        for paired_id in paired_ids:\n",
      "            try:\n",
      "                if map_df[header][paired_id[0]] == map_df[header][paired_id[1]]:\n",
      "                    col_data.append(map_df[header][paired_id[0]])\n",
      "                    within_data.append('within')\n",
      "                else:\n",
      "                    col_data.append('between')\n",
      "                    within_data.append('between')\n",
      "            except:\n",
      "                col_data.append(np.nan)\n",
      "                within_data.append(np.nan)\n",
      "        stack_dm[header] = col_data\n",
      "        stack_dm[within_header] = within_data\n",
      "    return stack_df"
     ],
     "language": "python",
     "metadata": {},
     "outputs": []
    },
    {
     "cell_type": "code",
     "collapsed": false,
     "input": [
      "headers = ['City', 'PlateLocation', 'Season', 'PlateLocationSeason']\n",
      "new_stack_df = add_combined_cols(map_df, stack_df, headers)"
     ],
     "language": "python",
     "metadata": {},
     "outputs": [
      {
       "output_type": "stream",
       "stream": "stdout",
       "text": [
        "City\n",
        "PlateLocation"
       ]
      },
      {
       "output_type": "stream",
       "stream": "stdout",
       "text": [
        "\n",
        "Season"
       ]
      },
      {
       "output_type": "stream",
       "stream": "stdout",
       "text": [
        "\n",
        "PlateLocationSeason"
       ]
      }
     ]
    },
    {
     "cell_type": "code",
     "collapsed": false,
     "input": [
      "filtered_df_floor_spring = new_stack_df[new_stack_df['PlateLocationSeason'] == 'floor_spring']\n",
      "filtered_df_floor_spring\n",
      "new_stack_df['Season'].unique"
     ],
     "language": "python",
     "metadata": {},
     "outputs": []
    },
    {
     "cell_type": "code",
     "collapsed": false,
     "input": [
      "dfs = []\n",
      "filtered_df_floor_winter = new_stack_df[new_stack_df['PlateLocationSeason'] == 'floor_winter']\n",
      "dfs.append(filtered_df_floor_winter)\n",
      "filtered_df_wall_winter = new_stack_df[new_stack_df['PlateLocationSeason'] == 'wall_winter']\n",
      "dfs.append(filtered_df_wall_winter)\n",
      "filtered_df_ceiling_winter = new_stack_df[new_stack_df['PlateLocationSeason'] == 'ceiling_winter']\n",
      "dfs.append(filtered_df_ceiling_winter)\n",
      "filtered_df_floor_summer = new_stack_df[new_stack_df['PlateLocationSeason'] == 'floor_summer']\n",
      "dfs.append(filtered_df_floor_summer)\n",
      "filtered_df_wall_summer = new_stack_df[new_stack_df['PlateLocationSeason'] == 'wall_summer']\n",
      "dfs.append(filtered_df_wall_summer)\n",
      "filtered_df_ceiling_summer = new_stack_df[new_stack_df['PlateLocationSeason'] == 'ceiling_summer']\n",
      "dfs.append(filtered_df_ceiling_summer)\n",
      "filtered_df_floor_spring = new_stack_df[new_stack_df['PlateLocationSeason'] == 'floor_fall']\n",
      "dfs.append(filtered_df_floor_spring)\n",
      "filtered_df_wall_spring = new_stack_df[new_stack_df['PlateLocationSeason'] == 'wall_fall']\n",
      "dfs.append(filtered_df_wall_spring)\n",
      "filtered_df_ceiling_spring = new_stack_df[new_stack_df['PlateLocationSeason'] == 'ceiling_fall']\n",
      "dfs.append(filtered_df_ceiling_spring)\n",
      "\n",
      "\n",
      "\n",
      "\n",
      "f, axes = plt.subplots(3, 3)\n",
      "\n",
      "\n",
      "for ax_1 in axes:\n",
      "    pos = 1\n",
      "    for ax_r in ax_1:\n",
      "        sns.boxplot(dfs[c].dist, dfs[c].WithinCity, positions=[pos, (pos+1) ], ax=ax_r)\n",
      "        c += 1\n",
      "        pos +=2\n",
      "plt.tight_layout()\n"
     ],
     "language": "python",
     "metadata": {},
     "outputs": []
    },
    {
     "cell_type": "code",
     "collapsed": false,
     "input": [
      "f, axes = plt.subplots(3, 3)\n",
      "print axes[2][0]\n",
      "\n",
      "\n",
      "# sns.boxplot(filtered_df_floor_winter.dist, filtered_df_floor_winter.WithinCity, positions=[1, 2], ax=axes[0][0])\n",
      "# sns.boxplot(filtered_df_wall_winter.dist, filtered_df_wall_winter.WithinCity, positions=[3, 4], ax=axes[0][1])\n",
      "# sns.boxplot(filtered_df_ceiling_winter.dist, filtered_df_ceiling_winter.WithinCity, positions=[5, 6], ax=axes[0][2])\n",
      "# sns.boxplot(filtered_df_floor_summer.dist, filtered_df_floor_summer.WithinCity, positions=[1, 2], ax=axes[1][0])\n",
      "# sns.boxplot(filtered_df_wall_summer.dist, filtered_df_wall_summer.WithinCity, positions=[3, 4], ax=axes[1][1])\n",
      "# sns.boxplot(filtered_df_ceiling_summer.dist, filtered_df_ceiling_summer.WithinCity, positions=[5, 6], ax=axes[1][2])\n",
      "sns.boxplot(filtered_df_floor_spring.dist, filtered_df_floor_spring.WithinCity, positions=[1, 2], ax=axes[1][0])\n",
      "# sns.boxplot(filtered_df_wall_spring.dist, filtered_df_wall_spring.WithinCity, positions=[3, 4], ax=axes[2][1])\n",
      "# sns.boxplot(filtered_df_ceiling_spring.dist, filtered_df_ceiling_spring.WithinCity, positions=[5, 6], ax=axes[2][2])"
     ],
     "language": "python",
     "metadata": {},
     "outputs": []
    },
    {
     "cell_type": "code",
     "collapsed": false,
     "input": [
      "filtered_df_floor_spring"
     ],
     "language": "python",
     "metadata": {},
     "outputs": []
    },
    {
     "cell_type": "code",
     "collapsed": false,
     "input": [],
     "language": "python",
     "metadata": {},
     "outputs": []
    },
    {
     "cell_type": "code",
     "collapsed": false,
     "input": [],
     "language": "python",
     "metadata": {},
     "outputs": []
    }
   ],
   "metadata": {}
  }
 ]
}