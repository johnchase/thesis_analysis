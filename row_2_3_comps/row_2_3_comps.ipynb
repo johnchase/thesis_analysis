{
 "metadata": {
  "name": "",
  "signature": "sha256:b717fa17f7935fe53b4413ba70c8ec870181570df75fa7df86e23d6db5d0c750"
 },
 "nbformat": 3,
 "nbformat_minor": 0,
 "worksheets": [
  {
   "cells": [
    {
     "cell_type": "code",
     "collapsed": false,
     "input": [
      "from __future__ import division\n",
      "\n",
      "import pandas as pd\n",
      "from biom import load_table\n",
      "import numpy as np\n",
      "from scipy.stats import ttest_ind, spearmanr, pearsonr\n",
      "from skbio import DistanceMatrix\n",
      "from os.path import join"
     ],
     "language": "python",
     "metadata": {},
     "outputs": [],
     "prompt_number": 4
    },
    {
     "cell_type": "code",
     "collapsed": false,
     "input": [
      "files = '/Users/jc33/google_drive/thesis/analysis/files'\n",
      "biom_table = join(files, 'initial_steps/otu_table_mc2_w_tax_no_pynast_failures.biom')\n",
      "biom_table_800 = join(files,'row_2_3_comps/otu_table_mc800_w_tax_no_pynast_failures.biom')\n",
      "mapping_file = join(files, 'initial_steps/mapping_files/periods1-2-3_all_data_barcodes_map.txt')"
     ],
     "language": "python",
     "metadata": {},
     "outputs": [],
     "prompt_number": 5
    },
    {
     "cell_type": "code",
     "collapsed": false,
     "input": [
      "!md5 $biom_table"
     ],
     "language": "python",
     "metadata": {},
     "outputs": [
      {
       "output_type": "stream",
       "stream": "stdout",
       "text": [
        "MD5 (/Users/jc33/google_drive/thesis/analysis/files/initial_steps/otu_table_mc2_w_tax_no_pynast_failures.biom) = 9451aa1b0f2c4049de24291a0fa6c770\r\n"
       ]
      }
     ],
     "prompt_number": 3
    },
    {
     "cell_type": "markdown",
     "metadata": {},
     "source": [
      "Steps to take \n",
      "-------------\n",
      "1. get the list of sample ids from the whole mapping file.\n",
      "2. get a list of all of the row 2 ids from mapping file.\n",
      "\n",
      "3. filter the otu table to 800\n",
      "4. Get the ids from the otu table\n",
      "\n",
      "5. loop through the row 2 ids, if that id is in the list of otu table for both row 2 and 3 keep both rows in a new list. Otherwise discard both\n",
      "\n",
      "6. compute correlation for pairs of ids\n",
      "\n",
      "7. compute correlation \n",
      "\n",
      "\n",
      "\n",
      "\n",
      "6. create distance full distance matrix \n",
      "\n",
      "7. filter distance matrix to only include paired samples\n"
     ]
    },
    {
     "cell_type": "markdown",
     "metadata": {},
     "source": [
      "Begin Function Definitions\n",
      "=========================="
     ]
    },
    {
     "cell_type": "code",
     "collapsed": false,
     "input": [
      "#Define a function that will return paired ids based on some criteria\n",
      "#loop through the ids, if that id is in the list of otu table for both pairs keep both rows in a new list. \n",
      "#Otherwise discard both\n",
      "\n",
      "def get_paired_ids(sample_ids, pair_index, pair1_val, pair2_val):\n",
      "    '''\n",
      "    sample_ids list or array of all possible ids \n",
      "    pair index is the location of the difference\n",
      "    '''\n",
      "    first_pairs = [i for i in sample_ids if i[pair_index] == pair1_val]\n",
      "    if len(first_pairs) != len(set(first_pairs)):\n",
      "        print \"Warning duplicate single ids found, check id list!\" \n",
      "    paired_ids = []\n",
      "    for first_pair in first_pairs:\n",
      "        second_pair = (first_pair[:pair_index] + pair2_val + first_pair[(pair_index + 1):])\n",
      "        pairs = []\n",
      "        if second_pair in sample_ids:\n",
      "            pairs.append(first_pair)\n",
      "            pairs.append(second_pair)\n",
      "            paired_ids.append(pairs)\n",
      "        else: \n",
      "            pass\n",
      "    return paired_ids"
     ],
     "language": "python",
     "metadata": {},
     "outputs": [],
     "prompt_number": 6
    },
    {
     "cell_type": "code",
     "collapsed": false,
     "input": [
      "#define a function that takes an otu table and paired ids and returns the rho values for each\n",
      "def spearman_dist(otu_table, ids):\n",
      "    rhos = []\n",
      "    for i in ids:\n",
      "        rho, p_val = spearmanr(otu_table.data(i[0], axis='sample'), otu_table.data(i[1], axis='sample'))\n",
      "        rhos.append(rho)\n",
      "    return rhos"
     ],
     "language": "python",
     "metadata": {},
     "outputs": [],
     "prompt_number": 7
    },
    {
     "cell_type": "code",
     "collapsed": false,
     "input": [
      "def get_paired_differences(dm, sample_id_pairs_1, sample_id_pairs_2):\n",
      "    distances_1 = [dm.filter(i)[0][1] for i in sample_id_pairs_1]\n",
      "    distances_2 = [dm.filter(i)[0][1] for i in sample_id_pairs_2]\n",
      "    test_stat, p_value = ttest_ind(distances_1, distances_2)\n",
      "    return round((test_stat/2), 4), round((p_value/2), 4)\n",
      "\n",
      "\n",
      "#There is a different method in skbio that would be easier to use\n",
      "#The distances here could also be taken from a pandas dataframe\n",
      "#df[sample_id_pairs_1]"
     ],
     "language": "python",
     "metadata": {},
     "outputs": [],
     "prompt_number": 8
    },
    {
     "cell_type": "code",
     "collapsed": false,
     "input": [
      "#Function to shuffle the sample ids\n",
      "def get_shuffled_ids(sample_ids):\n",
      "    ids1, ids2 = zip(*sample_ids)\n",
      "    ids1 = list(ids1)\n",
      "    ids2 = list(ids2)\n",
      "    np.random.shuffle(ids1)\n",
      "    np.random.shuffle(ids2)\n",
      "    shuffled_ids = [i for i in zip(ids1, ids2)]\n",
      "    return shuffled_ids"
     ],
     "language": "python",
     "metadata": {},
     "outputs": [],
     "prompt_number": 9
    },
    {
     "cell_type": "code",
     "collapsed": false,
     "input": [
      "def get_distance_table(dm, sample_ids):\n",
      "    sample_keys = sample_ids.keys()\n",
      "    distances_df = pd.DataFrame(index=sample_keys, columns=sample_keys)\n",
      "    for i in sample_keys:\n",
      "        for j in sample_keys:\n",
      "            difference = get_paired_differences(dm, sample_ids[i], sample_ids[j])\n",
      "            distances_df[i][j] = difference\n",
      "    return distances_df"
     ],
     "language": "python",
     "metadata": {},
     "outputs": [],
     "prompt_number": 10
    },
    {
     "cell_type": "code",
     "collapsed": false,
     "input": [
      "def get_correlation_table(otu_table, sample_ids):\n",
      "    id_pairs = sample_ids.keys()\n",
      "    rho_values = [spearman_dist(otu_table, i) for i in sample_ids.values()]\n",
      "    dictionary = dict(zip(id_pairs, rho_values))\n",
      "    distances_df = pd.DataFrame(index=id_pairs, columns=id_pairs)\n",
      "    for i in id_pairs:\n",
      "        for j in id_pairs:\n",
      "            difference = ttest_ind(dictionary[i], dictionary[j])\n",
      "            distances_df[i][j] = difference\n",
      "\n",
      "    return distances_df"
     ],
     "language": "python",
     "metadata": {},
     "outputs": [],
     "prompt_number": 11
    },
    {
     "cell_type": "markdown",
     "metadata": {},
     "source": [
      "End Function Definitions\n",
      "======================="
     ]
    },
    {
     "cell_type": "code",
     "collapsed": false,
     "input": [
      "#Filter the full table to not include any samples with less than 800 samples. \n",
      "!filter_samples_from_otu_table.py -i $biom_table -n 800 -o $biom_table_800 "
     ],
     "language": "python",
     "metadata": {},
     "outputs": [],
     "prompt_number": 34
    },
    {
     "cell_type": "code",
     "collapsed": false,
     "input": [
      "!biom summarize-table -i $biom_table_800"
     ],
     "language": "python",
     "metadata": {},
     "outputs": []
    },
    {
     "cell_type": "code",
     "collapsed": false,
     "input": [
      "#weighted unifrac plots\n",
      "!make_distance_boxplots.py -m $mapping_file -d $weighted_dm_fp -o '/Users/jc33/google_drive/thesis/analysis/files/row_23_dist_plots' -f Row --suppress_individual_within --suppress_individual_between -n 999"
     ],
     "language": "python",
     "metadata": {},
     "outputs": [],
     "prompt_number": 5
    },
    {
     "cell_type": "code",
     "collapsed": false,
     "input": [
      "!time make_distance_boxplots.py -m $mapping_file -d $weighted_dm_fp -o '/Users/jc33/google_drive/thesis/analysis/files/row_23_dist_plots' -f Material --suppress_individual_within --suppress_individual_between -n 999"
     ],
     "language": "python",
     "metadata": {},
     "outputs": [
      {
       "output_type": "stream",
       "stream": "stdout",
       "text": [
        "\r\n",
        "real\t3m30.991s\r\n",
        "user\t2m16.091s\r\n",
        "sys\t0m16.290s\r\n"
       ]
      }
     ],
     "prompt_number": 8
    },
    {
     "cell_type": "code",
     "collapsed": false,
     "input": [
      "#Get the ids from the otu table\n",
      "otu_table_800 = load_table(biom_table_800)\n",
      "sample_ids_from_table = otu_table_800.ids()"
     ],
     "language": "python",
     "metadata": {},
     "outputs": [],
     "prompt_number": 9
    },
    {
     "cell_type": "code",
     "collapsed": false,
     "input": [
      "sample_ids_from_table[:5]"
     ],
     "language": "python",
     "metadata": {},
     "outputs": [
      {
       "metadata": {},
       "output_type": "pyout",
       "prompt_number": 10,
       "text": [
        "array([u'F1F.3.Ca.020', u'F2C.3.Ce.019', u'F1F.3.Ce.050', u'F2F.3.Ce.050',\n",
        "       u'F2C.3.Dr.050'], dtype=object)"
       ]
      }
     ],
     "prompt_number": 10
    },
    {
     "cell_type": "code",
     "collapsed": false,
     "input": [
      "all_id_pairs = {}"
     ],
     "language": "python",
     "metadata": {},
     "outputs": [],
     "prompt_number": 11
    },
    {
     "cell_type": "code",
     "collapsed": false,
     "input": [
      "#get row 2 and 3 paired_ids\n",
      "row23_ids = get_paired_ids(sample_ids_from_table, 4, '2', '3')\n",
      "all_id_pairs['row23_ids'] = row23_ids\n"
     ],
     "language": "python",
     "metadata": {},
     "outputs": [],
     "prompt_number": 12
    },
    {
     "cell_type": "code",
     "collapsed": false,
     "input": [
      "# get floor and ceiling pairs\n",
      "fc_ids = get_paired_ids(sample_ids_from_table, 2, 'F', 'C')\n",
      "all_id_pairs['fc_ids'] = fc_ids"
     ],
     "language": "python",
     "metadata": {},
     "outputs": [],
     "prompt_number": 13
    },
    {
     "cell_type": "code",
     "collapsed": false,
     "input": [
      "#get floor wall pairs\n",
      "fw_ids = get_paired_ids(sample_ids_from_table, 2, 'F', 'W')\n",
      "all_id_pairs['fw_ids'] = fw_ids\n"
     ],
     "language": "python",
     "metadata": {},
     "outputs": [],
     "prompt_number": 14
    },
    {
     "cell_type": "code",
     "collapsed": false,
     "input": [
      "#get wall ceiling pairs\n",
      "wc_ids = get_paired_ids(sample_ids_from_table, 2, 'W', 'C')\n",
      "all_id_pairs['wc_ids'] = wc_ids\n"
     ],
     "language": "python",
     "metadata": {},
     "outputs": [],
     "prompt_number": 15
    },
    {
     "cell_type": "code",
     "collapsed": false,
     "input": [
      "# First collapse the otu table by Level\n",
      "L3_biom_out = join(files, 'L3_tables')\n",
      "!summarize_taxa.py -i $biom_table_800 -o $L3_biom_out -L 3\n"
     ],
     "language": "python",
     "metadata": {},
     "outputs": [],
     "prompt_number": 24
    },
    {
     "cell_type": "code",
     "collapsed": false,
     "input": [
      "shuffled_row_2_3_pairs1 = get_shuffled_ids(row23_ids)\n",
      "shuffled_row_2_3_pairs2 = get_shuffled_ids(row23_ids)\n",
      "all_id_pairs['shuffled_row_2_3_pairs1'] = shuffled_row_2_3_pairs1\n",
      "all_id_pairs['shuffled_row_2_3_pairs2'] = shuffled_row_2_3_pairs2"
     ],
     "language": "python",
     "metadata": {},
     "outputs": [],
     "prompt_number": 16
    },
    {
     "cell_type": "code",
     "collapsed": false,
     "input": [
      "\n",
      "otu_table_L3 = load_table('/Users/jc33/google_drive/thesis/analysis/files/L3_tables/otu_table_mc800_w_tax_no_pynast_failures_L3.biom')"
     ],
     "language": "python",
     "metadata": {},
     "outputs": [],
     "prompt_number": 27
    },
    {
     "cell_type": "markdown",
     "metadata": {},
     "source": [
      "Same as above with L4\n",
      "-------------------"
     ]
    },
    {
     "cell_type": "code",
     "collapsed": false,
     "input": [
      "# First collapse the otu table by Level\n",
      "L4_biom_table = join(files, 'L4_tables')\n",
      "!summarize_taxa.py -i $biom_table_800 -o $L4_biom_table -L 4"
     ],
     "language": "python",
     "metadata": {},
     "outputs": [],
     "prompt_number": 28
    },
    {
     "cell_type": "code",
     "collapsed": false,
     "input": [
      "otu_table_L4 = load_table('/Users/jc33/google_drive/thesis/analysis/files/L4_tables/otu_table_mc800_w_tax_no_pynast_failures_L4.biom')"
     ],
     "language": "python",
     "metadata": {},
     "outputs": [],
     "prompt_number": 29
    },
    {
     "cell_type": "code",
     "collapsed": false,
     "input": [
      "#create distance full distance matrix\n",
      "!beta_diversity.py -i '../otu_table_mc2_w_tax_no_pynast_failures_mc800.biom' -t '../rep_set.tre' -o './'"
     ],
     "language": "python",
     "metadata": {},
     "outputs": []
    },
    {
     "cell_type": "code",
     "collapsed": false,
     "input": [
      "# Load the distance matrices\n",
      "dm_fp = '/Users/jc33/google_drive/thesis/analysis/files/initial_steps/filtered_bd_out'\n",
      "weighted_dm_fp = join(dm_fp, 'weighted_unifrac_otu_table_mc800_w_tax_no_pynast_failures.txt')\n",
      "weighted_dm = DistanceMatrix.read(weighted_dm_fp, delimiter='\\t')\n",
      "unweighted_dm_fp = join(dm_fp, 'unweighted_unifrac_otu_table_mc800_w_tax_no_pynast_failures.txt')\n",
      "unweighted_dm = DistanceMatrix.read(unweighted_dm_fp, delimiter='\\t')\n",
      "weighted_dm[:5]"
     ],
     "language": "python",
     "metadata": {},
     "outputs": [
      {
       "metadata": {},
       "output_type": "pyout",
       "prompt_number": 52,
       "text": [
        "array([[ 0.        ,  0.60255169,  0.61586986, ...,  0.5998678 ,\n",
        "         0.46496927,  0.73825761],\n",
        "       [ 0.60255169,  0.        ,  0.56853451, ...,  0.56895224,\n",
        "         0.59825329,  0.74405751],\n",
        "       [ 0.61586986,  0.56853451,  0.        , ...,  0.48758233,\n",
        "         0.60969615,  0.64540336],\n",
        "       [ 0.50069571,  0.55262554,  0.51741007, ...,  0.53751186,\n",
        "         0.65933857,  0.77114044],\n",
        "       [ 0.74641154,  0.73767659,  0.35310046, ...,  0.63021104,\n",
        "         0.66326601,  0.66227672]])"
       ]
      }
     ],
     "prompt_number": 52
    },
    {
     "cell_type": "code",
     "collapsed": false,
     "input": [
      "truncated_table = weighted_dm[:5].ix[:, :5]\n",
      "truncated_table.to_csv('truncated_table.txt', sep='\\t')"
     ],
     "language": "python",
     "metadata": {},
     "outputs": [],
     "prompt_number": 28
    },
    {
     "cell_type": "markdown",
     "metadata": {},
     "source": [
      "Create data frame of various values so I can have a table of comparisons. Create one for correlations and one for distances\n",
      "-------------------------------------"
     ]
    },
    {
     "cell_type": "code",
     "collapsed": false,
     "input": [
      "weighted_table = get_distance_table(weighted_dm, all_id_pairs)\n",
      "weighted_table\n",
      "# weighted_table.to_csv('weighted_dist_table.csv')"
     ],
     "language": "python",
     "metadata": {},
     "outputs": [
      {
       "html": [
        "<div style=\"max-height:1000px;max-width:1500px;overflow:auto;\">\n",
        "<table border=\"1\" class=\"dataframe\">\n",
        "  <thead>\n",
        "    <tr style=\"text-align: right;\">\n",
        "      <th></th>\n",
        "      <th>row23_ids</th>\n",
        "      <th>fc_ids</th>\n",
        "      <th>fw_ids</th>\n",
        "      <th>wc_ids</th>\n",
        "      <th>shuffled_row_2_3_pairs2</th>\n",
        "      <th>shuffled_row_2_3_pairs1</th>\n",
        "    </tr>\n",
        "  </thead>\n",
        "  <tbody>\n",
        "    <tr>\n",
        "      <th>row23_ids</th>\n",
        "      <td>        (0.0, 0.5)</td>\n",
        "      <td>    (2.7181, 0.0)</td>\n",
        "      <td>  (1.8656, 0.0001)</td>\n",
        "      <td> (-1.0684, 0.0165)</td>\n",
        "      <td>     (6.7352, 0.0)</td>\n",
        "      <td>    (7.5898, 0.0)</td>\n",
        "    </tr>\n",
        "    <tr>\n",
        "      <th>fc_ids</th>\n",
        "      <td>    (-2.7181, 0.0)</td>\n",
        "      <td>       (0.0, 0.5)</td>\n",
        "      <td> (-0.9466, 0.0294)</td>\n",
        "      <td>    (-3.9399, 0.0)</td>\n",
        "      <td>     (3.7861, 0.0)</td>\n",
        "      <td>    (4.4112, 0.0)</td>\n",
        "    </tr>\n",
        "    <tr>\n",
        "      <th>fw_ids</th>\n",
        "      <td> (-1.8656, 0.0001)</td>\n",
        "      <td> (0.9466, 0.0294)</td>\n",
        "      <td>        (0.0, 0.5)</td>\n",
        "      <td>    (-3.0607, 0.0)</td>\n",
        "      <td>     (4.8717, 0.0)</td>\n",
        "      <td>    (5.5668, 0.0)</td>\n",
        "    </tr>\n",
        "    <tr>\n",
        "      <th>wc_ids</th>\n",
        "      <td>  (1.0684, 0.0165)</td>\n",
        "      <td>    (3.9399, 0.0)</td>\n",
        "      <td>     (3.0607, 0.0)</td>\n",
        "      <td>        (0.0, 0.5)</td>\n",
        "      <td>      (8.065, 0.0)</td>\n",
        "      <td>     (8.934, 0.0)</td>\n",
        "    </tr>\n",
        "    <tr>\n",
        "      <th>shuffled_row_2_3_pairs2</th>\n",
        "      <td>    (-6.7352, 0.0)</td>\n",
        "      <td>   (-3.7861, 0.0)</td>\n",
        "      <td>    (-4.8717, 0.0)</td>\n",
        "      <td>     (-8.065, 0.0)</td>\n",
        "      <td>        (0.0, 0.5)</td>\n",
        "      <td> (0.5116, 0.1533)</td>\n",
        "    </tr>\n",
        "    <tr>\n",
        "      <th>shuffled_row_2_3_pairs1</th>\n",
        "      <td>    (-7.5898, 0.0)</td>\n",
        "      <td>   (-4.4112, 0.0)</td>\n",
        "      <td>    (-5.5668, 0.0)</td>\n",
        "      <td>     (-8.934, 0.0)</td>\n",
        "      <td> (-0.5116, 0.1533)</td>\n",
        "      <td>       (0.0, 0.5)</td>\n",
        "    </tr>\n",
        "  </tbody>\n",
        "</table>\n",
        "</div>"
       ],
       "metadata": {},
       "output_type": "pyout",
       "prompt_number": 23,
       "text": [
        "                                 row23_ids            fc_ids  \\\n",
        "row23_ids                       (0.0, 0.5)     (2.7181, 0.0)   \n",
        "fc_ids                      (-2.7181, 0.0)        (0.0, 0.5)   \n",
        "fw_ids                   (-1.8656, 0.0001)  (0.9466, 0.0294)   \n",
        "wc_ids                    (1.0684, 0.0165)     (3.9399, 0.0)   \n",
        "shuffled_row_2_3_pairs2     (-6.7352, 0.0)    (-3.7861, 0.0)   \n",
        "shuffled_row_2_3_pairs1     (-7.5898, 0.0)    (-4.4112, 0.0)   \n",
        "\n",
        "                                    fw_ids             wc_ids  \\\n",
        "row23_ids                 (1.8656, 0.0001)  (-1.0684, 0.0165)   \n",
        "fc_ids                   (-0.9466, 0.0294)     (-3.9399, 0.0)   \n",
        "fw_ids                          (0.0, 0.5)     (-3.0607, 0.0)   \n",
        "wc_ids                       (3.0607, 0.0)         (0.0, 0.5)   \n",
        "shuffled_row_2_3_pairs2     (-4.8717, 0.0)      (-8.065, 0.0)   \n",
        "shuffled_row_2_3_pairs1     (-5.5668, 0.0)      (-8.934, 0.0)   \n",
        "\n",
        "                        shuffled_row_2_3_pairs2 shuffled_row_2_3_pairs1  \n",
        "row23_ids                         (6.7352, 0.0)           (7.5898, 0.0)  \n",
        "fc_ids                            (3.7861, 0.0)           (4.4112, 0.0)  \n",
        "fw_ids                            (4.8717, 0.0)           (5.5668, 0.0)  \n",
        "wc_ids                             (8.065, 0.0)            (8.934, 0.0)  \n",
        "shuffled_row_2_3_pairs2              (0.0, 0.5)        (0.5116, 0.1533)  \n",
        "shuffled_row_2_3_pairs1       (-0.5116, 0.1533)              (0.0, 0.5)  "
       ]
      }
     ],
     "prompt_number": 23
    },
    {
     "cell_type": "code",
     "collapsed": false,
     "input": [
      "get_distance_table(unweighted_dm, all_id_pairs)"
     ],
     "language": "python",
     "metadata": {},
     "outputs": [
      {
       "html": [
        "<div style=\"max-height:1000px;max-width:1500px;overflow:auto;\">\n",
        "<table border=\"1\" class=\"dataframe\">\n",
        "  <thead>\n",
        "    <tr style=\"text-align: right;\">\n",
        "      <th></th>\n",
        "      <th>row23_ids</th>\n",
        "      <th>fc_ids</th>\n",
        "      <th>fw_ids</th>\n",
        "      <th>wc_ids</th>\n",
        "      <th>shuffled_row_2_3_pairs2</th>\n",
        "      <th>shuffled_row_2_3_pairs1</th>\n",
        "    </tr>\n",
        "  </thead>\n",
        "  <tbody>\n",
        "    <tr>\n",
        "      <th>row23_ids</th>\n",
        "      <td>        (0.0, 0.5)</td>\n",
        "      <td>    (2.6059, 0.0)</td>\n",
        "      <td>  (1.5146, 0.0013)</td>\n",
        "      <td> (-0.7703, 0.062)</td>\n",
        "      <td>    (8.0431, 0.0)</td>\n",
        "      <td>    (8.415, 0.0)</td>\n",
        "    </tr>\n",
        "    <tr>\n",
        "      <th>fc_ids</th>\n",
        "      <td>    (-2.6059, 0.0)</td>\n",
        "      <td>       (0.0, 0.5)</td>\n",
        "      <td> (-1.1946, 0.0086)</td>\n",
        "      <td>   (-3.7375, 0.0)</td>\n",
        "      <td>    (5.4198, 0.0)</td>\n",
        "      <td>   (5.7221, 0.0)</td>\n",
        "    </tr>\n",
        "    <tr>\n",
        "      <th>fw_ids</th>\n",
        "      <td> (-1.5146, 0.0013)</td>\n",
        "      <td> (1.1946, 0.0086)</td>\n",
        "      <td>        (0.0, 0.5)</td>\n",
        "      <td>   (-2.5198, 0.0)</td>\n",
        "      <td>    (6.7617, 0.0)</td>\n",
        "      <td>   (7.0947, 0.0)</td>\n",
        "    </tr>\n",
        "    <tr>\n",
        "      <th>wc_ids</th>\n",
        "      <td>   (0.7703, 0.062)</td>\n",
        "      <td>    (3.7375, 0.0)</td>\n",
        "      <td>     (2.5198, 0.0)</td>\n",
        "      <td>       (0.0, 0.5)</td>\n",
        "      <td>    (9.9282, 0.0)</td>\n",
        "      <td>   (10.366, 0.0)</td>\n",
        "    </tr>\n",
        "    <tr>\n",
        "      <th>shuffled_row_2_3_pairs2</th>\n",
        "      <td>    (-8.0431, 0.0)</td>\n",
        "      <td>   (-5.4198, 0.0)</td>\n",
        "      <td>    (-6.7617, 0.0)</td>\n",
        "      <td>   (-9.9282, 0.0)</td>\n",
        "      <td>       (0.0, 0.5)</td>\n",
        "      <td> (0.231, 0.3222)</td>\n",
        "    </tr>\n",
        "    <tr>\n",
        "      <th>shuffled_row_2_3_pairs1</th>\n",
        "      <td>     (-8.415, 0.0)</td>\n",
        "      <td>   (-5.7221, 0.0)</td>\n",
        "      <td>    (-7.0947, 0.0)</td>\n",
        "      <td>   (-10.366, 0.0)</td>\n",
        "      <td> (-0.231, 0.3222)</td>\n",
        "      <td>      (0.0, 0.5)</td>\n",
        "    </tr>\n",
        "  </tbody>\n",
        "</table>\n",
        "</div>"
       ],
       "metadata": {},
       "output_type": "pyout",
       "prompt_number": 19,
       "text": [
        "                                 row23_ids            fc_ids  \\\n",
        "row23_ids                       (0.0, 0.5)     (2.6059, 0.0)   \n",
        "fc_ids                      (-2.6059, 0.0)        (0.0, 0.5)   \n",
        "fw_ids                   (-1.5146, 0.0013)  (1.1946, 0.0086)   \n",
        "wc_ids                     (0.7703, 0.062)     (3.7375, 0.0)   \n",
        "shuffled_row_2_3_pairs2     (-8.0431, 0.0)    (-5.4198, 0.0)   \n",
        "shuffled_row_2_3_pairs1      (-8.415, 0.0)    (-5.7221, 0.0)   \n",
        "\n",
        "                                    fw_ids            wc_ids  \\\n",
        "row23_ids                 (1.5146, 0.0013)  (-0.7703, 0.062)   \n",
        "fc_ids                   (-1.1946, 0.0086)    (-3.7375, 0.0)   \n",
        "fw_ids                          (0.0, 0.5)    (-2.5198, 0.0)   \n",
        "wc_ids                       (2.5198, 0.0)        (0.0, 0.5)   \n",
        "shuffled_row_2_3_pairs2     (-6.7617, 0.0)    (-9.9282, 0.0)   \n",
        "shuffled_row_2_3_pairs1     (-7.0947, 0.0)    (-10.366, 0.0)   \n",
        "\n",
        "                        shuffled_row_2_3_pairs2 shuffled_row_2_3_pairs1  \n",
        "row23_ids                         (8.0431, 0.0)            (8.415, 0.0)  \n",
        "fc_ids                            (5.4198, 0.0)           (5.7221, 0.0)  \n",
        "fw_ids                            (6.7617, 0.0)           (7.0947, 0.0)  \n",
        "wc_ids                            (9.9282, 0.0)           (10.366, 0.0)  \n",
        "shuffled_row_2_3_pairs2              (0.0, 0.5)         (0.231, 0.3222)  \n",
        "shuffled_row_2_3_pairs1        (-0.231, 0.3222)              (0.0, 0.5)  "
       ]
      }
     ],
     "prompt_number": 19
    },
    {
     "cell_type": "code",
     "collapsed": false,
     "input": [
      "get_distance_table(unweighted_dm, all_id_pairs)"
     ],
     "language": "python",
     "metadata": {},
     "outputs": []
    },
    {
     "cell_type": "code",
     "collapsed": false,
     "input": [
      "get_correlation_table(otu_table_L3, all_id_pairs)"
     ],
     "language": "python",
     "metadata": {},
     "outputs": [
      {
       "ename": "NameError",
       "evalue": "name 'otu_table_L3' is not defined",
       "output_type": "pyerr",
       "traceback": [
        "\u001b[0;31m---------------------------------------------------------------------------\u001b[0m\n\u001b[0;31mNameError\u001b[0m                                 Traceback (most recent call last)",
        "\u001b[0;32m<ipython-input-48-7d2ef8244ef9>\u001b[0m in \u001b[0;36m<module>\u001b[0;34m()\u001b[0m\n\u001b[0;32m----> 1\u001b[0;31m \u001b[0mget_correlation_table\u001b[0m\u001b[0;34m(\u001b[0m\u001b[0motu_table_L3\u001b[0m\u001b[0;34m,\u001b[0m \u001b[0mall_id_pairs\u001b[0m\u001b[0;34m)\u001b[0m\u001b[0;34m\u001b[0m\u001b[0m\n\u001b[0m",
        "\u001b[0;31mNameError\u001b[0m: name 'otu_table_L3' is not defined"
       ]
      }
     ],
     "prompt_number": 48
    },
    {
     "cell_type": "code",
     "collapsed": false,
     "input": [
      "get_correlation_table(otu_table_L4, all_id_pairs)"
     ],
     "language": "python",
     "metadata": {},
     "outputs": [
      {
       "ename": "NameError",
       "evalue": "name 'otu_table_L4' is not defined",
       "output_type": "pyerr",
       "traceback": [
        "\u001b[0;31m---------------------------------------------------------------------------\u001b[0m\n\u001b[0;31mNameError\u001b[0m                                 Traceback (most recent call last)",
        "\u001b[0;32m<ipython-input-20-1dcbf9c0ca19>\u001b[0m in \u001b[0;36m<module>\u001b[0;34m()\u001b[0m\n\u001b[0;32m----> 1\u001b[0;31m \u001b[0mget_correlation_table\u001b[0m\u001b[0;34m(\u001b[0m\u001b[0motu_table_L4\u001b[0m\u001b[0;34m,\u001b[0m \u001b[0mall_id_pairs\u001b[0m\u001b[0;34m)\u001b[0m\u001b[0;34m\u001b[0m\u001b[0m\n\u001b[0m",
        "\u001b[0;31mNameError\u001b[0m: name 'otu_table_L4' is not defined"
       ]
      }
     ],
     "prompt_number": 20
    },
    {
     "cell_type": "code",
     "collapsed": false,
     "input": [
      "dm = '/Users/jc33/Dropbox/caporaso_lab/office_study/All_periods/core_div_out/bdiv_even5000/weighted_unifrac_dm.txt'"
     ],
     "language": "python",
     "metadata": {},
     "outputs": [],
     "prompt_number": 4
    },
    {
     "cell_type": "code",
     "collapsed": false,
     "input": [
      "weighted_dm = DistanceMatrix.from_file(dm, delimiter='\\t')\n",
      "%timeit weighted_dm[('S1F.3.Dr.042', 'F1F.2.Ca.011')]\n"
     ],
     "language": "python",
     "metadata": {},
     "outputs": [
      {
       "output_type": "stream",
       "stream": "stdout",
       "text": [
        "100000 loops, best of 3: 4.87 \u00b5s per loop\n"
       ]
      }
     ],
     "prompt_number": 5
    },
    {
     "cell_type": "code",
     "collapsed": false,
     "input": [
      "weighted_dm = pd.read_csv(dm, sep='\\t', index_col='Unnamed: 0')\n",
      "%timeit weighted_dm['S1F.3.Dr.042']['F1F.2.Ca.011']"
     ],
     "language": "python",
     "metadata": {},
     "outputs": [
      {
       "output_type": "stream",
       "stream": "stdout",
       "text": [
        "100000 loops, best of 3: 9.71 \u00b5s per loop\n"
       ]
      }
     ],
     "prompt_number": 47
    },
    {
     "cell_type": "markdown",
     "metadata": {},
     "source": [
      "ANOSIM and PERMANOVA\n",
      "==================="
     ]
    },
    {
     "cell_type": "code",
     "collapsed": false,
     "input": [
      "from skbio import DistanceMatrix\n",
      "dm = DistanceMatrix([[0, 1, 1, 4],\n",
      "                     [1, 0, 3, 2],\n",
      "                     [1, 3, 0, 3],\n",
      "                     [4, 2, 3, 0]],\n",
      "                    ['s1', 's2', 's3', 's4'])\n",
      "grouping = ['Group1', 'Group1', 'Group2', 'Group2']"
     ],
     "language": "python",
     "metadata": {},
     "outputs": [],
     "prompt_number": 34
    },
    {
     "cell_type": "code",
     "collapsed": false,
     "input": [
      "import numpy as np\n",
      "from skbio.stats.distance import ANOSIM, PERMANOVA\n",
      "anosim = ANOSIM(dm, grouping)\n",
      "results = anosim(99)\n",
      "print results\n"
     ],
     "language": "python",
     "metadata": {},
     "outputs": [
      {
       "output_type": "stream",
       "stream": "stdout",
       "text": [
        "Method name  Sample size  Number of groups  R statistic  p-value  Number of permutations\n",
        "     ANOSIM            4                 2         0.25     0.69                      99\n",
        "\n"
       ]
      }
     ],
     "prompt_number": 35
    },
    {
     "cell_type": "code",
     "collapsed": false,
     "input": [
      "import pandas as pd\n",
      "df = pd.DataFrame.from_dict(\n",
      "    {'Group': {'s2': 'Group1', 's3': 'Group2', 's4': 'Group2',\n",
      "               's5': 'Group3', 's1': 'Group1'}})\n",
      "anosim = ANOSIM(dm, df, column='Group')\n",
      "results = anosim(99)\n",
      "print results"
     ],
     "language": "python",
     "metadata": {},
     "outputs": [
      {
       "output_type": "stream",
       "stream": "stdout",
       "text": [
        "Method name  Sample size  Number of groups  R statistic  p-value  Number of permutations\n",
        "     ANOSIM            4                 2         0.25     0.68                      99\n",
        "\n"
       ]
      }
     ],
     "prompt_number": 36
    },
    {
     "cell_type": "code",
     "collapsed": false,
     "input": [
      "mapping_df = pd.read_csv(mapping_file, sep='\\t', index_col=0)"
     ],
     "language": "python",
     "metadata": {},
     "outputs": [],
     "prompt_number": 8
    },
    {
     "cell_type": "code",
     "collapsed": false,
     "input": [
      "filtered_mapping_df = mapping_df.drop(['blankswab5', 'blankswab1', 'blankswab2', 'blankswab3' , 'blankswab4'])\n",
      "filtered_mapping_df.columns"
     ],
     "language": "python",
     "metadata": {},
     "outputs": [
      {
       "metadata": {},
       "output_type": "pyout",
       "prompt_number": 9,
       "text": [
        "Index([u'BarcodeSequence', u'LinkerPrimerSequence', u'DateOfCollection', u'TimeOfCollection', u'WeekDay', u'Notes', u'Cooler', u'Description', u'City', u'PlateLocation', u'Material', u'OfficeNumber', u'Row', u'Event', u'OfficeNumberPlateLocation', u'CityOfficeNumber', u'CityOfficeNumberLocation', u'Period', u'DaysSinceEpoch', u'Season'], dtype='object')"
       ]
      }
     ],
     "prompt_number": 9
    },
    {
     "cell_type": "code",
     "collapsed": false,
     "input": [
      "map_ids = filtered_mapping_df.index\n",
      "dm_ids = weighted_dm.ids\n",
      "filter_ids = set(map_ids) & set(dm_ids)\n",
      "filter_ids\n",
      "weighted_dm = weighted_dm.filter(filter_ids)\n",
      "\n",
      "print weighted_dm"
     ],
     "language": "python",
     "metadata": {},
     "outputs": [
      {
       "output_type": "stream",
       "stream": "stdout",
       "text": [
        "1260x1260 distance matrix\n",
        "IDs:\n",
        "F2F.2.Ce.011, T2C.2.Ce.050, T1F.2.Dr.050, T2C.2.Ce.059, T1C.3.Ca.001, ...\n",
        "Data:\n",
        "[[ 0.          0.62682203  0.31607262 ...,  0.55541975  0.49033467\n",
        "   0.36375394]\n",
        " [ 0.62682203  0.          0.56832358 ...,  0.60851611  0.46690478\n",
        "   0.56167714]\n",
        " [ 0.31607262  0.56832358  0.         ...,  0.62426593  0.46085302\n",
        "   0.44491493]\n",
        " ..., \n",
        " [ 0.55541975  0.60851611  0.62426593 ...,  0.          0.59060097\n",
        "   0.33280879]\n",
        " [ 0.49033467  0.46690478  0.46085302 ...,  0.59060097  0.          0.49033117]\n",
        " [ 0.36375394  0.56167714  0.44491493 ...,  0.33280879  0.49033117  0.        ]]\n"
       ]
      }
     ],
     "prompt_number": 11
    },
    {
     "cell_type": "code",
     "collapsed": false,
     "input": [
      "anosim = ANOSIM(weighted_dm, filtered_mapping_df, column='Row')\n",
      "results = anosim(9999)\n",
      "print results"
     ],
     "language": "python",
     "metadata": {},
     "outputs": [
      {
       "output_type": "stream",
       "stream": "stdout",
       "text": [
        "Method name  Sample size  Number of groups     R statistic  p-value  Number of permutations\n",
        "     ANOSIM          836                 2  0.121180480443   0.0001                    9999\n",
        "\n"
       ]
      }
     ],
     "prompt_number": 56
    },
    {
     "cell_type": "code",
     "collapsed": false,
     "input": [
      "permanova = PERMANOVA(weighted_dm, filtered_mapping_df, column='Row')\n",
      "results = permanova(999)\n",
      "print results"
     ],
     "language": "python",
     "metadata": {},
     "outputs": [
      {
       "output_type": "stream",
       "stream": "stdout",
       "text": [
        "Method name  Sample size  Number of groups  pseudo-F statistic  p-value  Number of permutations\n",
        "  PERMANOVA          833                 2       32.1925176478    0.001                     999\n",
        "\n"
       ]
      }
     ],
     "prompt_number": 37
    },
    {
     "cell_type": "code",
     "collapsed": false,
     "input": [
      "anosim = ANOSIM(weighted_dm, filtered_mapping_df, column='Material')\n",
      "results = anosim(999)\n",
      "print results"
     ],
     "language": "python",
     "metadata": {},
     "outputs": [
      {
       "output_type": "stream",
       "stream": "stdout",
       "text": [
        "Method name  Sample size  Number of groups        R statistic  p-value  Number of permutations\n",
        "     ANOSIM          833                 3  -0.00852307614988    0.994                     999\n",
        "\n"
       ]
      }
     ],
     "prompt_number": 38
    },
    {
     "cell_type": "code",
     "collapsed": false,
     "input": [
      "permanova = PERMANOVA(weighted_dm, filtered_mapping_df, column='Material')\n",
      "results = permanova(999)\n",
      "print results"
     ],
     "language": "python",
     "metadata": {},
     "outputs": [
      {
       "output_type": "stream",
       "stream": "stdout",
       "text": [
        "Method name  Sample size  Number of groups  pseudo-F statistic  p-value  Number of permutations\n",
        "  PERMANOVA          833                 3       1.47034151757    0.105                     999\n",
        "\n"
       ]
      }
     ],
     "prompt_number": 39
    },
    {
     "cell_type": "code",
     "collapsed": false,
     "input": [
      "anosim = ANOSIM(weighted_dm, filtered_mapping_df, column='City')\n",
      "results = anosim(999)\n",
      "print results"
     ],
     "language": "python",
     "metadata": {},
     "outputs": [
      {
       "output_type": "stream",
       "stream": "stdout",
       "text": [
        "Method name  Sample size  Number of groups     R statistic  p-value  Number of permutations\n",
        "     ANOSIM          833                 3  0.032797418053    0.001                     999\n",
        "\n"
       ]
      }
     ],
     "prompt_number": 40
    },
    {
     "cell_type": "code",
     "collapsed": false,
     "input": [
      "anosim = ANOSIM(weighted_dm, filtered_mapping_df, column='PlateLocation')\n",
      "results = anosim(999)\n",
      "print results"
     ],
     "language": "python",
     "metadata": {},
     "outputs": [
      {
       "output_type": "stream",
       "stream": "stdout",
       "text": [
        "Method name  Sample size  Number of groups    R statistic  p-value  Number of permutations\n",
        "     ANOSIM          833                 2  0.16350971587    0.001                     999\n",
        "\n"
       ]
      }
     ],
     "prompt_number": 41
    },
    {
     "cell_type": "code",
     "collapsed": false,
     "input": [
      "no_wall_filtered_mapping_df = filtered_mapping_df.ix[filtered_mapping_df['PlateLocation'] != 'wall']\n",
      "map_ids = no_wall_filtered_mapping_df.index\n",
      "dm_ids = weighted_dm.ids\n",
      "filter_ids = set(map_ids) & set(dm_ids)\n",
      "filter_ids\n",
      "weighted_dm = weighted_dm.filter(filter_ids)\n",
      "weighted_dm"
     ],
     "language": "python",
     "metadata": {},
     "outputs": [
      {
       "metadata": {},
       "output_type": "pyout",
       "prompt_number": 31,
       "text": [
        "<skbio.stats.distance._base.DistanceMatrix at 0x10f630550>"
       ]
      }
     ],
     "prompt_number": 31
    },
    {
     "cell_type": "code",
     "collapsed": false,
     "input": [
      "anosim = ANOSIM(weighted_dm, no_wall_filtered_mapping_df, column='PlateLocation')\n",
      "results = anosim(999)\n",
      "print results"
     ],
     "language": "python",
     "metadata": {},
     "outputs": [
      {
       "output_type": "stream",
       "stream": "stdout",
       "text": [
        "Method name  Sample size  Number of groups    R statistic  p-value  Number of permutations\n",
        "     ANOSIM          833                 2  0.16350971587    0.001                     999\n",
        "\n"
       ]
      }
     ],
     "prompt_number": 37
    },
    {
     "cell_type": "code",
     "collapsed": false,
     "input": [
      "permanova = PERMANOVA(weighted_dm, no_wall_filtered_mapping_df, column='PlateLocation')\n",
      "results = permanova(999)\n",
      "print results"
     ],
     "language": "python",
     "metadata": {},
     "outputs": [
      {
       "output_type": "stream",
       "stream": "stdout",
       "text": [
        "Method name  Sample size  Number of groups  pseudo-F statistic  p-value  Number of permutations\n",
        "  PERMANOVA          833                 2       56.3097079027    0.001                     999\n",
        "\n"
       ]
      }
     ],
     "prompt_number": 38
    },
    {
     "cell_type": "code",
     "collapsed": false,
     "input": [
      "no_floor_filtered_mapping_df = filtered_mapping_df.ix[filtered_mapping_df['PlateLocation'] != 'floor']\n",
      "map_ids = no_floor_filtered_mapping_df.index\n",
      "dm_ids = weighted_dm.ids\n",
      "filter_ids = set(map_ids) & set(dm_ids)\n",
      "weighted_dm = weighted_dm.filter(filter_ids)\n"
     ],
     "language": "python",
     "metadata": {},
     "outputs": [],
     "prompt_number": 54
    },
    {
     "cell_type": "code",
     "collapsed": false,
     "input": [
      "anosim = ANOSIM(weighted_dm, no_floor_filtered_mapping_df, column='PlateLocation')\n",
      "results = anosim(999)\n",
      "print results"
     ],
     "language": "python",
     "metadata": {},
     "outputs": [
      {
       "output_type": "stream",
       "stream": "stdout",
       "text": [
        "Method name  Sample size  Number of groups       R statistic  p-value  Number of permutations\n",
        "     ANOSIM          836                 2  0.00143463826573    0.146                     999\n",
        "\n"
       ]
      }
     ],
     "prompt_number": 55
    },
    {
     "cell_type": "markdown",
     "metadata": {},
     "source": [
      "Some of these results are a little wonky\n",
      "======================================\n",
      "so I am going to runt them in R"
     ]
    },
    {
     "cell_type": "code",
     "collapsed": false,
     "input": [
      "%pylab inline\n",
      "%load_ext rmagic \n",
      "%R library(vegan)"
     ],
     "language": "python",
     "metadata": {},
     "outputs": [
      {
       "output_type": "stream",
       "stream": "stdout",
       "text": [
        "Populating the interactive namespace from numpy and matplotlib\n",
        "The rmagic extension is already loaded. To reload it, use:\n",
        "  %reload_ext rmagic\n"
       ]
      },
      {
       "metadata": {},
       "output_type": "display_data",
       "text": [
        "Loading required package: permute\n",
        "Loading required package: lattice\n",
        "This is vegan 2.0-10\n"
       ]
      }
     ],
     "prompt_number": 61
    },
    {
     "cell_type": "code",
     "collapsed": false,
     "input": [
      "test_mf = filtered_mapping_df[:5]\n",
      "map_ids = test_mf.index\n",
      "dm_ids = weighted_dm.ids\n",
      "filter_ids = set(map_ids) & set(dm_ids)\n",
      "filter_ids\n",
      "test_dm = weighted_dm.filter(filter_ids)\n",
      "test_mf"
     ],
     "language": "python",
     "metadata": {},
     "outputs": [
      {
       "html": [
        "<div style=\"max-height:1000px;max-width:1500px;overflow:auto;\">\n",
        "<table border=\"1\" class=\"dataframe\">\n",
        "  <thead>\n",
        "    <tr style=\"text-align: right;\">\n",
        "      <th></th>\n",
        "      <th>BarcodeSequence</th>\n",
        "      <th>LinkerPrimerSequence</th>\n",
        "      <th>DateOfCollection</th>\n",
        "      <th>TimeOfCollection</th>\n",
        "      <th>WeekDay</th>\n",
        "      <th>Notes</th>\n",
        "      <th>Cooler</th>\n",
        "      <th>Description</th>\n",
        "      <th>City</th>\n",
        "      <th>PlateLocation</th>\n",
        "      <th>Material</th>\n",
        "      <th>OfficeNumber</th>\n",
        "      <th>Row</th>\n",
        "      <th>Event</th>\n",
        "      <th>OfficeNumberPlateLocation</th>\n",
        "      <th>CityOfficeNumber</th>\n",
        "      <th>CityOfficeNumberLocation</th>\n",
        "      <th>Period</th>\n",
        "      <th>DaysSinceEpoch</th>\n",
        "      <th>Season</th>\n",
        "    </tr>\n",
        "    <tr>\n",
        "      <th>#SampleID</th>\n",
        "      <th></th>\n",
        "      <th></th>\n",
        "      <th></th>\n",
        "      <th></th>\n",
        "      <th></th>\n",
        "      <th></th>\n",
        "      <th></th>\n",
        "      <th></th>\n",
        "      <th></th>\n",
        "      <th></th>\n",
        "      <th></th>\n",
        "      <th></th>\n",
        "      <th></th>\n",
        "      <th></th>\n",
        "      <th></th>\n",
        "      <th></th>\n",
        "      <th></th>\n",
        "      <th></th>\n",
        "      <th></th>\n",
        "      <th></th>\n",
        "    </tr>\n",
        "  </thead>\n",
        "  <tbody>\n",
        "    <tr>\n",
        "      <th>S1F.3.Ca.023</th>\n",
        "      <td> ATGAATGCGTCC</td>\n",
        "      <td> CCGGACTACHVGGGTWTCTAAT</td>\n",
        "      <td> 7/10/2013</td>\n",
        "      <td> 16:30:00</td>\n",
        "      <td> Wednesday</td>\n",
        "      <td>                   JF</td>\n",
        "      <td> no_data</td>\n",
        "      <td> S1F.3.Ca.023</td>\n",
        "      <td> san_diego</td>\n",
        "      <td>   floor</td>\n",
        "      <td>  carpet</td>\n",
        "      <td> 1</td>\n",
        "      <td> 3</td>\n",
        "      <td> 23</td>\n",
        "      <td>   1_floor</td>\n",
        "      <td> san_diego_1</td>\n",
        "      <td>   san_diego_1_floor</td>\n",
        "      <td> 1.0</td>\n",
        "      <td> 15896.0</td>\n",
        "      <td> summer</td>\n",
        "    </tr>\n",
        "    <tr>\n",
        "      <th>S1F.3.Ca.022</th>\n",
        "      <td> GGCCCAATATAA</td>\n",
        "      <td> CCGGACTACHVGGGTWTCTAAT</td>\n",
        "      <td>  7/8/2013</td>\n",
        "      <td> 14:50:00</td>\n",
        "      <td>    Monday</td>\n",
        "      <td>                   PR</td>\n",
        "      <td> no_data</td>\n",
        "      <td> S1F.3.Ca.022</td>\n",
        "      <td> san_diego</td>\n",
        "      <td>   floor</td>\n",
        "      <td>  carpet</td>\n",
        "      <td> 1</td>\n",
        "      <td> 3</td>\n",
        "      <td> 22</td>\n",
        "      <td>   1_floor</td>\n",
        "      <td> san_diego_1</td>\n",
        "      <td>   san_diego_1_floor</td>\n",
        "      <td> 1.0</td>\n",
        "      <td> 15894.0</td>\n",
        "      <td> summer</td>\n",
        "    </tr>\n",
        "    <tr>\n",
        "      <th>S1F.3.Ca.021</th>\n",
        "      <td> GTCCACTTGGAC</td>\n",
        "      <td> CCGGACTACHVGGGTWTCTAAT</td>\n",
        "      <td>  7/6/2013</td>\n",
        "      <td> 10:50:00</td>\n",
        "      <td>  Saturday</td>\n",
        "      <td>                   JF</td>\n",
        "      <td> no_data</td>\n",
        "      <td> S1F.3.Ca.021</td>\n",
        "      <td> san_diego</td>\n",
        "      <td>   floor</td>\n",
        "      <td>  carpet</td>\n",
        "      <td> 1</td>\n",
        "      <td> 3</td>\n",
        "      <td> 21</td>\n",
        "      <td>   1_floor</td>\n",
        "      <td> san_diego_1</td>\n",
        "      <td>   san_diego_1_floor</td>\n",
        "      <td> 1.0</td>\n",
        "      <td> 15892.0</td>\n",
        "      <td> summer</td>\n",
        "    </tr>\n",
        "    <tr>\n",
        "      <th>S2C.3.Dr.003</th>\n",
        "      <td> ATCCTACGAGCA</td>\n",
        "      <td> CCGGACTACHVGGGTWTCTAAT</td>\n",
        "      <td> 5/31/2013</td>\n",
        "      <td> 12:30:00</td>\n",
        "      <td>    Friday</td>\n",
        "      <td>     Time Zero, row 3</td>\n",
        "      <td> no_data</td>\n",
        "      <td> S2C.3.Dr.003</td>\n",
        "      <td> san_diego</td>\n",
        "      <td> ceiling</td>\n",
        "      <td> drywall</td>\n",
        "      <td> 2</td>\n",
        "      <td> 3</td>\n",
        "      <td>  3</td>\n",
        "      <td> 2_ceiling</td>\n",
        "      <td> san_diego_2</td>\n",
        "      <td> san_diego_2_ceiling</td>\n",
        "      <td> 1.0</td>\n",
        "      <td> 15856.0</td>\n",
        "      <td> summer</td>\n",
        "    </tr>\n",
        "    <tr>\n",
        "      <th>S2C.3.Dr.005</th>\n",
        "      <td> GATCAACCCACA</td>\n",
        "      <td> CCGGACTACHVGGGTWTCTAAT</td>\n",
        "      <td>  6/4/2013</td>\n",
        "      <td> 15:10:00</td>\n",
        "      <td>   Tuesday</td>\n",
        "      <td> Training Pascal (PR)</td>\n",
        "      <td> no_data</td>\n",
        "      <td> S2C.3.Dr.005</td>\n",
        "      <td> san_diego</td>\n",
        "      <td> ceiling</td>\n",
        "      <td> drywall</td>\n",
        "      <td> 2</td>\n",
        "      <td> 3</td>\n",
        "      <td>  5</td>\n",
        "      <td> 2_ceiling</td>\n",
        "      <td> san_diego_2</td>\n",
        "      <td> san_diego_2_ceiling</td>\n",
        "      <td> 1.0</td>\n",
        "      <td> 15860.0</td>\n",
        "      <td> summer</td>\n",
        "    </tr>\n",
        "  </tbody>\n",
        "</table>\n",
        "</div>"
       ],
       "metadata": {},
       "output_type": "pyout",
       "prompt_number": 88,
       "text": [
        "             BarcodeSequence    LinkerPrimerSequence DateOfCollection  \\\n",
        "#SampleID                                                               \n",
        "S1F.3.Ca.023    ATGAATGCGTCC  CCGGACTACHVGGGTWTCTAAT        7/10/2013   \n",
        "S1F.3.Ca.022    GGCCCAATATAA  CCGGACTACHVGGGTWTCTAAT         7/8/2013   \n",
        "S1F.3.Ca.021    GTCCACTTGGAC  CCGGACTACHVGGGTWTCTAAT         7/6/2013   \n",
        "S2C.3.Dr.003    ATCCTACGAGCA  CCGGACTACHVGGGTWTCTAAT        5/31/2013   \n",
        "S2C.3.Dr.005    GATCAACCCACA  CCGGACTACHVGGGTWTCTAAT         6/4/2013   \n",
        "\n",
        "             TimeOfCollection    WeekDay                 Notes   Cooler  \\\n",
        "#SampleID                                                                 \n",
        "S1F.3.Ca.023         16:30:00  Wednesday                    JF  no_data   \n",
        "S1F.3.Ca.022         14:50:00     Monday                    PR  no_data   \n",
        "S1F.3.Ca.021         10:50:00   Saturday                    JF  no_data   \n",
        "S2C.3.Dr.003         12:30:00     Friday      Time Zero, row 3  no_data   \n",
        "S2C.3.Dr.005         15:10:00    Tuesday  Training Pascal (PR)  no_data   \n",
        "\n",
        "               Description       City PlateLocation Material OfficeNumber Row  \\\n",
        "#SampleID                                                                       \n",
        "S1F.3.Ca.023  S1F.3.Ca.023  san_diego         floor   carpet            1   3   \n",
        "S1F.3.Ca.022  S1F.3.Ca.022  san_diego         floor   carpet            1   3   \n",
        "S1F.3.Ca.021  S1F.3.Ca.021  san_diego         floor   carpet            1   3   \n",
        "S2C.3.Dr.003  S2C.3.Dr.003  san_diego       ceiling  drywall            2   3   \n",
        "S2C.3.Dr.005  S2C.3.Dr.005  san_diego       ceiling  drywall            2   3   \n",
        "\n",
        "              Event OfficeNumberPlateLocation CityOfficeNumber  \\\n",
        "#SampleID                                                        \n",
        "S1F.3.Ca.023     23                   1_floor      san_diego_1   \n",
        "S1F.3.Ca.022     22                   1_floor      san_diego_1   \n",
        "S1F.3.Ca.021     21                   1_floor      san_diego_1   \n",
        "S2C.3.Dr.003      3                 2_ceiling      san_diego_2   \n",
        "S2C.3.Dr.005      5                 2_ceiling      san_diego_2   \n",
        "\n",
        "             CityOfficeNumberLocation Period DaysSinceEpoch  Season  \n",
        "#SampleID                                                            \n",
        "S1F.3.Ca.023        san_diego_1_floor    1.0        15896.0  summer  \n",
        "S1F.3.Ca.022        san_diego_1_floor    1.0        15894.0  summer  \n",
        "S1F.3.Ca.021        san_diego_1_floor    1.0        15892.0  summer  \n",
        "S2C.3.Dr.003      san_diego_2_ceiling    1.0        15856.0  summer  \n",
        "S2C.3.Dr.005      san_diego_2_ceiling    1.0        15860.0  summer  "
       ]
      }
     ],
     "prompt_number": 88
    },
    {
     "cell_type": "code",
     "collapsed": false,
     "input": [
      "%Rpush test_mf\n",
      "%Rpush test_dm\n",
      "%R anosim(test_dm, grouping=test_mf$'#SampleID', strata='Material')"
     ],
     "language": "python",
     "metadata": {},
     "outputs": [
      {
       "output_type": "stream",
       "stream": "stdout",
       "text": [
        "Error in matrix(nrow = N, ncol = N) : non-numeric matrix extent\n"
       ]
      }
     ],
     "prompt_number": 85
    },
    {
     "cell_type": "code",
     "collapsed": false,
     "input": [
      "anosim(dat = as.dist(unifracnw454), grouping = samples454$Photobiont, strata = samples454$Site)"
     ],
     "language": "python",
     "metadata": {},
     "outputs": []
    }
   ],
   "metadata": {}
  }
 ]
}