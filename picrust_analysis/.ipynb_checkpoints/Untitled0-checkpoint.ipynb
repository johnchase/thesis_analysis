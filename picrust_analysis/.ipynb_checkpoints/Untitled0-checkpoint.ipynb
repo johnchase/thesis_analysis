{
 "metadata": {
  "name": "",
  "signature": "sha256:d427dd3ada3f3b7699e17f48467a8265d19060aff70689241cb200c15df26412"
 },
 "nbformat": 3,
 "nbformat_minor": 0,
 "worksheets": [
  {
   "cells": [
    {
     "cell_type": "markdown",
     "metadata": {},
     "source": [
      "pick closed ref otus\n",
      "------------------"
     ]
    },
    {
     "cell_type": "markdown",
     "metadata": {},
     "source": [
      "#!/bin/bash\n",
      "#\n",
      "#BATCH --job-name=pick_c\n",
      "#SBATCH --ntasks=1\n",
      "#SBATCH --mem-per-cpu=32000\n",
      "#SBATCH --partition=long\n",
      "#SBATCH --output=/scratch/jc33/pick_closed_otus.txt\n",
      "#SBATCH --error=errors_pick_closed_otus.txt\n",
      "#SBATCH --workdir=/scratch/jc33\n",
      "\n",
      "module load qiime\n",
      "\n",
      "srun pick_closed_reference_otus.py -i /scratch/jc33/split_lib_out/seqs.fna -o /scratch/jc33/pick_closed_otus_out -r /packages/qiime/qiime-1.8.0/gg_otus-13_8-release/rep_set/97_otus.fasta -p /scratch/jc33/params.txt -a -O 100"
     ]
    },
    {
     "cell_type": "code",
     "collapsed": false,
     "input": [],
     "language": "python",
     "metadata": {},
     "outputs": []
    }
   ],
   "metadata": {}
  }
 ]
}