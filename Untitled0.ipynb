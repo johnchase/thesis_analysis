{
 "metadata": {
  "name": "",
  "signature": "sha256:76181101df1271db5333b23603a21e4c1ebaae8a1d2e4a3506eeac7ec67a913c"
 },
 "nbformat": 3,
 "nbformat_minor": 0,
 "worksheets": []
}