{
 "metadata": {
  "name": "",
  "signature": "sha256:2ed99631693d6cb4a86d903991846899ac2f1eac8e8e7890929fa48ff20843c0"
 },
 "nbformat": 3,
 "nbformat_minor": 0,
 "worksheets": [
  {
   "cells": [
    {
     "cell_type": "code",
     "collapsed": false,
     "input": [
      "from __future__ import division\n",
      "\n",
      "import pandas as pd\n",
      "from biom import load_table\n",
      "import numpy as np\n",
      "from scipy.stats import ttest_ind, spearmanr, pearsonr\n",
      "from skbio import DistanceMatrix\n",
      "from os.path import join\n"
     ],
     "language": "python",
     "metadata": {},
     "outputs": [
      {
       "output_type": "stream",
       "stream": "stderr",
       "text": [
        "/Users/jc33/.virtualenvs/qiime-dev-old/lib/python2.7/site-packages/matplotlib/__init__.py:1312: UserWarning:  This call to matplotlib.use() has no effect\n",
        "because the backend has already been chosen;\n",
        "matplotlib.use() must be called *before* pylab, matplotlib.pyplot,\n",
        "or matplotlib.backends is imported for the first time.\n",
        "\n",
        "  warnings.warn(_use_error_msg)\n"
       ]
      }
     ],
     "prompt_number": 1
    },
    {
     "cell_type": "code",
     "collapsed": false,
     "input": [
      "files = '/Users/jc33/google_drive/thesis/analysis/files'\n",
      "biom_table = join(files, 'initial_steps/otu_table_mc2_w_tax_no_pynast_failures.biom')\n",
      "biom_table_800 = join(files,'row_2_3_comps/otu_table_mc800_w_tax_no_pynast_failures.biom')\n",
      "mapping_file = join(files, 'initial_steps/mapping_files/periods1-2-3_all_data_barcodes_map.txt')"
     ],
     "language": "python",
     "metadata": {},
     "outputs": [],
     "prompt_number": 2
    },
    {
     "cell_type": "code",
     "collapsed": false,
     "input": [
      "!md5 $biom_table"
     ],
     "language": "python",
     "metadata": {},
     "outputs": [
      {
       "output_type": "stream",
       "stream": "stdout",
       "text": [
        "MD5 (/Users/jc33/google_drive/thesis/analysis/files/initial_steps/otu_table_mc2_w_tax_no_pynast_failures.biom) = 9451aa1b0f2c4049de24291a0fa6c770\r\n"
       ]
      }
     ],
     "prompt_number": 3
    },
    {
     "cell_type": "markdown",
     "metadata": {},
     "source": [
      "Steps to take \n",
      "-------------\n",
      "1. get the list of sample ids from the whole mapping file.\n",
      "2. get a list of all of the row 2 ids from mapping file.\n",
      "\n",
      "3. filter the otu table to 800\n",
      "4. Get the ids from the otu table\n",
      "\n",
      "5. loop through the row 2 ids, if that id is in the list of otu table for both row 2 and 3 keep both rows in a new list. Otherwise discard both\n",
      "\n",
      "6. compute correlation for pairs of ids\n",
      "\n",
      "7. compute correlation \n",
      "\n",
      "\n",
      "\n",
      "\n",
      "6. create distance full distance matrix \n",
      "\n",
      "7. filter distance matrix to only include paired samples\n"
     ]
    },
    {
     "cell_type": "markdown",
     "metadata": {},
     "source": [
      "Begin Function Definitions\n",
      "=========================="
     ]
    },
    {
     "cell_type": "code",
     "collapsed": false,
     "input": [
      "#Define a function that will return paired ids based on some criteria\n",
      "#loop through the ids, if that id is in the list of otu table for both pairs keep both rows in a new list. \n",
      "#Otherwise discard both\n",
      "\n",
      "def get_paired_ids(sample_ids, pair_index, pair1_val, pair2_val):\n",
      "    '''\n",
      "    sample_ids list or array of all possible ids \n",
      "    pair index is the location of the difference\n",
      "    '''\n",
      "    first_pairs = [i for i in sample_ids if i[pair_index] == pair1_val]\n",
      "    if len(first_pairs) != len(set(first_pairs)):\n",
      "        print \"Warning duplicate single ids found, check id list!\" \n",
      "    paired_ids = []\n",
      "    for first_pair in first_pairs:\n",
      "        second_pair = (first_pair[:pair_index] + pair2_val + first_pair[(pair_index + 1):])\n",
      "        pairs = []\n",
      "        if second_pair in sample_ids:\n",
      "            pairs.append(first_pair)\n",
      "            pairs.append(second_pair)\n",
      "            paired_ids.append(pairs)\n",
      "        else: \n",
      "            pass\n",
      "    return paired_ids"
     ],
     "language": "python",
     "metadata": {},
     "outputs": [],
     "prompt_number": 10
    },
    {
     "cell_type": "code",
     "collapsed": false,
     "input": [
      "#define a function that takes an otu table and paired ids and returns the rho values for each\n",
      "def spearman_dist(otu_table, ids):\n",
      "    rhos = []\n",
      "    for i in ids:\n",
      "        rho, p_val = spearmanr(otu_table.data(i[0], axis='sample'), otu_table.data(i[1], axis='sample'))\n",
      "        rhos.append(rho)\n",
      "    return rhos"
     ],
     "language": "python",
     "metadata": {},
     "outputs": [],
     "prompt_number": 11
    },
    {
     "cell_type": "code",
     "collapsed": false,
     "input": [
      "def get_paired_differences(dm, sample_id_pairs_1, sample_id_pairs_2):\n",
      "    distances_1 = [dm.filter(i)[0][1] for i in sample_id_pairs_1]\n",
      "    distances_2 = [dm.filter(i)[0][1] for i in sample_id_pairs_2]\n",
      "    test_stat, p_value = ttest_ind(distances_1, distances_2)\n",
      "    return round((test_stat/2), 2), round((p_value/2), 2)\n",
      "\n",
      "\n",
      "#There is a different method in skbio that would be easier to use\n",
      "#The distances here could also be taken from a pandas dataframe\n",
      "#df[sample_id_pairs_1]"
     ],
     "language": "python",
     "metadata": {},
     "outputs": [],
     "prompt_number": 12
    },
    {
     "cell_type": "code",
     "collapsed": false,
     "input": [
      "#Function to shuffle the sample ids\n",
      "def get_shuffled_ids(sample_ids):\n",
      "    ids1, ids2 = zip(*sample_ids)\n",
      "    ids1 = list(ids1)\n",
      "    ids2 = list(ids2)\n",
      "    np.random.shuffle(ids1)\n",
      "    np.random.shuffle(ids2)\n",
      "    shuffled_ids = [i for i in zip(ids1, ids2)]\n",
      "    return shuffled_ids"
     ],
     "language": "python",
     "metadata": {},
     "outputs": [],
     "prompt_number": 13
    },
    {
     "cell_type": "code",
     "collapsed": false,
     "input": [
      "def get_distance_table(dm, sample_ids):\n",
      "    sample_keys = sample_ids.keys()\n",
      "    distances_df = pd.DataFrame(index=sample_keys, columns=sample_keys)\n",
      "    for i in sample_keys:\n",
      "        for j in sample_keys:\n",
      "            difference = get_paired_differences(dm, sample_ids[i], sample_ids[j])\n",
      "            distances_df[i][j] = difference\n",
      "    return distances_df"
     ],
     "language": "python",
     "metadata": {},
     "outputs": [],
     "prompt_number": 14
    },
    {
     "cell_type": "code",
     "collapsed": false,
     "input": [
      "def get_correlation_table(otu_table, sample_ids):\n",
      "    id_pairs = sample_ids.keys()\n",
      "    rho_values = [spearman_dist(otu_table, i) for i in sample_ids.values()]\n",
      "    dictionary = dict(zip(id_pairs, rho_values))\n",
      "    distances_df = pd.DataFrame(index=id_pairs, columns=id_pairs)\n",
      "    for i in id_pairs:\n",
      "        for j in id_pairs:\n",
      "            difference = ttest_ind(dictionary[i], dictionary[j])\n",
      "            distances_df[i][j] = difference\n",
      "\n",
      "    return distances_df"
     ],
     "language": "python",
     "metadata": {},
     "outputs": [],
     "prompt_number": 15
    },
    {
     "cell_type": "markdown",
     "metadata": {},
     "source": [
      "End Function Definitions\n",
      "======================="
     ]
    },
    {
     "cell_type": "code",
     "collapsed": false,
     "input": [
      "#Filter the full table to not include any samples with less than 800 samples. \n",
      "!filter_samples_from_otu_table.py -i $biom_table -n 800 -o $biom_table_800 "
     ],
     "language": "python",
     "metadata": {},
     "outputs": [
      {
       "output_type": "stream",
       "stream": "stdout",
       "text": [
        "^C\r\n"
       ]
      }
     ],
     "prompt_number": 34
    },
    {
     "cell_type": "code",
     "collapsed": false,
     "input": [
      "!biom summarize-table -i $biom_table_800"
     ],
     "language": "python",
     "metadata": {},
     "outputs": [
      {
       "output_type": "stream",
       "stream": "stdout",
       "text": [
        "^C\r\n"
       ]
      }
     ],
     "prompt_number": 11
    },
    {
     "cell_type": "code",
     "collapsed": false,
     "input": [
      "#weighted unifrac plots\n",
      "!make_distance_boxplots.py -m $mapping_file -d $weighted_dm_fp -o '/Users/jc33/google_drive/thesis/analysis/files/row_23_dist_plots' -f Row --suppress_individual_within --suppress_individual_between -n 999"
     ],
     "language": "python",
     "metadata": {},
     "outputs": [
      {
       "output_type": "stream",
       "stream": "stdout",
       "text": [
        "Traceback (most recent call last):\r\n",
        "  File \"/Users/jc33/.virtualenvs/qiime-dev-old/bin/make_distance_boxplots.py\", line 15, in <module>\r\n",
        "    from skbio.util.misc import create_dir\r\n",
        "ImportError: No module named misc\r\n"
       ]
      }
     ],
     "prompt_number": 12
    },
    {
     "cell_type": "code",
     "collapsed": false,
     "input": [
      "!time make_distance_boxplots.py -m $mapping_file -d $weighted_dm_fp -o '/Users/jc33/google_drive/thesis/analysis/files/row_23_dist_plots' -f Material --suppress_individual_within --suppress_individual_between -n 999"
     ],
     "language": "python",
     "metadata": {},
     "outputs": [
      {
       "output_type": "stream",
       "stream": "stdout",
       "text": [
        "Traceback (most recent call last):\r\n",
        "  File \"/Users/jc33/.virtualenvs/qiime-dev-old/bin/make_distance_boxplots.py\", line 15, in <module>\r\n",
        "    from skbio.util.misc import create_dir\r\n",
        "ImportError: No module named misc\r\n"
       ]
      },
      {
       "output_type": "stream",
       "stream": "stdout",
       "text": [
        "\r\n",
        "real\t0m2.272s\r\n",
        "user\t0m1.879s\r\n",
        "sys\t0m0.387s\r\n"
       ]
      }
     ],
     "prompt_number": 13
    },
    {
     "cell_type": "code",
     "collapsed": false,
     "input": [
      "#Get the ids from the otu table\n",
      "otu_table_800 = load_table(biom_table_800)\n",
      "sample_ids_from_table = otu_table_800.ids()"
     ],
     "language": "python",
     "metadata": {},
     "outputs": [],
     "prompt_number": 16
    },
    {
     "cell_type": "code",
     "collapsed": false,
     "input": [
      "sample_ids_from_table[:5]"
     ],
     "language": "python",
     "metadata": {},
     "outputs": [
      {
       "metadata": {},
       "output_type": "pyout",
       "prompt_number": 17,
       "text": [
        "array([u'F1F.3.Ca.020', u'F2C.3.Ce.019', u'F1F.3.Ce.050', u'F2F.3.Ce.050',\n",
        "       u'F2C.3.Dr.050'], dtype=object)"
       ]
      }
     ],
     "prompt_number": 17
    },
    {
     "cell_type": "code",
     "collapsed": false,
     "input": [
      "all_id_pairs = {}"
     ],
     "language": "python",
     "metadata": {},
     "outputs": [],
     "prompt_number": 18
    },
    {
     "cell_type": "code",
     "collapsed": false,
     "input": [
      "#get row 2 and 3 paired_ids\n",
      "row23_ids = get_paired_ids(sample_ids_from_table, 4, '2', '3')\n",
      "all_id_pairs['row23_ids'] = row23_ids\n"
     ],
     "language": "python",
     "metadata": {},
     "outputs": [],
     "prompt_number": 19
    },
    {
     "cell_type": "code",
     "collapsed": false,
     "input": [
      "# get floor and ceiling pairs\n",
      "fc_ids = get_paired_ids(sample_ids_from_table, 2, 'F', 'C')\n",
      "all_id_pairs['fc_ids'] = fc_ids"
     ],
     "language": "python",
     "metadata": {},
     "outputs": [],
     "prompt_number": 20
    },
    {
     "cell_type": "code",
     "collapsed": false,
     "input": [
      "#get floor wall pairs\n",
      "fw_ids = get_paired_ids(sample_ids_from_table, 2, 'F', 'W')\n",
      "all_id_pairs['fw_ids'] = fw_ids\n"
     ],
     "language": "python",
     "metadata": {},
     "outputs": [],
     "prompt_number": 21
    },
    {
     "cell_type": "code",
     "collapsed": false,
     "input": [
      "#get wall ceiling pairs\n",
      "wc_ids = get_paired_ids(sample_ids_from_table, 2, 'W', 'C')\n",
      "all_id_pairs['wc_ids'] = wc_ids\n"
     ],
     "language": "python",
     "metadata": {},
     "outputs": [],
     "prompt_number": 22
    },
    {
     "cell_type": "code",
     "collapsed": false,
     "input": [
      "# First collapse the otu table by Level\n",
      "L3_biom_out = join(files, 'L3_tables')\n",
      "!summarize_taxa.py -i $biom_table_800 -o $L3_biom_out -L 3\n"
     ],
     "language": "python",
     "metadata": {},
     "outputs": [
      {
       "output_type": "stream",
       "stream": "stdout",
       "text": [
        "Traceback (most recent call last):\r\n",
        "  File \"/Users/jc33/.virtualenvs/qiime-dev-old/bin/summarize_taxa.py\", line 23, in <module>\r\n",
        "    from qiime.util import (parse_command_line_parameters, make_option,\r\n",
        "  File \"/Users/jc33/.virtualenvs/qiime-dev-old/lib/python2.7/site-packages/qiime/util.py\", line 48, in <module>\r\n",
        "    from skbio.util.misc import remove_files, create_dir\r\n",
        "ImportError: No module named misc\r\n"
       ]
      }
     ],
     "prompt_number": 22
    },
    {
     "cell_type": "code",
     "collapsed": false,
     "input": [
      "shuffled_row_2_3_pairs1 = get_shuffled_ids(row23_ids)\n",
      "shuffled_row_2_3_pairs2 = get_shuffled_ids(row23_ids)\n",
      "all_id_pairs['shuffled_row_2_3_pairs1'] = shuffled_row_2_3_pairs1\n",
      "all_id_pairs['shuffled_row_2_3_pairs2'] = shuffled_row_2_3_pairs2"
     ],
     "language": "python",
     "metadata": {},
     "outputs": [],
     "prompt_number": 28
    },
    {
     "cell_type": "code",
     "collapsed": false,
     "input": [
      "\n",
      "otu_table_L3 = load_table('/Users/jc33/google_drive/thesis/analysis/files/L3_tables/otu_table_mc800_w_tax_no_pynast_failures_L3.biom')"
     ],
     "language": "python",
     "metadata": {},
     "outputs": [],
     "prompt_number": 27
    },
    {
     "cell_type": "markdown",
     "metadata": {},
     "source": [
      "Same as above with L4\n",
      "-------------------"
     ]
    },
    {
     "cell_type": "code",
     "collapsed": false,
     "input": [
      "# First collapse the otu table by Level\n",
      "L4_biom_table = join(files, 'L4_tables')\n",
      "!summarize_taxa.py -i $biom_table_800 -o $L4_biom_table -L 4"
     ],
     "language": "python",
     "metadata": {},
     "outputs": [],
     "prompt_number": 28
    },
    {
     "cell_type": "code",
     "collapsed": false,
     "input": [
      "otu_table_L4 = load_table('/Users/jc33/google_drive/thesis/analysis/files/L4_tables/otu_table_mc800_w_tax_no_pynast_failures_L4.biom')"
     ],
     "language": "python",
     "metadata": {},
     "outputs": [],
     "prompt_number": 29
    },
    {
     "cell_type": "code",
     "collapsed": false,
     "input": [
      "#create distance full distance matrix\n",
      "!beta_diversity.py -i '../otu_table_mc2_w_tax_no_pynast_failures_mc800.biom' -t '../rep_set.tre' -o './'"
     ],
     "language": "python",
     "metadata": {},
     "outputs": []
    },
    {
     "cell_type": "code",
     "collapsed": false,
     "input": [
      "# Load the distance matrices\n",
      "dm_fp = '/Users/jc33/google_drive/thesis/analysis/files/initial_steps/filtered_bd_out'\n",
      "weighted_dm_fp = join(dm_fp, 'weighted_unifrac_otu_table_mc800_w_tax_no_pynast_failures.txt')\n",
      "weighted_dm = DistanceMatrix.read(weighted_dm_fp, delimiter='\\t')\n",
      "unweighted_dm_fp = join(dm_fp, 'unweighted_unifrac_otu_table_mc800_w_tax_no_pynast_failures.txt')\n",
      "unweighted_dm = DistanceMatrix.read(unweighted_dm_fp, delimiter='\\t')\n",
      "weighted_dm[:5]"
     ],
     "language": "python",
     "metadata": {},
     "outputs": [
      {
       "metadata": {},
       "output_type": "pyout",
       "prompt_number": 25,
       "text": [
        "array([[ 0.        ,  0.60255169,  0.61586986, ...,  0.5998678 ,\n",
        "         0.46496927,  0.73825761],\n",
        "       [ 0.60255169,  0.        ,  0.56853451, ...,  0.56895224,\n",
        "         0.59825329,  0.74405751],\n",
        "       [ 0.61586986,  0.56853451,  0.        , ...,  0.48758233,\n",
        "         0.60969615,  0.64540336],\n",
        "       [ 0.50069571,  0.55262554,  0.51741007, ...,  0.53751186,\n",
        "         0.65933857,  0.77114044],\n",
        "       [ 0.74641154,  0.73767659,  0.35310046, ...,  0.63021104,\n",
        "         0.66326601,  0.66227672]])"
       ]
      }
     ],
     "prompt_number": 25
    },
    {
     "cell_type": "code",
     "collapsed": false,
     "input": [
      "truncated_table = weighted_dm[:5].ix[:, :5]\n",
      "truncated_table.to_csv('truncated_table.txt', sep='\\t')"
     ],
     "language": "python",
     "metadata": {},
     "outputs": [],
     "prompt_number": 28
    },
    {
     "cell_type": "markdown",
     "metadata": {},
     "source": [
      "Create data frame of various values so I can have a table of comparisons. Create one for correlations and one for distances\n",
      "-------------------------------------"
     ]
    },
    {
     "cell_type": "code",
     "collapsed": false,
     "input": [
      "weighted_table = get_distance_table(weighted_dm, all_id_pairs)\n",
      "weighted_table\n",
      "weighted_table.to_csv('weighted_dist_table.tsv', sep='\\t', header=False, index=False)\n",
      "weighted_table"
     ],
     "language": "python",
     "metadata": {},
     "outputs": [
      {
       "html": [
        "<div style=\"max-height:1000px;max-width:1500px;overflow:auto;\">\n",
        "<table border=\"1\" class=\"dataframe\">\n",
        "  <thead>\n",
        "    <tr style=\"text-align: right;\">\n",
        "      <th></th>\n",
        "      <th>row23_ids</th>\n",
        "      <th>fc_ids</th>\n",
        "      <th>fw_ids</th>\n",
        "      <th>wc_ids</th>\n",
        "      <th>shuffled_row_2_3_pairs2</th>\n",
        "      <th>shuffled_row_2_3_pairs1</th>\n",
        "    </tr>\n",
        "  </thead>\n",
        "  <tbody>\n",
        "    <tr>\n",
        "      <th>row23_ids</th>\n",
        "      <td>   (0.0, 0.5)</td>\n",
        "      <td>  (2.72, 0.0)</td>\n",
        "      <td>   (1.87, 0.0)</td>\n",
        "      <td> (-1.07, 0.02)</td>\n",
        "      <td>   (6.18, 0.0)</td>\n",
        "      <td>  (7.28, 0.0)</td>\n",
        "    </tr>\n",
        "    <tr>\n",
        "      <th>fc_ids</th>\n",
        "      <td> (-2.72, 0.0)</td>\n",
        "      <td>   (0.0, 0.5)</td>\n",
        "      <td> (-0.95, 0.03)</td>\n",
        "      <td>  (-3.94, 0.0)</td>\n",
        "      <td>   (3.32, 0.0)</td>\n",
        "      <td>  (4.17, 0.0)</td>\n",
        "    </tr>\n",
        "    <tr>\n",
        "      <th>fw_ids</th>\n",
        "      <td> (-1.87, 0.0)</td>\n",
        "      <td> (0.95, 0.03)</td>\n",
        "      <td>    (0.0, 0.5)</td>\n",
        "      <td>  (-3.06, 0.0)</td>\n",
        "      <td>   (4.37, 0.0)</td>\n",
        "      <td>  (5.31, 0.0)</td>\n",
        "    </tr>\n",
        "    <tr>\n",
        "      <th>wc_ids</th>\n",
        "      <td> (1.07, 0.02)</td>\n",
        "      <td>  (3.94, 0.0)</td>\n",
        "      <td>   (3.06, 0.0)</td>\n",
        "      <td>    (0.0, 0.5)</td>\n",
        "      <td>   (7.49, 0.0)</td>\n",
        "      <td>  (8.62, 0.0)</td>\n",
        "    </tr>\n",
        "    <tr>\n",
        "      <th>shuffled_row_2_3_pairs2</th>\n",
        "      <td> (-6.18, 0.0)</td>\n",
        "      <td> (-3.32, 0.0)</td>\n",
        "      <td>  (-4.37, 0.0)</td>\n",
        "      <td>  (-7.49, 0.0)</td>\n",
        "      <td>    (0.0, 0.5)</td>\n",
        "      <td> (0.73, 0.07)</td>\n",
        "    </tr>\n",
        "    <tr>\n",
        "      <th>shuffled_row_2_3_pairs1</th>\n",
        "      <td> (-7.28, 0.0)</td>\n",
        "      <td> (-4.17, 0.0)</td>\n",
        "      <td>  (-5.31, 0.0)</td>\n",
        "      <td>  (-8.62, 0.0)</td>\n",
        "      <td> (-0.73, 0.07)</td>\n",
        "      <td>   (0.0, 0.5)</td>\n",
        "    </tr>\n",
        "  </tbody>\n",
        "</table>\n",
        "</div>"
       ],
       "metadata": {},
       "output_type": "pyout",
       "prompt_number": 39,
       "text": [
        "                            row23_ids        fc_ids         fw_ids  \\\n",
        "row23_ids                  (0.0, 0.5)   (2.72, 0.0)    (1.87, 0.0)   \n",
        "fc_ids                   (-2.72, 0.0)    (0.0, 0.5)  (-0.95, 0.03)   \n",
        "fw_ids                   (-1.87, 0.0)  (0.95, 0.03)     (0.0, 0.5)   \n",
        "wc_ids                   (1.07, 0.02)   (3.94, 0.0)    (3.06, 0.0)   \n",
        "shuffled_row_2_3_pairs2  (-6.18, 0.0)  (-3.32, 0.0)   (-4.37, 0.0)   \n",
        "shuffled_row_2_3_pairs1  (-7.28, 0.0)  (-4.17, 0.0)   (-5.31, 0.0)   \n",
        "\n",
        "                                wc_ids shuffled_row_2_3_pairs2  \\\n",
        "row23_ids                (-1.07, 0.02)             (6.18, 0.0)   \n",
        "fc_ids                    (-3.94, 0.0)             (3.32, 0.0)   \n",
        "fw_ids                    (-3.06, 0.0)             (4.37, 0.0)   \n",
        "wc_ids                      (0.0, 0.5)             (7.49, 0.0)   \n",
        "shuffled_row_2_3_pairs2   (-7.49, 0.0)              (0.0, 0.5)   \n",
        "shuffled_row_2_3_pairs1   (-8.62, 0.0)           (-0.73, 0.07)   \n",
        "\n",
        "                        shuffled_row_2_3_pairs1  \n",
        "row23_ids                           (7.28, 0.0)  \n",
        "fc_ids                              (4.17, 0.0)  \n",
        "fw_ids                              (5.31, 0.0)  \n",
        "wc_ids                              (8.62, 0.0)  \n",
        "shuffled_row_2_3_pairs2            (0.73, 0.07)  \n",
        "shuffled_row_2_3_pairs1              (0.0, 0.5)  "
       ]
      }
     ],
     "prompt_number": 39
    },
    {
     "cell_type": "code",
     "collapsed": false,
     "input": [
      "get_distance_table(unweighted_dm, all_id_pairs)"
     ],
     "language": "python",
     "metadata": {},
     "outputs": [
      {
       "html": [
        "<div style=\"max-height:1000px;max-width:1500px;overflow:auto;\">\n",
        "<table border=\"1\" class=\"dataframe\">\n",
        "  <thead>\n",
        "    <tr style=\"text-align: right;\">\n",
        "      <th></th>\n",
        "      <th>row23_ids</th>\n",
        "      <th>fc_ids</th>\n",
        "      <th>fw_ids</th>\n",
        "      <th>wc_ids</th>\n",
        "      <th>shuffled_row_2_3_pairs2</th>\n",
        "      <th>shuffled_row_2_3_pairs1</th>\n",
        "    </tr>\n",
        "  </thead>\n",
        "  <tbody>\n",
        "    <tr>\n",
        "      <th>row23_ids</th>\n",
        "      <td>   (0.0, 0.5)</td>\n",
        "      <td>  (2.61, 0.0)</td>\n",
        "      <td>   (1.51, 0.0)</td>\n",
        "      <td> (-0.77, 0.06)</td>\n",
        "      <td>    (7.5, 0.0)</td>\n",
        "      <td>  (8.48, 0.0)</td>\n",
        "    </tr>\n",
        "    <tr>\n",
        "      <th>fc_ids</th>\n",
        "      <td> (-2.61, 0.0)</td>\n",
        "      <td>   (0.0, 0.5)</td>\n",
        "      <td> (-1.19, 0.01)</td>\n",
        "      <td>  (-3.74, 0.0)</td>\n",
        "      <td>   (4.94, 0.0)</td>\n",
        "      <td>  (5.79, 0.0)</td>\n",
        "    </tr>\n",
        "    <tr>\n",
        "      <th>fw_ids</th>\n",
        "      <td> (-1.51, 0.0)</td>\n",
        "      <td> (1.19, 0.01)</td>\n",
        "      <td>    (0.0, 0.5)</td>\n",
        "      <td>  (-2.52, 0.0)</td>\n",
        "      <td>   (6.25, 0.0)</td>\n",
        "      <td>  (7.17, 0.0)</td>\n",
        "    </tr>\n",
        "    <tr>\n",
        "      <th>wc_ids</th>\n",
        "      <td> (0.77, 0.06)</td>\n",
        "      <td>  (3.74, 0.0)</td>\n",
        "      <td>   (2.52, 0.0)</td>\n",
        "      <td>    (0.0, 0.5)</td>\n",
        "      <td>    (9.3, 0.0)</td>\n",
        "      <td> (10.45, 0.0)</td>\n",
        "    </tr>\n",
        "    <tr>\n",
        "      <th>shuffled_row_2_3_pairs2</th>\n",
        "      <td>  (-7.5, 0.0)</td>\n",
        "      <td> (-4.94, 0.0)</td>\n",
        "      <td>  (-6.25, 0.0)</td>\n",
        "      <td>   (-9.3, 0.0)</td>\n",
        "      <td>    (0.0, 0.5)</td>\n",
        "      <td> (0.71, 0.08)</td>\n",
        "    </tr>\n",
        "    <tr>\n",
        "      <th>shuffled_row_2_3_pairs1</th>\n",
        "      <td> (-8.48, 0.0)</td>\n",
        "      <td> (-5.79, 0.0)</td>\n",
        "      <td>  (-7.17, 0.0)</td>\n",
        "      <td> (-10.45, 0.0)</td>\n",
        "      <td> (-0.71, 0.08)</td>\n",
        "      <td>   (0.0, 0.5)</td>\n",
        "    </tr>\n",
        "  </tbody>\n",
        "</table>\n",
        "</div>"
       ],
       "metadata": {},
       "output_type": "pyout",
       "prompt_number": 36,
       "text": [
        "                            row23_ids        fc_ids         fw_ids  \\\n",
        "row23_ids                  (0.0, 0.5)   (2.61, 0.0)    (1.51, 0.0)   \n",
        "fc_ids                   (-2.61, 0.0)    (0.0, 0.5)  (-1.19, 0.01)   \n",
        "fw_ids                   (-1.51, 0.0)  (1.19, 0.01)     (0.0, 0.5)   \n",
        "wc_ids                   (0.77, 0.06)   (3.74, 0.0)    (2.52, 0.0)   \n",
        "shuffled_row_2_3_pairs2   (-7.5, 0.0)  (-4.94, 0.0)   (-6.25, 0.0)   \n",
        "shuffled_row_2_3_pairs1  (-8.48, 0.0)  (-5.79, 0.0)   (-7.17, 0.0)   \n",
        "\n",
        "                                wc_ids shuffled_row_2_3_pairs2  \\\n",
        "row23_ids                (-0.77, 0.06)              (7.5, 0.0)   \n",
        "fc_ids                    (-3.74, 0.0)             (4.94, 0.0)   \n",
        "fw_ids                    (-2.52, 0.0)             (6.25, 0.0)   \n",
        "wc_ids                      (0.0, 0.5)              (9.3, 0.0)   \n",
        "shuffled_row_2_3_pairs2    (-9.3, 0.0)              (0.0, 0.5)   \n",
        "shuffled_row_2_3_pairs1  (-10.45, 0.0)           (-0.71, 0.08)   \n",
        "\n",
        "                        shuffled_row_2_3_pairs1  \n",
        "row23_ids                           (8.48, 0.0)  \n",
        "fc_ids                              (5.79, 0.0)  \n",
        "fw_ids                              (7.17, 0.0)  \n",
        "wc_ids                             (10.45, 0.0)  \n",
        "shuffled_row_2_3_pairs2            (0.71, 0.08)  \n",
        "shuffled_row_2_3_pairs1              (0.0, 0.5)  "
       ]
      }
     ],
     "prompt_number": 36
    },
    {
     "cell_type": "code",
     "collapsed": false,
     "input": [
      "unweighted_table = get_distance_table(unweighted_dm, all_id_pairs)\n",
      "unweighted_table\n",
      "unweighted_table.to_csv('unweighted_dist_table.tsv', sep='\\t', header=False, index=False)"
     ],
     "language": "python",
     "metadata": {},
     "outputs": [],
     "prompt_number": 38
    },
    {
     "cell_type": "code",
     "collapsed": false,
     "input": [
      "get_correlation_table(otu_table_L3, all_id_pairs)"
     ],
     "language": "python",
     "metadata": {},
     "outputs": [
      {
       "ename": "NameError",
       "evalue": "name 'otu_table_L3' is not defined",
       "output_type": "pyerr",
       "traceback": [
        "\u001b[0;31m---------------------------------------------------------------------------\u001b[0m\n\u001b[0;31mNameError\u001b[0m                                 Traceback (most recent call last)",
        "\u001b[0;32m<ipython-input-48-7d2ef8244ef9>\u001b[0m in \u001b[0;36m<module>\u001b[0;34m()\u001b[0m\n\u001b[0;32m----> 1\u001b[0;31m \u001b[0mget_correlation_table\u001b[0m\u001b[0;34m(\u001b[0m\u001b[0motu_table_L3\u001b[0m\u001b[0;34m,\u001b[0m \u001b[0mall_id_pairs\u001b[0m\u001b[0;34m)\u001b[0m\u001b[0;34m\u001b[0m\u001b[0m\n\u001b[0m",
        "\u001b[0;31mNameError\u001b[0m: name 'otu_table_L3' is not defined"
       ]
      }
     ],
     "prompt_number": 48
    },
    {
     "cell_type": "code",
     "collapsed": false,
     "input": [
      "get_correlation_table(otu_table_L4, all_id_pairs)"
     ],
     "language": "python",
     "metadata": {},
     "outputs": [
      {
       "ename": "NameError",
       "evalue": "name 'otu_table_L4' is not defined",
       "output_type": "pyerr",
       "traceback": [
        "\u001b[0;31m---------------------------------------------------------------------------\u001b[0m\n\u001b[0;31mNameError\u001b[0m                                 Traceback (most recent call last)",
        "\u001b[0;32m<ipython-input-20-1dcbf9c0ca19>\u001b[0m in \u001b[0;36m<module>\u001b[0;34m()\u001b[0m\n\u001b[0;32m----> 1\u001b[0;31m \u001b[0mget_correlation_table\u001b[0m\u001b[0;34m(\u001b[0m\u001b[0motu_table_L4\u001b[0m\u001b[0;34m,\u001b[0m \u001b[0mall_id_pairs\u001b[0m\u001b[0;34m)\u001b[0m\u001b[0;34m\u001b[0m\u001b[0m\n\u001b[0m",
        "\u001b[0;31mNameError\u001b[0m: name 'otu_table_L4' is not defined"
       ]
      }
     ],
     "prompt_number": 20
    },
    {
     "cell_type": "code",
     "collapsed": false,
     "input": [
      "dm = '/Users/jc33/Dropbox/caporaso_lab/office_study/All_periods/core_div_out/bdiv_even5000/weighted_unifrac_dm.txt'"
     ],
     "language": "python",
     "metadata": {},
     "outputs": [],
     "prompt_number": 4
    },
    {
     "cell_type": "code",
     "collapsed": false,
     "input": [
      "weighted_dm = DistanceMatrix.from_file(dm, delimiter='\\t')\n",
      "%timeit weighted_dm[('S1F.3.Dr.042', 'F1F.2.Ca.011')]\n"
     ],
     "language": "python",
     "metadata": {},
     "outputs": [
      {
       "output_type": "stream",
       "stream": "stdout",
       "text": [
        "100000 loops, best of 3: 4.87 \u00b5s per loop\n"
       ]
      }
     ],
     "prompt_number": 5
    },
    {
     "cell_type": "code",
     "collapsed": false,
     "input": [
      "weighted_dm = pd.read_csv(dm, sep='\\t', index_col='Unnamed: 0')\n",
      "%timeit weighted_dm['S1F.3.Dr.042']['F1F.2.Ca.011']"
     ],
     "language": "python",
     "metadata": {},
     "outputs": [
      {
       "output_type": "stream",
       "stream": "stdout",
       "text": [
        "100000 loops, best of 3: 9.71 \u00b5s per loop\n"
       ]
      }
     ],
     "prompt_number": 47
    },
    {
     "cell_type": "markdown",
     "metadata": {},
     "source": [
      "ANOSIM and PERMANOVA\n",
      "==================="
     ]
    },
    {
     "cell_type": "code",
     "collapsed": false,
     "input": [
      "from skbio import DistanceMatrix\n",
      "dm = DistanceMatrix([[0, 1, 1, 4],\n",
      "                     [1, 0, 3, 2],\n",
      "                     [1, 3, 0, 3],\n",
      "                     [4, 2, 3, 0]],\n",
      "                    ['s1', 's2', 's3', 's4'])\n",
      "grouping = ['Group1', 'Group1', 'Group2', 'Group2']"
     ],
     "language": "python",
     "metadata": {},
     "outputs": [],
     "prompt_number": 34
    },
    {
     "cell_type": "code",
     "collapsed": false,
     "input": [
      "import numpy as np\n",
      "from skbio.stats.distance import ANOSIM, PERMANOVA\n"
     ],
     "language": "python",
     "metadata": {},
     "outputs": [],
     "prompt_number": 13
    },
    {
     "cell_type": "code",
     "collapsed": false,
     "input": [
      "import pandas as pd\n",
      "df = pd.DataFrame.from_dict(\n",
      "    {'Group': {'s2': 'Group1', 's3': 'Group2', 's4': 'Group2',\n",
      "               's5': 'Group3', 's1': 'Group1'}})\n",
      "anosim = ANOSIM(dm, df, column='Group')\n",
      "results = anosim(99)\n",
      "print results"
     ],
     "language": "python",
     "metadata": {},
     "outputs": [
      {
       "output_type": "stream",
       "stream": "stdout",
       "text": [
        "Method name  Sample size  Number of groups  R statistic  p-value  Number of permutations\n",
        "     ANOSIM            4                 2         0.25     0.68                      99\n",
        "\n"
       ]
      }
     ],
     "prompt_number": 36
    },
    {
     "cell_type": "code",
     "collapsed": false,
     "input": [
      "mapping_df = pd.read_csv(mapping_file, sep='\\t', index_col=0)"
     ],
     "language": "python",
     "metadata": {},
     "outputs": [],
     "prompt_number": 14
    },
    {
     "cell_type": "code",
     "collapsed": false,
     "input": [
      "dm_fp = '/Users/jc33/google_drive/thesis/analysis/files/initial_steps/filtered_bd_out'\n",
      "weighted_dm_fp = join(dm_fp, 'weighted_unifrac_otu_table_mc800_w_tax_no_pynast_failures.txt')\n",
      "weighted_dm = DistanceMatrix.read(weighted_dm_fp, delimiter='\\t')\n",
      "unweighted_dm_fp = join(dm_fp, 'unweighted_unifrac_otu_table_mc800_w_tax_no_pynast_failures.txt')\n",
      "unweighted_dm = DistanceMatrix.read(unweighted_dm_fp, delimiter='\\t')"
     ],
     "language": "python",
     "metadata": {},
     "outputs": [],
     "prompt_number": 15
    },
    {
     "cell_type": "code",
     "collapsed": false,
     "input": [
      "filtered_mapping_df = mapping_df.drop(['blankswab5', 'blankswab1', 'blankswab2', 'blankswab3' , 'blankswab4'])\n",
      "filtered_mapping_df.columns"
     ],
     "language": "python",
     "metadata": {},
     "outputs": [
      {
       "metadata": {},
       "output_type": "pyout",
       "prompt_number": 16,
       "text": [
        "Index([u'BarcodeSequence', u'LinkerPrimerSequence', u'DateOfCollection', u'TimeOfCollection', u'WeekDay', u'Notes', u'Cooler', u'Description', u'City', u'PlateLocation', u'Material', u'OfficeNumber', u'Row', u'Event', u'OfficeNumberPlateLocation', u'CityOfficeNumber', u'CityOfficeNumberLocation', u'Period', u'DaysSinceEpoch', u'Season'], dtype='object')"
       ]
      }
     ],
     "prompt_number": 16
    },
    {
     "cell_type": "code",
     "collapsed": false,
     "input": [
      "map_ids = filtered_mapping_df.index\n",
      "dm_ids = weighted_dm.ids\n",
      "filter_ids = set(map_ids) & set(dm_ids)\n",
      "filter_ids\n",
      "weighted_dm = weighted_dm.filter(filter_ids)\n",
      "unweighted_dm = unweighted_dm.filter(filter_ids)"
     ],
     "language": "python",
     "metadata": {},
     "outputs": [],
     "prompt_number": 26
    },
    {
     "cell_type": "code",
     "collapsed": false,
     "input": [
      "anosim = ANOSIM(weighted_dm, filtered_mapping_df, column='Row')\n",
      "results = anosim(999)\n",
      "print results"
     ],
     "language": "python",
     "metadata": {},
     "outputs": [
      {
       "output_type": "stream",
       "stream": "stdout",
       "text": [
        "Method name  Sample size  Number of groups     R statistic  p-value  Number of permutations\n",
        "     ANOSIM         1260                 2  0.133349405103    0.001                     999\n",
        "\n"
       ]
      }
     ],
     "prompt_number": 23
    },
    {
     "cell_type": "code",
     "collapsed": false,
     "input": [
      "anosim = ANOSIM(unweighted_dm, filtered_mapping_df, column='Row')\n",
      "results = anosim(999)\n",
      "print results"
     ],
     "language": "python",
     "metadata": {},
     "outputs": [
      {
       "output_type": "stream",
       "stream": "stdout",
       "text": [
        "Method name  Sample size  Number of groups     R statistic  p-value  Number of permutations\n",
        "     ANOSIM         1260                 2  0.174138218441    0.001                     999\n",
        "\n"
       ]
      }
     ],
     "prompt_number": 27
    },
    {
     "cell_type": "code",
     "collapsed": false,
     "input": [
      "permanova = PERMANOVA(weighted_dm, filtered_mapping_df, column='Row')\n",
      "results = permanova(999)\n",
      "print results"
     ],
     "language": "python",
     "metadata": {},
     "outputs": [
      {
       "output_type": "stream",
       "stream": "stdout",
       "text": [
        "Method name  Sample size  Number of groups  pseudo-F statistic  p-value  Number of permutations\n",
        "  PERMANOVA         1260                 2       46.6467072064    0.001                     999\n",
        "\n"
       ]
      }
     ],
     "prompt_number": 29
    },
    {
     "cell_type": "code",
     "collapsed": false,
     "input": [
      "permanova = PERMANOVA(unweighted_dm, filtered_mapping_df, column='Row')\n",
      "results = permanova(999)\n",
      "print results"
     ],
     "language": "python",
     "metadata": {},
     "outputs": [
      {
       "output_type": "stream",
       "stream": "stdout",
       "text": [
        "Method name  Sample size  Number of groups  pseudo-F statistic  p-value  Number of permutations\n",
        "  PERMANOVA         1260                 2        17.276921932    0.001                     999\n",
        "\n"
       ]
      }
     ],
     "prompt_number": 30
    },
    {
     "cell_type": "code",
     "collapsed": false,
     "input": [
      "anosim = ANOSIM(weighted_dm, filtered_mapping_df, column='Material')\n",
      "results = anosim(999)\n",
      "print results"
     ],
     "language": "python",
     "metadata": {},
     "outputs": [
      {
       "output_type": "stream",
       "stream": "stdout",
       "text": [
        "Method name  Sample size  Number of groups        R statistic  p-value  Number of permutations\n",
        "     ANOSIM         1260                 3  -0.00674787239872    0.994                     999\n",
        "\n"
       ]
      }
     ],
     "prompt_number": 31
    },
    {
     "cell_type": "code",
     "collapsed": false,
     "input": [
      "anosim = ANOSIM(unweighted_dm, filtered_mapping_df, column='Material')\n",
      "results = anosim(999)\n",
      "print results"
     ],
     "language": "python",
     "metadata": {},
     "outputs": [
      {
       "output_type": "stream",
       "stream": "stdout",
       "text": [
        "Method name  Sample size  Number of groups       R statistic  p-value  Number of permutations\n",
        "     ANOSIM         1260                 3  -0.0118563906946    1.000                     999\n",
        "\n"
       ]
      }
     ],
     "prompt_number": 32
    },
    {
     "cell_type": "code",
     "collapsed": false,
     "input": [
      "permanova = PERMANOVA(weighted_dm, filtered_mapping_df, column='Material')\n",
      "results = permanova(999)\n",
      "print results"
     ],
     "language": "python",
     "metadata": {},
     "outputs": [
      {
       "output_type": "stream",
       "stream": "stdout",
       "text": [
        "Method name  Sample size  Number of groups  pseudo-F statistic  p-value  Number of permutations\n",
        "  PERMANOVA         1260                 3       2.30534994751    0.010                     999\n",
        "\n"
       ]
      }
     ],
     "prompt_number": 34
    },
    {
     "cell_type": "code",
     "collapsed": false,
     "input": [
      "permanova = PERMANOVA(unweighted_dm, filtered_mapping_df, column='Material')\n",
      "results = permanova(999)\n",
      "print results"
     ],
     "language": "python",
     "metadata": {},
     "outputs": [
      {
       "output_type": "stream",
       "stream": "stdout",
       "text": [
        "Method name  Sample size  Number of groups  pseudo-F statistic  p-value  Number of permutations\n",
        "  PERMANOVA         1260                 3        1.9702453419    0.001                     999\n",
        "\n"
       ]
      }
     ],
     "prompt_number": 35
    },
    {
     "cell_type": "code",
     "collapsed": false,
     "input": [
      "anosim = ANOSIM(weighted_dm, filtered_mapping_df, column='City')\n",
      "results = anosim(999)\n",
      "print results"
     ],
     "language": "python",
     "metadata": {},
     "outputs": [
      {
       "output_type": "stream",
       "stream": "stdout",
       "text": [
        "Method name  Sample size  Number of groups      R statistic  p-value  Number of permutations\n",
        "     ANOSIM         1260                 3  0.0242691282091    0.001                     999\n",
        "\n"
       ]
      }
     ],
     "prompt_number": 36
    },
    {
     "cell_type": "code",
     "collapsed": false,
     "input": [
      "anosim = ANOSIM(unweighted_dm, filtered_mapping_df, column='City')\n",
      "results = anosim(999)\n",
      "print results"
     ],
     "language": "python",
     "metadata": {},
     "outputs": [
      {
       "output_type": "stream",
       "stream": "stdout",
       "text": [
        "Method name  Sample size  Number of groups      R statistic  p-value  Number of permutations\n",
        "     ANOSIM         1260                 3  0.0368851618827    0.001                     999\n",
        "\n"
       ]
      }
     ],
     "prompt_number": 37
    },
    {
     "cell_type": "code",
     "collapsed": false,
     "input": [
      "permanova = PERMANOVA(weighted_dm, filtered_mapping_df, column='City')\n",
      "results = permanova(999)\n",
      "print results"
     ],
     "language": "python",
     "metadata": {},
     "outputs": [
      {
       "output_type": "stream",
       "stream": "stdout",
       "text": [
        "Method name  Sample size  Number of groups  pseudo-F statistic  p-value  Number of permutations\n",
        "  PERMANOVA         1260                 3       13.5948554424    0.001                     999\n",
        "\n"
       ]
      }
     ],
     "prompt_number": 38
    },
    {
     "cell_type": "code",
     "collapsed": false,
     "input": [
      "permanova = PERMANOVA(unweighted_dm, filtered_mapping_df, column='City')\n",
      "results = permanova(999)\n",
      "print results"
     ],
     "language": "python",
     "metadata": {},
     "outputs": [
      {
       "output_type": "stream",
       "stream": "stdout",
       "text": [
        "Method name  Sample size  Number of groups  pseudo-F statistic  p-value  Number of permutations\n",
        "  PERMANOVA         1260                 3       7.17413766404    0.001                     999\n",
        "\n"
       ]
      }
     ],
     "prompt_number": 39
    },
    {
     "cell_type": "code",
     "collapsed": false,
     "input": [
      "anosim = ANOSIM(weighted_dm, filtered_mapping_df, column='PlateLocation')\n",
      "results = anosim(999)\n",
      "print results"
     ],
     "language": "python",
     "metadata": {},
     "outputs": [
      {
       "output_type": "stream",
       "stream": "stdout",
       "text": [
        "Method name  Sample size  Number of groups      R statistic  p-value  Number of permutations\n",
        "     ANOSIM         1260                 3  0.0975591995878    0.001                     999\n",
        "\n"
       ]
      }
     ],
     "prompt_number": 40
    },
    {
     "cell_type": "code",
     "collapsed": false,
     "input": [
      "anosim = ANOSIM(unweighted_dm, filtered_mapping_df, column='PlateLocation')\n",
      "results = anosim(999)\n",
      "print results"
     ],
     "language": "python",
     "metadata": {},
     "outputs": [
      {
       "output_type": "stream",
       "stream": "stdout",
       "text": [
        "Method name  Sample size  Number of groups      R statistic  p-value  Number of permutations\n",
        "     ANOSIM         1260                 3  0.0971366894551    0.001                     999\n",
        "\n"
       ]
      }
     ],
     "prompt_number": 41
    },
    {
     "cell_type": "code",
     "collapsed": false,
     "input": [
      "permanova = PERMANOVA(weighted_dm, filtered_mapping_df, column='PlateLocation')\n",
      "results = permanova(999)\n",
      "print results"
     ],
     "language": "python",
     "metadata": {},
     "outputs": [
      {
       "output_type": "stream",
       "stream": "stdout",
       "text": [
        "Method name  Sample size  Number of groups  pseudo-F statistic  p-value  Number of permutations\n",
        "  PERMANOVA         1260                 3       35.4446816127    0.001                     999\n",
        "\n"
       ]
      }
     ],
     "prompt_number": 43
    },
    {
     "cell_type": "code",
     "collapsed": false,
     "input": [
      "permanova = PERMANOVA(unweighted_dm, filtered_mapping_df, column='PlateLocation')\n",
      "results = permanova(999)\n",
      "print results"
     ],
     "language": "python",
     "metadata": {},
     "outputs": [
      {
       "output_type": "stream",
       "stream": "stdout",
       "text": [
        "Method name  Sample size  Number of groups  pseudo-F statistic  p-value  Number of permutations\n",
        "  PERMANOVA         1260                 3       11.8775971449    0.001                     999\n",
        "\n"
       ]
      }
     ],
     "prompt_number": 44
    },
    {
     "cell_type": "code",
     "collapsed": false,
     "input": [
      "no_wall_filtered_mapping_df = filtered_mapping_df.ix[filtered_mapping_df['PlateLocation'] != 'wall']\n",
      "map_ids = no_wall_filtered_mapping_df.index\n",
      "dm_ids = weighted_dm.ids\n",
      "filter_ids = set(map_ids) & set(dm_ids)\n",
      "filter_ids\n",
      "weighted_dm = weighted_dm.filter(filter_ids)\n",
      "weighted_dm"
     ],
     "language": "python",
     "metadata": {},
     "outputs": [
      {
       "metadata": {},
       "output_type": "pyout",
       "prompt_number": 31,
       "text": [
        "<skbio.stats.distance._base.DistanceMatrix at 0x10f630550>"
       ]
      }
     ],
     "prompt_number": 31
    },
    {
     "cell_type": "code",
     "collapsed": false,
     "input": [
      "anosim = ANOSIM(weighted_dm, no_wall_filtered_mapping_df, column='PlateLocation')\n",
      "results = anosim(999)\n",
      "print results"
     ],
     "language": "python",
     "metadata": {},
     "outputs": [
      {
       "output_type": "stream",
       "stream": "stdout",
       "text": [
        "Method name  Sample size  Number of groups    R statistic  p-value  Number of permutations\n",
        "     ANOSIM          833                 2  0.16350971587    0.001                     999\n",
        "\n"
       ]
      }
     ],
     "prompt_number": 37
    },
    {
     "cell_type": "code",
     "collapsed": false,
     "input": [
      "permanova = PERMANOVA(weighted_dm, no_wall_filtered_mapping_df, column='PlateLocation')\n",
      "results = permanova(999)\n",
      "print results"
     ],
     "language": "python",
     "metadata": {},
     "outputs": [
      {
       "output_type": "stream",
       "stream": "stdout",
       "text": [
        "Method name  Sample size  Number of groups  pseudo-F statistic  p-value  Number of permutations\n",
        "  PERMANOVA          833                 2       56.3097079027    0.001                     999\n",
        "\n"
       ]
      }
     ],
     "prompt_number": 38
    },
    {
     "cell_type": "code",
     "collapsed": false,
     "input": [
      "no_floor_filtered_mapping_df = filtered_mapping_df.ix[filtered_mapping_df['PlateLocation'] != 'floor']\n",
      "map_ids = no_floor_filtered_mapping_df.index\n",
      "dm_ids = weighted_dm.ids\n",
      "filter_ids = set(map_ids) & set(dm_ids)\n",
      "weighted_dm = weighted_dm.filter(filter_ids)\n",
      "unweighted_dm = unweighted_dm.filter(filter_ids)"
     ],
     "language": "python",
     "metadata": {},
     "outputs": [],
     "prompt_number": 46
    },
    {
     "cell_type": "code",
     "collapsed": false,
     "input": [
      "anosim = ANOSIM(weighted_dm, no_floor_filtered_mapping_df, column='PlateLocation')\n",
      "results = anosim(999)\n",
      "print results"
     ],
     "language": "python",
     "metadata": {},
     "outputs": [
      {
       "output_type": "stream",
       "stream": "stdout",
       "text": [
        "Method name  Sample size  Number of groups       R statistic  p-value  Number of permutations\n",
        "     ANOSIM          836                 2  0.00143463826573    0.168                     999\n",
        "\n"
       ]
      }
     ],
     "prompt_number": 47
    },
    {
     "cell_type": "code",
     "collapsed": false,
     "input": [
      "anosim = ANOSIM(unweighted_dm, no_floor_filtered_mapping_df, column='PlateLocation')\n",
      "results = anosim(999)\n",
      "print results"
     ],
     "language": "python",
     "metadata": {},
     "outputs": [
      {
       "output_type": "stream",
       "stream": "stdout",
       "text": [
        "Method name  Sample size  Number of groups       R statistic  p-value  Number of permutations\n",
        "     ANOSIM          836                 2  0.00306907496608    0.052                     999\n",
        "\n"
       ]
      }
     ],
     "prompt_number": 48
    },
    {
     "cell_type": "code",
     "collapsed": false,
     "input": [
      "permanova = PERMANOVA(weighted_dm, filtered_mapping_df, column='PlateLocation')\n",
      "results = permanova(999)\n",
      "print results"
     ],
     "language": "python",
     "metadata": {},
     "outputs": [
      {
       "output_type": "stream",
       "stream": "stdout",
       "text": [
        "Method name  Sample size  Number of groups  pseudo-F statistic  p-value  Number of permutations\n",
        "  PERMANOVA          836                 2       0.97375470205    0.394                     999\n",
        "\n"
       ]
      }
     ],
     "prompt_number": 49
    },
    {
     "cell_type": "code",
     "collapsed": false,
     "input": [
      "permanova = PERMANOVA(unweighted_dm, filtered_mapping_df, column='PlateLocation')\n",
      "results = permanova(999)\n",
      "print results"
     ],
     "language": "python",
     "metadata": {},
     "outputs": [
      {
       "output_type": "stream",
       "stream": "stdout",
       "text": [
        "Method name  Sample size  Number of groups  pseudo-F statistic  p-value  Number of permutations\n",
        "  PERMANOVA          836                 2       1.18223630855    0.134                     999\n",
        "\n"
       ]
      }
     ],
     "prompt_number": 50
    },
    {
     "cell_type": "markdown",
     "metadata": {},
     "source": [
      "Get boxplots\n",
      "=========="
     ]
    },
    {
     "cell_type": "code",
     "collapsed": false,
     "input": [
      "def get_distances(dm, sample_ids, distances_df=None):\n",
      "    if isinstance(distances_df, pd.DataFrame):\n",
      "        distances_df = distances_df\n",
      "        c = len(distances_df)\n",
      "        u = 'U'\n",
      "    else:\n",
      "        distances_df = pd.DataFrame(columns=['name', 'distance'])\n",
      "        c = 0\n",
      "        u = 'W'\n",
      "    for key, value in sample_ids.iteritems():\n",
      "        for id_pair in value:\n",
      "            distances_df.loc[c] = [(u + key), dm[id_pair[0], id_pair[1]]]\n",
      "            c+=1\n",
      "        print u + key\n",
      "    return distances_df"
     ],
     "language": "python",
     "metadata": {},
     "outputs": [],
     "prompt_number": 129
    },
    {
     "cell_type": "code",
     "collapsed": false,
     "input": [
      "distances = get_distances(weighted_dm, all_id_pairs)\n",
      "len(distances)"
     ],
     "language": "python",
     "metadata": {},
     "outputs": [
      {
       "output_type": "stream",
       "stream": "stdout",
       "text": [
        "Wrow23_ids\n",
        "Wfc_ids"
       ]
      },
      {
       "output_type": "stream",
       "stream": "stdout",
       "text": [
        "\n",
        "Wfw_ids"
       ]
      },
      {
       "output_type": "stream",
       "stream": "stdout",
       "text": [
        "\n",
        "Wwc_ids"
       ]
      },
      {
       "output_type": "stream",
       "stream": "stdout",
       "text": [
        "\n",
        "Wshuffled_row_2_3_pairs2"
       ]
      },
      {
       "output_type": "stream",
       "stream": "stdout",
       "text": [
        "\n",
        "Wshuffled_row_2_3_pairs1"
       ]
      },
      {
       "output_type": "stream",
       "stream": "stdout",
       "text": [
        "\n"
       ]
      },
      {
       "metadata": {},
       "output_type": "pyout",
       "prompt_number": 130,
       "text": [
        "1939"
       ]
      }
     ],
     "prompt_number": 130
    },
    {
     "cell_type": "code",
     "collapsed": false,
     "input": [
      "combined_distances = get_distances(unweighted_dm, all_id_pairs, distances)\n",
      "len(combined_distances)"
     ],
     "language": "python",
     "metadata": {},
     "outputs": [
      {
       "output_type": "stream",
       "stream": "stdout",
       "text": [
        "Urow23_ids\n",
        "Ufc_ids"
       ]
      },
      {
       "output_type": "stream",
       "stream": "stdout",
       "text": [
        "\n",
        "Ufw_ids"
       ]
      },
      {
       "output_type": "stream",
       "stream": "stdout",
       "text": [
        "\n",
        "Uwc_ids"
       ]
      },
      {
       "output_type": "stream",
       "stream": "stdout",
       "text": [
        "\n",
        "Ushuffled_row_2_3_pairs2"
       ]
      },
      {
       "output_type": "stream",
       "stream": "stdout",
       "text": [
        "\n",
        "Ushuffled_row_2_3_pairs1"
       ]
      },
      {
       "output_type": "stream",
       "stream": "stdout",
       "text": [
        "\n"
       ]
      },
      {
       "metadata": {},
       "output_type": "pyout",
       "prompt_number": 131,
       "text": [
        "3878"
       ]
      }
     ],
     "prompt_number": 131
    },
    {
     "cell_type": "code",
     "collapsed": false,
     "input": [
      "import seaborn as sns\n",
      "\n",
      "order = ['Wwc_ids', 'Uwc_ids', \n",
      "         'Wrow23_ids', 'Urow23_ids',\n",
      "         'Wfw_ids', 'Ufw_ids',\n",
      "         'Wfc_ids', 'Ufc_ids',\n",
      "         'Wshuffled_row_2_3_pairs1', 'Ushuffled_row_2_3_pairs1',\n",
      "         'Wshuffled_row_2_3_pairs2', 'Ushuffled_row_2_3_pairs2']\n",
      "\n",
      "\n",
      "# sns.boxplot(df.score, df.group, order=order, color=\"PuBuGn_d\");\n",
      "\n",
      "fig = sns.boxplot(distances.distance, distances.name, order=order, color=\"Paired\", whis=50);\n",
      "fig.set_ylabel('Distance')\n",
      "plt.savefig('paired_distance_boxplots', dpi=300)"
     ],
     "language": "python",
     "metadata": {},
     "outputs": [
      {
       "metadata": {},
       "output_type": "display_data",
       "png": "[encoded data removed]",
       "text": [
        "<matplotlib.figure.Figure at 0x1140b2810>"
       ]
      }
     ],
     "prompt_number": 132
    },
    {
     "cell_type": "code",
     "collapsed": false,
     "input": [],
     "language": "python",
     "metadata": {},
     "outputs": [],
     "prompt_number": 66
    },
    {
     "cell_type": "code",
     "collapsed": false,
     "input": [],
     "language": "python",
     "metadata": {},
     "outputs": []
    }
   ],
   "metadata": {}
  }
 ]
}