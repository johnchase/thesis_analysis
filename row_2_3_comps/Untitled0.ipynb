{
 "metadata": {
  "name": "",
  "signature": "sha256:d2c82e38c960d78fb1132be9721963dcf3eff4cc40540ec7424b8d872d5783f7"
 },
 "nbformat": 3,
 "nbformat_minor": 0,
 "worksheets": [
  {
   "cells": [
    {
     "cell_type": "code",
     "collapsed": false,
     "input": [
      "from __future__ import division\n",
      "\n",
      "import pandas as pd\n",
      "from biom import load_table\n",
      "import numpy as np\n",
      "from scipy.stats import ttest_ind, spearmanr, pearsonr\n",
      "from skbio import DistanceMatrix"
     ],
     "language": "python",
     "metadata": {},
     "outputs": [],
     "prompt_number": 3
    },
    {
     "cell_type": "code",
     "collapsed": false,
     "input": [
      "biom_table = '/Users/jc33/google_drive/thesis/thesis/analyses/otu_table_mc2_w_tax_no_pynast_failures.biom'\n",
      "biom_table_800 = '../otu_table_mc2_w_tax_no_pynast_failures_mc800.biom'\n",
      "mapping_file = '/Users/jc33/google_drive/thesis/thesis/analyses/master_period_1-2-3_map_5182014.txt'"
     ],
     "language": "python",
     "metadata": {},
     "outputs": [],
     "prompt_number": 4
    },
    {
     "cell_type": "markdown",
     "metadata": {},
     "source": [
      "Steps to take \n",
      "-------------\n",
      "1. get the list of sample ids from the whole mapping file.\n",
      "2. get a list of all of the row 2 ids from mapping file.\n",
      "\n",
      "3. filter the otu table to 800\n",
      "4. Get the ids from the otu table\n",
      "\n",
      "5. loop through the row 2 ids, if that id is in the list of otu table for both row 2 and 3 keep both rows in a new list. Otherwise discard both\n",
      "\n",
      "6. compute correlation for pairs of ids\n",
      "\n",
      "7. compute correlation \n",
      "\n",
      "\n",
      "\n",
      "\n",
      "6. create distance full distance matrix \n",
      "\n",
      "7. filter distance matrix to only include paired samples\n"
     ]
    },
    {
     "cell_type": "code",
     "collapsed": false,
     "input": [
      "#get the list of sample ids from the whole mapping file.\n",
      "map_df = pd.read_csv(mapping_file, sep='\\t', index_col='#SampleID')\n",
      "samp_ids = map_df.index.values"
     ],
     "language": "python",
     "metadata": {},
     "outputs": [],
     "prompt_number": 5
    },
    {
     "cell_type": "code",
     "collapsed": false,
     "input": [
      "#Filter the full table to not include any samples with less than 800 samples. \n",
      "!filter_samples_from_otu_table.py -i $biom_table -n 800 -o $biom_table_800 "
     ],
     "language": "python",
     "metadata": {},
     "outputs": []
    },
    {
     "cell_type": "code",
     "collapsed": false,
     "input": [
      "#Get the ids from the otu table\n",
      "otu_table = load_table(biom_table_800)\n",
      "sample_ids_from_table = otu_table.ids()"
     ],
     "language": "python",
     "metadata": {},
     "outputs": [],
     "prompt_number": 6
    },
    {
     "cell_type": "code",
     "collapsed": false,
     "input": [
      "#get a list of all of the row 2 ids from mapping file.\n",
      "row_2_ids = [i for i in samp_ids if i[4] == '2']"
     ],
     "language": "python",
     "metadata": {},
     "outputs": [],
     "prompt_number": 7
    },
    {
     "cell_type": "code",
     "collapsed": false,
     "input": [
      "#loop through the row 2 ids, if that id is in the list of otu table for both row 2 and 3 keep both rows in a new list. Otherwise discard both\n",
      "row23_ids = []\n",
      "for i in row_2_ids:\n",
      "    row_3 = (i[:4] + '3' + i[5:])\n",
      "    paired_ids = []\n",
      "    if i in sample_ids_from_table and  row_3 in sample_ids_from_table:\n",
      "        paired_ids.append(i)\n",
      "        paired_ids.append(row_3)\n",
      "        row23_ids.append(paired_ids)\n",
      "    else: \n",
      "        pass"
     ],
     "language": "python",
     "metadata": {},
     "outputs": [],
     "prompt_number": 8
    },
    {
     "cell_type": "markdown",
     "metadata": {},
     "source": [
      "now I need to get paired data for these same samples, but with floor and ceiling paired\n",
      "------------------------------\n"
     ]
    },
    {
     "cell_type": "code",
     "collapsed": false,
     "input": [
      "#get all the ceiling ids from map\n",
      "ceiling_ids = []\n",
      "for i in samp_ids:\n",
      "    if i[2] == 'C':\n",
      "        ceiling_ids.append(i)\n",
      "\n",
      "#if both the floor and celing ids are in the biom table keep them \n",
      "cf_ids = []\n",
      "for i in ceiling_ids:\n",
      "    floor = (i[:2] + 'F' + i[3:])\n",
      "    paired_ids = []\n",
      "    if i in sample_ids_from_table and floor in sample_ids_from_table:\n",
      "        paired_ids.append(i)\n",
      "        paired_ids.append(floor)\n",
      "        cf_ids.append(paired_ids)\n",
      "    else: \n",
      "        pass"
     ],
     "language": "python",
     "metadata": {},
     "outputs": [],
     "prompt_number": 9
    },
    {
     "cell_type": "markdown",
     "metadata": {},
     "source": [
      "Next we get paired wall floor data\n",
      "-------------------------"
     ]
    },
    {
     "cell_type": "code",
     "collapsed": false,
     "input": [
      "#if both the floor and celing ids are in the biom table keep them \n",
      "wc_ids = []\n",
      "for i in ceiling_ids:\n",
      "    wall = (i[:2] + 'W' + i[3:])\n",
      "    paired_ids = []\n",
      "    if i in sample_ids_from_table and wall in sample_ids_from_table:\n",
      "        paired_ids.append(i)\n",
      "        paired_ids.append(wall)\n",
      "        wc_ids.append(paired_ids)\n",
      "    else: \n",
      "        pass"
     ],
     "language": "python",
     "metadata": {},
     "outputs": [],
     "prompt_number": 10
    },
    {
     "cell_type": "code",
     "collapsed": false,
     "input": [
      "#get all the ceiling ids from map\n",
      "wall_ids = []\n",
      "for i in samp_ids:\n",
      "    if i[2] == 'W':\n",
      "        wall_ids.append(i)\n",
      "\n",
      "#if both the floor and celing ids are in the biom table keep them \n",
      "wf_ids = []\n",
      "for i in wall_ids:\n",
      "    floor = (i[:2] + 'F' + i[3:])\n",
      "    paired_ids = []\n",
      "    if i in sample_ids_from_table and floor in sample_ids_from_table:\n",
      "        paired_ids.append(i)\n",
      "        paired_ids.append(floor)\n",
      "        wf_ids.append(paired_ids)\n",
      "    else: \n",
      "        pass"
     ],
     "language": "python",
     "metadata": {},
     "outputs": [],
     "prompt_number": 11
    },
    {
     "cell_type": "code",
     "collapsed": false,
     "input": [
      "#define a function that takes an otu table and paired ids and returns the rho values for each\n",
      "def spearman_dist(otu_table, ids):\n",
      "    r_vals = []\n",
      "    for i in ids:\n",
      "        rho, p_val = spearmanr(otu_table.data(i[0], axis='sample'), otu_table.data(i[1], axis='sample'))\n",
      "        r_vals.append(rho)\n",
      "    return r_vals"
     ],
     "language": "python",
     "metadata": {},
     "outputs": [],
     "prompt_number": 12
    },
    {
     "cell_type": "code",
     "collapsed": false,
     "input": [
      "wf_rhos = spearman_dist(otu_table, wf_ids)\n",
      "fc_rhos = spearman_dist(otu_table, cf_ids)\n",
      "row_2_3_rhos = spearman_dist(otu_table, row23_ids)\n",
      "wc_rhos = spearman_dist(otu_table, wc_ids)"
     ],
     "language": "python",
     "metadata": {},
     "outputs": [],
     "prompt_number": 13
    },
    {
     "cell_type": "markdown",
     "metadata": {},
     "source": [
      "Finally compare the correlations\n",
      "-----------"
     ]
    },
    {
     "cell_type": "code",
     "collapsed": false,
     "input": [
      "# T-test for these\n",
      "fc23_test_stat, fc23_p_value = ttest_ind(fc_rhos, row_2_3_rhos)\n",
      "wc23_test_stat, wc23_p_value = ttest_ind(wc_rhos, row_2_3_rhos)\n",
      "wf23_test_stat, wf23_p_value = ttest_ind(wf_rhos, row_2_3_rhos)\n",
      "wcfc_test_stat, wcfc_p_value = ttest_ind(fc_rhos, wc_rhos)\n",
      "wffc_test_stat, wffc_p_value = ttest_ind(fc_rhos, wf_rhos)\n",
      "\n",
      "# We *think* (need to confirm) that negative t means that the distribution passed in first\n",
      "# has a lower mean r than the one passed in second.\n",
      "print \"Floor and ceiling compared to rows 2 and 3 p-value: %f, %f\" % (fc23_test_stat, fc23_p_value)\n",
      "print \"Wall and ceiling compared to rows 2 and 3 p-value: %f, %f\" % (wc23_test_stat, wc23_p_value)\n",
      "print \"Wall and floor compared to rows 2 and 3 p-value: %f, %f\" % (wf23_test_stat, wf23_p_value)\n",
      "\n",
      "print \"Floor and ceiling compared to wall and ceiling p-value: %f, %f\" % (wcfc_test_stat, wcfc_p_value)\n",
      "print \"Floor and ceiling compared to wall and floor p-value: %f, %f\" % (wffc_test_stat, wffc_p_value)\n"
     ],
     "language": "python",
     "metadata": {},
     "outputs": [
      {
       "output_type": "stream",
       "stream": "stdout",
       "text": [
        "Floor and ceiling compared to rows 2 and 3 p-value: -4.762870, 0.000002\n",
        "Wall and ceiling compared to rows 2 and 3 p-value: 3.388461, 0.000746\n",
        "Wall and floor compared to rows 2 and 3 p-value: -2.433933, 0.015208\n",
        "Floor and ceiling compared to wall and ceiling p-value: -8.494737, 0.000000\n",
        "Floor and ceiling compared to wall and floor p-value: -2.335595, 0.019786\n"
       ]
      }
     ],
     "prompt_number": 15
    },
    {
     "cell_type": "markdown",
     "metadata": {},
     "source": [
      "Further Steps\n",
      "----------\n",
      "collapse otu table at higher levels i.e. genus, fammily etc...\n",
      "\n",
      "Pull out the distances from the distance matrix to see if the same pairings are different or not.\n",
      "\n",
      "Look into data dryad for storing some of the larger files. biom table, mapping file, tree. \n",
      "\n",
      " "
     ]
    },
    {
     "cell_type": "markdown",
     "metadata": {},
     "source": [
      "Same as above but with L3\n",
      "------------------------"
     ]
    },
    {
     "cell_type": "code",
     "collapsed": false,
     "input": [
      "# First collapse the otu table by Level\n",
      "L3_biom_table = \"../level_3_table\"\n",
      "!summarize_taxa.py -i $biom_table_800 -o $L3_biom_table -L 3\n"
     ],
     "language": "python",
     "metadata": {},
     "outputs": []
    },
    {
     "cell_type": "code",
     "collapsed": false,
     "input": [
      "otu_table_L3 = load_table('../level_3_table/otu_table_mc2_w_tax_no_pynast_failures_mc800_L3.biom')"
     ],
     "language": "python",
     "metadata": {},
     "outputs": [],
     "prompt_number": 155
    },
    {
     "cell_type": "code",
     "collapsed": false,
     "input": [
      "L3_wf_rhos = spearman_dist(otu_table_L3, wf_ids)\n",
      "L3_fc_rhos = spearman_dist(otu_table_L3, cf_ids)\n",
      "L3_row_2_3_rhos = spearman_dist(otu_table_L3, row23_ids)\n",
      "L3_wc_rhos = spearman_dist(otu_table_L3, wc_ids)\n",
      "\n",
      "# T-test for these\n",
      "fc23_test_stat, fc23_p_value = ttest_ind(L3_fc_rhos, L3_row_2_3_rhos)\n",
      "wc23_test_stat, wc23_p_value = ttest_ind(L3_wc_rhos, L3_row_2_3_rhos)\n",
      "wf23_test_stat, wf23_p_value = ttest_ind(L3_wf_rhos, L3_row_2_3_rhos)\n",
      "wcfc_test_stat, wcfc_p_value = ttest_ind(L3_fc_rhos, L3_wc_rhos)\n",
      "wffc_test_stat, wffc_p_value = ttest_ind(L3_fc_rhos, L3_wf_rhos)\n",
      "\n",
      "# We *think* (need to confirm) that negative t means that the distribution passed in first\n",
      "# has a lower mean r than the one passed in second.\n",
      "print np.mean(L3_fc_rhos), np.mean(L3_row_2_3_rhos)\n",
      "print \"Floor and ceiling compared to rows 2 and 3 p-value: %f, %f\" % (fc23_test_stat, fc23_p_value)\n",
      "print \"Wall and ceiling compared to rows 2 and 3 p-value: %f, %f\" % (wc23_test_stat, wc23_p_value)\n",
      "print \"Wall and floor compared to rows 2 and 3 p-value: %f, %f\" % (wf23_test_stat, wf23_p_value)\n",
      "\n",
      "print \"Floor and ceiling compared to wall and ceiling p-value: %f, %f\" % (wcfc_test_stat, wcfc_p_value)\n",
      "print \"Floor and ceiling compared to wall and floor p-value: %f, %f\" % (wffc_test_stat, wffc_p_value)"
     ],
     "language": "python",
     "metadata": {},
     "outputs": [
      {
       "output_type": "stream",
       "stream": "stdout",
       "text": [
        "0.611024840243 0.664574221696\n",
        "Floor and ceiling compared to rows 2 and 3 p-value: -8.136311, 0.000000\n",
        "Wall and ceiling compared to rows 2 and 3 p-value: -2.837046, 0.004698\n",
        "Wall and floor compared to rows 2 and 3 p-value: -5.238302, 0.000000\n",
        "Floor and ceiling compared to wall and ceiling p-value: -5.630360, 0.000000\n",
        "Floor and ceiling compared to wall and floor p-value: -3.193844, 0.001465\n"
       ]
      }
     ],
     "prompt_number": 17
    },
    {
     "cell_type": "markdown",
     "metadata": {},
     "source": [
      "Same as above with L4\n",
      "-------------------"
     ]
    },
    {
     "cell_type": "code",
     "collapsed": false,
     "input": [
      "# First collapse the otu table by Level\n",
      "L4_biom_table = \"../level_4_table\"\n",
      "!summarize_taxa.py -i $biom_table_800 -o $L4_biom_table -L 4"
     ],
     "language": "python",
     "metadata": {},
     "outputs": []
    },
    {
     "cell_type": "code",
     "collapsed": false,
     "input": [
      "otu_table_L4 = load_table('../level_4_table/otu_table_mc2_w_tax_no_pynast_failures_mc800_L4.biom')"
     ],
     "language": "python",
     "metadata": {},
     "outputs": [],
     "prompt_number": 18
    },
    {
     "cell_type": "code",
     "collapsed": false,
     "input": [
      "L4_wf_rhos = spearman_dist(otu_table_L4, wf_ids)\n",
      "L4_fc_rhos = spearman_dist(otu_table_L4, cf_ids)\n",
      "L4_row_2_3_rhos = spearman_dist(otu_table_L4, row23_ids)\n",
      "L4_wc_rhos = spearman_dist(otu_table_L4, wc_ids)\n",
      "\n",
      "# T-test for these\n",
      "fc23_test_stat, fc23_p_value = ttest_ind(L4_fc_rhos, L4_row_2_3_rhos)\n",
      "wc23_test_stat, wc23_p_value = ttest_ind(L4_wc_rhos, L4_row_2_3_rhos)\n",
      "wf23_test_stat, wf23_p_value = ttest_ind(L4_wf_rhos, L4_row_2_3_rhos)\n",
      "wcfc_test_stat, wcfc_p_value = ttest_ind(L4_fc_rhos, L4_wc_rhos)\n",
      "wffc_test_stat, wffc_p_value = ttest_ind(L4_fc_rhos, L4_wf_rhos)\n",
      "\n",
      "# We *think* (need to confirm) that negative t means that the distribution passed in first\n",
      "# has a lower mean r than the one passed in second.\n",
      "print np.mean(L4_fc_rhos), np.mean(L4_row_2_3_rhos)\n",
      "print \"Floor and ceiling compared to rows 2 and 3 p-value: %f, %f\" % (fc23_test_stat, fc23_p_value)\n",
      "print \"Wall and ceiling compared to rows 2 and 3 p-value: %f, %f\" % (wc23_test_stat, wc23_p_value)\n",
      "print \"Wall and floor compared to rows 2 and 3 p-value: %f, %f\" % (wf23_test_stat, wf23_p_value)\n",
      "\n",
      "print \"Floor and ceiling compared to wall and ceiling p-value: %f, %f\" % (wcfc_test_stat, wcfc_p_value)\n",
      "print \"Floor and ceiling compared to wall and floor p-value: %f, %f\" % (wffc_test_stat, wffc_p_value)"
     ],
     "language": "python",
     "metadata": {},
     "outputs": [
      {
       "output_type": "stream",
       "stream": "stdout",
       "text": [
        "0.569576763726 0.623086645699\n",
        "Floor and ceiling compared to rows 2 and 3 p-value: -9.016942, 0.000000\n",
        "Wall and ceiling compared to rows 2 and 3 p-value: -3.429259, 0.000644\n",
        "Wall and floor compared to rows 2 and 3 p-value: -6.157364, 0.000000\n",
        "Floor and ceiling compared to wall and ceiling p-value: -5.929622, 0.000000\n",
        "Floor and ceiling compared to wall and floor p-value: -3.172596, 0.001575\n"
       ]
      }
     ],
     "prompt_number": 19
    },
    {
     "cell_type": "markdown",
     "metadata": {},
     "source": [
      "Do the same analyis but compare vectors of unifrac distances\n",
      "--------------------------------------------------"
     ]
    },
    {
     "cell_type": "code",
     "collapsed": false,
     "input": [
      "#create distance full distance matrix\n",
      "!beta_diversity.py -i '../otu_table_mc2_w_tax_no_pynast_failures_mc800.biom' -t '../rep_set.tre' -o './'"
     ],
     "language": "python",
     "metadata": {},
     "outputs": []
    },
    {
     "cell_type": "code",
     "collapsed": false,
     "input": [
      "weighted_dm_fp = '../row_2_3_comps/weighted_unifrac_otu_table_mc2_w_tax_no_pynast_failures_mc800.txt'\n",
      "weighted_dm = DistanceMatrix.from_file(weighted_dm_fp, delimiter='\\t')\n",
      "\n",
      "unweighted_dm_fp = '../row_2_3_comps/unweighted_unifrac_otu_table_mc2_w_tax_no_pynast_failures_mc800.txt'\n",
      "unweighted_dm = DistanceMatrix.from_file(unweighted_dm_fp, delimiter='\\t')"
     ],
     "language": "python",
     "metadata": {},
     "outputs": [],
     "prompt_number": 166
    },
    {
     "cell_type": "code",
     "collapsed": false,
     "input": [
      "def get_paired_differences(dm, sample_id_pairs_1, sample_id_pairs_2):\n",
      "    distances_1 = [dm.filter(i)[0][1] for i in sample_id_pairs_1]\n",
      "    distances_2 = [dm.filter(i)[0][1] for i in sample_id_pairs_2]\n",
      "    test_stat, p_value = ttest_ind(distances_1, distances_2)\n",
      "    return test_stat/2, p_value/2 \n",
      "\n"
     ],
     "language": "python",
     "metadata": {},
     "outputs": [],
     "prompt_number": 21
    },
    {
     "cell_type": "code",
     "collapsed": false,
     "input": [
      "wcfc_test_stat, wcfc_p_value = get_paired_differences(weighted_dm, wf_ids, cf_ids)\n",
      "wcfc_test_stat, wcfc_p_value = get_paired_differences(weighted_dm, wc_ids, cf_ids)\n",
      "fc23_test_stat, fc23_p_value = get_paired_differences(weighted_dm, row23_ids, cf_ids)\n",
      "wf23_test_stat, wf23_p_value = get_paired_differences(weighted_dm, row23_ids, wf_ids)\n",
      "wc23_test_stat, wc23_p_value = get_paired_differences(weighted_dm, row23_ids, wc_ids)\n",
      "wfwc_test_stat, wfwc_p_value = get_paired_differences(weighted_dm, wf_ids, wc_ids)\n",
      "\n",
      "# We *think* (need to confirm) that negative t means that the distribution passed in first\n",
      "# has a lower mean r than the one passed in second.\n",
      "#If the value is negative the first vector has a lower mean\n",
      "# print \"Floor and ceiling compared to rows 2 and 3 p-value: %f, %f\" % (fc23_test_stat, fc23_p_value)\n",
      "# print \"Wall and ceiling compared to rows 2 and 3 p-value: %f, %f\" % (wc23_test_stat, wc23_p_value)\n",
      "# print \"Wall and floor compared to rows 2 and 3 p-value: %f, %f\" % (wf23_test_stat, wf23_p_value)\n",
      "# print \"Floor and ceiling compared to wall and ceiling p-value: %f, %f\" % (wcfc_test_stat, wcfc_p_value)\n",
      "# print \"Floor and ceiling compared to wall and floor p-value: %f, %f\" % (wffc_test_stat, wffc_p_value)\n",
      "\n",
      "print \"Floor and ceiling compared to wall and ceiling p-value: %f, %f\" % (wfwc_test_stat, wfwc_p_value)\n",
      "\n",
      "print \"Wall and floor compared to rows 2 and 3 p-value: %f, %f\" % (wf23_test_stat, wf23_p_value)\n"
     ],
     "language": "python",
     "metadata": {},
     "outputs": [
      {
       "output_type": "stream",
       "stream": "stdout",
       "text": [
        "Floor and ceiling compared to wall and ceiling p-value: 3.323994, 0.000000\n",
        "Wall and floor compared to rows 2 and 3 p-value: -2.475107, 0.000000\n"
       ]
      }
     ],
     "prompt_number": 22
    },
    {
     "cell_type": "markdown",
     "metadata": {},
     "source": [
      "Shuffle the pairs of random to create a negative control.\n",
      "--------------------------------------\n",
      "\n",
      "then redo the comparisons\n"
     ]
    },
    {
     "cell_type": "code",
     "collapsed": false,
     "input": [
      "#Function to shuffle the sample ids\n",
      "def get_shuffled_ids(sample_ids):\n",
      "    ids1, ids2 = zip(*sample_ids)\n",
      "    ids1 = list(ids1)\n",
      "    ids2 = list(ids2)\n",
      "    np.random.shuffle(ids1)\n",
      "    np.random.shuffle(ids2)\n",
      "    shuffled_ids = [i for i in zip(ids1, ids2)]\n",
      "    return shuffled_ids"
     ],
     "language": "python",
     "metadata": {},
     "outputs": [],
     "prompt_number": 114
    },
    {
     "cell_type": "markdown",
     "metadata": {},
     "source": [
      "Create data fram of various values so I can have a table of comparisons. Create one for correlations and one for distances\n",
      "-------------------------------------"
     ]
    },
    {
     "cell_type": "code",
     "collapsed": false,
     "input": [
      "values = [cf_ids, wf_ids, wc_ids, row23_ids, shuffled_row23_ids1, shuffled_row23_ids2]\n",
      "keys = ['cf_ids', 'wf_ids', 'wc_ids', 'row23_ids', 'shuffled_row23_ids1', 'shuffled_row23_ids2']\n",
      "\n",
      "\n",
      "def get_distance_table(dm, all_ids, all_ids_values):\n",
      "    dictionary = dict(zip(all_ids, all_ids_values))\n",
      "    distances_df = pd.DataFrame(index=all_ids, columns=all_ids)\n",
      "    for i in keys:\n",
      "        for j in keys:\n",
      "            difference = get_paired_differences(dm, dictionary[i], dictionary[j])\n",
      "            distances_df[i][j] = difference\n",
      "\n",
      "    return distances_df"
     ],
     "language": "python",
     "metadata": {},
     "outputs": [],
     "prompt_number": 164
    },
    {
     "cell_type": "code",
     "collapsed": false,
     "input": [
      "get_distance_table(weighted_dm, keys, values)"
     ],
     "language": "python",
     "metadata": {},
     "outputs": [
      {
       "html": [
        "<div style=\"max-height:1000px;max-width:1500px;overflow:auto;\">\n",
        "<table border=\"1\" class=\"dataframe\">\n",
        "  <thead>\n",
        "    <tr style=\"text-align: right;\">\n",
        "      <th></th>\n",
        "      <th>cf_ids</th>\n",
        "      <th>wf_ids</th>\n",
        "      <th>wc_ids</th>\n",
        "      <th>row23_ids</th>\n",
        "      <th>shuffled_row23_ids1</th>\n",
        "      <th>shuffled_row23_ids2</th>\n",
        "    </tr>\n",
        "  </thead>\n",
        "  <tbody>\n",
        "    <tr>\n",
        "      <th>cf_ids</th>\n",
        "      <td>                          (0.0, 0.5)</td>\n",
        "      <td>   (-1.08651339883, 0.0150516053682)</td>\n",
        "      <td> (-4.30236629587, 2.39227044037e-17)</td>\n",
        "      <td> (-3.41450115592, 9.94286789559e-12)</td>\n",
        "      <td>    (3.011595582, 1.4410302503e-09)</td>\n",
        "      <td> (3.60859165795, 7.52949070268e-13)</td>\n",
        "    </tr>\n",
        "    <tr>\n",
        "      <th>wf_ids</th>\n",
        "      <td>    (1.08651339883, 0.0150516053682)</td>\n",
        "      <td>                          (0.0, 0.5)</td>\n",
        "      <td> (-3.32399383277, 2.94126609829e-11)</td>\n",
        "      <td> (-2.47510745232, 4.74619600814e-07)</td>\n",
        "      <td> (4.16420458347, 2.49039896489e-16)</td>\n",
        "      <td> (4.81693459242, 6.63552528177e-21)</td>\n",
        "    </tr>\n",
        "    <tr>\n",
        "      <th>wc_ids</th>\n",
        "      <td>  (4.30236629587, 2.39227044037e-17)</td>\n",
        "      <td>  (3.32399383277, 2.94126609829e-11)</td>\n",
        "      <td>                          (0.0, 0.5)</td>\n",
        "      <td>   (0.717766357127, 0.0758127115495)</td>\n",
        "      <td> (7.29300636386, 4.24587163512e-42)</td>\n",
        "      <td> (8.04099307128, 2.09295621657e-49)</td>\n",
        "    </tr>\n",
        "    <tr>\n",
        "      <th>row23_ids</th>\n",
        "      <td>  (3.41450115592, 9.94286789559e-12)</td>\n",
        "      <td>  (2.47510745232, 4.74619600814e-07)</td>\n",
        "      <td>  (-0.717766357127, 0.0758127115495)</td>\n",
        "      <td>                          (0.0, 0.5)</td>\n",
        "      <td>  (6.3646873596, 4.41029646788e-33)</td>\n",
        "      <td> (7.09957877603, 1.31718275958e-39)</td>\n",
        "    </tr>\n",
        "    <tr>\n",
        "      <th>shuffled_row23_ids1</th>\n",
        "      <td>    (-3.011595582, 1.4410302503e-09)</td>\n",
        "      <td> (-4.16420458347, 2.49039896489e-16)</td>\n",
        "      <td> (-7.29300636386, 4.24587163512e-42)</td>\n",
        "      <td>  (-6.3646873596, 4.41029646788e-33)</td>\n",
        "      <td>                         (0.0, 0.5)</td>\n",
        "      <td>    (0.508398319092, 0.15484463468)</td>\n",
        "    </tr>\n",
        "    <tr>\n",
        "      <th>shuffled_row23_ids2</th>\n",
        "      <td> (-3.60859165795, 7.52949070268e-13)</td>\n",
        "      <td> (-4.81693459242, 6.63552528177e-21)</td>\n",
        "      <td> (-8.04099307128, 2.09295621657e-49)</td>\n",
        "      <td> (-7.09957877603, 1.31718275958e-39)</td>\n",
        "      <td>   (-0.508398319092, 0.15484463468)</td>\n",
        "      <td>                         (0.0, 0.5)</td>\n",
        "    </tr>\n",
        "  </tbody>\n",
        "</table>\n",
        "</div>"
       ],
       "metadata": {},
       "output_type": "pyout",
       "prompt_number": 165,
       "text": [
        "                                                  cf_ids  \\\n",
        "cf_ids                                        (0.0, 0.5)   \n",
        "wf_ids                  (1.08651339883, 0.0150516053682)   \n",
        "wc_ids                (4.30236629587, 2.39227044037e-17)   \n",
        "row23_ids             (3.41450115592, 9.94286789559e-12)   \n",
        "shuffled_row23_ids1     (-3.011595582, 1.4410302503e-09)   \n",
        "shuffled_row23_ids2  (-3.60859165795, 7.52949070268e-13)   \n",
        "\n",
        "                                                  wf_ids  \\\n",
        "cf_ids                 (-1.08651339883, 0.0150516053682)   \n",
        "wf_ids                                        (0.0, 0.5)   \n",
        "wc_ids                (3.32399383277, 2.94126609829e-11)   \n",
        "row23_ids             (2.47510745232, 4.74619600814e-07)   \n",
        "shuffled_row23_ids1  (-4.16420458347, 2.49039896489e-16)   \n",
        "shuffled_row23_ids2  (-4.81693459242, 6.63552528177e-21)   \n",
        "\n",
        "                                                  wc_ids  \\\n",
        "cf_ids               (-4.30236629587, 2.39227044037e-17)   \n",
        "wf_ids               (-3.32399383277, 2.94126609829e-11)   \n",
        "wc_ids                                        (0.0, 0.5)   \n",
        "row23_ids             (-0.717766357127, 0.0758127115495)   \n",
        "shuffled_row23_ids1  (-7.29300636386, 4.24587163512e-42)   \n",
        "shuffled_row23_ids2  (-8.04099307128, 2.09295621657e-49)   \n",
        "\n",
        "                                               row23_ids  \\\n",
        "cf_ids               (-3.41450115592, 9.94286789559e-12)   \n",
        "wf_ids               (-2.47510745232, 4.74619600814e-07)   \n",
        "wc_ids                 (0.717766357127, 0.0758127115495)   \n",
        "row23_ids                                     (0.0, 0.5)   \n",
        "shuffled_row23_ids1   (-6.3646873596, 4.41029646788e-33)   \n",
        "shuffled_row23_ids2  (-7.09957877603, 1.31718275958e-39)   \n",
        "\n",
        "                                    shuffled_row23_ids1  \\\n",
        "cf_ids                  (3.011595582, 1.4410302503e-09)   \n",
        "wf_ids               (4.16420458347, 2.49039896489e-16)   \n",
        "wc_ids               (7.29300636386, 4.24587163512e-42)   \n",
        "row23_ids             (6.3646873596, 4.41029646788e-33)   \n",
        "shuffled_row23_ids1                          (0.0, 0.5)   \n",
        "shuffled_row23_ids2    (-0.508398319092, 0.15484463468)   \n",
        "\n",
        "                                    shuffled_row23_ids2  \n",
        "cf_ids               (3.60859165795, 7.52949070268e-13)  \n",
        "wf_ids               (4.81693459242, 6.63552528177e-21)  \n",
        "wc_ids               (8.04099307128, 2.09295621657e-49)  \n",
        "row23_ids            (7.09957877603, 1.31718275958e-39)  \n",
        "shuffled_row23_ids1     (0.508398319092, 0.15484463468)  \n",
        "shuffled_row23_ids2                          (0.0, 0.5)  "
       ]
      }
     ],
     "prompt_number": 165
    },
    {
     "cell_type": "code",
     "collapsed": false,
     "input": [
      "get_distance_table(unweighted_dm, keys, values)"
     ],
     "language": "python",
     "metadata": {},
     "outputs": [
      {
       "html": [
        "<div style=\"max-height:1000px;max-width:1500px;overflow:auto;\">\n",
        "<table border=\"1\" class=\"dataframe\">\n",
        "  <thead>\n",
        "    <tr style=\"text-align: right;\">\n",
        "      <th></th>\n",
        "      <th>cf_ids</th>\n",
        "      <th>wf_ids</th>\n",
        "      <th>wc_ids</th>\n",
        "      <th>row23_ids</th>\n",
        "      <th>shuffled_row23_ids1</th>\n",
        "      <th>shuffled_row23_ids2</th>\n",
        "    </tr>\n",
        "  </thead>\n",
        "  <tbody>\n",
        "    <tr>\n",
        "      <th>cf_ids</th>\n",
        "      <td>                          (0.0, 0.5)</td>\n",
        "      <td>    (-1.13462837388, 0.011773667154)</td>\n",
        "      <td> (-3.62861216664, 5.13318896545e-13)</td>\n",
        "      <td>  (-2.5448604877, 2.35906316892e-07)</td>\n",
        "      <td> (4.79789918938, 9.12709979986e-21)</td>\n",
        "      <td> (5.60098965729, 5.03013032004e-27)</td>\n",
        "    </tr>\n",
        "    <tr>\n",
        "      <th>wf_ids</th>\n",
        "      <td>     (1.13462837388, 0.011773667154)</td>\n",
        "      <td>                          (0.0, 0.5)</td>\n",
        "      <td> (-2.46294894049, 5.21545960494e-07)</td>\n",
        "      <td>  (-1.49301220746, 0.00146713528076)</td>\n",
        "      <td> (6.05767985678, 7.30346882109e-31)</td>\n",
        "      <td> (6.88908606155, 2.60273120956e-38)</td>\n",
        "    </tr>\n",
        "    <tr>\n",
        "      <th>wc_ids</th>\n",
        "      <td>  (3.62861216664, 5.13318896545e-13)</td>\n",
        "      <td>  (2.46294894049, 5.21545960494e-07)</td>\n",
        "      <td>                          (0.0, 0.5)</td>\n",
        "      <td>   (0.766070619056, 0.0629916354622)</td>\n",
        "      <td> (9.17525349056, 5.12820705234e-61)</td>\n",
        "      <td> (10.1218014647, 4.67372219907e-71)</td>\n",
        "    </tr>\n",
        "    <tr>\n",
        "      <th>row23_ids</th>\n",
        "      <td>   (2.5448604877, 2.35906316892e-07)</td>\n",
        "      <td>   (1.49301220746, 0.00146713528076)</td>\n",
        "      <td>  (-0.766070619056, 0.0629916354622)</td>\n",
        "      <td>                          (0.0, 0.5)</td>\n",
        "      <td> (7.46850716373, 5.23530217544e-43)</td>\n",
        "      <td> (8.30737890509, 5.41105551585e-51)</td>\n",
        "    </tr>\n",
        "    <tr>\n",
        "      <th>shuffled_row23_ids1</th>\n",
        "      <td> (-4.79789918938, 9.12709979986e-21)</td>\n",
        "      <td> (-6.05767985678, 7.30346882109e-31)</td>\n",
        "      <td> (-9.17525349056, 5.12820705234e-61)</td>\n",
        "      <td> (-7.46850716373, 5.23530217544e-43)</td>\n",
        "      <td>                         (0.0, 0.5)</td>\n",
        "      <td>  (0.811723781741, 0.0525282512533)</td>\n",
        "    </tr>\n",
        "    <tr>\n",
        "      <th>shuffled_row23_ids2</th>\n",
        "      <td> (-5.60098965729, 5.03013032004e-27)</td>\n",
        "      <td> (-6.88908606155, 2.60273120956e-38)</td>\n",
        "      <td> (-10.1218014647, 4.67372219907e-71)</td>\n",
        "      <td> (-8.30737890509, 5.41105551585e-51)</td>\n",
        "      <td> (-0.811723781741, 0.0525282512533)</td>\n",
        "      <td>                         (0.0, 0.5)</td>\n",
        "    </tr>\n",
        "  </tbody>\n",
        "</table>\n",
        "</div>"
       ],
       "metadata": {},
       "output_type": "pyout",
       "prompt_number": 167,
       "text": [
        "                                                  cf_ids  \\\n",
        "cf_ids                                        (0.0, 0.5)   \n",
        "wf_ids                   (1.13462837388, 0.011773667154)   \n",
        "wc_ids                (3.62861216664, 5.13318896545e-13)   \n",
        "row23_ids              (2.5448604877, 2.35906316892e-07)   \n",
        "shuffled_row23_ids1  (-4.79789918938, 9.12709979986e-21)   \n",
        "shuffled_row23_ids2  (-5.60098965729, 5.03013032004e-27)   \n",
        "\n",
        "                                                  wf_ids  \\\n",
        "cf_ids                  (-1.13462837388, 0.011773667154)   \n",
        "wf_ids                                        (0.0, 0.5)   \n",
        "wc_ids                (2.46294894049, 5.21545960494e-07)   \n",
        "row23_ids              (1.49301220746, 0.00146713528076)   \n",
        "shuffled_row23_ids1  (-6.05767985678, 7.30346882109e-31)   \n",
        "shuffled_row23_ids2  (-6.88908606155, 2.60273120956e-38)   \n",
        "\n",
        "                                                  wc_ids  \\\n",
        "cf_ids               (-3.62861216664, 5.13318896545e-13)   \n",
        "wf_ids               (-2.46294894049, 5.21545960494e-07)   \n",
        "wc_ids                                        (0.0, 0.5)   \n",
        "row23_ids             (-0.766070619056, 0.0629916354622)   \n",
        "shuffled_row23_ids1  (-9.17525349056, 5.12820705234e-61)   \n",
        "shuffled_row23_ids2  (-10.1218014647, 4.67372219907e-71)   \n",
        "\n",
        "                                               row23_ids  \\\n",
        "cf_ids                (-2.5448604877, 2.35906316892e-07)   \n",
        "wf_ids                (-1.49301220746, 0.00146713528076)   \n",
        "wc_ids                 (0.766070619056, 0.0629916354622)   \n",
        "row23_ids                                     (0.0, 0.5)   \n",
        "shuffled_row23_ids1  (-7.46850716373, 5.23530217544e-43)   \n",
        "shuffled_row23_ids2  (-8.30737890509, 5.41105551585e-51)   \n",
        "\n",
        "                                    shuffled_row23_ids1  \\\n",
        "cf_ids               (4.79789918938, 9.12709979986e-21)   \n",
        "wf_ids               (6.05767985678, 7.30346882109e-31)   \n",
        "wc_ids               (9.17525349056, 5.12820705234e-61)   \n",
        "row23_ids            (7.46850716373, 5.23530217544e-43)   \n",
        "shuffled_row23_ids1                          (0.0, 0.5)   \n",
        "shuffled_row23_ids2  (-0.811723781741, 0.0525282512533)   \n",
        "\n",
        "                                    shuffled_row23_ids2  \n",
        "cf_ids               (5.60098965729, 5.03013032004e-27)  \n",
        "wf_ids               (6.88908606155, 2.60273120956e-38)  \n",
        "wc_ids               (10.1218014647, 4.67372219907e-71)  \n",
        "row23_ids            (8.30737890509, 5.41105551585e-51)  \n",
        "shuffled_row23_ids1   (0.811723781741, 0.0525282512533)  \n",
        "shuffled_row23_ids2                          (0.0, 0.5)  "
       ]
      }
     ],
     "prompt_number": 167
    },
    {
     "cell_type": "code",
     "collapsed": false,
     "input": [
      "def get_correlation_table(otu_table, all_ids, all_id_values):\n",
      "    rho_values = [spearman_dist(otu_table, i) for i in all_id_values]\n",
      "    dictionary = dict(zip(all_ids, rho_values))\n",
      "    distances_df = pd.DataFrame(index=all_ids, columns=all_ids)\n",
      "    for i in all_ids:\n",
      "        for j in all_ids:\n",
      "            difference = ttest_ind(dictionary[i], dictionary[j])\n",
      "            distances_df[i][j] = difference\n",
      "\n",
      "    return distances_df"
     ],
     "language": "python",
     "metadata": {},
     "outputs": [],
     "prompt_number": 159
    },
    {
     "cell_type": "code",
     "collapsed": false,
     "input": [
      "get_correlation_table(otu_table_L3, keys, values)"
     ],
     "language": "python",
     "metadata": {},
     "outputs": [
      {
       "html": [
        "<div style=\"max-height:1000px;max-width:1500px;overflow:auto;\">\n",
        "<table border=\"1\" class=\"dataframe\">\n",
        "  <thead>\n",
        "    <tr style=\"text-align: right;\">\n",
        "      <th></th>\n",
        "      <th>cf_ids</th>\n",
        "      <th>wf_ids</th>\n",
        "      <th>wc_ids</th>\n",
        "      <th>row23_ids</th>\n",
        "      <th>shuffled_row23_ids1</th>\n",
        "      <th>shuffled_row23_ids2</th>\n",
        "    </tr>\n",
        "  </thead>\n",
        "  <tbody>\n",
        "    <tr>\n",
        "      <th>cf_ids</th>\n",
        "      <td>                          (0.0, 1.0)</td>\n",
        "      <td>   (3.19384374942, 0.00146498897989)</td>\n",
        "      <td> (5.63035978905, 2.57962468036e-08)</td>\n",
        "      <td> (8.13631094175, 2.11918158323e-15)</td>\n",
        "      <td>   (-0.426420147834, 0.669944886459)</td>\n",
        "      <td>    (-1.31332480038, 0.189543435664)</td>\n",
        "    </tr>\n",
        "    <tr>\n",
        "      <th>wf_ids</th>\n",
        "      <td>  (-3.19384374942, 0.00146498897989)</td>\n",
        "      <td>                          (0.0, 1.0)</td>\n",
        "      <td>   (2.51124279207, 0.0122491907703)</td>\n",
        "      <td> (5.23830174147, 2.20221571807e-07)</td>\n",
        "      <td>  (-3.33341997669, 0.00090732233455)</td>\n",
        "      <td>   (-4.2484643085, 2.4722804108e-05)</td>\n",
        "    </tr>\n",
        "    <tr>\n",
        "      <th>wc_ids</th>\n",
        "      <td> (-5.63035978905, 2.57962468036e-08)</td>\n",
        "      <td>   (-2.51124279207, 0.0122491907703)</td>\n",
        "      <td>                         (0.0, 1.0)</td>\n",
        "      <td>  (2.83704612114, 0.00469786884832)</td>\n",
        "      <td>  (-5.5320008073, 4.62388930015e-08)</td>\n",
        "      <td> (-6.44284904131, 2.31083203602e-10)</td>\n",
        "    </tr>\n",
        "    <tr>\n",
        "      <th>row23_ids</th>\n",
        "      <td> (-8.13631094175, 2.11918158323e-15)</td>\n",
        "      <td> (-5.23830174147, 2.20221571807e-07)</td>\n",
        "      <td> (-2.83704612114, 0.00469786884832)</td>\n",
        "      <td>                         (0.0, 1.0)</td>\n",
        "      <td> (-7.80256077764, 2.98942781167e-14)</td>\n",
        "      <td>  (-8.68458865964, 4.1694319906e-17)</td>\n",
        "    </tr>\n",
        "    <tr>\n",
        "      <th>shuffled_row23_ids1</th>\n",
        "      <td>    (0.426420147834, 0.669944886459)</td>\n",
        "      <td>   (3.33341997669, 0.00090732233455)</td>\n",
        "      <td>  (5.5320008073, 4.62388930015e-08)</td>\n",
        "      <td> (7.80256077764, 2.98942781167e-14)</td>\n",
        "      <td>                          (0.0, 1.0)</td>\n",
        "      <td>    (-0.80627169065, 0.420428465636)</td>\n",
        "    </tr>\n",
        "    <tr>\n",
        "      <th>shuffled_row23_ids2</th>\n",
        "      <td>     (1.31332480038, 0.189543435664)</td>\n",
        "      <td>    (4.2484643085, 2.4722804108e-05)</td>\n",
        "      <td> (6.44284904131, 2.31083203602e-10)</td>\n",
        "      <td>  (8.68458865964, 4.1694319906e-17)</td>\n",
        "      <td>     (0.80627169065, 0.420428465636)</td>\n",
        "      <td>                          (0.0, 1.0)</td>\n",
        "    </tr>\n",
        "  </tbody>\n",
        "</table>\n",
        "</div>"
       ],
       "metadata": {},
       "output_type": "pyout",
       "prompt_number": 160,
       "text": [
        "                                                  cf_ids  \\\n",
        "cf_ids                                        (0.0, 1.0)   \n",
        "wf_ids                (-3.19384374942, 0.00146498897989)   \n",
        "wc_ids               (-5.63035978905, 2.57962468036e-08)   \n",
        "row23_ids            (-8.13631094175, 2.11918158323e-15)   \n",
        "shuffled_row23_ids1     (0.426420147834, 0.669944886459)   \n",
        "shuffled_row23_ids2      (1.31332480038, 0.189543435664)   \n",
        "\n",
        "                                                  wf_ids  \\\n",
        "cf_ids                 (3.19384374942, 0.00146498897989)   \n",
        "wf_ids                                        (0.0, 1.0)   \n",
        "wc_ids                 (-2.51124279207, 0.0122491907703)   \n",
        "row23_ids            (-5.23830174147, 2.20221571807e-07)   \n",
        "shuffled_row23_ids1    (3.33341997669, 0.00090732233455)   \n",
        "shuffled_row23_ids2     (4.2484643085, 2.4722804108e-05)   \n",
        "\n",
        "                                                 wc_ids  \\\n",
        "cf_ids               (5.63035978905, 2.57962468036e-08)   \n",
        "wf_ids                 (2.51124279207, 0.0122491907703)   \n",
        "wc_ids                                       (0.0, 1.0)   \n",
        "row23_ids            (-2.83704612114, 0.00469786884832)   \n",
        "shuffled_row23_ids1   (5.5320008073, 4.62388930015e-08)   \n",
        "shuffled_row23_ids2  (6.44284904131, 2.31083203602e-10)   \n",
        "\n",
        "                                              row23_ids  \\\n",
        "cf_ids               (8.13631094175, 2.11918158323e-15)   \n",
        "wf_ids               (5.23830174147, 2.20221571807e-07)   \n",
        "wc_ids                (2.83704612114, 0.00469786884832)   \n",
        "row23_ids                                    (0.0, 1.0)   \n",
        "shuffled_row23_ids1  (7.80256077764, 2.98942781167e-14)   \n",
        "shuffled_row23_ids2   (8.68458865964, 4.1694319906e-17)   \n",
        "\n",
        "                                     shuffled_row23_ids1  \\\n",
        "cf_ids                 (-0.426420147834, 0.669944886459)   \n",
        "wf_ids                (-3.33341997669, 0.00090732233455)   \n",
        "wc_ids                (-5.5320008073, 4.62388930015e-08)   \n",
        "row23_ids            (-7.80256077764, 2.98942781167e-14)   \n",
        "shuffled_row23_ids1                           (0.0, 1.0)   \n",
        "shuffled_row23_ids2      (0.80627169065, 0.420428465636)   \n",
        "\n",
        "                                     shuffled_row23_ids2  \n",
        "cf_ids                  (-1.31332480038, 0.189543435664)  \n",
        "wf_ids                 (-4.2484643085, 2.4722804108e-05)  \n",
        "wc_ids               (-6.44284904131, 2.31083203602e-10)  \n",
        "row23_ids             (-8.68458865964, 4.1694319906e-17)  \n",
        "shuffled_row23_ids1     (-0.80627169065, 0.420428465636)  \n",
        "shuffled_row23_ids2                           (0.0, 1.0)  "
       ]
      }
     ],
     "prompt_number": 160
    },
    {
     "cell_type": "code",
     "collapsed": false,
     "input": [
      "get_correlation_table(otu_table_L4, keys, values)"
     ],
     "language": "python",
     "metadata": {},
     "outputs": [
      {
       "html": [
        "<div style=\"max-height:1000px;max-width:1500px;overflow:auto;\">\n",
        "<table border=\"1\" class=\"dataframe\">\n",
        "  <thead>\n",
        "    <tr style=\"text-align: right;\">\n",
        "      <th></th>\n",
        "      <th>cf_ids</th>\n",
        "      <th>wf_ids</th>\n",
        "      <th>wc_ids</th>\n",
        "      <th>row23_ids</th>\n",
        "      <th>shuffled_row23_ids1</th>\n",
        "      <th>shuffled_row23_ids2</th>\n",
        "    </tr>\n",
        "  </thead>\n",
        "  <tbody>\n",
        "    <tr>\n",
        "      <th>cf_ids</th>\n",
        "      <td>                          (0.0, 1.0)</td>\n",
        "      <td>     (3.17259586596, 0.001574924248)</td>\n",
        "      <td>  (5.92962183847, 4.71416630561e-09)</td>\n",
        "      <td> (9.01694228783, 2.21545531243e-18)</td>\n",
        "      <td>   (-2.09658824201, 0.0364213892454)</td>\n",
        "      <td>   (-3.21722239519, 0.0013595702301)</td>\n",
        "    </tr>\n",
        "    <tr>\n",
        "      <th>wf_ids</th>\n",
        "      <td>    (-3.17259586596, 0.001574924248)</td>\n",
        "      <td>                          (0.0, 1.0)</td>\n",
        "      <td>   (2.84301656865, 0.00459581459311)</td>\n",
        "      <td> (6.15736404776, 1.30621930997e-09)</td>\n",
        "      <td> (-4.89912765198, 1.22089700088e-06)</td>\n",
        "      <td>   (-5.9795413758, 3.7203710006e-09)</td>\n",
        "    </tr>\n",
        "    <tr>\n",
        "      <th>wc_ids</th>\n",
        "      <td> (-5.92962183847, 4.71416630561e-09)</td>\n",
        "      <td>  (-2.84301656865, 0.00459581459311)</td>\n",
        "      <td>                          (0.0, 1.0)</td>\n",
        "      <td> (3.42925933015, 0.000644224835203)</td>\n",
        "      <td> (-7.27546311793, 1.01683508463e-12)</td>\n",
        "      <td> (-8.29603072691, 6.40527589363e-16)</td>\n",
        "    </tr>\n",
        "    <tr>\n",
        "      <th>row23_ids</th>\n",
        "      <td> (-9.01694228783, 2.21545531243e-18)</td>\n",
        "      <td> (-6.15736404776, 1.30621930997e-09)</td>\n",
        "      <td> (-3.42925933015, 0.000644224835203)</td>\n",
        "      <td>                         (0.0, 1.0)</td>\n",
        "      <td> (-9.85581075663, 3.07206122045e-21)</td>\n",
        "      <td> (-10.7484168319, 1.25859357119e-24)</td>\n",
        "    </tr>\n",
        "    <tr>\n",
        "      <th>shuffled_row23_ids1</th>\n",
        "      <td>    (2.09658824201, 0.0364213892454)</td>\n",
        "      <td>  (4.89912765198, 1.22089700088e-06)</td>\n",
        "      <td>  (7.27546311793, 1.01683508463e-12)</td>\n",
        "      <td> (9.85581075663, 3.07206122045e-21)</td>\n",
        "      <td>                          (0.0, 1.0)</td>\n",
        "      <td>    (-1.01681782765, 0.309679196224)</td>\n",
        "    </tr>\n",
        "    <tr>\n",
        "      <th>shuffled_row23_ids2</th>\n",
        "      <td>    (3.21722239519, 0.0013595702301)</td>\n",
        "      <td>    (5.9795413758, 3.7203710006e-09)</td>\n",
        "      <td>  (8.29603072691, 6.40527589363e-16)</td>\n",
        "      <td> (10.7484168319, 1.25859357119e-24)</td>\n",
        "      <td>     (1.01681782765, 0.309679196224)</td>\n",
        "      <td>                          (0.0, 1.0)</td>\n",
        "    </tr>\n",
        "  </tbody>\n",
        "</table>\n",
        "</div>"
       ],
       "metadata": {},
       "output_type": "pyout",
       "prompt_number": 161,
       "text": [
        "                                                  cf_ids  \\\n",
        "cf_ids                                        (0.0, 1.0)   \n",
        "wf_ids                  (-3.17259586596, 0.001574924248)   \n",
        "wc_ids               (-5.92962183847, 4.71416630561e-09)   \n",
        "row23_ids            (-9.01694228783, 2.21545531243e-18)   \n",
        "shuffled_row23_ids1     (2.09658824201, 0.0364213892454)   \n",
        "shuffled_row23_ids2     (3.21722239519, 0.0013595702301)   \n",
        "\n",
        "                                                  wf_ids  \\\n",
        "cf_ids                   (3.17259586596, 0.001574924248)   \n",
        "wf_ids                                        (0.0, 1.0)   \n",
        "wc_ids                (-2.84301656865, 0.00459581459311)   \n",
        "row23_ids            (-6.15736404776, 1.30621930997e-09)   \n",
        "shuffled_row23_ids1   (4.89912765198, 1.22089700088e-06)   \n",
        "shuffled_row23_ids2     (5.9795413758, 3.7203710006e-09)   \n",
        "\n",
        "                                                  wc_ids  \\\n",
        "cf_ids                (5.92962183847, 4.71416630561e-09)   \n",
        "wf_ids                 (2.84301656865, 0.00459581459311)   \n",
        "wc_ids                                        (0.0, 1.0)   \n",
        "row23_ids            (-3.42925933015, 0.000644224835203)   \n",
        "shuffled_row23_ids1   (7.27546311793, 1.01683508463e-12)   \n",
        "shuffled_row23_ids2   (8.29603072691, 6.40527589363e-16)   \n",
        "\n",
        "                                              row23_ids  \\\n",
        "cf_ids               (9.01694228783, 2.21545531243e-18)   \n",
        "wf_ids               (6.15736404776, 1.30621930997e-09)   \n",
        "wc_ids               (3.42925933015, 0.000644224835203)   \n",
        "row23_ids                                    (0.0, 1.0)   \n",
        "shuffled_row23_ids1  (9.85581075663, 3.07206122045e-21)   \n",
        "shuffled_row23_ids2  (10.7484168319, 1.25859357119e-24)   \n",
        "\n",
        "                                     shuffled_row23_ids1  \\\n",
        "cf_ids                 (-2.09658824201, 0.0364213892454)   \n",
        "wf_ids               (-4.89912765198, 1.22089700088e-06)   \n",
        "wc_ids               (-7.27546311793, 1.01683508463e-12)   \n",
        "row23_ids            (-9.85581075663, 3.07206122045e-21)   \n",
        "shuffled_row23_ids1                           (0.0, 1.0)   \n",
        "shuffled_row23_ids2      (1.01681782765, 0.309679196224)   \n",
        "\n",
        "                                     shuffled_row23_ids2  \n",
        "cf_ids                 (-3.21722239519, 0.0013595702301)  \n",
        "wf_ids                 (-5.9795413758, 3.7203710006e-09)  \n",
        "wc_ids               (-8.29603072691, 6.40527589363e-16)  \n",
        "row23_ids            (-10.7484168319, 1.25859357119e-24)  \n",
        "shuffled_row23_ids1     (-1.01681782765, 0.309679196224)  \n",
        "shuffled_row23_ids2                           (0.0, 1.0)  "
       ]
      }
     ],
     "prompt_number": 161
    },
    {
     "cell_type": "code",
     "collapsed": false,
     "input": [],
     "language": "python",
     "metadata": {},
     "outputs": [],
     "prompt_number": 162
    },
    {
     "cell_type": "code",
     "collapsed": false,
     "input": [],
     "language": "python",
     "metadata": {},
     "outputs": []
    },
    {
     "cell_type": "code",
     "collapsed": false,
     "input": [],
     "language": "python",
     "metadata": {},
     "outputs": []
    },
    {
     "cell_type": "code",
     "collapsed": false,
     "input": [
      "ids_to_filter = open('ids_to_filter', 'w')\n",
      "for i in row23_ids:\n",
      "    ids_to_filter.write(i[0])\n",
      "    ids_to_filter.write('\\n')\n",
      "    ids_to_filter.write(i[1])\n",
      "    ids_to_filter.write('\\n')\n",
      "ids_to_filter.close()"
     ],
     "language": "python",
     "metadata": {},
     "outputs": [],
     "prompt_number": 152
    },
    {
     "cell_type": "code",
     "collapsed": false,
     "input": [
      "x = np.random.normal(7.5, 1, 1000)\n",
      "y = np.random.normal(8, 1, 1000)\n",
      "ttest_ind(x, y)"
     ],
     "language": "python",
     "metadata": {},
     "outputs": [
      {
       "metadata": {},
       "output_type": "pyout",
       "prompt_number": 153,
       "text": [
        "(-12.10376131797539, 1.3532310640666173e-32)"
       ]
      }
     ],
     "prompt_number": 153
    },
    {
     "cell_type": "markdown",
     "metadata": {},
     "source": [
      "Add this stuff to a github repo"
     ]
    },
    {
     "cell_type": "code",
     "collapsed": false,
     "input": [
      "tup = (1, 2)\n",
      "tup = list(tup)\n",
      "tup"
     ],
     "language": "python",
     "metadata": {},
     "outputs": [
      {
       "metadata": {},
       "output_type": "pyout",
       "prompt_number": 88,
       "text": [
        "[1, 2]"
       ]
      }
     ],
     "prompt_number": 88
    },
    {
     "cell_type": "code",
     "collapsed": false,
     "input": [],
     "language": "python",
     "metadata": {},
     "outputs": []
    }
   ],
   "metadata": {}
  }
 ]
}