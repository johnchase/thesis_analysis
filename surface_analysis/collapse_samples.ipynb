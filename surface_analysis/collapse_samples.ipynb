{
 "metadata": {
  "name": "",
  "signature": "sha256:a7a1f96501382d8ad87aa0602111aedb2bc39666dcda5f69cf0e33a7b41899c3"
 },
 "nbformat": 3,
 "nbformat_minor": 0,
 "worksheets": [
  {
   "cells": [
    {
     "cell_type": "markdown",
     "metadata": {},
     "source": [
      "This notebook contains some experiments to collapse replicate samples for analysis with QIIME. Ideas for this are being discussed in [QIIME's #1678](https://github.com/biocore/qiime/issues/1678). \n",
      "\n",
      "This involves two steps: \n",
      "    1. collapsing sample metadata, and\n",
      "    2. collapsing samples in a BIOM table. \n",
      "\n",
      "I'm approaching this by first using the sample metadata (in a pandas DataFrame) to determine which sample ids belong to a replicate group, and then using those to collapse the BIOM table."
     ]
    },
    {
     "cell_type": "markdown",
     "metadata": {},
     "source": [
      "First we'll collapse samples in the mapping file with pandas."
     ]
    },
    {
     "cell_type": "code",
     "collapsed": false,
     "input": [
      "import pandas as pd\n",
      "import numpy as np"
     ],
     "language": "python",
     "metadata": {},
     "outputs": [],
     "prompt_number": 3
    },
    {
     "cell_type": "code",
     "collapsed": false,
     "input": [
      "sample_md = pd.read_csv('/Users/jc33/google_drive/thesis/analysis/files/initial_steps/mapping_files/periods1-2-3_all_data_barcodes_map.txt', sep='\\t')"
     ],
     "language": "python",
     "metadata": {},
     "outputs": [],
     "prompt_number": 4
    },
    {
     "cell_type": "code",
     "collapsed": false,
     "input": [
      "sample_md['COLME'] = sample_md['#SampleID'].str[:3] + sample_md['#SampleID'].str[8:]"
     ],
     "language": "python",
     "metadata": {},
     "outputs": [],
     "prompt_number": 5
    },
    {
     "cell_type": "markdown",
     "metadata": {},
     "source": [
      "First we'll [group the sample ids](http://pandas.pydata.org/pandas-docs/stable/groupby.html#splitting-an-object-into-groups)."
     ]
    },
    {
     "cell_type": "code",
     "collapsed": false,
     "input": [
      "grouped = sample_md.groupby(['COLME']) "
     ],
     "language": "python",
     "metadata": {},
     "outputs": [],
     "prompt_number": 6
    },
    {
     "cell_type": "markdown",
     "metadata": {},
     "source": [
      "Next we'll [aggregate](http://pandas.pydata.org/pandas-docs/stable/groupby.html#aggregation). You can specify a function per metadata category that you want to aggregate. Here we want to retain the grouping of input sample ids, so I'm doing that by tuplizing the collection of sample ids in each group while aggregating."
     ]
    },
    {
     "cell_type": "code",
     "collapsed": false,
     "input": [
      "collapsed_md = grouped.agg({'#SampleID':lambda x: tuple(x)})\n",
      "collapsed_md[:4]"
     ],
     "language": "python",
     "metadata": {},
     "outputs": [
      {
       "html": [
        "<div style=\"max-height:1000px;max-width:1500px;overflow:auto;\">\n",
        "<table border=\"1\" class=\"dataframe\">\n",
        "  <thead>\n",
        "    <tr style=\"text-align: right;\">\n",
        "      <th></th>\n",
        "      <th>#SampleID</th>\n",
        "    </tr>\n",
        "    <tr>\n",
        "      <th>COLME</th>\n",
        "      <th></th>\n",
        "    </tr>\n",
        "  </thead>\n",
        "  <tbody>\n",
        "    <tr>\n",
        "      <th>F1C.001</th>\n",
        "      <td> (F1C.2.Ca.001, F1C.3.Ca.001, F1C.2.Dr.001, F1C...</td>\n",
        "    </tr>\n",
        "    <tr>\n",
        "      <th>F1C.002</th>\n",
        "      <td>        (F1C.3.Ca.002, F1C.3.Dr.002, F1C.3.Ce.002)</td>\n",
        "    </tr>\n",
        "    <tr>\n",
        "      <th>F1C.003</th>\n",
        "      <td>        (F1C.3.Ca.003, F1C.3.Dr.003, F1C.3.Ce.003)</td>\n",
        "    </tr>\n",
        "    <tr>\n",
        "      <th>F1C.010</th>\n",
        "      <td>        (F1C.3.Ca.010, F1C.3.Dr.010, F1C.3.Ce.010)</td>\n",
        "    </tr>\n",
        "  </tbody>\n",
        "</table>\n",
        "</div>"
       ],
       "metadata": {},
       "output_type": "pyout",
       "prompt_number": 7,
       "text": [
        "                                                 #SampleID\n",
        "COLME                                                     \n",
        "F1C.001  (F1C.2.Ca.001, F1C.3.Ca.001, F1C.2.Dr.001, F1C...\n",
        "F1C.002         (F1C.3.Ca.002, F1C.3.Dr.002, F1C.3.Ce.002)\n",
        "F1C.003         (F1C.3.Ca.003, F1C.3.Dr.003, F1C.3.Ce.003)\n",
        "F1C.010         (F1C.3.Ca.010, F1C.3.Dr.010, F1C.3.Ce.010)"
       ]
      }
     ],
     "prompt_number": 7
    },
    {
     "cell_type": "code",
     "collapsed": false,
     "input": [
      "for e in collapsed_md.index:\n",
      "    print e, set(collapsed_md['#SampleID'][e])"
     ],
     "language": "python",
     "metadata": {},
     "outputs": [
      {
       "output_type": "stream",
       "stream": "stdout",
       "text": [
        "F1C.001 set(['F1C.3.Ca.001', 'F1C.3.Dr.001', 'F1C.3.Ce.001', 'F1C.2.Dr.001', 'F1C.2.Ca.001', 'F1C.2.Ce.001'])\n",
        "F1C.002 set(['F1C.3.Dr.002', 'F1C.3.Ca.002', 'F1C.3.Ce.002'])\n",
        "F1C.003 set(['F1C.3.Dr.003', 'F1C.3.Ca.003', 'F1C.3.Ce.003'])\n",
        "F1C.010 set(['F1C.3.Dr.010', 'F1C.3.Ce.010', 'F1C.3.Ca.010'])\n",
        "F1C.011 set(['F1C.3.Dr.011', 'F1C.3.Ca.011', 'F1C.2.Dr.011', 'F1C.3.Ce.011', 'F1C.2.Ca.011', 'F1C.2.Ce.011'])\n",
        "F1C.012 set(['F1C.3.Ce.012', 'F1C.3.Dr.012', 'F1C.3.Ca.012'])\n",
        "F1C.019 set(['F1C.3.Dr.019', 'F1C.3.Ce.019', 'F1C.3.Ca.019'])\n",
        "F1C.020 set(['F1C.3.Dr.020', 'F1C.3.Ca.020', 'F1C.3.Ce.020'])\n",
        "F1C.021 set(['F1C.2.Dr.021', 'F1C.3.Ca.021', 'F1C.3.Ce.021', 'F1C.3.Dr.021', 'F1C.2.Ca.021', 'F1C.2.Ce.021'])\n",
        "F1C.022 set(['F1C.2.Dr.022', 'F1C.3.Ca.022', 'F1C.3.Ce.022', 'F1C.2.Ca.022', 'F1C.3.Dr.022', 'F1C.2.Ce.022'])\n",
        "F1C.031 set(['F1C.3.Ca.031', 'F1C.3.Ce.031', 'F1C.3.Dr.031'])\n",
        "F1C.040 set(['F1C.2.Ca.040', 'F1C.3.Ca.040', 'F1C.2.Ce.040', 'F1C.3.Dr.040', 'F1C.2.Dr.040', 'F1C.3.Ce.040'])\n",
        "F1C.041 set(['F1C.2.Ca.041', 'F1C.3.Ca.041', 'F1C.3.Dr.041', 'F1C.2.Ce.041', 'F1C.2.Dr.041', 'F1C.3.Ce.041'])\n",
        "F1C.050 set(['F1C.2.Ce.050', 'F1C.3.Dr.050', 'F1C.3.Ca.050', 'F1C.2.Dr.050', 'F1C.2.Ca.050', 'F1C.3.Ce.050'])\n",
        "F1C.059 set(['F1C.2.Ce.059', 'F1C.3.Dr.059', 'F1C.2.Ca.059', 'F1C.3.Ce.059', 'F1C.3.Ca.059', 'F1C.2.Dr.059'])\n",
        "F1F.001 set(['F1F.3.Dr.001', 'F1F.3.Ca.001', 'F1F.3.Ce.001', 'F1F.2.Ca.001', 'F1F.2.Dr.001', 'F1F.2.Ce.001'])\n",
        "F1F.002 set(['F1F.3.Ce.002', 'F1F.3.Dr.002', 'F1F.3.Ca.002'])\n",
        "F1F.003 set(['F1F.3.Ce.003', 'F1F.3.Dr.003', 'F1F.3.Ca.003'])\n",
        "F1F.010 set(['F1F.3.Ca.010', 'F1F.3.Dr.010', 'F1F.3.Ce.010'])\n",
        "F1F.011 set(['F1F.3.Dr.011', 'F1F.2.Ce.011', 'F1F.3.Ca.011', 'F1F.3.Ce.011', 'F1F.2.Dr.011', 'F1F.2.Ca.011'])\n",
        "F1F.012 set(['F1F.3.Dr.012', 'F1F.3.Ca.012', 'F1F.3.Ce.012'])\n",
        "F1F.019 set(['F1F.3.Ca.019', 'F1F.3.Dr.019', 'F1F.3.Ce.019'])\n",
        "F1F.020 set(['F1F.3.Ca.020', 'F1F.3.Ce.020', 'F1F.3.Dr.020'])\n",
        "F1F.021 set(['F1F.2.Ca.021', 'F1F.2.Ce.021', 'F1F.2.Dr.021', 'F1F.3.Ca.021', 'F1F.3.Ce.021', 'F1F.3.Dr.021'])\n",
        "F1F.022 set(['F1F.2.Ca.022', 'F1F.2.Ce.022', 'F1F.3.Ca.022', 'F1F.2.Dr.022', 'F1F.3.Ce.022', 'F1F.3.Dr.022'])\n",
        "F1F.031 set(['F1F.3.Dr.031', 'F1F.3.Ca.031', 'F1F.3.Ce.031'])\n",
        "F1F.040 set(['F1F.2.Ca.040', 'F1F.3.Ce.040', 'F1F.2.Dr.040', 'F1F.3.Dr.040', 'F1F.2.Ce.040', 'F1F.3.Ca.040'])\n",
        "F1F.041 set(['F1F.2.Ca.041', 'F1F.2.Dr.041', 'F1F.3.Ce.041', 'F1F.3.Dr.041', 'F1F.2.Ce.041', 'F1F.3.Ca.041'])\n",
        "F1F.050 set(['F1F.3.Ce.050', 'F1F.2.Dr.050', 'F1F.2.Ca.050', 'F1F.3.Dr.050', 'F1F.3.Ca.050', 'F1F.2.Ce.050'])\n",
        "F1F.059 set(['F1F.2.Ca.059', 'F1F.3.Dr.059', 'F1F.3.Ce.059', 'F1F.2.Dr.059', 'F1F.3.Ca.059', 'F1F.2.Ce.059'])\n",
        "F1W.001 set(['F1W.2.Dr.001', 'F1W.2.Ce.001', 'F1W.2.Ca.001', 'F1W.3.Dr.001', 'F1W.3.Ce.001', 'F1W.3.Ca.001'])\n",
        "F1W.002 set(['F1W.3.Ce.002', 'F1W.3.Dr.002', 'F1W.3.Ca.002'])\n",
        "F1W.003 set(['F1W.3.Ce.003', 'F1W.3.Dr.003', 'F1W.3.Ca.003'])\n",
        "F1W.010 set(['F1W.3.Ca.010', 'F1W.3.Dr.010', 'F1W.3.Ce.010'])\n",
        "F1W.011 set(['F1W.3.Ca.011', 'F1W.2.Ce.011', 'F1W.2.Ca.011', 'F1W.2.Dr.011', 'F1W.3.Dr.011', 'F1W.3.Ce.011'])\n",
        "F1W.012 set(['F1W.3.Ca.012', 'F1W.3.Ce.012', 'F1W.3.Dr.012'])\n",
        "F1W.019 set(['F1W.3.Ca.019', 'F1W.3.Dr.019', 'F1W.3.Ce.019'])\n",
        "F1W.020 set(['F1W.3.Ce.020', 'F1W.3.Dr.020', 'F1W.3.Ca.020'])\n",
        "F1W.021 set(['F1W.3.Ce.021', 'F1W.3.Ca.021', 'F1W.2.Dr.021', 'F1W.3.Dr.021', 'F1W.2.Ce.021', 'F1W.2.Ca.021'])\n",
        "F1W.022 set(['F1W.3.Ce.022', 'F1W.3.Ca.022', 'F1W.2.Dr.022', 'F1W.3.Dr.022', 'F1W.2.Ce.022', 'F1W.2.Ca.022'])\n",
        "F1W.031 set(['F1W.3.Ce.031', 'F1W.3.Dr.031', 'F1W.3.Ca.031'])\n",
        "F1W.040 set(['F1W.2.Dr.040', 'F1W.3.Ce.040', 'F1W.2.Ca.040', 'F1W.3.Dr.040', 'F1W.3.Ca.040', 'F1W.2.Ce.040'])\n",
        "F1W.041 set(['F1W.2.Dr.041', 'F1W.3.Ce.041', 'F1W.2.Ca.041', 'F1W.3.Dr.041', 'F1W.3.Ca.041', 'F1W.2.Ce.041'])\n",
        "F1W.050 set(['F1W.2.Ca.050', 'F1W.2.Dr.050', 'F1W.3.Dr.050', 'F1W.3.Ce.050', 'F1W.2.Ce.050', 'F1W.3.Ca.050'])\n",
        "F1W.059 set(['F1W.3.Dr.059', 'F1W.3.Ce.059', 'F1W.2.Ca.059', 'F1W.2.Dr.059', 'F1W.2.Ce.059', 'F1W.3.Ca.059'])\n",
        "F2C.001 set(['F2C.3.Dr.001', 'F2C.3.Ce.001', 'F2C.3.Ca.001', 'F2C.2.Dr.001', 'F2C.2.Ce.001', 'F2C.2.Ca.001'])\n",
        "F2C.002 set(['F2C.3.Ca.002', 'F2C.3.Ce.002', 'F2C.3.Dr.002'])\n",
        "F2C.003 set(['F2C.3.Ca.003', 'F2C.3.Ce.003', 'F2C.3.Dr.003'])\n",
        "F2C.010 set(['F2C.3.Ce.010', 'F2C.3.Ca.010', 'F2C.3.Dr.010'])\n",
        "F2C.011 set(['F2C.3.Ce.011', 'F2C.3.Ca.011', 'F2C.3.Dr.011', 'F2C.2.Dr.011', 'F2C.2.Ce.011', 'F2C.2.Ca.011'])\n",
        "F2C.012 set(['F2C.3.Ce.012', 'F2C.3.Dr.012', 'F2C.3.Ca.012'])\n",
        "F2C.019 set(['F2C.3.Ce.019', 'F2C.3.Ca.019', 'F2C.3.Dr.019'])\n",
        "F2C.020 set(['F2C.3.Ce.020', 'F2C.3.Dr.020', 'F2C.3.Ca.020'])\n",
        "F2C.021 set(['F2C.3.Dr.021', 'F2C.2.Dr.021', 'F2C.3.Ce.021', 'F2C.3.Ca.021', 'F2C.2.Ce.021', 'F2C.2.Ca.021'])\n",
        "F2C.022 set(['F2C.3.Dr.022', 'F2C.2.Dr.022', 'F2C.3.Ce.022', 'F2C.3.Ca.022', 'F2C.2.Ce.022', 'F2C.2.Ca.022'])\n",
        "F2C.031 set(['F2C.3.Ce.031', 'F2C.3.Dr.031', 'F2C.3.Ca.031'])\n",
        "F2C.040 set(['F2C.2.Dr.040', 'F2C.2.Ca.040', 'F2C.3.Ce.040', 'F2C.3.Dr.040', 'F2C.2.Ce.040', 'F2C.3.Ca.040'])\n",
        "F2C.041 set(['F2C.2.Dr.041', 'F2C.2.Ca.041', 'F2C.3.Ce.041', 'F2C.3.Dr.041', 'F2C.2.Ce.041', 'F2C.3.Ca.041'])\n",
        "F2C.050 set(['F2C.2.Dr.050', 'F2C.2.Ce.050', 'F2C.3.Ce.050', 'F2C.2.Ca.050', 'F2C.3.Ca.050', 'F2C.3.Dr.050'])\n",
        "F2C.059 set(['F2C.3.Ce.059', 'F2C.2.Ca.059', 'F2C.2.Dr.059', 'F2C.2.Ce.059', 'F2C.3.Ca.059', 'F2C.3.Dr.059'])\n",
        "F2F.001 set(['F2F.2.Dr.001', 'F2F.2.Ce.001', 'F2F.2.Ca.001', 'F2F.3.Dr.001', 'F2F.3.Ce.001', 'F2F.3.Ca.001'])\n",
        "F2F.002 set(['F2F.3.Ce.002', 'F2F.3.Dr.002', 'F2F.3.Ca.002'])\n",
        "F2F.003 set(['F2F.3.Ce.003', 'F2F.3.Dr.003', 'F2F.3.Ca.003'])\n",
        "F2F.010 set(['F2F.3.Ca.010', 'F2F.3.Dr.010', 'F2F.3.Ce.010'])\n",
        "F2F.011 set(['F2F.2.Ce.011', 'F2F.2.Ca.011', 'F2F.2.Dr.011', 'F2F.3.Dr.011', 'F2F.3.Ce.011', 'F2F.3.Ca.011'])\n",
        "F2F.012 set(['F2F.3.Ca.012', 'F2F.3.Ce.012', 'F2F.3.Dr.012'])\n",
        "F2F.019 set(['F2F.3.Ca.019', 'F2F.3.Dr.019', 'F2F.3.Ce.019'])\n",
        "F2F.020 set(['F2F.3.Ce.020', 'F2F.3.Dr.020', 'F2F.3.Ca.020'])\n",
        "F2F.021 set(['F2F.2.Dr.021', 'F2F.3.Dr.021', 'F2F.2.Ce.021', 'F2F.2.Ca.021', 'F2F.3.Ce.021', 'F2F.3.Ca.021'])\n",
        "F2F.022 set(['F2F.2.Dr.022', 'F2F.3.Dr.022', 'F2F.2.Ce.022', 'F2F.2.Ca.022', 'F2F.3.Ce.022', 'F2F.3.Ca.022'])\n",
        "F2F.031 set(['F2F.3.Ce.031', 'F2F.3.Dr.031', 'F2F.3.Ca.031'])\n",
        "F2F.040 set(['F2F.3.Dr.040', 'F2F.3.Ca.040', 'F2F.2.Ce.040', 'F2F.2.Dr.040', 'F2F.3.Ce.040', 'F2F.2.Ca.040'])\n",
        "F2F.041 set(['F2F.3.Dr.041', 'F2F.3.Ca.041', 'F2F.2.Ce.041', 'F2F.2.Dr.041', 'F2F.3.Ce.041', 'F2F.2.Ca.041'])\n",
        "F2F.050 set(['F2F.3.Dr.050', 'F2F.3.Ce.050', 'F2F.2.Ce.050', 'F2F.3.Ca.050', 'F2F.2.Ca.050', 'F2F.2.Dr.050'])\n",
        "F2F.059 set(['F2F.2.Ce.059', 'F2F.3.Ca.059', 'F2F.3.Dr.059', 'F2F.3.Ce.059', 'F2F.2.Ca.059', 'F2F.2.Dr.059'])\n",
        "F2W.001 set(['F2W.3.Ca.001', 'F2W.3.Ce.001', 'F2W.2.Ca.001', 'F2W.2.Dr.001', 'F2W.2.Ce.001', 'F2W.3.Dr.001'])\n",
        "F2W.002 set(['F2W.3.Ce.002', 'F2W.3.Dr.002', 'F2W.3.Ca.002'])\n",
        "F2W.003 set(['F2W.3.Ce.003', 'F2W.3.Dr.003', 'F2W.3.Ca.003'])\n",
        "F2W.010 set(['F2W.3.Ca.010', 'F2W.3.Dr.010', 'F2W.3.Ce.010'])\n",
        "F2W.011 set(['F2W.3.Ca.011', 'F2W.3.Ce.011', 'F2W.2.Dr.011', 'F2W.2.Ca.011', 'F2W.3.Dr.011', 'F2W.2.Ce.011'])\n",
        "F2W.012 set(['F2W.3.Dr.012', 'F2W.3.Ca.012', 'F2W.3.Ce.012'])\n",
        "F2W.019 set(['F2W.3.Ca.019', 'F2W.3.Dr.019', 'F2W.3.Ce.019'])\n",
        "F2W.020 set(['F2W.3.Ca.020', 'F2W.3.Ce.020', 'F2W.3.Dr.020'])\n",
        "F2W.021 set(['F2W.2.Dr.021', 'F2W.3.Ca.021', 'F2W.3.Ce.021', 'F2W.3.Dr.021', 'F2W.2.Ca.021', 'F2W.2.Ce.021'])\n",
        "F2W.022 set(['F2W.3.Ca.022', 'F2W.2.Dr.022', 'F2W.3.Ce.022', 'F2W.3.Dr.022', 'F2W.2.Ca.022', 'F2W.2.Ce.022'])\n",
        "F2W.031 set(['F2W.3.Dr.031', 'F2W.3.Ca.031', 'F2W.3.Ce.031'])\n",
        "F2W.040 set(['F2W.3.Dr.040', 'F2W.2.Ce.040', 'F2W.3.Ca.040', 'F2W.2.Ca.040', 'F2W.3.Ce.040', 'F2W.2.Dr.040'])\n",
        "F2W.041 set(['F2W.2.Ce.041', 'F2W.2.Ca.041', 'F2W.3.Dr.041', 'F2W.2.Dr.041', 'F2W.3.Ce.041'])\n",
        "F2W.041.a set(['F2W.3.Ca.041.a'])\n",
        "F2W.041.b set(['F2W.3.Ca.041.b'])\n",
        "F2W.050 set(['F2W.2.Ca.050', 'F2W.3.Dr.050', 'F2W.3.Ca.050', 'F2W.2.Ce.050', 'F2W.3.Ce.050', 'F2W.2.Dr.050'])\n",
        "F2W.059 set(['F2W.3.Ce.059', 'F2W.2.Ca.059', 'F2W.3.Ca.059', 'F2W.2.Dr.059', 'F2W.2.Ce.059'])\n",
        "F2W.059.a set(['F2W.3.Dr.059.a'])\n",
        "F2W.059.b set(['F2W.3.Dr.059.b'])\n",
        "F3C.001 set(['F3C.3.Ce.001', 'F3C.3.Ca.001', 'F3C.3.Dr.001', 'F3C.2.Ca.001', 'F3C.2.Dr.001', 'F3C.2.Ce.001'])\n",
        "F3C.002 set(['F3C.3.Ce.002', 'F3C.3.Dr.002', 'F3C.3.Ca.002'])\n",
        "F3C.003 set(['F3C.3.Dr.003', 'F3C.3.Ca.003'])\n",
        "F3C.010 set(['F3C.3.Ce.010', 'F3C.3.Ca.010', 'F3C.3.Dr.010'])\n",
        "F3C.011 set(['F3C.3.Ce.011', 'F3C.3.Ca.011', 'F3C.2.Dr.011', 'F3C.2.Ca.011', 'F3C.3.Dr.011', 'F3C.2.Ce.011'])\n",
        "F3C.012 set(['F3C.3.Ce.012', 'F3C.3.Dr.012', 'F3C.3.Ca.012'])\n",
        "F3C.019 set(['F3C.3.Ce.019', 'F3C.3.Ca.019', 'F3C.3.Dr.019'])\n",
        "F3C.020 set(['F3C.3.Ce.020', 'F3C.3.Ca.020'])\n",
        "F3C.021 set(['F3C.2.Ca.021', 'F3C.2.Ce.021', 'F3C.3.Ce.021', 'F3C.2.Dr.021', 'F3C.3.Dr.021', 'F3C.3.Ca.021'])\n",
        "F3C.022 set(['F3C.2.Ca.022', 'F3C.2.Ce.022', 'F3C.3.Dr.022', 'F3C.2.Dr.022', 'F3C.3.Ce.022', 'F3C.3.Ca.022'])\n",
        "F3C.031 set(['F3C.3.Dr.031', 'F3C.3.Ca.031', 'F3C.3.Ce.031'])\n",
        "F3C.040 set(['F3C.2.Dr.040', 'F3C.2.Ce.040', 'F3C.2.Ca.040', 'F3C.3.Ce.040', 'F3C.3.Ca.040', 'F3C.3.Dr.040'])\n",
        "F3C.041 set(['F3C.2.Dr.041', 'F3C.2.Ce.041', 'F3C.2.Ca.041', 'F3C.3.Ce.041', 'F3C.3.Ca.041', 'F3C.3.Dr.041'])\n",
        "F3C.050 set(['F3C.3.Dr.050', 'F3C.2.Ce.050', 'F3C.2.Ca.050', 'F3C.3.Ce.050', 'F3C.3.Ca.050', 'F3C.2.Dr.050'])\n",
        "F3C.059 set(['F3C.2.Ca.059', 'F3C.3.Ce.059', 'F3C.3.Dr.059', 'F3C.2.Ce.059', 'F3C.3.Ca.059', 'F3C.2.Dr.059'])\n",
        "F3F.001 set(['F3F.2.Dr.001', 'F3F.3.Ca.001', 'F3F.3.Dr.001', 'F3F.3.Ce.001', 'F3F.2.Ce.001', 'F3F.2.Ca.001'])\n",
        "F3F.002 set(['F3F.3.Ce.002', 'F3F.3.Dr.002', 'F3F.3.Ca.002'])\n",
        "F3F.003 set(['F3F.3.Ce.003', 'F3F.3.Dr.003', 'F3F.3.Ca.003'])\n",
        "F3F.010 set(['F3F.3.Dr.010', 'F3F.3.Ce.010', 'F3F.3.Ca.010'])\n",
        "F3F.011 set(['F3F.3.Dr.011', 'F3F.3.Ca.011', 'F3F.2.Dr.011', 'F3F.3.Ce.011', 'F3F.2.Ce.011', 'F3F.2.Ca.011'])\n",
        "F3F.012 set(['F3F.3.Ce.012', 'F3F.3.Dr.012', 'F3F.3.Ca.012'])\n",
        "F3F.019 set(['F3F.3.Dr.019', 'F3F.3.Ce.019', 'F3F.3.Ca.019'])\n",
        "F3F.020 set(['F3F.3.Dr.020', 'F3F.3.Ca.020', 'F3F.3.Ce.020'])\n",
        "F3F.021 set(['F3F.3.Ca.021', 'F3F.3.Ce.021', 'F3F.2.Ce.021', 'F3F.3.Dr.021', 'F3F.2.Dr.021', 'F3F.2.Ca.021'])\n",
        "F3F.022 set(['F3F.3.Ca.022', 'F3F.3.Ce.022', 'F3F.2.Dr.022', 'F3F.3.Dr.022', 'F3F.2.Ce.022', 'F3F.2.Ca.022'])\n",
        "F3F.031 set(['F3F.3.Ce.031', 'F3F.3.Dr.031', 'F3F.3.Ca.031'])\n",
        "F3F.040 set(['F3F.3.Ca.040', 'F3F.2.Ce.040', 'F3F.2.Ca.040', 'F3F.2.Dr.040', 'F3F.3.Dr.040', 'F3F.3.Ce.040'])\n",
        "F3F.041 set(['F3F.3.Ca.041', 'F3F.2.Ce.041', 'F3F.2.Ca.041', 'F3F.2.Dr.041', 'F3F.3.Dr.041', 'F3F.3.Ce.041'])\n",
        "F3F.050 set(['F3F.3.Ca.050', 'F3F.2.Ce.050', 'F3F.2.Ca.050', 'F3F.3.Dr.050', 'F3F.2.Dr.050', 'F3F.3.Ce.050'])\n",
        "F3F.059 set(['F3F.3.Ca.059', 'F3F.2.Ce.059', 'F3F.2.Dr.059', 'F3F.3.Ce.059', 'F3F.2.Ca.059', 'F3F.3.Dr.059'])\n",
        "F3W.001 set(['F3W.3.Ca.001', 'F3W.3.Dr.001', 'F3W.3.Ce.001', 'F3W.2.Ce.001', 'F3W.2.Ca.001', 'F3W.2.Dr.001'])\n",
        "F3W.002 set(['F3W.3.Ca.002', 'F3W.3.Ce.002', 'F3W.3.Dr.002'])\n",
        "F3W.003 set(['F3W.3.Ca.003', 'F3W.3.Ce.003', 'F3W.3.Dr.003'])\n",
        "F3W.010 set(['F3W.3.Ca.010', 'F3W.3.Dr.010', 'F3W.3.Ce.010'])\n",
        "F3W.011 set(['F3W.3.Ca.011', 'F3W.3.Ce.011', 'F3W.3.Dr.011', 'F3W.2.Ce.011', 'F3W.2.Ca.011', 'F3W.2.Dr.011'])\n",
        "F3W.012 set(['F3W.3.Dr.012', 'F3W.3.Ca.012', 'F3W.3.Ce.012'])\n",
        "F3W.019 set(['F3W.3.Ca.019', 'F3W.3.Dr.019', 'F3W.3.Ce.019'])\n",
        "F3W.020 set(['F3W.3.Ca.020', 'F3W.3.Ce.020', 'F3W.3.Dr.020'])\n",
        "F3W.021 set(['F3W.2.Ce.021', 'F3W.3.Dr.021', 'F3W.2.Ca.021', 'F3W.3.Ca.021', 'F3W.3.Ce.021', 'F3W.2.Dr.021'])\n",
        "F3W.022 set(['F3W.2.Ce.022', 'F3W.2.Ca.022', 'F3W.3.Dr.022', 'F3W.3.Ca.022', 'F3W.2.Dr.022', 'F3W.3.Ce.022'])\n",
        "F3W.031 set(['F3W.3.Ce.031', 'F3W.3.Dr.031', 'F3W.3.Ca.031'])\n",
        "F3W.040 set(['F3W.2.Ce.040', 'F3W.2.Dr.040', 'F3W.3.Ca.040', 'F3W.3.Dr.040', 'F3W.3.Ce.040', 'F3W.2.Ca.040'])\n",
        "F3W.041 set(['F3W.3.Dr.041', 'F3W.2.Ce.041', 'F3W.3.Ce.041', 'F3W.2.Ca.041', 'F3W.2.Dr.041'])\n",
        "F3W.050 set(['F3W.2.Ce.050', 'F3W.2.Dr.050', 'F3W.3.Ca.050', 'F3W.3.Ce.050', 'F3W.3.Dr.050', 'F3W.2.Ca.050'])\n",
        "F3W.059 set(['F3W.2.Dr.059', 'F3W.3.Ce.059', 'F3W.2.Ce.059', 'F3W.3.Ca.059', 'F3W.2.Ca.059'])\n",
        "S1C.001 set(['S1C.3.Ca.001', 'S1C.3.Dr.001', 'S1C.3.Ce.001'])\n",
        "S1C.002 set(['S1C.3.Ca.002', 'S1C.3.Ce.002', 'S1C.3.Dr.002'])\n",
        "S1C.003 set(['S1C.3.Ce.003', 'S1C.3.Dr.003', 'S1C.3.Ca.003', 'S1C.2.Dr.003', 'S1C.2.Ce.003', 'S1C.2.Ca.003'])\n",
        "S1C.004 set(['S1C.3.Dr.004', 'S1C.3.Ce.004', 'S1C.3.Ca.004'])\n",
        "S1C.005 set(['S1C.3.Dr.005', 'S1C.3.Ce.005', 'S1C.3.Ca.005'])\n",
        "S1C.010 set(['S1C.3.Ce.010', 'S1C.3.Ca.010', 'S1C.3.Dr.010'])\n",
        "S1C.011 set(['S1C.3.Ca.011'])\n",
        "S1C.012 set(['S1C.3.Ce.012', 'S1C.3.Dr.012', 'S1C.3.Ca.012'])\n",
        "S1C.021 set(['S1C.3.Ce.021', 'S1C.3.Dr.021', 'S1C.3.Ca.021'])\n",
        "S1C.022 set(['S1C.3.Dr.022', 'S1C.3.Ce.022', 'S1C.3.Ca.022'])\n",
        "S1C.023 set(['S1C.3.Dr.023', 'S1C.3.Ce.023', 'S1C.3.Ca.023'])\n",
        "S1C.024 set(['S1C.3.Ca.024', 'S1C.3.Ce.024', 'S1C.3.Dr.024'])\n",
        "S1C.033 set(['S1C.3.Ce.033', 'S1C.3.Ca.033', 'S1C.3.Dr.033'])\n",
        "S1C.041 set(['S1C.3.Dr.041', 'S1C.2.Ce.041', 'S1C.3.Ca.041', 'S1C.2.Dr.041', 'S1C.2.Ca.041', 'S1C.3.Ce.041'])\n",
        "S1C.042 set(['S1C.3.Dr.042', 'S1C.3.Ca.042', 'S1C.2.Ce.042', 'S1C.2.Dr.042', 'S1C.2.Ca.042', 'S1C.3.Ce.042'])\n",
        "S1C.051 set(['S1C.3.Ca.051', 'S1C.3.Dr.051', 'S1C.3.Ce.051'])\n",
        "S1C.060 set(['S1C.2.Dr.060', 'S1C.3.Ca.060', 'S1C.2.Ce.060', 'S1C.2.Ca.060', 'S1C.3.Ce.060', 'S1C.3.Dr.060'])\n",
        "S1F.001 set(['S1F.3.Ce.001', 'S1F.3.Ca.001', 'S1F.3.Dr.001'])\n",
        "S1F.002 set(['S1F.3.Ce.002', 'S1F.3.Dr.002', 'S1F.3.Ca.002'])\n",
        "S1F.003 set(['S1F.3.Ce.003', 'S1F.3.Dr.003', 'S1F.2.Ce.003', 'S1F.3.Ca.003', 'S1F.2.Dr.003'])\n",
        "S1F.004 set(['S1F.3.Ca.004', 'S1F.3.Dr.004', 'S1F.3.Ce.004'])\n",
        "S1F.005 set(['S1F.3.Ca.005', 'S1F.3.Dr.005', 'S1F.3.Ce.005'])\n",
        "S1F.010 set(['S1F.3.Ca.010', 'S1F.3.Dr.010', 'S1F.3.Ce.010'])\n",
        "S1F.012 set(['S1F.3.Ca.012', 'S1F.3.Ce.012', 'S1F.3.Dr.012'])\n",
        "S1F.021 set(['S1F.3.Ce.021', 'S1F.3.Dr.021', 'S1F.3.Ca.021'])\n",
        "S1F.022 set(['S1F.3.Ce.022', 'S1F.3.Ca.022', 'S1F.3.Dr.022'])\n",
        "S1F.023 set(['S1F.3.Ce.023', 'S1F.3.Ca.023', 'S1F.3.Dr.023'])\n",
        "S1F.024 set(['S1F.3.Dr.024', 'S1F.3.Ca.024', 'S1F.3.Ce.024'])\n",
        "S1F.033 set(['S1F.3.Dr.033', 'S1F.3.Ce.033', 'S1F.2.Dr.033', 'S1F.3.Ca.033'])\n",
        "S1F.041 set(['S1F.2.Dr.041', 'S1F.3.Ce.041', 'S1F.2.Ca.041', 'S1F.3.Dr.041', 'S1F.3.Ca.041', 'S1F.2.Ce.041'])\n",
        "S1F.042 set(['S1F.2.Dr.042', 'S1F.2.Ca.042', 'S1F.3.Ce.042', 'S1F.3.Dr.042', 'S1F.3.Ca.042', 'S1F.2.Ce.042'])\n",
        "S1F.051 set(['S1F.3.Dr.051', 'S1F.3.Ce.051', 'S1F.3.Ca.051'])\n",
        "S1F.060 set(['S1F.3.Dr.060', 'S1F.2.Ca.060', 'S1F.3.Ce.060', 'S1F.3.Ca.060', 'S1F.2.Ce.060', 'S1F.2.Dr.060'])\n",
        "S1W.001 set(['S1W.3.Dr.001', 'S1W.3.Ce.001', 'S1W.3.Ca.001'])\n",
        "S1W.002 set(['S1W.3.Ce.002', 'S1W.3.Dr.002', 'S1W.3.Ca.002'])\n",
        "S1W.003 set(['S1W.3.Dr.003', 'S1W.3.Ca.003', 'S1W.3.Ce.003', 'S1W.2.Dr.003', 'S1W.2.Ca.003', 'S1W.2.Ce.003'])\n",
        "S1W.004 set(['S1W.3.Ca.004', 'S1W.3.Dr.004', 'S1W.3.Ce.004'])\n",
        "S1W.005 set(['S1W.3.Ca.005', 'S1W.3.Dr.005', 'S1W.3.Ce.005'])\n",
        "S1W.010 set(['S1W.3.Ca.010', 'S1W.3.Dr.010', 'S1W.3.Ce.010'])\n",
        "S1W.011 set(['S1W.3.Ca.011', 'S1W.3.Dr.011', 'S1W.3.Ce.011'])\n",
        "S1W.012 set(['S1W.3.Dr.012', 'S1W.3.Ca.012', 'S1W.3.Ce.012'])\n",
        "S1W.021 set(['S1W.3.Ca.021', 'S1W.3.Ce.021', 'S1W.3.Dr.021'])\n",
        "S1W.022 set(['S1W.3.Ca.022', 'S1W.3.Dr.022', 'S1W.3.Ce.022'])\n",
        "S1W.023 set(['S1W.3.Ca.023', 'S1W.3.Dr.023', 'S1W.3.Ce.023'])\n",
        "S1W.024 set(['S1W.3.Ce.024', 'S1W.3.Dr.024', 'S1W.3.Ca.024'])\n",
        "S1W.033 set(['S1W.3.Ca.033', 'S1W.3.Dr.033', 'S1W.3.Ce.033'])\n",
        "S1W.041 set(['S1W.2.Ca.041', 'S1W.2.Dr.041', 'S1W.3.Ce.041', 'S1W.3.Dr.041', 'S1W.2.Ce.041', 'S1W.3.Ca.041'])\n",
        "S1W.042 set(['S1W.3.Ce.042', 'S1W.2.Dr.042', 'S1W.2.Ca.042', 'S1W.3.Dr.042', 'S1W.2.Ce.042', 'S1W.3.Ca.042'])\n",
        "S1W.051 set(['S1W.3.Ce.051', 'S1W.3.Ca.051', 'S1W.3.Dr.051'])\n",
        "S1W.060 set(['S1W.3.Ce.060', 'S1W.3.Dr.060', 'S1W.2.Ca.060', 'S1W.2.Ce.060', 'S1W.3.Ca.060', 'S1W.2.Dr.060'])\n",
        "S2C.003 set(['S2C.2.Ce.003', 'S2C.3.Dr.003', 'S2C.3.Ca.003', 'S2C.3.Ce.003', 'S2C.2.Dr.003', 'S2C.2.Ca.003'])\n",
        "S2C.004 set(['S2C.3.Ce.004', 'S2C.3.Ca.004', 'S2C.3.Dr.004'])\n",
        "S2C.005 set(['S2C.3.Ce.005', 'S2C.3.Ca.005', 'S2C.3.Dr.005'])\n",
        "S2C.010 set(['S2C.3.Dr.010', 'S2C.3.Ce.010', 'S2C.3.Ca.010'])\n",
        "S2C.011 set(['S2C.3.Dr.011'])\n",
        "S2C.012 set(['S2C.3.Ce.012', 'S2C.3.Dr.012', 'S2C.3.Ca.012'])\n",
        "S2C.021 set(['S2C.3.Dr.021', 'S2C.3.Ca.021', 'S2C.3.Ce.021'])\n",
        "S2C.022 set(['S2C.3.Ca.022', 'S2C.3.Dr.022', 'S2C.3.Ce.022'])\n",
        "S2C.023 set(['S2C.3.Ca.023', 'S2C.3.Dr.023', 'S2C.3.Ce.023'])\n",
        "S2C.024 set(['S2C.3.Ce.024', 'S2C.3.Dr.024', 'S2C.3.Ca.024'])\n",
        "S2C.033 set(['S2C.3.Ca.033', 'S2C.3.Dr.033', 'S2C.3.Ce.033'])\n",
        "S2C.041 set(['S2C.3.Ce.041', 'S2C.2.Ca.041', 'S2C.3.Ca.041', 'S2C.3.Dr.041', 'S2C.2.Ce.041', 'S2C.2.Dr.041'])\n",
        "S2C.042 set(['S2C.3.Ce.042', 'S2C.2.Ca.042', 'S2C.2.Ce.042', 'S2C.3.Dr.042', 'S2C.3.Ca.042', 'S2C.2.Dr.042'])\n",
        "S2C.051 set(['S2C.3.Ca.051', 'S2C.3.Dr.051', 'S2C.3.Ce.051'])\n",
        "S2C.060 set(['S2C.3.Ce.060', 'S2C.2.Ca.060', 'S2C.3.Dr.060', 'S2C.2.Ce.060', 'S2C.2.Dr.060', 'S2C.3.Ca.060'])\n",
        "S2F.003 set(['S2F.2.Dr.003', 'S2F.2.Ca.003', 'S2F.2.Ce.003', 'S2F.3.Dr.003', 'S2F.3.Ca.003', 'S2F.3.Ce.003'])\n",
        "S2F.004 set(['S2F.3.Ca.004', 'S2F.3.Dr.004', 'S2F.3.Ce.004'])\n",
        "S2F.005 set(['S2F.3.Ca.005', 'S2F.3.Dr.005', 'S2F.3.Ce.005'])\n",
        "S2F.010 set(['S2F.3.Ca.010', 'S2F.3.Dr.010', 'S2F.3.Ce.010'])\n",
        "S2F.011 set(['S2F.3.Ca.011'])\n",
        "S2F.012 set(['S2F.3.Dr.012', 'S2F.3.Ca.012', 'S2F.3.Ce.012'])\n",
        "S2F.021 set(['S2F.3.Ca.021', 'S2F.3.Ce.021', 'S2F.3.Dr.021'])\n",
        "S2F.022 set(['S2F.3.Ca.022', 'S2F.3.Dr.022', 'S2F.3.Ce.022'])\n",
        "S2F.023 set(['S2F.3.Ca.023', 'S2F.3.Dr.023', 'S2F.3.Ce.023'])\n",
        "S2F.024 set(['S2F.3.Ce.024', 'S2F.3.Dr.024', 'S2F.3.Ca.024'])\n",
        "S2F.033 set(['S2F.3.Ca.033', 'S2F.3.Dr.033', 'S2F.3.Ce.033'])\n",
        "S2F.041 set(['S2F.3.Ca.041', 'S2F.2.Ca.041', 'S2F.2.Dr.041', 'S2F.3.Ce.041', 'S2F.3.Dr.041', 'S2F.2.Ce.041'])\n",
        "S2F.042 set(['S2F.3.Ca.042', 'S2F.3.Ce.042', 'S2F.2.Dr.042', 'S2F.2.Ca.042', 'S2F.3.Dr.042', 'S2F.2.Ce.042'])\n",
        "S2F.051 set(['S2F.3.Ce.051', 'S2F.3.Ca.051', 'S2F.3.Dr.051'])\n",
        "S2F.060 set(['S2F.2.Ce.060', 'S2F.3.Ca.060', 'S2F.2.Dr.060', 'S2F.3.Ce.060', 'S2F.3.Dr.060', 'S2F.2.Ca.060'])\n",
        "S2W.003 set(['S2W.3.Ce.003', 'S2W.3.Ca.003', 'S2W.2.Ce.003', 'S2W.2.Dr.003', 'S2W.2.Ca.003', 'S2W.3.Dr.003'])\n",
        "S2W.004 set(['S2W.3.Ca.004', 'S2W.3.Dr.004', 'S2W.3.Ce.004'])\n",
        "S2W.005 set(['S2W.3.Ca.005', 'S2W.3.Dr.005', 'S2W.3.Ce.005'])\n",
        "S2W.010 set(['S2W.3.Ca.010', 'S2W.3.Dr.010', 'S2W.3.Ce.010'])\n",
        "S2W.011 set(['S2W.3.Ca.011'])\n",
        "S2W.012 set(['S2W.3.Ca.012', 'S2W.3.Ce.012', 'S2W.3.Dr.012'])\n",
        "S2W.021 set(['S2W.3.Ce.021', 'S2W.3.Dr.021', 'S2W.3.Ca.021'])\n",
        "S2W.022 set(['S2W.3.Ce.022', 'S2W.3.Ca.022', 'S2W.3.Dr.022'])\n",
        "S2W.023 set(['S2W.3.Ce.023', 'S2W.3.Ca.023', 'S2W.3.Dr.023'])\n",
        "S2W.024 set(['S2W.3.Dr.024', 'S2W.3.Ca.024', 'S2W.3.Ce.024'])\n",
        "S2W.033 set(['S2W.3.Dr.033', 'S2W.3.Ce.033', 'S2W.3.Ca.033'])\n",
        "S2W.041 set(['S2W.2.Ce.041', 'S2W.2.Dr.041', 'S2W.3.Ce.041', 'S2W.2.Ca.041', 'S2W.3.Dr.041', 'S2W.3.Ca.041'])\n",
        "S2W.042 set(['S2W.2.Ce.042', 'S2W.2.Dr.042', 'S2W.2.Ca.042', 'S2W.3.Ce.042', 'S2W.3.Dr.042', 'S2W.3.Ca.042'])\n",
        "S2W.051 set(['S2W.3.Dr.051', 'S2W.3.Ce.051', 'S2W.3.Ca.051'])\n",
        "S2W.060 set(['S2W.3.Ca.060', 'S2W.2.Ce.060', 'S2W.2.Dr.060', 'S2W.3.Dr.060', 'S2W.2.Ca.060', 'S2W.3.Ce.060'])\n",
        "S3C.003 set(['S3C.3.Ce.003', 'S3C.3.Dr.003', 'S3C.3.Ca.003'])\n",
        "S3C.004 set(['S3C.3.Ca.004', 'S3C.3.Dr.004', 'S3C.3.Ce.004'])\n",
        "S3C.005 set(['S3C.3.Ca.005', 'S3C.3.Dr.005'])\n",
        "S3C.010 set(['S3C.3.Dr.010', 'S3C.3.Ce.010', 'S3C.3.Ca.010'])\n",
        "S3C.011 set(['S3C.3.Dr.011', 'S3C.3.Ce.011'])\n",
        "S3C.021 set(['S3C.3.Dr.021', 'S3C.3.Ca.021', 'S3C.3.Ce.021'])\n",
        "S3C.022 set(['S3C.3.Ca.022', 'S3C.3.Dr.022', 'S3C.3.Ce.022'])\n",
        "S3C.023 set(['S3C.3.Ca.023', 'S3C.3.Dr.023', 'S3C.3.Ce.023'])\n",
        "S3C.024 set(['S3C.3.Ce.024', 'S3C.3.Dr.024', 'S3C.3.Ca.024'])\n",
        "S3C.033 set(['S3C.3.Dr.033', 'S3C.3.Ce.033', 'S3C.3.Ca.033'])\n",
        "S3C.041 set(['S3C.3.Dr.041', 'S3C.3.Ce.041', 'S3C.3.Ca.041', 'S3C.2.Ce.041', 'S3C.2.Ca.041', 'S3C.2.Dr.041'])\n",
        "S3C.042 set(['S3C.3.Dr.042', 'S3C.3.Ce.042', 'S3C.3.Ca.042', 'S3C.2.Ce.042', 'S3C.2.Ca.042', 'S3C.2.Dr.042'])\n",
        "S3C.051 set(['S3C.3.Ca.051', 'S3C.3.Dr.051', 'S3C.3.Ce.051'])\n",
        "S3C.060 set(['S3C.3.Ce.060', 'S3C.3.Dr.060', 'S3C.2.Ce.060', 'S3C.3.Ca.060', 'S3C.2.Dr.060', 'S3C.2.Ca.060'])\n",
        "S3F.003 set(['S3F.3.Ce.003', 'S3F.3.Dr.003', 'S3F.3.Ca.003'])\n",
        "S3F.004 set(['S3F.3.Ca.004', 'S3F.3.Dr.004', 'S3F.3.Ce.004'])\n",
        "S3F.005 set(['S3F.3.Ca.005', 'S3F.3.Dr.005', 'S3F.3.Ce.005'])\n",
        "S3F.010 set(['S3F.3.Ce.010', 'S3F.3.Ca.010', 'S3F.3.Dr.010'])\n",
        "S3F.021 set(['S3F.3.Ce.021', 'S3F.3.Dr.021', 'S3F.3.Ca.021'])\n",
        "S3F.022 set(['S3F.3.Dr.022', 'S3F.3.Ce.022', 'S3F.3.Ca.022'])\n",
        "S3F.023 set(['S3F.3.Dr.023', 'S3F.3.Ce.023', 'S3F.3.Ca.023'])\n",
        "S3F.024 set(['S3F.3.Ca.024', 'S3F.3.Ce.024', 'S3F.3.Dr.024'])\n",
        "S3F.033 set(['S3F.3.Ca.033', 'S3F.3.Dr.033', 'S3F.3.Ce.033'])\n",
        "S3F.041 set(['S3F.3.Ca.041', 'S3F.3.Dr.041', 'S3F.2.Dr.041', 'S3F.2.Ce.041', 'S3F.2.Ca.041', 'S3F.3.Ce.041'])\n",
        "S3F.042 set(['S3F.3.Ca.042', 'S3F.3.Dr.042', 'S3F.2.Dr.042', 'S3F.2.Ce.042', 'S3F.2.Ca.042', 'S3F.3.Ce.042'])\n",
        "S3F.051 set(['S3F.3.Ca.051', 'S3F.3.Dr.051', 'S3F.3.Ce.051'])\n",
        "S3F.060 set(['S3F.2.Ce.060', 'S3F.2.Dr.060', 'S3F.3.Ce.060', 'S3F.2.Ca.060', 'S3F.3.Dr.060', 'S3F.3.Ca.060'])\n",
        "S3W.003 set(['S3W.3.Dr.003', 'S3W.3.Ca.003', 'S3W.3.Ce.003'])\n",
        "S3W.004 set(['S3W.3.Ce.004', 'S3W.3.Ca.004', 'S3W.3.Dr.004'])\n",
        "S3W.005 set(['S3W.3.Ce.005', 'S3W.3.Ca.005', 'S3W.3.Dr.005'])\n",
        "S3W.010 set(['S3W.3.Ca.010', 'S3W.3.Dr.010', 'S3W.3.Ce.010'])\n",
        "S3W.021 set(['S3W.3.Ce.021', 'S3W.3.Dr.021', 'S3W.3.Ca.021'])\n",
        "S3W.022 set(['S3W.3.Ce.022', 'S3W.3.Ca.022', 'S3W.3.Dr.022'])\n",
        "S3W.023 set(['S3W.3.Ce.023', 'S3W.3.Ca.023', 'S3W.3.Dr.023'])\n",
        "S3W.024 set(['S3W.3.Dr.024', 'S3W.3.Ca.024', 'S3W.3.Ce.024'])\n",
        "S3W.033 set(['S3W.3.Ca.033', 'S3W.3.Dr.033', 'S3W.3.Ce.033'])\n",
        "S3W.041 set(['S3W.2.Dr.041', 'S3W.2.Ce.041', 'S3W.3.Ca.041', 'S3W.3.Ce.041', 'S3W.2.Ca.041', 'S3W.3.Dr.041'])\n",
        "S3W.042 set(['S3W.2.Ce.042', 'S3W.2.Dr.042', 'S3W.3.Ca.042', 'S3W.3.Ce.042', 'S3W.3.Dr.042', 'S3W.2.Ca.042'])\n",
        "S3W.051 set(['S3W.3.Dr.051', 'S3W.3.Ce.051', 'S3W.3.Ca.051'])\n",
        "S3W.060 set(['S3W.3.Ca.060', 'S3W.3.Ce.060', 'S3W.2.Dr.060', 'S3W.2.Ca.060', 'S3W.3.Dr.060', 'S3W.2.Ce.060'])\n",
        "T1C.001 set(['T1C.3.Ca.001', 'T1C.3.Dr.001', 'T1C.3.Ce.001'])\n",
        "T1C.002 set(['T1C.3.Ca.002', 'T1C.3.Ce.002', 'T1C.3.Dr.002'])\n",
        "T1C.003 set(['T1C.3.Ca.003', 'T1C.3.Ce.003', 'T1C.3.Dr.003'])\n",
        "T1C.010 set(['T1C.3.Ca.010', 'T1C.3.Dr.010', 'T1C.3.Ce.010'])\n",
        "T1C.019 set(['T1C.3.Ca.019', 'T1C.3.Dr.019', 'T1C.3.Ce.019'])\n",
        "T1C.020 set(['T1C.3.Ca.020', 'T1C.3.Ce.020', 'T1C.3.Dr.020'])\n",
        "T1C.021 set(['T1C.3.Ca.021', 'T1C.3.Ce.021', 'T1C.3.Dr.021'])\n",
        "T1C.022 set(['T1C.3.Ca.022', 'T1C.3.Dr.022', 'T1C.3.Ce.022'])\n",
        "T1C.023 set(['T1C.2.Ce.023', 'T1C.2.Ca.023', 'T1C.2.Dr.023'])\n",
        "T1C.031 set(['T1C.3.Ce.031', 'T1C.3.Dr.031', 'T1C.3.Ca.031'])\n",
        "T1C.040 set(['T1C.3.Dr.040', 'T1C.3.Ce.040', 'T1C.2.Ca.040', 'T1C.2.Ce.040', 'T1C.2.Dr.040', 'T1C.3.Ca.040'])\n",
        "T1C.041 set(['T1C.3.Dr.041', 'T1C.3.Ce.041', 'T1C.2.Ca.041', 'T1C.2.Ce.041', 'T1C.3.Ca.041', 'T1C.2.Dr.041'])\n",
        "T1C.050 set(['T1C.3.Ce.050', 'T1C.3.Dr.050', 'T1C.2.Ca.050', 'T1C.2.Ce.050', 'T1C.2.Dr.050', 'T1C.3.Ca.050'])\n",
        "T1C.059 set(['T1C.3.Ce.059', 'T1C.2.Ca.059', 'T1C.3.Dr.059', 'T1C.2.Dr.059', 'T1C.3.Ca.059', 'T1C.2.Ce.059'])\n",
        "T1F.001 set(['T1F.3.Ca.001', 'T1F.3.Dr.001', 'T1F.3.Ce.001'])\n",
        "T1F.002 set(['T1F.3.Dr.002', 'T1F.3.Ca.002', 'T1F.3.Ce.002'])\n",
        "T1F.003 set(['T1F.3.Dr.003', 'T1F.3.Ca.003', 'T1F.3.Ce.003'])\n",
        "T1F.010 set(['T1F.3.Ca.010', 'T1F.3.Dr.010', 'T1F.3.Ce.010'])\n",
        "T1F.019 set(['T1F.3.Ca.019', 'T1F.3.Dr.019', 'T1F.3.Ce.019'])\n",
        "T1F.020 set(['T1F.3.Ce.020', 'T1F.3.Dr.020', 'T1F.3.Ca.020'])\n",
        "T1F.021 set(['T1F.3.Ce.021', 'T1F.3.Dr.021', 'T1F.3.Ca.021'])\n",
        "T1F.022 set(['T1F.3.Ce.022', 'T1F.3.Ca.022', 'T1F.3.Dr.022'])\n",
        "T1F.023 set(['T1F.2.Ca.023', 'T1F.2.Dr.023', 'T1F.2.Ce.023'])\n",
        "T1F.031 set(['T1F.3.Ca.031', 'T1F.3.Ce.031', 'T1F.3.Dr.031'])\n",
        "T1F.040 set(['T1F.2.Dr.040', 'T1F.2.Ce.040', 'T1F.3.Ca.040', 'T1F.3.Ce.040', 'T1F.3.Dr.040', 'T1F.2.Ca.040'])\n",
        "T1F.041 set(['T1F.2.Dr.041', 'T1F.2.Ce.041', 'T1F.3.Ca.041', 'T1F.3.Ce.041', 'T1F.2.Ca.041', 'T1F.3.Dr.041'])\n",
        "T1F.050 set(['T1F.2.Ce.050', 'T1F.2.Dr.050', 'T1F.3.Ca.050', 'T1F.3.Ce.050', 'T1F.3.Dr.050', 'T1F.2.Ca.050'])\n",
        "T1F.059 set(['T1F.2.Ce.059', 'T1F.3.Ca.059', 'T1F.2.Dr.059', 'T1F.3.Dr.059', 'T1F.2.Ca.059', 'T1F.3.Ce.059'])\n",
        "T1W.001 set(['T1W.3.Dr.001', 'T1W.3.Ce.001', 'T1W.3.Ca.001'])\n",
        "T1W.002 set(['T1W.3.Ce.002', 'T1W.3.Dr.002', 'T1W.3.Ca.002'])\n",
        "T1W.003 set(['T1W.3.Ce.003', 'T1W.3.Dr.003', 'T1W.3.Ca.003'])\n",
        "T1W.010 set(['T1W.3.Ce.010', 'T1W.3.Ca.010', 'T1W.3.Dr.010'])\n",
        "T1W.019 set(['T1W.3.Ce.019', 'T1W.3.Ca.019', 'T1W.3.Dr.019'])\n",
        "T1W.020 set(['T1W.3.Ce.020', 'T1W.3.Dr.020', 'T1W.3.Ca.020'])\n",
        "T1W.021 set(['T1W.3.Ce.021', 'T1W.3.Dr.021', 'T1W.3.Ca.021'])\n",
        "T1W.022 set(['T1W.3.Dr.022', 'T1W.3.Ce.022', 'T1W.3.Ca.022'])\n",
        "T1W.023 set(['T1W.2.Ca.023', 'T1W.2.Dr.023', 'T1W.2.Ce.023'])\n",
        "T1W.031 set(['T1W.3.Dr.031', 'T1W.3.Ca.031', 'T1W.3.Ce.031'])\n",
        "T1W.040 set(['T1W.3.Ca.040', 'T1W.3.Dr.040', 'T1W.2.Dr.040', 'T1W.2.Ce.040', 'T1W.2.Ca.040', 'T1W.3.Ce.040'])\n",
        "T1W.041 set(['T1W.3.Ca.041', 'T1W.3.Dr.041', 'T1W.2.Dr.041', 'T1W.2.Ce.041', 'T1W.2.Ca.041', 'T1W.3.Ce.041'])\n",
        "T1W.050 set(['T1W.3.Ca.050', 'T1W.2.Dr.050', 'T1W.3.Dr.050', 'T1W.2.Ce.050', 'T1W.2.Ca.050', 'T1W.3.Ce.050'])\n",
        "T1W.059 set(['T1W.3.Ca.059', 'T1W.2.Dr.059', 'T1W.2.Ca.059', 'T1W.3.Ce.059', 'T1W.3.Dr.059', 'T1W.2.Ce.059'])\n",
        "T2C.001 set(['T2C.3.Ca.001', 'T2C.3.Dr.001', 'T2C.3.Ce.001'])\n",
        "T2C.002 set(['T2C.3.Dr.002', 'T2C.3.Ca.002', 'T2C.3.Ce.002'])\n",
        "T2C.003 set(['T2C.3.Dr.003', 'T2C.3.Ca.003', 'T2C.3.Ce.003'])\n",
        "T2C.010 set(['T2C.3.Ca.010', 'T2C.3.Dr.010', 'T2C.3.Ce.010'])\n",
        "T2C.019 set(['T2C.3.Ca.019', 'T2C.3.Dr.019', 'T2C.3.Ce.019'])\n",
        "T2C.020 set(['T2C.3.Ce.020', 'T2C.3.Dr.020', 'T2C.3.Ca.020'])\n",
        "T2C.021 set(['T2C.3.Ce.021', 'T2C.3.Dr.021', 'T2C.3.Ca.021'])\n",
        "T2C.022 set(['T2C.3.Ce.022', 'T2C.3.Ca.022', 'T2C.3.Dr.022'])\n",
        "T2C.023 set(['T2C.2.Dr.023', 'T2C.2.Ce.023'])\n",
        "T2C.023.a set(['T2C.2.Ca.023.a'])\n",
        "T2C.023.b set(['T2C.2.Ca.023.b'])\n",
        "T2C.031 set(['T2C.3.Ca.031', 'T2C.3.Ce.031', 'T2C.3.Dr.031'])\n",
        "T2C.040 set(['T2C.2.Dr.040', 'T2C.2.Ce.040', 'T2C.3.Ca.040', 'T2C.3.Ce.040', 'T2C.3.Dr.040', 'T2C.2.Ca.040'])\n",
        "T2C.041 set(['T2C.2.Dr.041', 'T2C.2.Ce.041', 'T2C.3.Ca.041', 'T2C.3.Ce.041', 'T2C.2.Ca.041', 'T2C.3.Dr.041'])\n",
        "T2C.050 set(['T2C.2.Ce.050', 'T2C.2.Dr.050', 'T2C.3.Ca.050', 'T2C.3.Ce.050', 'T2C.3.Dr.050', 'T2C.2.Ca.050'])\n",
        "T2C.059 set(['T2C.3.Ce.059', 'T2C.2.Ce.059', 'T2C.3.Ca.059', 'T2C.2.Dr.059', 'T2C.3.Dr.059', 'T2C.2.Ca.059'])\n",
        "T2F.001 set(['T2F.3.Ca.001', 'T2F.3.Dr.001', 'T2F.3.Ce.001'])\n",
        "T2F.002 set(['T2F.3.Ca.002', 'T2F.3.Ce.002', 'T2F.3.Dr.002'])\n",
        "T2F.003 set(['T2F.3.Ca.003', 'T2F.3.Ce.003', 'T2F.3.Dr.003'])\n",
        "T2F.010 set(['T2F.3.Ca.010', 'T2F.3.Dr.010', 'T2F.3.Ce.010'])\n",
        "T2F.019 set(['T2F.3.Ca.019', 'T2F.3.Dr.019', 'T2F.3.Ce.019'])\n",
        "T2F.020 set(['T2F.3.Ca.020', 'T2F.3.Ce.020', 'T2F.3.Dr.020'])\n",
        "T2F.021 set(['T2F.3.Ca.021', 'T2F.3.Ce.021', 'T2F.3.Dr.021'])\n",
        "T2F.022 set(['T2F.3.Ca.022', 'T2F.3.Dr.022', 'T2F.3.Ce.022'])\n",
        "T2F.023 set(['T2F.2.Ce.023', 'T2F.2.Ca.023', 'T2F.2.Dr.023'])\n",
        "T2F.031 set(['T2F.3.Ce.031', 'T2F.3.Ca.031'])\n",
        "T2F.031.a set(['T2F.3.Dr.031.a'])\n",
        "T2F.031.b set(['T2F.3.Dr.031.b'])\n",
        "T2F.040 set(['T2F.3.Dr.040', 'T2F.3.Ce.040', 'T2F.2.Ca.040', 'T2F.2.Ce.040', 'T2F.2.Dr.040', 'T2F.3.Ca.040'])\n",
        "T2F.041 set(['T2F.3.Dr.041', 'T2F.3.Ce.041', 'T2F.2.Ca.041', 'T2F.2.Ce.041', 'T2F.3.Ca.041', 'T2F.2.Dr.041'])\n",
        "T2F.050 set(['T2F.3.Ce.050', 'T2F.3.Dr.050', 'T2F.2.Ca.050', 'T2F.2.Ce.050', 'T2F.2.Dr.050', 'T2F.3.Ca.050'])\n",
        "T2F.059 set(['T2F.2.Ce.059', 'T2F.3.Ce.059', 'T2F.2.Ca.059', 'T2F.3.Dr.059', 'T2F.2.Dr.059', 'T2F.3.Ca.059'])\n",
        "T2W.001 set(['T2W.3.Ce.001', 'T2W.3.Ca.001', 'T2W.3.Dr.001'])\n",
        "T2W.002 set(['T2W.3.Ce.002', 'T2W.3.Dr.002', 'T2W.3.Ca.002'])\n",
        "T2W.003 set(['T2W.3.Ce.003', 'T2W.3.Dr.003', 'T2W.3.Ca.003'])\n",
        "T2W.010 set(['T2W.3.Dr.010', 'T2W.3.Ce.010', 'T2W.3.Ca.010'])\n",
        "T2W.019 set(['T2W.3.Dr.019', 'T2W.3.Ce.019', 'T2W.3.Ca.019'])\n",
        "T2W.020 set(['T2W.3.Dr.020', 'T2W.3.Ca.020', 'T2W.3.Ce.020'])\n",
        "T2W.021 set(['T2W.3.Dr.021', 'T2W.3.Ca.021', 'T2W.3.Ce.021'])\n",
        "T2W.022 set(['T2W.3.Ca.022', 'T2W.3.Dr.022', 'T2W.3.Ce.022'])\n",
        "T2W.023 set(['T2W.2.Dr.023', 'T2W.2.Ce.023', 'T2W.2.Ca.023'])\n",
        "T2W.031 set(['T2W.3.Ce.031', 'T2W.3.Dr.031'])\n",
        "T2W.031.a set(['T2W.3.Ca.031.a'])\n",
        "T2W.031.b set(['T2W.3.Ca.031.b'])\n",
        "T2W.040 set(['T2W.3.Dr.040', 'T2W.3.Ce.040', 'T2W.3.Ca.040', 'T2W.2.Ce.040', 'T2W.2.Ca.040', 'T2W.2.Dr.040'])\n",
        "T2W.041 set(['T2W.3.Dr.041', 'T2W.3.Ce.041', 'T2W.3.Ca.041', 'T2W.2.Ce.041', 'T2W.2.Ca.041', 'T2W.2.Dr.041'])\n",
        "T2W.050 set(['T2W.2.Dr.050', 'T2W.3.Ce.050', 'T2W.3.Ca.050', 'T2W.2.Ce.050', 'T2W.2.Ca.050', 'T2W.3.Dr.050'])\n",
        "T2W.059 set(['T2W.3.Ca.059', 'T2W.2.Ce.059', 'T2W.2.Dr.059', 'T2W.3.Ce.059', 'T2W.2.Ca.059', 'T2W.3.Dr.059'])\n",
        "T3C.001 set(['T3C.3.Ce.001', 'T3C.3.Ca.001', 'T3C.3.Dr.001'])\n",
        "T3C.002 set(['T3C.3.Ce.002', 'T3C.3.Dr.002', 'T3C.3.Ca.002'])\n",
        "T3C.003 set(['T3C.3.Ce.003', 'T3C.3.Dr.003', 'T3C.3.Ca.003'])\n",
        "T3C.010 set(['T3C.3.Ca.010', 'T3C.3.Dr.010', 'T3C.3.Ce.010'])\n",
        "T3C.019 set(['T3C.3.Ca.019', 'T3C.3.Dr.019', 'T3C.3.Ce.019'])\n",
        "T3C.020 set(['T3C.3.Ce.020', 'T3C.3.Dr.020', 'T3C.3.Ca.020'])\n",
        "T3C.021 set(['T3C.3.Ce.021', 'T3C.3.Dr.021', 'T3C.3.Ca.021'])\n",
        "T3C.022 set(['T3C.3.Ce.022', 'T3C.3.Ca.022', 'T3C.3.Dr.022'])\n",
        "T3C.023 set(['T3C.2.Dr.023', 'T3C.2.Ce.023'])\n",
        "T3C.031 set(['T3C.3.Ce.031', 'T3C.3.Dr.031', 'T3C.3.Ca.031'])\n",
        "T3C.040 set(['T3C.3.Ca.040', 'T3C.2.Ce.040', 'T3C.2.Dr.040', 'T3C.3.Ce.040', 'T3C.2.Ca.040', 'T3C.3.Dr.040'])\n",
        "T3C.041 set(['T3C.3.Ca.041', 'T3C.2.Ce.041', 'T3C.2.Dr.041', 'T3C.3.Ce.041', 'T3C.2.Ca.041', 'T3C.3.Dr.041'])\n",
        "T3C.050 set(['T3C.2.Ce.050', 'T3C.3.Ca.050', 'T3C.2.Ca.050', 'T3C.2.Dr.050', 'T3C.3.Dr.050', 'T3C.3.Ce.050'])\n",
        "T3C.059 set(['T3C.2.Ce.059', 'T3C.3.Ca.059', 'T3C.3.Dr.059', 'T3C.3.Ce.059', 'T3C.2.Ca.059', 'T3C.2.Dr.059'])\n",
        "T3F.001 set(['T3F.3.Ca.001', 'T3F.3.Dr.001', 'T3F.3.Ce.001'])\n",
        "T3F.002 set(['T3F.3.Ca.002', 'T3F.3.Ce.002', 'T3F.3.Dr.002'])\n",
        "T3F.003 set(['T3F.3.Ca.003', 'T3F.3.Ce.003', 'T3F.3.Dr.003'])\n",
        "T3F.010 set(['T3F.3.Ce.010', 'T3F.3.Ca.010', 'T3F.3.Dr.010'])\n",
        "T3F.019 set(['T3F.3.Ce.019', 'T3F.3.Ca.019', 'T3F.3.Dr.019'])\n",
        "T3F.020 set(['T3F.3.Ce.020', 'T3F.3.Dr.020', 'T3F.3.Ca.020'])\n",
        "T3F.021 set(['T3F.3.Ce.021', 'T3F.3.Dr.021', 'T3F.3.Ca.021'])\n",
        "T3F.022 set(['T3F.3.Dr.022', 'T3F.3.Ce.022', 'T3F.3.Ca.022'])\n",
        "T3F.023 set(['T3F.2.Ce.023', 'T3F.2.Ca.023', 'T3F.2.Dr.023'])\n",
        "T3F.031 set(['T3F.3.Ce.031', 'T3F.3.Ca.031'])\n",
        "T3F.040 set(['T3F.2.Ca.040', 'T3F.3.Ce.040', 'T3F.3.Dr.040', 'T3F.2.Ce.040', 'T3F.3.Ca.040', 'T3F.2.Dr.040'])\n",
        "T3F.041 set(['T3F.2.Ca.041', 'T3F.3.Ce.041', 'T3F.3.Dr.041', 'T3F.2.Ce.041', 'T3F.3.Ca.041', 'T3F.2.Dr.041'])\n",
        "T3F.050 set(['T3F.3.Ce.050', 'T3F.2.Ca.050', 'T3F.3.Ca.050', 'T3F.3.Dr.050', 'T3F.2.Dr.050', 'T3F.2.Ce.050'])\n",
        "T3F.059 set(['T3F.3.Ce.059', 'T3F.2.Ca.059', 'T3F.2.Dr.059', 'T3F.2.Ce.059', 'T3F.3.Ca.059', 'T3F.3.Dr.059'])\n",
        "T3W.001 set(['T3W.3.Ca.001', 'T3W.3.Dr.001', 'T3W.3.Ce.001'])\n",
        "T3W.002 set(['T3W.3.Dr.002', 'T3W.3.Ca.002', 'T3W.3.Ce.002'])\n",
        "T3W.003 set(['T3W.3.Dr.003', 'T3W.3.Ca.003', 'T3W.3.Ce.003'])\n",
        "T3W.010 set(['T3W.3.Dr.010', 'T3W.3.Ce.010', 'T3W.3.Ca.010'])\n",
        "T3W.019 set(['T3W.3.Dr.019', 'T3W.3.Ce.019', 'T3W.3.Ca.019'])\n",
        "T3W.020 set(['T3W.3.Dr.020', 'T3W.3.Ca.020', 'T3W.3.Ce.020'])\n",
        "T3W.021 set(['T3W.3.Dr.021', 'T3W.3.Ca.021', 'T3W.3.Ce.021'])\n",
        "T3W.022 set(['T3W.3.Ca.022', 'T3W.3.Dr.022', 'T3W.3.Ce.022'])\n",
        "T3W.023 set(['T3W.2.Ca.023', 'T3W.2.Dr.023', 'T3W.2.Ce.023'])\n",
        "T3W.031 set(['T3W.3.Ca.031', 'T3W.3.Ce.031', 'T3W.3.Dr.031'])\n",
        "T3W.040 set(['T3W.2.Dr.040', 'T3W.3.Ce.040', 'T3W.2.Ca.040', 'T3W.3.Ca.040', 'T3W.2.Ce.040', 'T3W.3.Dr.040'])\n",
        "T3W.041 set(['T3W.2.Dr.041', 'T3W.3.Ce.041', 'T3W.2.Ca.041', 'T3W.3.Ca.041', 'T3W.3.Dr.041', 'T3W.2.Ce.041'])\n",
        "T3W.050 set(['T3W.3.Ca.050', 'T3W.2.Dr.050', 'T3W.2.Ca.050', 'T3W.3.Ce.050', 'T3W.2.Ce.050', 'T3W.3.Dr.050'])\n",
        "T3W.059 set(['T3W.2.Ca.059', 'T3W.3.Ce.059', 'T3W.3.Ca.059', 'T3W.2.Dr.059', 'T3W.2.Ce.059', 'T3W.3.Dr.059'])\n",
        "blab1 set(['blankswab1'])\n",
        "blab2 set(['blankswab2'])\n",
        "blab3 set(['blankswab3'])\n",
        "blab4 set(['blankswab4'])\n",
        "blab5 set(['blankswab5'])\n"
       ]
      }
     ],
     "prompt_number": 8
    },
    {
     "cell_type": "code",
     "collapsed": false,
     "input": [
      "collapsed_md = collapsed_md.reset_index()\n",
      "collapsed_md[:3]"
     ],
     "language": "python",
     "metadata": {},
     "outputs": []
    },
    {
     "cell_type": "code",
     "collapsed": false,
     "input": [
      "sample_id_groups = collapsed_md[['#SampleID', 'COLME']]\n",
      "sample_id_groups[:3]"
     ],
     "language": "python",
     "metadata": {},
     "outputs": []
    },
    {
     "cell_type": "code",
     "collapsed": false,
     "input": [
      "set(sample_id_groups)"
     ],
     "language": "python",
     "metadata": {},
     "outputs": []
    },
    {
     "cell_type": "code",
     "collapsed": false,
     "input": [
      "sid_to_group_id = {}\n",
      "for group_id, sample_ids in sample_id_groups.iteritems():\n",
      "    for sample_id in sample_ids:\n",
      "        sid_to_group_id[sample_id] = group_id\n",
      "print sid_to_group_id"
     ],
     "language": "python",
     "metadata": {},
     "outputs": []
    },
    {
     "cell_type": "code",
     "collapsed": false,
     "input": [
      "# sid_to_group_id = {}\n",
      "# for group_id, sample_ids in sample_id_groups.iteritems():\n",
      "#     for sample_id in sample_ids:\n",
      "#         sid_to_group_id[sample_id] = group_id\n",
      "# print sid_to_group_id\n",
      "\n",
      "# sample_id_groups = sample_id_groups.set_index('#SampleID')\n",
      "sample_id_groups.to_dict()['COLME']"
     ],
     "language": "python",
     "metadata": {},
     "outputs": []
    },
    {
     "cell_type": "markdown",
     "metadata": {},
     "source": [
      "Now we're ready to collapse replicate groups in our BIOM file."
     ]
    },
    {
     "cell_type": "code",
     "collapsed": false,
     "input": [
      "def group_by_sample_metadata(mapping_f, collapse_fields,\n",
      "                             sample_id_field=\"#SampleID\"):\n",
      "    \"\"\"Group sample identifiers by one or more metadata fields\n",
      "\n",
      "    Parameters\n",
      "    ----------\n",
      "    mapping_f : file handle or filepath\n",
      "        The sample metadata mapping file.\n",
      "    collapse_fields : iterable\n",
      "        The fields to combine when collapsing samples. For each sample in the\n",
      "        mapping_f, the ordered values from these columns will be tuplized as\n",
      "        used as the group identfier. Samples whose tuplized values in these\n",
      "        fields are identical will be grouped.\n",
      "    sample_id_field : str, optional\n",
      "        The sample id field in the mapping_f.\n",
      "\n",
      "    Returns\n",
      "    -------\n",
      "    dict\n",
      "        Mapping of group id to set of input sample ids in that group.\n",
      "    dict\n",
      "        Mapping of input sample id to new group id.\n",
      "\n",
      "    Raises\n",
      "    ------\n",
      "    KeyError\n",
      "        If sample_id_field or any of the collapse fields are not column headers\n",
      "        in mapping_f.\n",
      "\n",
      "    \"\"\"\n",
      "    sample_md = pd.read_csv(mapping_f, sep='\\t')\n",
      "    grouped = sample_md.groupby(collapse_fields)\n",
      "    collapsed_md = grouped.agg({sample_id_field:lambda x: tuple(x)})\n",
      "\n",
      "    new_index_to_group = {}\n",
      "    old_index_to_new_index = {}\n",
      "    for i in collapsed_md.index:\n",
      "        old_indices = collapsed_md[sample_id_field][i]\n",
      "\n",
      "        # this is a little ugly, but we need to handle single and multi-index\n",
      "        # values here, and we always want to result to be a tuple\n",
      "        if isinstance(i, tuple):\n",
      "            new_index = i\n",
      "        else:\n",
      "            new_index = (i, )\n",
      "\n",
      "        new_index_to_group[new_index] = set(old_indices)\n",
      "        for old_index in old_indices:\n",
      "            old_index_to_new_index[old_index] = new_index\n",
      "\n",
      "    return new_index_to_group, old_index_to_new_index"
     ],
     "language": "python",
     "metadata": {},
     "outputs": [],
     "prompt_number": 3
    },
    {
     "cell_type": "code",
     "collapsed": false,
     "input": [
      "sample_md.columns.values"
     ],
     "language": "python",
     "metadata": {},
     "outputs": [
      {
       "metadata": {},
       "output_type": "pyout",
       "prompt_number": 4,
       "text": [
        "array(['#SampleID', 'BarcodeSequence', 'LinkerPrimerSequence',\n",
        "       'DateOfCollection', 'TimeOfCollection', 'WeekDay', 'Notes',\n",
        "       'Cooler', 'Description', 'City', 'PlateLocation', 'Material',\n",
        "       'OfficeNumber', 'Row', 'Event', 'OfficeNumberPlateLocation',\n",
        "       'CityOfficeNumber', 'CityOfficeNumberLocation', 'Period',\n",
        "       'DaysSinceEpoch', 'Season'], dtype=object)"
       ]
      }
     ],
     "prompt_number": 4
    },
    {
     "cell_type": "code",
     "collapsed": false,
     "input": [
      "map_fp = '/Users/jc33/google_drive/thesis/analysis/files/initial_steps/mapping_files/periods1-2-3_all_data_barcodes_map.txt'"
     ],
     "language": "python",
     "metadata": {},
     "outputs": [],
     "prompt_number": 5
    },
    {
     "cell_type": "code",
     "collapsed": false,
     "input": [
      "new_index_to_group, old_index_to_new_index = group_by_sample_metadata(map_fp, ['City', 'PlateLocation', 'OfficeNumber', 'Row', 'Event'])"
     ],
     "language": "python",
     "metadata": {},
     "outputs": [],
     "prompt_number": 6
    },
    {
     "cell_type": "code",
     "collapsed": false,
     "input": [
      "old_index_to_new_index['T1C.3.Dr.001']"
     ],
     "language": "python",
     "metadata": {},
     "outputs": [
      {
       "metadata": {},
       "output_type": "pyout",
       "prompt_number": 28,
       "text": [
        "('toronto', 'ceiling', '1', '3', 1)"
       ]
      }
     ],
     "prompt_number": 28
    },
    {
     "cell_type": "code",
     "collapsed": false,
     "input": [
      "from biom import load_table"
     ],
     "language": "python",
     "metadata": {},
     "outputs": [],
     "prompt_number": 7
    },
    {
     "cell_type": "code",
     "collapsed": false,
     "input": [
      "t = load_table('/Users/jc33/google_drive/thesis/analysis/files/row_2_3_comps/otu_table_mc800_w_tax_no_pynast_failures.biom')"
     ],
     "language": "python",
     "metadata": {},
     "outputs": [],
     "prompt_number": 8
    },
    {
     "cell_type": "code",
     "collapsed": false,
     "input": [
      "print t"
     ],
     "language": "python",
     "metadata": {},
     "outputs": []
    },
    {
     "cell_type": "code",
     "collapsed": false,
     "input": [
      "'T1C.3.Dr.001' in t.ids()"
     ],
     "language": "python",
     "metadata": {},
     "outputs": [
      {
       "metadata": {},
       "output_type": "pyout",
       "prompt_number": 29,
       "text": [
        "False"
       ]
      }
     ],
     "prompt_number": 29
    },
    {
     "cell_type": "code",
     "collapsed": false,
     "input": [
      "def partition_f(id_, md=None):\n",
      "    return old_index_to_new_index[id_]\n",
      "\n",
      "\n",
      "for i in t.ids():\n",
      "    print partition_f(i)"
     ],
     "language": "python",
     "metadata": {},
     "outputs": [
      {
       "output_type": "stream",
       "stream": "stdout",
       "text": [
        "('flagstaff', 'floor', '2', '2', 59)\n",
        "('san_diego', 'floor', '1', '2', 33)\n",
        "('flagstaff', 'floor', '2', '2', 40)\n",
        "('flagstaff', 'floor', '1', '2', 40)\n",
        "('toronto', 'floor', '3', '3', 41)\n",
        "('flagstaff', 'wall', '2', '3', 59)\n",
        "('flagstaff', 'ceiling', '2', '3', 50)\n",
        "('san_diego', 'ceiling', '3', '3', 4)\n",
        "('flagstaff', 'wall', '3', '2', 50)\n",
        "('san_diego', 'wall', '3', '3', 41)\n",
        "('flagstaff', 'wall', '2', '3', 2)\n"
       ]
      }
     ],
     "prompt_number": 26
    },
    {
     "cell_type": "code",
     "collapsed": false,
     "input": [
      "small_t = t.filter(['F2F.2.Ce.059', \n",
      "'S1F.2.Dr.033',\n",
      "'F2F.2.Ce.040',\n",
      "'F1F.2.Dr.040',\n",
      "'T3F.3.Dr.041',\n",
      "'F2W.3.Ca.059',\n",
      "'F2C.3.Ce.050',\n",
      "'S3C.3.Dr.004',\n",
      "'F3W.2.Dr.050',\n",
      "'S3W.3.Ca.041',\n",
      "'F2W.3.Dr.002'])\n",
      "\n",
      "small_t = small_t.filter(['339039',\n",
      "'4479940',\n",
      "'4376890',\n",
      "'370251',\n",
      "'741867',\n",
      "'460067',\n",
      "'4313102',\n",
      "'256904',\n",
      "'19398',\n",
      "'1033426'], axis='observation')\n",
      "\n",
      "print small_t"
     ],
     "language": "python",
     "metadata": {},
     "outputs": [
      {
       "output_type": "stream",
       "stream": "stdout",
       "text": [
        "# Constructed from biom file\n",
        "#OTU ID\tF2F.2.Ce.059\tS1F.2.Dr.033\tF2F.2.Ce.040\tF1F.2.Dr.040\tT3F.3.Dr.041\tF2W.3.Ca.059\tF2C.3.Ce.050\tS3C.3.Dr.004\tF3W.2.Dr.050\tS3W.3.Ca.041\tF2W.3.Dr.002\n",
        "339039\t0.0\t0.0\t0.0\t0.0\t0.0\t78.0\t0.0\t0.0\t0.0\t0.0\t0.0\n",
        "4479940\t0.0\t0.0\t0.0\t0.0\t0.0\t0.0\t3.0\t0.0\t0.0\t0.0\t0.0\n",
        "4376890\t0.0\t0.0\t0.0\t0.0\t0.0\t0.0\t0.0\t1.0\t1.0\t0.0\t0.0\n",
        "370251\t0.0\t0.0\t0.0\t0.0\t0.0\t0.0\t0.0\t0.0\t0.0\t3.0\t0.0\n",
        "741867\t0.0\t0.0\t0.0\t0.0\t0.0\t0.0\t0.0\t0.0\t0.0\t0.0\t2.0\n",
        "460067\t0.0\t0.0\t0.0\t0.0\t0.0\t0.0\t0.0\t0.0\t0.0\t0.0\t0.0\n",
        "4313102\t0.0\t0.0\t0.0\t0.0\t0.0\t0.0\t0.0\t0.0\t0.0\t0.0\t0.0\n",
        "256904\t0.0\t0.0\t0.0\t0.0\t0.0\t0.0\t0.0\t0.0\t0.0\t0.0\t0.0\n",
        "19398\t0.0\t0.0\t0.0\t0.0\t0.0\t0.0\t0.0\t0.0\t0.0\t0.0\t0.0\n",
        "1033426\t2.0\t0.0\t0.0\t0.0\t1.0\t0.0\t0.0\t0.0\t0.0\t0.0\t0.0\n"
       ]
      }
     ],
     "prompt_number": 20
    },
    {
     "cell_type": "code",
     "collapsed": false,
     "input": [
      "small_t = t.collapse(partition_f, norm=False)\n"
     ],
     "language": "python",
     "metadata": {},
     "outputs": [
      {
       "ename": "TypeError",
       "evalue": "unhashable type: 'numpy.ndarray'",
       "output_type": "pyerr",
       "traceback": [
        "\u001b[0;31m---------------------------------------------------------------------------\u001b[0m\n\u001b[0;31mTypeError\u001b[0m                                 Traceback (most recent call last)",
        "\u001b[0;32m<ipython-input-21-8a1f69206a09>\u001b[0m in \u001b[0;36m<module>\u001b[0;34m()\u001b[0m\n\u001b[0;32m----> 1\u001b[0;31m \u001b[0msmall_t\u001b[0m \u001b[0;34m=\u001b[0m \u001b[0mt\u001b[0m\u001b[0;34m.\u001b[0m\u001b[0mcollapse\u001b[0m\u001b[0;34m(\u001b[0m\u001b[0mpartition_f\u001b[0m\u001b[0;34m,\u001b[0m \u001b[0mnorm\u001b[0m\u001b[0;34m=\u001b[0m\u001b[0mFalse\u001b[0m\u001b[0;34m)\u001b[0m\u001b[0;34m\u001b[0m\u001b[0m\n\u001b[0m",
        "\u001b[0;32m/Users/jc33/.virtualenvs/qiime-dev/lib/python2.7/site-packages/biom/table.pyc\u001b[0m in \u001b[0;36mcollapse\u001b[0;34m(self, f, reduce_f, norm, min_group_size, include_collapsed_metadata, one_to_many, one_to_many_mode, one_to_many_md_key, strict, axis)\u001b[0m\n\u001b[1;32m   2110\u001b[0m \u001b[0;34m\u001b[0m\u001b[0m\n\u001b[1;32m   2111\u001b[0m         return Table(data, obs_ids, sample_ids, obs_md, sample_md,\n\u001b[0;32m-> 2112\u001b[0;31m                      self.table_id, type=self.type)\n\u001b[0m\u001b[1;32m   2113\u001b[0m \u001b[0;34m\u001b[0m\u001b[0m\n\u001b[1;32m   2114\u001b[0m     \u001b[0;32mdef\u001b[0m \u001b[0m_invert_axis\u001b[0m\u001b[0;34m(\u001b[0m\u001b[0mself\u001b[0m\u001b[0;34m,\u001b[0m \u001b[0maxis\u001b[0m\u001b[0;34m)\u001b[0m\u001b[0;34m:\u001b[0m\u001b[0;34m\u001b[0m\u001b[0m\n",
        "\u001b[0;32m/Users/jc33/.virtualenvs/qiime-dev/lib/python2.7/site-packages/biom/table.pyc\u001b[0m in \u001b[0;36m__init__\u001b[0;34m(self, data, observation_ids, sample_ids, observation_metadata, sample_metadata, table_id, type, create_date, generated_by, observation_group_metadata, sample_group_metadata, **kwargs)\u001b[0m\n\u001b[1;32m    258\u001b[0m         \u001b[0mself\u001b[0m\u001b[0;34m.\u001b[0m\u001b[0m_observation_group_metadata\u001b[0m \u001b[0;34m=\u001b[0m \u001b[0mobservation_group_metadata\u001b[0m\u001b[0;34m\u001b[0m\u001b[0m\n\u001b[1;32m    259\u001b[0m \u001b[0;34m\u001b[0m\u001b[0m\n\u001b[0;32m--> 260\u001b[0;31m         \u001b[0merrcheck\u001b[0m\u001b[0;34m(\u001b[0m\u001b[0mself\u001b[0m\u001b[0;34m)\u001b[0m\u001b[0;34m\u001b[0m\u001b[0m\n\u001b[0m\u001b[1;32m    261\u001b[0m \u001b[0;34m\u001b[0m\u001b[0m\n\u001b[1;32m    262\u001b[0m         \u001b[0;31m# These will be set by _index_ids()\u001b[0m\u001b[0;34m\u001b[0m\u001b[0;34m\u001b[0m\u001b[0m\n",
        "\u001b[0;32m/Users/jc33/.virtualenvs/qiime-dev/lib/python2.7/site-packages/biom/err.pyc\u001b[0m in \u001b[0;36merrcheck\u001b[0;34m(table, *errtypes)\u001b[0m\n\u001b[1;32m    469\u001b[0m \u001b[0;34m\u001b[0m\u001b[0m\n\u001b[1;32m    470\u001b[0m     \"\"\"\n\u001b[0;32m--> 471\u001b[0;31m     \u001b[0mret\u001b[0m \u001b[0;34m=\u001b[0m \u001b[0m__errprof\u001b[0m\u001b[0;34m.\u001b[0m\u001b[0mtest\u001b[0m\u001b[0;34m(\u001b[0m\u001b[0mtable\u001b[0m\u001b[0;34m,\u001b[0m \u001b[0;34m*\u001b[0m\u001b[0merrtypes\u001b[0m\u001b[0;34m)\u001b[0m\u001b[0;34m\u001b[0m\u001b[0m\n\u001b[0m\u001b[1;32m    472\u001b[0m     \u001b[0;32mif\u001b[0m \u001b[0misinstance\u001b[0m\u001b[0;34m(\u001b[0m\u001b[0mret\u001b[0m\u001b[0;34m,\u001b[0m \u001b[0mException\u001b[0m\u001b[0;34m)\u001b[0m\u001b[0;34m:\u001b[0m\u001b[0;34m\u001b[0m\u001b[0m\n\u001b[1;32m    473\u001b[0m         \u001b[0;32mraise\u001b[0m \u001b[0mret\u001b[0m\u001b[0;34m\u001b[0m\u001b[0m\n",
        "\u001b[0;32m/Users/jc33/.virtualenvs/qiime-dev/lib/python2.7/site-packages/biom/err.pyc\u001b[0m in \u001b[0;36mtest\u001b[0;34m(self, item, *args)\u001b[0m\n\u001b[1;32m    254\u001b[0m         \u001b[0;32mfor\u001b[0m \u001b[0merrtype\u001b[0m \u001b[0;32min\u001b[0m \u001b[0margs\u001b[0m\u001b[0;34m:\u001b[0m\u001b[0;34m\u001b[0m\u001b[0m\n\u001b[1;32m    255\u001b[0m             \u001b[0mtest\u001b[0m \u001b[0;34m=\u001b[0m \u001b[0mself\u001b[0m\u001b[0;34m.\u001b[0m\u001b[0m_test\u001b[0m\u001b[0;34m.\u001b[0m\u001b[0mget\u001b[0m\u001b[0;34m(\u001b[0m\u001b[0merrtype\u001b[0m\u001b[0;34m,\u001b[0m \u001b[0;32mlambda\u001b[0m\u001b[0;34m:\u001b[0m \u001b[0mNone\u001b[0m\u001b[0;34m)\u001b[0m\u001b[0;34m\u001b[0m\u001b[0m\n\u001b[0;32m--> 256\u001b[0;31m             \u001b[0;32mif\u001b[0m \u001b[0mtest\u001b[0m\u001b[0;34m(\u001b[0m\u001b[0mitem\u001b[0m\u001b[0;34m)\u001b[0m\u001b[0;34m:\u001b[0m\u001b[0;34m\u001b[0m\u001b[0m\n\u001b[0m\u001b[1;32m    257\u001b[0m                 \u001b[0;32mreturn\u001b[0m \u001b[0mself\u001b[0m\u001b[0;34m.\u001b[0m\u001b[0m_handle_error\u001b[0m\u001b[0;34m(\u001b[0m\u001b[0merrtype\u001b[0m\u001b[0;34m,\u001b[0m \u001b[0mitem\u001b[0m\u001b[0;34m)\u001b[0m\u001b[0;34m\u001b[0m\u001b[0m\n\u001b[1;32m    258\u001b[0m \u001b[0;34m\u001b[0m\u001b[0m\n",
        "\u001b[0;32m/Users/jc33/.virtualenvs/qiime-dev/lib/python2.7/site-packages/biom/err.pyc\u001b[0m in \u001b[0;36m_test_sampdup\u001b[0;34m(t)\u001b[0m\n\u001b[1;32m     99\u001b[0m \u001b[0;32mdef\u001b[0m \u001b[0m_test_sampdup\u001b[0m\u001b[0;34m(\u001b[0m\u001b[0mt\u001b[0m\u001b[0;34m)\u001b[0m\u001b[0;34m:\u001b[0m\u001b[0;34m\u001b[0m\u001b[0m\n\u001b[1;32m    100\u001b[0m     \u001b[0;34m\"\"\"Check if there are duplicate samples\"\"\"\u001b[0m\u001b[0;34m\u001b[0m\u001b[0m\n\u001b[0;32m--> 101\u001b[0;31m     \u001b[0;32mreturn\u001b[0m \u001b[0mt\u001b[0m\u001b[0;34m.\u001b[0m\u001b[0mshape\u001b[0m\u001b[0;34m[\u001b[0m\u001b[0;36m1\u001b[0m\u001b[0;34m]\u001b[0m \u001b[0;34m!=\u001b[0m \u001b[0mlen\u001b[0m\u001b[0;34m(\u001b[0m\u001b[0mset\u001b[0m\u001b[0;34m(\u001b[0m\u001b[0mt\u001b[0m\u001b[0;34m.\u001b[0m\u001b[0mids\u001b[0m\u001b[0;34m(\u001b[0m\u001b[0maxis\u001b[0m\u001b[0;34m=\u001b[0m\u001b[0;34m'sample'\u001b[0m\u001b[0;34m)\u001b[0m\u001b[0;34m)\u001b[0m\u001b[0;34m)\u001b[0m\u001b[0;34m\u001b[0m\u001b[0m\n\u001b[0m\u001b[1;32m    102\u001b[0m \u001b[0;34m\u001b[0m\u001b[0m\n\u001b[1;32m    103\u001b[0m \u001b[0;34m\u001b[0m\u001b[0m\n",
        "\u001b[0;31mTypeError\u001b[0m: unhashable type: 'numpy.ndarray'"
       ]
      }
     ],
     "prompt_number": 21
    },
    {
     "cell_type": "markdown",
     "metadata": {},
     "source": [
      "collapse replicate samples\n",
      "====================="
     ]
    },
    {
     "cell_type": "markdown",
     "metadata": {},
     "source": [
      "By default, observation counts are summed when collapsing samples. Some other common options are illustrated here."
     ]
    },
    {
     "cell_type": "heading",
     "level": 2,
     "metadata": {},
     "source": [
      "Collapse to the first sample in each group"
     ]
    },
    {
     "cell_type": "code",
     "collapsed": false,
     "input": [
      "from biom.exception import UnknownAxisError\n",
      "def collapse_to_first(t, axis):\n",
      "    return np.asarray([e[0] for e in t.iter_data(axis=axis, dense=True)])\n",
      "\n",
      "print t.collapse(partition_f, collapse_f=collapse_to_first, norm=False, axis='sample')"
     ],
     "language": "python",
     "metadata": {},
     "outputs": []
    },
    {
     "cell_type": "heading",
     "level": 2,
     "metadata": {},
     "source": [
      "Collapse to the median value for each observation"
     ]
    },
    {
     "cell_type": "code",
     "collapsed": false,
     "input": [
      "def collapse_to_median(t, axis):\n",
      "    return np.asarray([np.median(e) for e in t.iter_data(axis=axis, dense=True)])\n",
      "\n",
      "print t.collapse(partition_f, collapse_f=collapse_to_median, norm=False, axis='sample')"
     ],
     "language": "python",
     "metadata": {},
     "outputs": []
    },
    {
     "cell_type": "heading",
     "level": 2,
     "metadata": {},
     "source": [
      "Collapse to a randomly selected sample"
     ]
    },
    {
     "cell_type": "code",
     "collapsed": false,
     "input": [
      "from biom.exception import UnknownAxisError\n",
      "\n",
      "def collapse_to_rand(t, axis):\n",
      "    # this is a little clunky - waiting for an answer here\n",
      "    # http://stackoverflow.com/q/26050412/3424666\n",
      "    if axis == 'sample':\n",
      "        length = t.shape[0]\n",
      "    elif axis == 'observation':\n",
      "        length = t.shape[1]\n",
      "    else:\n",
      "        raise UnknownAxisError(axis)\n",
      "    n = np.random.randint(length)\n",
      "    return np.asarray([e[n] for e in t.iter_data(axis=axis, dense=True)])\n",
      "\n",
      "print t.collapse(partition_f, collapse_f=collapse_to_rand, norm=False, axis='sample')"
     ],
     "language": "python",
     "metadata": {},
     "outputs": []
    },
    {
     "cell_type": "code",
     "collapsed": false,
     "input": [
      "print t.collapse(partition_f, collapse_f=collapse_to_rand, norm=False, axis='sample')"
     ],
     "language": "python",
     "metadata": {},
     "outputs": []
    },
    {
     "cell_type": "heading",
     "level": 2,
     "metadata": {},
     "source": [
      "Sum counts"
     ]
    },
    {
     "cell_type": "code",
     "collapsed": false,
     "input": [
      "print t.collapse(partition_f, norm=False, axis='sample')"
     ],
     "language": "python",
     "metadata": {},
     "outputs": []
    },
    {
     "cell_type": "heading",
     "level": 2,
     "metadata": {},
     "source": [
      "Average counts"
     ]
    },
    {
     "cell_type": "code",
     "collapsed": false,
     "input": [
      "print t.collapse(partition_f, norm=True, axis='sample')"
     ],
     "language": "python",
     "metadata": {},
     "outputs": []
    },
    {
     "cell_type": "code",
     "collapsed": false,
     "input": [
      "City,PlateLocation,OfficeNumber,Row,Event"
     ],
     "language": "python",
     "metadata": {},
     "outputs": []
    }
   ],
   "metadata": {}
  }
 ]
}