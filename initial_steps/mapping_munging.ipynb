{
 "metadata": {
  "name": "",
  "signature": "sha256:6a47abdf4ef61a80525bb0679c05bd883821a5ea0706206fb245b5a313019551"
 },
 "nbformat": 3,
 "nbformat_minor": 0,
 "worksheets": [
  {
   "cells": [
    {
     "cell_type": "markdown",
     "metadata": {},
     "source": [
      "Initial steps to get the data into an otu table\n",
      "=====\n",
      "The first thing that needs to be done is to run split libraries. There are currently two datasets, one for period one, and one for periods two and three. \n",
      "\n",
      "All analysis in this notebook are done with qiime 1.8.0 unless otherwise noted"
     ]
    },
    {
     "cell_type": "code",
     "collapsed": false,
     "input": [
      "import pandas as pd\n",
      "import numpy as np\n",
      "from IPython.display import FileLinks, FileLink"
     ],
     "language": "python",
     "metadata": {},
     "outputs": [],
     "prompt_number": 5
    },
    {
     "cell_type": "markdown",
     "metadata": {},
     "source": [
      "The code below is not currently working as I have changed names of things.\n",
      "---------------------------------------------------------"
     ]
    },
    {
     "cell_type": "code",
     "collapsed": false,
     "input": [
      "#this is the mapping file that I sent to Argonne to be sequenced\n",
      "#md5 2b7d92514e0f704030acc7b4b2d52744\n",
      "run_1_ids_to_be_run_df = pd.read_csv('../../files/mapping_files/first_run_maps/first_run_ids.txt', names=['#SampleID'], index_col='#SampleID')\n",
      "\n",
      "#These are what they sent back, They are not correct.\n",
      "#md5 ba24bf3aafc54d26a7b697fd0746d926\n",
      "argonne_map_df = pd.read_csv('../../files/mapping_files/first_run_maps/first_run_map_from_argonne.txt', sep='\\t', names=['#SampleID'])\n",
      "argonne_map_df.set_index('#SampleID')\n",
      "\n",
      "#finally we arrived at this mapping file through discussion and corrections which were provided from argonne. This is not currently correct\n",
      "#md5 b900ae4cc3f453797928421c95fc789e \n",
      "run_1_map_df = pd.read_csv('../../files/mapping_files/first_run_maps/office_map_barcode_data_only_corrected.txt', index_col='#SampleID', sep='\\t')\n",
      "\n",
      "\n",
      "san_diego_df = pd.read_csv('/Users/jc33/Dropbox/caporaso_lab/office_study/mapping_files/master/san_diego_map.txt', index_col='#SampleID', sep='\\t')"
     ],
     "language": "python",
     "metadata": {},
     "outputs": [],
     "prompt_number": 150
    },
    {
     "cell_type": "code",
     "collapsed": false,
     "input": [
      "san_diego_df.index.values"
     ],
     "language": "python",
     "metadata": {},
     "outputs": [
      {
       "metadata": {},
       "output_type": "pyout",
       "prompt_number": 151,
       "text": [
        "array(['S1C.3.Ca.001', 'S1C.3.Ce.001', 'S1C.3.Dr.001', ..., 'S3W.2.Ca.041',\n",
        "       'S3W.2.Ce.041', 'S3W.2.Dr.041'], dtype=object)"
       ]
      }
     ],
     "prompt_number": 151
    },
    {
     "cell_type": "code",
     "collapsed": false,
     "input": [
      "len(argonne_map_df.index.values) #== len(set(argonne_map_df.index.values))"
     ],
     "language": "python",
     "metadata": {},
     "outputs": [
      {
       "metadata": {},
       "output_type": "pyout",
       "prompt_number": 152,
       "text": [
        "769"
       ]
      }
     ],
     "prompt_number": 152
    },
    {
     "cell_type": "code",
     "collapsed": false,
     "input": [
      "#Check to see if there are any ids that are not in the valid mapping file from San Diego, \n",
      "#these should have been added but weren't\n",
      "for i in run_1_map_df.index.values:\n",
      "    if i not in san_diego_df.index.values and i.startswith('S'):\n",
      "        print i"
     ],
     "language": "python",
     "metadata": {},
     "outputs": [
      {
       "output_type": "stream",
       "stream": "stdout",
       "text": [
        "S1S.3.Dr.003\n"
       ]
      }
     ],
     "prompt_number": 153
    },
    {
     "cell_type": "code",
     "collapsed": false,
     "input": [
      "#Figure out which office is missing\n",
      "for i in run_1_map_df.index.values:\n",
      "    if i[:2] + i[3:] == 'S1.3.Dr.003':\n",
      "        print i"
     ],
     "language": "python",
     "metadata": {},
     "outputs": [
      {
       "output_type": "stream",
       "stream": "stdout",
       "text": [
        "S1C.3.Dr.003\n",
        "S1S.3.Dr.003\n",
        "S1F.3.Dr.003\n"
       ]
      }
     ],
     "prompt_number": 154
    },
    {
     "cell_type": "code",
     "collapsed": false,
     "input": [
      "for i in run_1_map_df.index.values:\n",
      "    if i not in run_1_ids_to_be_run_df.index.values:\n",
      "        print i"
     ],
     "language": "python",
     "metadata": {},
     "outputs": [
      {
       "output_type": "stream",
       "stream": "stdout",
       "text": [
        "F32.3Dr.021\n",
        "blankswab1\n",
        "blankswab3\n",
        "blankswab2\n",
        "S1S.3.Dr.003\n",
        "F1W3.Dr.002\n",
        "S1F.2.Ce.003\n",
        "3C.3.Dr.020\n",
        "blankswab5\n",
        "blankswab4\n",
        "F3F.2.Dr.001\n",
        "F3C.3.Ca.003.1\n",
        "F2W.3.C.012\n"
       ]
      }
     ],
     "prompt_number": 155
    },
    {
     "cell_type": "code",
     "collapsed": false,
     "input": [
      "for i in run_1_map_df.index.values:\n",
      "    if i == 'F3C.3.Ca.001':\n",
      "        print i"
     ],
     "language": "python",
     "metadata": {},
     "outputs": [
      {
       "output_type": "stream",
       "stream": "stdout",
       "text": [
        "F3C.3.Ca.001\n"
       ]
      }
     ],
     "prompt_number": 174
    },
    {
     "cell_type": "code",
     "collapsed": false,
     "input": [
      "'F3C.3.Dr.021'[:1] + 'F3C.3.Dr.021'[3:]\n"
     ],
     "language": "python",
     "metadata": {},
     "outputs": [
      {
       "metadata": {},
       "output_type": "pyout",
       "prompt_number": 167,
       "text": [
        "'F.3.Dr.021'"
       ]
      }
     ],
     "prompt_number": 167
    },
    {
     "cell_type": "code",
     "collapsed": false,
     "input": [
      "#rename some of these... This list is based on emails, and logic inference from missing sample ids.\n",
      "new_row_names = {'F1W3.Dr.002':'F1W.3.Dr.002',\n",
      "                 'S1S.3.Dr.003':'S1W.3.Dr.003', 'F32.3Dr.021':'F3W.3.Dr.021', \n",
      "                 'F2W.3.C.012':'F2W.3.Ca.012'}\n",
      "run_1_map_df.rename(index=new_row_names, inplace=True)"
     ],
     "language": "python",
     "metadata": {},
     "outputs": [],
     "prompt_number": 175
    },
    {
     "cell_type": "code",
     "collapsed": false,
     "input": [
      "for i in run_1_map_df.index.values:\n",
      "    if i not in run_1_ids_to_be_run_df.index.values:\n",
      "        print i"
     ],
     "language": "python",
     "metadata": {},
     "outputs": [
      {
       "output_type": "stream",
       "stream": "stdout",
       "text": [
        "blankswab1\n",
        "blankswab3\n",
        "blankswab2\n",
        "S1F.2.Ce.003\n",
        "blankswab5\n",
        "blankswab4\n",
        "F3F.2.Dr.001\n"
       ]
      }
     ],
     "prompt_number": 176
    },
    {
     "cell_type": "code",
     "collapsed": false,
     "input": [
      "run_1_map_df.drop(['3C.3.Dr.020', 'F3C.3.Ca.003.1'], inplace=True)\n",
      "#We have a mapping file! "
     ],
     "language": "python",
     "metadata": {},
     "outputs": [],
     "prompt_number": 178
    },
    {
     "cell_type": "code",
     "collapsed": false,
     "input": [
      "#write the mapping out to file\n",
      "run_1_map_df.to_csv('../../files/mapping_files/first_run_maps/office_map_barcode_data_only_corrected2.txt', sep='\\t')"
     ],
     "language": "python",
     "metadata": {},
     "outputs": [],
     "prompt_number": 179
    },
    {
     "cell_type": "code",
     "collapsed": false,
     "input": [
      "!validate_mapping_file.py -m '../../files/mapping_files/first_run_maps/office_map_barcode_data_only_corrected2.txt' -o '../../files/mapping_files/first_run_maps/check_map'"
     ],
     "language": "python",
     "metadata": {},
     "outputs": [
      {
       "output_type": "stream",
       "stream": "stdout",
       "text": [
        "Errors and/or warnings detected in mapping file.  Please check the log and html file for details.\r\n"
       ]
      }
     ],
     "prompt_number": 180
    },
    {
     "cell_type": "code",
     "collapsed": false,
     "input": [
      "FileLink('../../files/mapping_files/first_run_maps/check_map/office_map_barcode_data_only_corrected2.html')"
     ],
     "language": "python",
     "metadata": {},
     "outputs": [
      {
       "html": [
        "<a href='../../files/mapping_files/first_run_maps/check_map/office_map_barcode_data_only_corrected2.html' target='_blank'>../../files/mapping_files/first_run_maps/check_map/office_map_barcode_data_only_corrected2.html</a><br>"
       ],
       "metadata": {},
       "output_type": "pyout",
       "prompt_number": 149,
       "text": [
        "/Users/jc33/google_drive/thesis/analysis/files/mapping_files/first_run_maps/check_map/office_map_barcode_data_only_corrected2.html"
       ]
      }
     ],
     "prompt_number": 149
    },
    {
     "cell_type": "code",
     "collapsed": false,
     "input": [
      "F3C.3.Dr.021"
     ],
     "language": "python",
     "metadata": {},
     "outputs": []
    },
    {
     "cell_type": "code",
     "collapsed": false,
     "input": [
      "# there are ids in the list of ids to be sequenced that are not in the mapping file, this is a problem.\n",
      "first_run_ids = pd.read_csv('../../files/mapping_files/first_run_maps/first_run_ids.txt', names=['#SampleID'])\n",
      "mapping_file_df = pd.read_csv('../../files/mapping_files/master_period_1-2-3_map_5182014.txt', sep='\\t')\n",
      "argonne_map_df = pd.read_csv('../../files/mapping_files/first_run_maps/first_run_map_from_argonne.txt', sep='\\t', names=['#SampleID'])\n",
      "corrected_map_df = pd.read_csv('../../files/mapping_files/office_map_barcode_data_only_corrected.txt', sep='\\t')"
     ],
     "language": "python",
     "metadata": {},
     "outputs": [],
     "prompt_number": 48
    },
    {
     "cell_type": "markdown",
     "metadata": {},
     "source": [
      "End first run mapping analysis\n",
      "===========================\n",
      "Begin second run mapping munging\n",
      "==============================="
     ]
    },
    {
     "cell_type": "code",
     "collapsed": false,
     "input": [
      "flag_map = '/Users/jc33/google_drive/thesis/analysis/files/mapping_files/flagstaff_all_ids_no_barcodes_map.txt'\n",
      "toronto_map = '/Users/jc33/google_drive/thesis/analysis/files/mapping_files/toronto_all_ids_no_barcodes_map.txt'\n",
      "san_diego_map = '/Users/jc33/google_drive/thesis/analysis/files/mapping_files/sandiego_all_ids_no_barcodes_map.txt'\n",
      "all_cities = '/Users/jc33/google_drive/thesis/analysis/files/mapping_files/all_cities_and_samples_no_barcodes_no_metadata_map.txt'"
     ],
     "language": "python",
     "metadata": {},
     "outputs": [],
     "prompt_number": 3
    },
    {
     "cell_type": "code",
     "collapsed": false,
     "input": [
      "run_2_ids_to_be_run_df = pd.read_csv('../../files/mapping_files/second_run_maps/master_seq_ids.txt', names=['#SampleID'], index_col='#SampleID')\n",
      "corrected_run_two_map = pd.read_csv('../../files/mapping_files/second_run_maps/master_map_data_5_10_14_corrected.txt', sep='\\t', index_col='#SampleID')\n",
      "\n",
      "corrected_run_two_map58 = pd.read_csv('../../files/mapping_files/second_run_maps/John_Chase_MappingFile_5_8_14.txt', sep='\\t', index_col='#SampleID')"
     ],
     "language": "python",
     "metadata": {},
     "outputs": [],
     "prompt_number": 17
    },
    {
     "cell_type": "code",
     "collapsed": false,
     "input": [
      "c = 0 \n",
      "for i in corrected_run_two_map58.index.values:\n",
      "    if i not in run_2_ids_to_be_run_df.index.values:\n",
      "        print i\n"
     ],
     "language": "python",
     "metadata": {},
     "outputs": [
      {
       "output_type": "stream",
       "stream": "stdout",
       "text": [
        "F2W.3.Dr.059_a\n",
        "F2W.3.Dr.059-b\n",
        "F1W.2.Dr.050\n",
        "F1F.2.Ce.050\n",
        "F1C.2.Ce.050\n",
        "F1W.2.Ca.050\n",
        "F1F.2.Dr.050\n",
        "F1C.2.Ca.050\n",
        "F1F.2.Ca.050\n",
        "F1C.2.Dr.050\n",
        "F1W.2.Ce.050\n",
        "F2F.2.Dr.050\n",
        "F2C.2.Ca.050\n",
        "F2W.2.Ca.050\n",
        "F2W.2.Dr.050\n",
        "F2C.2.Dr.050\n",
        "F2F.2.Ce.050\n",
        "F2C.2.Ce.050\n",
        "F2F.2.Ca.050\n",
        "F2W.2.Ce.050\n",
        "F3C.2.Ce.050\n",
        "F3F.2.Ca.050\n",
        "F3C.2.Dr.050\n",
        "F3W.2.Dr.050\n",
        "F3F.2.Ce.050\n",
        "F3C.2.Ca.050\n",
        "F3F.2.Dr.050\n",
        "F3W.2.Ce.050\n",
        "F3W.2.Ca.050\n",
        "F2W.3.Ca.041_b\n",
        "S1F.2.Dr.033\n",
        "S3W.3.Dr.024\n",
        "T2F.3.Dr.031_a\n",
        "T2F.3.Dr.031_b\n",
        "T2W.3.Ca.031_a\n",
        "T2W.3.Ca.031_b\n",
        "T1F.2.Dr.023\n",
        "T3W.2.Ca.023\n",
        "T1W.2.Ce.023\n",
        "T3F.2.Dr.023\n",
        "T1W.2.Ca.023\n",
        "T2C.2.Ca.023_a\n",
        "T2W.2.Ce.023\n",
        "T2W.2.Dr.023\n",
        "T1C.2.Dr.023\n",
        "T3F.2.Ce.023\n",
        "T2F.2.Ca.023\n",
        "T3C.2.Ce.023\n",
        "T1C.2.Ce.023\n",
        "T2C.2.Dr.023\n",
        "T3C.2.Dr.023\n",
        "T1W.2.Dr.023\n",
        "T2C.2.Ce.023\n",
        "T1F.2.Ce.023\n",
        "T3W.2.Ce.023\n",
        "T3W.2.Dr.023\n",
        "T2F.2.Ce.023\n",
        "T1F.2.Ca.023\n",
        "T2W.2.Ca.023\n",
        "T1C.2.Ca.023\n",
        "T3F.2.Ca.023\n",
        "T2F.2.Dr.023\n",
        "T2C.2.Ca.023_b\n",
        "T2C.2.Dr.050\n",
        "T2F.2.Ca.050\n",
        "T1C.2.Dr.050\n",
        "T3C.2.Ce.050\n",
        "T3F.2.Ca.050\n",
        "T2F.2.Ce.050\n",
        "T2F.2.Dr.050\n",
        "T3F.2.Ce.050\n",
        "T3F.2.Dr.050\n",
        "T3W.2.Ce.050\n",
        "T1W.2.Ca.050\n",
        "T1W.2.Ce.050\n",
        "T1C.2.Ce.050\n",
        "T1F.2.Dr.050\n",
        "T3C.2.Dr.050\n",
        "T3W.2.Dr.050\n",
        "T2W.2.Ca.050\n",
        "T2W.2.Dr.050\n",
        "T1C.2.Ca.050\n",
        "T3C.2.Ca.050\n",
        "T2C.2.Ce.050\n",
        "T1F.2.Ca.050\n",
        "T2W.2.Ce.050\n",
        "T1F.2.Ce.050\n",
        "T1W.2.Dr.050\n",
        "T3W.2.Ca.050\n",
        "T2C.2.Ca.050\n",
        "F2W.3.Ca.041_a\n"
       ]
      }
     ],
     "prompt_number": 20
    },
    {
     "cell_type": "code",
     "collapsed": false,
     "input": [],
     "language": "python",
     "metadata": {},
     "outputs": []
    }
   ],
   "metadata": {}
  }
 ]
}