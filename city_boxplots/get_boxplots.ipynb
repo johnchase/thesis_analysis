{
 "metadata": {
  "name": "",
  "signature": "sha256:eccb3cb76a5acc2f7c60a8326f89e9e58afcf558ccb8ab6fc42c6a98e732d23a"
 },
 "nbformat": 3,
 "nbformat_minor": 0,
 "worksheets": [
  {
   "cells": [
    {
     "cell_type": "code",
     "collapsed": false,
     "input": [
      "import pandas as pd\n",
      "import numpy as np\n",
      "import matplotlib.pyplot as plt\n",
      "import statsmodels.api as sm\n",
      "from os.path import join\n",
      "from skbio import DistanceMatrix\n",
      "import seaborn as sns"
     ],
     "language": "python",
     "metadata": {},
     "outputs": []
    },
    {
     "cell_type": "code",
     "collapsed": false,
     "input": [
      "#Load the mapping file\n",
      "mapping_file = '/Users/jc33/google_drive/thesis/analysis/files/initial_steps/mapping_files/periods1-2-3_all_data_barcodes_map141108.txt'\n",
      "map_df = pd.read_csv(mapping_file, sep='\\t', index_col=0)"
     ],
     "language": "python",
     "metadata": {},
     "outputs": []
    },
    {
     "cell_type": "code",
     "collapsed": false,
     "input": [
      "map_df['PlateLocationSeason'] = map_df['PlateLocation'] + '_' + map_df['Season']"
     ],
     "language": "python",
     "metadata": {},
     "outputs": []
    },
    {
     "cell_type": "code",
     "collapsed": false,
     "input": [
      "weighted_dm_fp = '/Users/jc33/google_drive/thesis/analysis/files/initial_steps/core_div_out/bdiv_even5000/weighted_unifrac_dm.txt'\n",
      "unweighted_dm_fp = '/Users/jc33/google_drive/thesis/analysis/files/initial_steps/core_div_out/bdiv_even5000/unweighted_unifrac_dm.txt'\n",
      "\n",
      "# weighted_dm = DistanceMatrix.read(weighted_dm_fp, delimiter='\\t')\n",
      "dm = DistanceMatrix.read(unweighted_dm_fp)"
     ],
     "language": "python",
     "metadata": {},
     "outputs": []
    },
    {
     "cell_type": "code",
     "collapsed": false,
     "input": [
      "dm_ids = dm.ids\n",
      "map_ids = map_df.index\n",
      "master_ids = map_ids.intersection(dm_ids)\n",
      "dm = dm.filter(master_ids)\n",
      "df = map_df.ix[master_ids]\n",
      "dm_df = pd.DataFrame(dm.data, index=dm.ids, columns=dm.ids)\n"
     ],
     "language": "python",
     "metadata": {},
     "outputs": []
    },
    {
     "cell_type": "code",
     "collapsed": false,
     "input": [
      "#stack the series and filter out the duplicates \n",
      "dm_series = dm_df.stack()\n",
      "seen =  set()\n",
      "for id_pair in dm_series.index.tolist():\n",
      "    if id_pair[::-1] in seen:\n",
      "        continue\n",
      "    seen.add(id_pair)\n",
      "\n",
      "    \n",
      "seen = list(seen)\n",
      "seen.sort()\n",
      "seen\n",
      "dm_series = dm_series[seen]\n"
     ],
     "language": "python",
     "metadata": {},
     "outputs": []
    },
    {
     "cell_type": "code",
     "collapsed": false,
     "input": [
      "stack_df = pd.DataFrame(dm_series)\n",
      "stack_df.columns = ['dist']\n",
      "re_stack_df = stack_df.reset_index()"
     ],
     "language": "python",
     "metadata": {},
     "outputs": []
    },
    {
     "cell_type": "code",
     "collapsed": false,
     "input": [
      "def add_combined_cols(map_df, stack_dm, headers):\n",
      "    re_stack_df = stack_dm.reset_index()\n",
      "    paired_ids = zip(re_stack_df['level_1'], re_stack_df['level_0'])\n",
      "    for header in headers:\n",
      "        print header\n",
      "        within_header = 'Within%s' % header\n",
      "        col_data = []\n",
      "        within_data = []\n",
      "        for paired_id in paired_ids:\n",
      "            try:\n",
      "                if map_df[header][paired_id[0]] == map_df[header][paired_id[1]]:\n",
      "                    col_data.append(map_df[header][paired_id[0]])\n",
      "                    within_data.append('within')\n",
      "                else:\n",
      "                    col_data.append('between')\n",
      "                    within_data.append('between')\n",
      "            except:\n",
      "                col_data.append(np.nan)\n",
      "                within_data.append(np.nan)\n",
      "        stack_dm[header] = col_data\n",
      "        stack_dm[within_header] = within_data\n",
      "    return stack_df"
     ],
     "language": "python",
     "metadata": {},
     "outputs": []
    },
    {
     "cell_type": "code",
     "collapsed": false,
     "input": [
      "headers = ['City', 'PlateLocation', 'Season', 'PlateLocationSeason', 'Row']\n",
      "new_stack_df = add_combined_cols(map_df, stack_df, headers)"
     ],
     "language": "python",
     "metadata": {},
     "outputs": []
    },
    {
     "cell_type": "code",
     "collapsed": false,
     "input": [
      "new_stack_df = new_stack_df[new_stack_df['dist'] != 0]\n"
     ],
     "language": "python",
     "metadata": {},
     "outputs": []
    },
    {
     "cell_type": "code",
     "collapsed": false,
     "input": [
      "fig = sns.boxplot(new_stack_df.dist, new_stack_df.WithinRow)\n",
      "fig.set_ylabel('Distance')\n",
      "fig.set_xlabel('')\n",
      "plt.savefig('unweighted_row_plots', dpi=300)"
     ],
     "language": "python",
     "metadata": {},
     "outputs": []
    },
    {
     "cell_type": "code",
     "collapsed": false,
     "input": [
      "\n",
      "dfs = []\n",
      "filtered_df_floor_winter = new_stack_df[new_stack_df['PlateLocationSeason'] == 'floor_winter']\n",
      "dfs.append(filtered_df_floor_winter)\n",
      "filtered_df_wall_winter = new_stack_df[new_stack_df['PlateLocationSeason'] == 'wall_winter']\n",
      "dfs.append(filtered_df_wall_winter)\n",
      "filtered_df_ceiling_winter = new_stack_df[new_stack_df['PlateLocationSeason'] == 'ceiling_winter']\n",
      "dfs.append(filtered_df_ceiling_winter)\n",
      "filtered_df_floor_summer = new_stack_df[new_stack_df['PlateLocationSeason'] == 'floor_summer']\n",
      "dfs.append(filtered_df_floor_summer)\n",
      "filtered_df_wall_summer = new_stack_df[new_stack_df['PlateLocationSeason'] == 'wall_summer']\n",
      "dfs.append(filtered_df_wall_summer)\n",
      "filtered_df_ceiling_summer = new_stack_df[new_stack_df['PlateLocationSeason'] == 'ceiling_summer']\n",
      "dfs.append(filtered_df_ceiling_summer)\n",
      "filtered_df_floor_spring = new_stack_df[new_stack_df['PlateLocationSeason'] == 'floor_fall']\n",
      "dfs.append(filtered_df_floor_spring)\n",
      "filtered_df_wall_spring = new_stack_df[new_stack_df['PlateLocationSeason'] == 'wall_fall']\n",
      "dfs.append(filtered_df_wall_spring)\n",
      "filtered_df_ceiling_spring = new_stack_df[new_stack_df['PlateLocationSeason'] == 'ceiling_fall']\n",
      "dfs.append(filtered_df_ceiling_spring)\n",
      "\n",
      "\n",
      "\n",
      "font = {'family' : 'normal',\n",
      "        'weight' : 'bold',\n",
      "        'size'   : 20}\n",
      "\n",
      "matplotlib.rc('font', **font)\n",
      "\n",
      "\n",
      "f, axes = plt.subplots(3, 3)\n",
      "# axes.set_ylim(0,1)\n",
      "\n",
      "axes[0][0].text(x = 1.4, y = 1.15, s = \"Floor\", ha = \"center\")\n",
      "axes[0][1].text(x = 3.4, y = 1.15, s = \"Wall\", ha = \"center\")\n",
      "axes[0][2].text(x = 5.4, y = 1.15, s = \"Ceiling\", ha = \"center\")\n",
      "\n",
      "axes[0][0].text(x = -0.5, y = .5, s = \"Winter\", rotation = 90, va = \"center\")\n",
      "axes[1][0].text(x = -0.5, y = .5, s = \"Summer\", rotation = 90, va = \"center\")\n",
      "axes[2][0].text(x = -0.5, y = .5, s = \"Fall\", rotation = 90, va = \"center\")\n",
      "\n",
      "\n",
      "\n",
      "c = 0\n",
      "plot_axis = 0\n",
      "for ax_1 in axes:\n",
      "    pos = 1\n",
      "    for ax_r in ax_1:\n",
      "        if plot_axis == 2:\n",
      "            names = ['Between', 'Within']\n",
      "        else: \n",
      "            names = ['', '']\n",
      "        axs = sns.boxplot(dfs[c].dist, dfs[c].WithinCity, names=names, positions=[pos, (pos+1) ], ax=ax_r)\n",
      "        axs.set_ylim(0, 1)\n",
      "        axs.set_xlabel ('')\n",
      "        axs.set_ylabel ('')\n",
      "        c += 1\n",
      "        pos +=2\n",
      "    plot_axis+=1\n",
      "        \n",
      "axes[0][0].set_ylabel('Distance')\n",
      "axes[1][0].set_ylabel('Distance')\n",
      "axes[2][0].set_ylabel('Distance')\n",
      "\n",
      "\n",
      "\n",
      "plt.tight_layout()\n",
      "\n",
      "plt.subplots_adjust(top=.3)\n",
      "plt.subplots_adjust(bottom=.10)\n",
      "plt.subplots_adjust(left=.9)\n",
      "plt.subplots_adjust(right=1)\n",
      "\n",
      "\n",
      "\n",
      "\n",
      "plt.savefig('weighted_season_loc_boxplots.png', dpi=300)\n"
     ],
     "language": "python",
     "metadata": {},
     "outputs": [
      {
       "ename": "NameError",
       "evalue": "name 'new_stack_df' is not defined",
       "output_type": "pyerr",
       "traceback": [
        "\u001b[0;31m---------------------------------------------------------------------------\u001b[0m\n\u001b[0;31mNameError\u001b[0m                                 Traceback (most recent call last)",
        "\u001b[0;32m<ipython-input-1-087a4170509e>\u001b[0m in \u001b[0;36m<module>\u001b[0;34m()\u001b[0m\n\u001b[1;32m      1\u001b[0m \u001b[0;34m\u001b[0m\u001b[0m\n\u001b[1;32m      2\u001b[0m \u001b[0mdfs\u001b[0m \u001b[0;34m=\u001b[0m \u001b[0;34m[\u001b[0m\u001b[0;34m]\u001b[0m\u001b[0;34m\u001b[0m\u001b[0m\n\u001b[0;32m----> 3\u001b[0;31m \u001b[0mfiltered_df_floor_winter\u001b[0m \u001b[0;34m=\u001b[0m \u001b[0mnew_stack_df\u001b[0m\u001b[0;34m[\u001b[0m\u001b[0mnew_stack_df\u001b[0m\u001b[0;34m[\u001b[0m\u001b[0;34m'PlateLocationSeason'\u001b[0m\u001b[0;34m]\u001b[0m \u001b[0;34m==\u001b[0m \u001b[0;34m'floor_winter'\u001b[0m\u001b[0;34m]\u001b[0m\u001b[0;34m\u001b[0m\u001b[0m\n\u001b[0m\u001b[1;32m      4\u001b[0m \u001b[0mdfs\u001b[0m\u001b[0;34m.\u001b[0m\u001b[0mappend\u001b[0m\u001b[0;34m(\u001b[0m\u001b[0mfiltered_df_floor_winter\u001b[0m\u001b[0;34m)\u001b[0m\u001b[0;34m\u001b[0m\u001b[0m\n\u001b[1;32m      5\u001b[0m \u001b[0mfiltered_df_wall_winter\u001b[0m \u001b[0;34m=\u001b[0m \u001b[0mnew_stack_df\u001b[0m\u001b[0;34m[\u001b[0m\u001b[0mnew_stack_df\u001b[0m\u001b[0;34m[\u001b[0m\u001b[0;34m'PlateLocationSeason'\u001b[0m\u001b[0;34m]\u001b[0m \u001b[0;34m==\u001b[0m \u001b[0;34m'wall_winter'\u001b[0m\u001b[0;34m]\u001b[0m\u001b[0;34m\u001b[0m\u001b[0m\n",
        "\u001b[0;31mNameError\u001b[0m: name 'new_stack_df' is not defined"
       ]
      }
     ],
     "prompt_number": 1
    },
    {
     "cell_type": "markdown",
     "metadata": {},
     "source": [
      "get boxplot stats\n",
      "==============="
     ]
    },
    {
     "cell_type": "code",
     "collapsed": false,
     "input": [
      "from os.path import join"
     ],
     "language": "python",
     "metadata": {},
     "outputs": [],
     "prompt_number": 1
    },
    {
     "cell_type": "code",
     "collapsed": false,
     "input": [
      "output_folder = '/Users/jc33/google_drive/thesis/analysis/files/dms/'\n",
      "weighted_dm = '/Users/jc33/google_drive/thesis/analysis/files/initial_steps/core_div_out/bdiv_even5000/weighted_unifrac_dm.txt'\n",
      "unweighted_dm = '/Users/jc33/google_drive/thesis/analysis/files/initial_steps/core_div_out/bdiv_even5000/unweighted_unifrac_dm.txt'"
     ],
     "language": "python",
     "metadata": {},
     "outputs": [],
     "prompt_number": 10
    },
    {
     "cell_type": "code",
     "collapsed": false,
     "input": [
      "\n",
      "fall_dm = join(output_folder, 'weighted_fall.txt')\n",
      "\n",
      "!filter_distance_matrix.py -i $weighted_dm -o $fall_dm -m $mapping_file -s 'Season:fall'"
     ],
     "language": "python",
     "metadata": {},
     "outputs": [
      {
       "output_type": "stream",
       "stream": "stdout",
       "text": [
        "Usage: filter_distance_matrix.py [options] {-i/--input_distance_matrix INPUT_DISTANCE_MATRIX -o/--output_distance_matrix OUTPUT_DISTANCE_MATRIX}\r\n",
        "\r\n",
        "[] indicates optional input (order unimportant)\r\n",
        "{} indicates required input (order unimportant)\r\n",
        "\r\n",
        "Remove samples from a distance matrix based on a mapping file or an otu table or a list of sample ids.\r\n",
        "\r\n",
        "Example usage: \r\n",
        "Print help message and exit\r\n",
        " filter_distance_matrix.py -h\r\n",
        "\r\n",
        "Filter samples ids listed in sample_id_list.txt from dm.txt\r\n",
        " filter_distance_matrix.py -i dm.txt -o dm_out_sample_list.txt --sample_id_fp sample_id_list.txt\r\n",
        "\r\n",
        "Filter samples ids in otu_table.biom from dm.txt\r\n",
        " filter_distance_matrix.py -i dm.txt -o dm_out_otu_table.txt -t otu_table.biom\r\n",
        "\r\n",
        "Filter samples ids where DOB is 20061218 in Fasting_Map.txt. (Run \"filter_samples_from_otu_table.py -h\" for additional information on how metadata filtering can be specified.)\r\n",
        " filter_distance_matrix.py -i dm.txt -o dm_out_mapping_file.txt -m Fasting_Map.txt -s \"DOB:20061218\"\r\n",
        "\r\n",
        "filter_distance_matrix.py: error: option -i: file does not exist: '-o'\r\n"
       ]
      }
     ],
     "prompt_number": 8
    },
    {
     "cell_type": "code",
     "collapsed": false,
     "input": [
      "#weighted Unifrac\n",
      "fall_dm = join(output_folder, 'weighted_fall.txt')\n",
      "!filter_distance_matrix.py -i $weighted_dm -o $fall_dm -m $mapping_file -s 'Season:fall'\n",
      "summer_dm = join(output_folder, 'weighted_summer.txt')\n",
      "!filter_distance_matrix.py -i $weighted_dm -o $summer_dm -m $mapping_file -s 'Season:summer'\n",
      "winter_dm = join(output_folder, 'weighted_winter.txt')\n",
      "!filter_distance_matrix.py -i $weighted_dm -o $winter_dm -m $mapping_file -s 'Season:winter'\n"
     ],
     "language": "python",
     "metadata": {},
     "outputs": [],
     "prompt_number": 11
    },
    {
     "cell_type": "code",
     "collapsed": false,
     "input": [
      "#Unweighted Unifrac\n",
      "un_fall_dm = join(output_folder, 'unweighted_fall.txt')\n",
      "!filter_distance_matrix.py -i $unweighted_dm -o $un_fall_dm -m $mapping_file -s 'Season:fall'\n",
      "un_summer_dm = join(output_folder, 'unweighted_summer.txt')\n",
      "!filter_distance_matrix.py -i $unweighted_dm -o $un_summer_dm -m $mapping_file -s 'Season:summer'\n",
      "un_winter_dm = join(output_folder, 'unweighted_winter.txt')\n",
      "!filter_distance_matrix.py -i $unweighted_dm -o $un_winter_dm -m $mapping_file -s 'Season:winter'"
     ],
     "language": "python",
     "metadata": {},
     "outputs": [],
     "prompt_number": 12
    },
    {
     "cell_type": "code",
     "collapsed": false,
     "input": [
      "#weighted\n",
      "fall_floor_dm = join(output_folder, 'weighted_fall_floor.txt')\n",
      "!filter_distance_matrix.py -i $fall_dm -o $fall_floor_dm -m $mapping_file -s 'PlateLocation:floor'\n",
      "fall_ceiling_dm = join(output_folder, 'weighted_fall_ceiling.txt')\n",
      "!filter_distance_matrix.py -i $fall_dm -o $fall_ceiling_dm -m $mapping_file -s 'PlateLocation:ceiling'\n",
      "fall_wall_dm = join(output_folder, 'weighted_fall_wall.txt')\n",
      "!filter_distance_matrix.py -i $fall_dm -o $fall_wall_dm -m $mapping_file -s 'PlateLocation:wall'\n",
      "\n",
      "summer_floor_dm = join(output_folder, 'weighted_summer_floor.txt')\n",
      "!filter_distance_matrix.py -i $summer_dm -o $summer_floor_dm -m $mapping_file -s 'PlateLocation:floor'\n",
      "summer_ceiling_dm = join(output_folder, 'weighted_summer_ceiling.txt')\n",
      "!filter_distance_matrix.py -i $summer_dm -o $summer_ceiling_dm -m $mapping_file -s 'PlateLocation:ceiling'\n",
      "summer_wall_dm = join(output_folder, 'weighted_summer_wall.txt')\n",
      "!filter_distance_matrix.py -i $summer_dm -o $summer_wall_dm -m $mapping_file -s 'PlateLocation:wall'\n",
      "\n",
      "winter_floor_dm = join(output_folder, 'weighted_winter_floor.txt')\n",
      "!filter_distance_matrix.py -i $winter_dm -o $winter_floor_dm -m $mapping_file -s 'PlateLocation:floor'\n",
      "winter_ceiling_dm = join(output_folder, 'weighted_winter_ceiling.txt')\n",
      "!filter_distance_matrix.py -i $winter_dm -o $winter_ceiling_dm -m $mapping_file -s 'PlateLocation:ceiling'\n",
      "winter_wall_dm = join(output_folder, 'weighted_winter_wall.txt')\n",
      "!filter_distance_matrix.py -i $winter_dm -o $winter_wall_dm -m $mapping_file -s 'PlateLocation:wall'"
     ],
     "language": "python",
     "metadata": {},
     "outputs": [],
     "prompt_number": 13
    },
    {
     "cell_type": "code",
     "collapsed": false,
     "input": [
      "#Unweighted\n",
      "un_fall_floor_dm = join(output_folder, 'unweighted_fall_floor.txt')\n",
      "!filter_distance_matrix.py -i $un_fall_dm -o $un_fall_floor_dm -m $mapping_file -s 'PlateLocation:floor'\n",
      "un_fall_ceiling_dm = join(output_folder, 'unweighted_fall_ceiling.txt')\n",
      "!filter_distance_matrix.py -i $un_fall_dm -o $un_fall_ceiling_dm -m $mapping_file -s 'PlateLocation:ceiling'\n",
      "un_fall_wall_dm = join(output_folder, 'unweighted_fall_wall.txt')\n",
      "!filter_distance_matrix.py -i $un_fall_dm -o $un_fall_wall_dm -m $mapping_file -s 'PlateLocation:wall'\n",
      "\n",
      "un_summer_floor_dm = join(output_folder, 'unweighted_summer_floor.txt')\n",
      "!filter_distance_matrix.py -i $un_summer_dm -o $un_summer_floor_dm -m $mapping_file -s 'PlateLocation:floor'\n",
      "un_summer_ceiling_dm = join(output_folder, 'unweighted_summer_ceiling.txt')\n",
      "!filter_distance_matrix.py -i $un_summer_dm -o $un_summer_ceiling_dm -m $mapping_file -s 'PlateLocation:ceiling'\n",
      "un_summer_wall_dm = join(output_folder, 'unweighted_summer_wall.txt')\n",
      "!filter_distance_matrix.py -i $un_summer_dm -o $un_summer_wall_dm -m $mapping_file -s 'PlateLocation:wall'\n",
      "\n",
      "un_winter_floor_dm = join(output_folder, 'unweighted_winter_floor.txt')\n",
      "!filter_distance_matrix.py -i $un_winter_dm -o $un_winter_floor_dm -m $mapping_file -s 'PlateLocation:floor'\n",
      "un_winter_ceiling_dm = join(output_folder, 'unweighted_winter_ceiling.txt')\n",
      "!filter_distance_matrix.py -i $un_winter_dm -o $un_winter_ceiling_dm -m $mapping_file -s 'PlateLocation:ceiling'\n",
      "un_winter_wall_dm = join(output_folder, 'unweighted_winter_wall.txt')\n",
      "!filter_distance_matrix.py -i $un_winter_dm -o $un_winter_wall_dm -m $mapping_file -s 'PlateLocation:wall'"
     ],
     "language": "python",
     "metadata": {},
     "outputs": [],
     "prompt_number": 14
    },
    {
     "cell_type": "code",
     "collapsed": false,
     "input": [
      "fall_floor_plot = '/Users/jc33/google_drive/thesis/analysis/files/dms/fall_floor_plots'\n",
      "mapping_file"
     ],
     "language": "python",
     "metadata": {},
     "outputs": [
      {
       "metadata": {},
       "output_type": "pyout",
       "prompt_number": 62,
       "text": [
        "'/Users/jc33/google_drive/thesis/analysis/files/initial_steps/mapping_files/periods1-2-3_all_data_barcodes_map141108.txt'"
       ]
      }
     ],
     "prompt_number": 62
    },
    {
     "cell_type": "code",
     "collapsed": false,
     "input": [
      "fall_floor_plots = '/Users/jc33/google_drive/thesis/analysis/files/dms/fall_floor_plots'\n",
      "!time make_distance_boxplots.py -m $mapping_file -o $fall_floor_plots -d $fall_floor_dm -f City --suppress_individual_between --suppress_individual_within -n 999\n",
      "\n",
      "fall_ceiling_plots = '/Users/jc33/google_drive/thesis/analysis/files/dms/fall_ceiling_plots'\n",
      "!make_distance_boxplots.py -m $mapping_file -o $fall_ceiling_plots -d $fall_ceiling_dm -f City --suppress_individual_between --suppress_individual_within -n 999\n",
      "\n",
      "fall_wall_plots = '/Users/jc33/google_drive/thesis/analysis/files/dms/fall_wall_plots'\n",
      "!make_distance_boxplots.py -m $mapping_file -o $fall_wall_plots -d $fall_wall_dm -f City --suppress_individual_between --suppress_individual_within -n 999\n",
      "\n",
      "\n",
      "\n",
      "summer_floor_plots = '/Users/jc33/google_drive/thesis/analysis/files/dms/summer_floor_plots'\n",
      "!make_distance_boxplots.py -m $mapping_file -o $summer_floor_plots -d $summer_floor_dm -f City --suppress_individual_between --suppress_individual_within -n 999\n",
      "\n",
      "summer_ceiling_plots = '/Users/jc33/google_drive/thesis/analysis/files/dms/summer_ceiling_plots'\n",
      "!make_distance_boxplots.py -m $mapping_file -o $summer_ceiling_plots -d $summer_ceiling_dm -f City --suppress_individual_between --suppress_individual_within -n 999\n",
      "\n",
      "summer_wall_plots = '/Users/jc33/google_drive/thesis/analysis/files/dms/summer_wall_plots'\n",
      "!make_distance_boxplots.py -m $mapping_file -o $summer_wall_plots -d $summer_wall_dm -f City --suppress_individual_between --suppress_individual_within -n 999\n",
      "\n",
      "\n",
      "\n",
      "winter_floor_plots = '/Users/jc33/google_drive/thesis/analysis/files/dms/winter_floor_plots'\n",
      "!make_distance_boxplots.py -m $mapping_file -o $winter_floor_plots -d $winter_floor_dm -f City --suppress_individual_between --suppress_individual_within -n 999\n",
      "\n",
      "winter_ceiling_plots = '/Users/jc33/google_drive/thesis/analysis/files/dms/winter_ceiling_plots'\n",
      "!make_distance_boxplots.py -m $mapping_file -o $winter_ceiling_plots -d $winter_ceiling_dm -f City --suppress_individual_between --suppress_individual_within -n 999\n",
      "\n",
      "winter_wall_plots = '/Users/jc33/google_drive/thesis/analysis/files/dms/winter_wall_plots'\n",
      "!make_distance_boxplots.py -m $mapping_file -o $winter_wall_plots -d $winter_wall_dm -f City --suppress_individual_between --suppress_individual_within -n 999"
     ],
     "language": "python",
     "metadata": {},
     "outputs": [
      {
       "output_type": "stream",
       "stream": "stdout",
       "text": [
        "\r\n",
        "real\t0m5.994s\r\n",
        "user\t0m5.767s\r\n",
        "sys\t0m0.190s\r\n"
       ]
      }
     ],
     "prompt_number": 16
    },
    {
     "cell_type": "code",
     "collapsed": false,
     "input": [],
     "language": "python",
     "metadata": {},
     "outputs": [],
     "prompt_number": 16
    },
    {
     "cell_type": "code",
     "collapsed": false,
     "input": [
      "un_fall_floor_plots = '/Users/jc33/google_drive/thesis/analysis/files/dms/un_fall_floor_plots'\n",
      "!make_distance_boxplots.py -m $mapping_file -o $un_fall_floor_plots -d $un_fall_floor_dm -f City --suppress_individual_between --suppress_individual_within -n 999\n",
      "\n",
      "un_fall_ceiling_plots = '/Users/jc33/google_drive/thesis/analysis/files/dms/un_fall_ceiling_plots'\n",
      "!make_distance_boxplots.py -m $mapping_file -o $un_fall_ceiling_plots -d $un_fall_ceiling_dm -f City --suppress_individual_between --suppress_individual_within -n 999\n",
      "\n",
      "un_fall_wall_plots = '/Users/jc33/google_drive/thesis/analysis/files/dms/un_fall_wall_plots'\n",
      "!make_distance_boxplots.py -m $mapping_file -o $un_fall_wall_plots -d $un_fall_wall_dm -f City --suppress_individual_between --suppress_individual_within -n 999\n",
      "\n",
      "\n",
      "\n",
      "un_summer_floor_plots = '/Users/jc33/google_drive/thesis/analysis/files/dms/un_summer_floor_plots'\n",
      "!time make_distance_boxplots.py -m $mapping_file -o $un_summer_floor_plots -d $un_summer_floor_dm -f City --suppress_individual_between --suppress_individual_within -n 999\n",
      "\n",
      "un_summer_ceiling_plots = '/Users/jc33/google_drive/thesis/analysis/files/dms/un_summer_ceiling_plots'\n",
      "!make_distance_boxplots.py -m $mapping_file -o $un_summer_ceiling_plots -d $un_summer_ceiling_dm -f City --suppress_individual_between --suppress_individual_within -n 999\n",
      "\n",
      "un_summer_wall_plots = '/Users/jc33/google_drive/thesis/analysis/files/dms/un_summer_wall_plots'\n",
      "!make_distance_boxplots.py -m $mapping_file -o $un_summer_wall_plots -d $un_summer_wall_dm -f City --suppress_individual_between --suppress_individual_within -n 999\n",
      "\n",
      "\n",
      "\n",
      "un_winter_floor_plots = '/Users/jc33/google_drive/thesis/analysis/files/dms/un_winter_floor_plots'\n",
      "!make_distance_boxplots.py -m $mapping_file -o $un_winter_floor_plots -d $un_winter_floor_dm -f City --suppress_individual_between --suppress_individual_within -n 999\n",
      "\n",
      "un_winter_ceiling_plots = '/Users/jc33/google_drive/thesis/analysis/files/dms/un_winter_ceiling_plots'\n",
      "!make_distance_boxplots.py -m $mapping_file -o $un_winter_ceiling_plots -d $un_winter_ceiling_dm -f City --suppress_individual_between --suppress_individual_within -n 999\n",
      "\n",
      "un_winter_wall_plots = '/Users/jc33/google_drive/thesis/analysis/files/dms/un_winter_wall_plots'\n",
      "!make_distance_boxplots.py -m $mapping_file -o $un_winter_wall_plots -d $un_winter_wall_dm -f City --suppress_individual_between --suppress_individual_within -n 999"
     ],
     "language": "python",
     "metadata": {},
     "outputs": [
      {
       "output_type": "stream",
       "stream": "stdout",
       "text": [
        "\r\n",
        "real\t0m38.461s\r\n",
        "user\t0m38.207s\r\n",
        "sys\t0m0.215s\r\n"
       ]
      }
     ],
     "prompt_number": 17
    },
    {
     "cell_type": "code",
     "collapsed": false,
     "input": [],
     "language": "python",
     "metadata": {},
     "outputs": [],
     "prompt_number": 66
    },
    {
     "cell_type": "code",
     "collapsed": false,
     "input": [],
     "language": "python",
     "metadata": {},
     "outputs": [],
     "prompt_number": 66
    },
    {
     "cell_type": "code",
     "collapsed": false,
     "input": [
      "import pandas as pd"
     ],
     "language": "python",
     "metadata": {},
     "outputs": [],
     "prompt_number": 18
    },
    {
     "cell_type": "code",
     "collapsed": false,
     "input": [
      "dfs = []\n",
      "import glob\n",
      "for folder in glob.glob('/Users/jc33/google_drive/thesis/analysis/files/dms/*_plots'):\n",
      "    city_stats = '%s/City_Stats.txt' % folder\n",
      "    city_df = pd.read_csv(city_stats, sep='\\t', header=7)\n",
      "    city_df['Location'] = '_'.join(folder.split('/')[-1].split('_')[:2])\n",
      "    dfs.append(city_df)\n"
     ],
     "language": "python",
     "metadata": {},
     "outputs": [],
     "prompt_number": 66
    },
    {
     "cell_type": "code",
     "collapsed": false,
     "input": [
      "'_'.join('/Users/jc33/google_drive/thesis/analysis/files/dms/fall_ceiling_plots'.split('/')[-1].split('_')[:2])"
     ],
     "language": "python",
     "metadata": {},
     "outputs": [
      {
       "metadata": {},
       "output_type": "pyout",
       "prompt_number": 67,
       "text": [
        "'fall_ceiling'"
       ]
      }
     ],
     "prompt_number": 67
    },
    {
     "cell_type": "code",
     "collapsed": false,
     "input": [
      "all_cities = pd.concat(dfs)\n",
      "all_cities = all_cities.reset_index()\n",
      "all_cities = all_cities.drop('index', 1)\n",
      "all_cities.to_latex('table.txt')"
     ],
     "language": "python",
     "metadata": {},
     "outputs": [],
     "prompt_number": 91
    },
    {
     "cell_type": "code",
     "collapsed": false,
     "input": [
      "import pandas as pd\n",
      "\n",
      "pd.set_option('display.notebook_repr_html', True)\n",
      "\n",
      "def _repr_latex_(self):\n",
      "    return \"\\centering{%s}\" % self.to_latex()\n",
      "\n",
      "pd.DataFrame._repr_latex_ = _repr_latex_  # monkey patch pandas DataFrame"
     ],
     "language": "python",
     "metadata": {},
     "outputs": [],
     "prompt_number": 69
    },
    {
     "cell_type": "code",
     "collapsed": false,
     "input": [
      "d = {'one' : [1., 2., 3., 4.],\n",
      "     'two' : [4., 3., 2., 1.]}\n",
      "df = pd.DataFrame(d)\n",
      "df.to_latex('out_file.txt')\n",
      "\n",
      "from IPython.display import display\n",
      "display(lat)"
     ],
     "language": "python",
     "metadata": {},
     "outputs": [
      {
       "metadata": {},
       "output_type": "display_data",
       "text": [
        "None"
       ]
      }
     ],
     "prompt_number": 77
    },
    {
     "cell_type": "code",
     "collapsed": false,
     "input": [],
     "language": "python",
     "metadata": {},
     "outputs": []
    }
   ],
   "metadata": {}
  }
 ]
}