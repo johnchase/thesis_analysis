{
 "metadata": {
  "name": "",
  "signature": "sha256:44c146bf51c47108ad3864b80e11396cf500504365d929aa8b063f41e1bf289b"
 },
 "nbformat": 3,
 "nbformat_minor": 0,
 "worksheets": [
  {
   "cells": [
    {
     "cell_type": "markdown",
     "metadata": {},
     "source": [
      "split libraries\n",
      "============"
     ]
    },
    {
     "cell_type": "markdown",
     "metadata": {},
     "source": [
      "srun split_libraries_fastq.py -i /scratch/jc33/run_1_fastqs/period_1_fastqs/Undetermined_S0_L001_R1_001.fastq,/scratch/jc33/run_2_fastqs/Undetermined_S0_L001_R1_001.fastq -m /scratch/jc33/office_map_barcode_data_only_corrected2.txt,/scratch/jc33/second_run_corrected_map.txt -o split_lib_out --barcode_type 12 -b /scratch/jc33/run_1_fastqs/period_1_fastqs/Undetermined_S0_L001_I1_001.fastq,/scratch/jc33/run_2_fastqs/Undetermined_S0_L001_I1_001.fastq --rev_comp_mapping_barcodes"
     ]
    },
    {
     "cell_type": "markdown",
     "metadata": {},
     "source": [
      "md5 sums\n",
      "--------\n",
      "Input file paths run 1\n",
      "-----------------\n",
      "\n",
      "Mapping filepath: /scratch/jc33/office_map_barcode_data_only_corrected2.txt (md5: d124e9012a2146ddbf89bd4622c780dd)\n",
      "\n",
      "Sequence read filepath: /scratch/jc33/run_1_fastqs/period_1_fastqs/Undetermined_S0_L001_R1_001.fastq (md5: 74d717196aebf8a225a3188a5cb7e6c3)\n",
      "\n",
      "Barcode read filepath: /scratch/jc33/run_1_fastqs/period_1_fastqs/Undetermined_S0_L001_I1_001.fastq (md5: d51b12f7a9f5fac37c700cc8794ac2d1)  \n",
      "\n",
      "\n",
      "  \n",
      "  \n",
      "Input file paths run 2\n",
      "----------------\n",
      "\n",
      "Mapping filepath: /scratch/jc33/second_run_corrected_map.txt (md5: e9051d1bcdb112642cd8be9639e4f768)  \n",
      "\n",
      "Sequence read filepath: /scratch/jc33/run_2_fastqs/Undetermined_S0_L001_R1_001.fastq (md5: b5b367dbf9bf0485ef56264c15c207bb) \n",
      "\n",
      "Barcode read filepath: /scratch/jc33/run_2_fastqs/Undetermined_S0_L001_I1_001.fastq (md5: 769ebd74fedb7e66bc1b66670132e07e)"
     ]
    },
    {
     "cell_type": "markdown",
     "metadata": {},
     "source": [
      "Pick open reference otus\n",
      "========================"
     ]
    },
    {
     "cell_type": "markdown",
     "metadata": {},
     "source": [
      "#!/bin/bash\n",
      "#\n",
      "#SBATCH --job-name=pick_o\n",
      "#SBATCH --ntasks=1\n",
      "#SBATCH --mem-per-cpu=32000\n",
      "#SBATCH --partition=long\n",
      "#SBATCH --output=/scratch/jc33/pick_otus.txt\n",
      "#SBATCH --error=errors_pick_otus.txt\n",
      "#SBATCH --workdir=/scratch/jc33\n",
      "\n",
      "module load qiime\n",
      "\n",
      "srun pick_open_reference_otus.py -i /scratch/jc33/split_lib_out/seqs.fna -o /scratch/jc33/pick_otus_out -r /packages/qiime/qiime-1.8.0/gg_otus-13_8-release/rep_set/97_otus.fasta -p /scratch/jc33/params.txt -a -O 100"
     ]
    },
    {
     "cell_type": "markdown",
     "metadata": {},
     "source": [
      "seqs file: 62bf691bb9ec71e560d1c67f7249e31f  \n",
      "\n"
     ]
    },
    {
     "cell_type": "markdown",
     "metadata": {},
     "source": [
      "core_diversity_analyses.py -i /scratch/jc33/pick_otus_out/otu_table_mc2_w_tax_no_pynast_failures.biom -o /scratch/jc33/core_div_out -m /scratch/jc33/periods1-2-3_all_data_barcodes_map.txt -e 5000 -a -O 100 -t /scratch/jc33/pick_otus_out/rep_set.tre -c City,Office,OfficeLocation,Row,Surface,Event,Period --recover_from_failure"
     ]
    },
    {
     "cell_type": "markdown",
     "metadata": {},
     "source": [
      "9451aa1b0f2c4049de24291a0fa6c770  /scratch/jc33/pick_otus_out/otu_table_mc2_w_tax_no_pynast_failures.biom  \n",
      "0046f5aa241c64f974d704b0a7063699  /scratch/jc33/periods1-2-3_all_data_barcodes_map.txt"
     ]
    },
    {
     "cell_type": "code",
     "collapsed": false,
     "input": [
      "    "
     ],
     "language": "python",
     "metadata": {},
     "outputs": []
    }
   ],
   "metadata": {}
  }
 ]
}